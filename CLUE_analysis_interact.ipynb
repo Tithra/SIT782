{
  "nbformat": 4,
  "nbformat_minor": 0,
  "metadata": {
    "colab": {
      "name": "CLUE_analysis.ipynb",
      "provenance": [],
      "mount_file_id": "https://github.com/Tithra/SIT782/blob/main/CLUE_analysis_interact.ipynb",
      "authorship_tag": "ABX9TyPKEHO4WB0GNOYGdNjhM3W3"
    },
    "kernelspec": {
      "name": "python3",
      "display_name": "Python 3"
    },
    "language_info": {
      "name": "python"
    },
    "widgets": {
      "application/vnd.jupyter.widget-state+json": {
        "b79c890a52144355a6e5982a0c210098": {
          "model_module": "@jupyter-widgets/controls",
          "model_name": "VBoxModel",
          "model_module_version": "1.5.0",
          "state": {
            "_view_name": "VBoxView",
            "_dom_classes": [
              "widget-interact"
            ],
            "_model_name": "VBoxModel",
            "_view_module": "@jupyter-widgets/controls",
            "_model_module_version": "1.5.0",
            "_view_count": null,
            "_view_module_version": "1.5.0",
            "box_style": "",
            "layout": "IPY_MODEL_94cd7f09289846f2b2c130ff37a180c7",
            "_model_module": "@jupyter-widgets/controls",
            "children": [
              "IPY_MODEL_226eb96f6b724001b7d8885ae49c72e8",
              "IPY_MODEL_2ba5821a94ed4588b0569c17c2644b9e",
              "IPY_MODEL_de233da8d3ff4e5a91a69812fe74bd85",
              "IPY_MODEL_c3a3d562b8e249fcaf99de9951450a25",
              "IPY_MODEL_f7939a584eb04ef683ef3443f1b6db9d",
              "IPY_MODEL_32a580b7839845ceb4ba6b470c84b768"
            ]
          }
        },
        "94cd7f09289846f2b2c130ff37a180c7": {
          "model_module": "@jupyter-widgets/base",
          "model_name": "LayoutModel",
          "model_module_version": "1.2.0",
          "state": {
            "_view_name": "LayoutView",
            "grid_template_rows": null,
            "right": null,
            "justify_content": null,
            "_view_module": "@jupyter-widgets/base",
            "overflow": null,
            "_model_module_version": "1.2.0",
            "_view_count": null,
            "flex_flow": null,
            "width": null,
            "min_width": null,
            "border": null,
            "align_items": null,
            "bottom": null,
            "_model_module": "@jupyter-widgets/base",
            "top": null,
            "grid_column": null,
            "overflow_y": null,
            "overflow_x": null,
            "grid_auto_flow": null,
            "grid_area": null,
            "grid_template_columns": null,
            "flex": null,
            "_model_name": "LayoutModel",
            "justify_items": null,
            "grid_row": null,
            "max_height": null,
            "align_content": null,
            "visibility": null,
            "align_self": null,
            "height": null,
            "min_height": null,
            "padding": null,
            "grid_auto_rows": null,
            "grid_gap": null,
            "max_width": null,
            "order": null,
            "_view_module_version": "1.2.0",
            "grid_template_areas": null,
            "object_position": null,
            "object_fit": null,
            "grid_auto_columns": null,
            "margin": null,
            "display": null,
            "left": null
          }
        },
        "226eb96f6b724001b7d8885ae49c72e8": {
          "model_module": "@jupyter-widgets/controls",
          "model_name": "IntRangeSliderModel",
          "model_module_version": "1.5.0",
          "state": {
            "_view_name": "IntRangeSliderView",
            "style": "IPY_MODEL_7693353f27a0449d8fe96356ab064456",
            "_dom_classes": [],
            "description": "Years to include:",
            "step": 1,
            "_model_name": "IntRangeSliderModel",
            "orientation": "horizontal",
            "max": 2020,
            "_view_module": "@jupyter-widgets/controls",
            "_model_module_version": "1.5.0",
            "value": [
              2008,
              2020
            ],
            "_view_count": null,
            "disabled": false,
            "_view_module_version": "1.5.0",
            "min": 2002,
            "continuous_update": true,
            "readout_format": "d",
            "description_tooltip": null,
            "readout": true,
            "_model_module": "@jupyter-widgets/controls",
            "layout": "IPY_MODEL_235b7b22c5be4f63839e3fe9ffac1dc2"
          }
        },
        "2ba5821a94ed4588b0569c17c2644b9e": {
          "model_module": "@jupyter-widgets/controls",
          "model_name": "CheckboxModel",
          "model_module_version": "1.5.0",
          "state": {
            "_view_name": "CheckboxView",
            "style": "IPY_MODEL_d15739b3b7a14b3ca7e380d35228285e",
            "_dom_classes": [],
            "description": "Employment",
            "_model_name": "CheckboxModel",
            "_view_module": "@jupyter-widgets/controls",
            "_model_module_version": "1.5.0",
            "value": true,
            "_view_count": null,
            "disabled": false,
            "_view_module_version": "1.5.0",
            "indent": false,
            "description_tooltip": null,
            "_model_module": "@jupyter-widgets/controls",
            "layout": "IPY_MODEL_d8dfdf26756f4e108310311afde5fbb4"
          }
        },
        "de233da8d3ff4e5a91a69812fe74bd85": {
          "model_module": "@jupyter-widgets/controls",
          "model_name": "CheckboxModel",
          "model_module_version": "1.5.0",
          "state": {
            "_view_name": "CheckboxView",
            "style": "IPY_MODEL_2b9521ff5f794eb390ef4b19996e2952",
            "_dom_classes": [],
            "description": "Residential Dwellings",
            "_model_name": "CheckboxModel",
            "_view_module": "@jupyter-widgets/controls",
            "_model_module_version": "1.5.0",
            "value": true,
            "_view_count": null,
            "disabled": false,
            "_view_module_version": "1.5.0",
            "indent": false,
            "description_tooltip": null,
            "_model_module": "@jupyter-widgets/controls",
            "layout": "IPY_MODEL_f4a147d1617a427287ed550813cd7934"
          }
        },
        "c3a3d562b8e249fcaf99de9951450a25": {
          "model_module": "@jupyter-widgets/controls",
          "model_name": "IntSliderModel",
          "model_module_version": "1.5.0",
          "state": {
            "_view_name": "IntSliderView",
            "style": "IPY_MODEL_dbd6387527d24dbc8fe3aea0422f9e3e",
            "_dom_classes": [],
            "description": "Impact index from:",
            "step": 1,
            "_model_name": "IntSliderModel",
            "orientation": "horizontal",
            "max": 100,
            "_view_module": "@jupyter-widgets/controls",
            "_model_module_version": "1.5.0",
            "value": 42,
            "_view_count": null,
            "disabled": false,
            "_view_module_version": "1.5.0",
            "min": 10,
            "continuous_update": true,
            "readout_format": "d",
            "description_tooltip": null,
            "readout": true,
            "_model_module": "@jupyter-widgets/controls",
            "layout": "IPY_MODEL_0756710fd62d46938bd98e71ae55e45f"
          }
        },
        "f7939a584eb04ef683ef3443f1b6db9d": {
          "model_module": "@jupyter-widgets/controls",
          "model_name": "ButtonModel",
          "model_module_version": "1.5.0",
          "state": {
            "_view_name": "ButtonView",
            "style": "IPY_MODEL_b11ccbf97bfb44b888527cd43ed4f078",
            "_dom_classes": [],
            "description": "Start Analyzing",
            "_model_name": "ButtonModel",
            "button_style": "",
            "_view_module": "@jupyter-widgets/controls",
            "_model_module_version": "1.5.0",
            "tooltip": "",
            "_view_count": null,
            "disabled": false,
            "_view_module_version": "1.5.0",
            "layout": "IPY_MODEL_023501b288ab4940ac1bcbbf5bab6b84",
            "_model_module": "@jupyter-widgets/controls",
            "icon": ""
          }
        },
        "32a580b7839845ceb4ba6b470c84b768": {
          "model_module": "@jupyter-widgets/output",
          "model_name": "OutputModel",
          "model_module_version": "1.0.0",
          "state": {
            "_view_name": "OutputView",
            "msg_id": "",
            "_dom_classes": [],
            "_model_name": "OutputModel",
            "outputs": [
              {
                "output_type": "stream",
                "name": "stdout",
                "text": [
                  "=======================\n",
                  "|DATA ANALYSIS RESULTS|\n",
                  "=======================\n",
                  "(NOTE: The city blocks without parking information available are ignored by our analyzing model.\n",
                  "\n",
                  "\n"
                ]
              },
              {
                "output_type": "display_data",
                "data": {
                  "image/png": "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\n",
                  "text/plain": "<Figure size 1296x72 with 1 Axes>"
                },
                "metadata": {}
              },
              {
                "output_type": "stream",
                "name": "stdout",
                "text": [
                  "\n",
                  "\n",
                  " The table below shows the impacted blocks (limited parking) by the order of the impact index.\n",
                  "\n"
                ]
              },
              {
                "output_type": "display_data",
                "data": {
                  "text/html": "<div>\n<style scoped>\n    .dataframe tbody tr th:only-of-type {\n        vertical-align: middle;\n    }\n\n    .dataframe tbody tr th {\n        vertical-align: top;\n    }\n\n    .dataframe thead th {\n        text-align: right;\n    }\n</style>\n<table border=\"1\" class=\"dataframe\">\n  <thead>\n    <tr style=\"text-align: right;\">\n      <th></th>\n      <th>CLUE small area</th>\n      <th>Dwelling number</th>\n      <th>Total employment in block</th>\n      <th>Parking spaces</th>\n      <th>Predict_parking</th>\n      <th>Impact_index</th>\n    </tr>\n    <tr>\n      <th>Block ID</th>\n      <th></th>\n      <th></th>\n      <th></th>\n      <th></th>\n      <th></th>\n      <th></th>\n    </tr>\n  </thead>\n  <tbody>\n    <tr>\n      <th>1105</th>\n      <td>Docklands</td>\n      <td>189</td>\n      <td>22612.0</td>\n      <td>2507</td>\n      <td>7684</td>\n      <td>100</td>\n    </tr>\n    <tr>\n      <th>1108</th>\n      <td>Docklands</td>\n      <td>3118</td>\n      <td>16425.0</td>\n      <td>4800</td>\n      <td>7514</td>\n      <td>52</td>\n    </tr>\n    <tr>\n      <th>34</th>\n      <td>Melbourne (CBD)</td>\n      <td>32</td>\n      <td>7390.0</td>\n      <td>328</td>\n      <td>2520</td>\n      <td>42</td>\n    </tr>\n  </tbody>\n</table>\n</div>",
                  "text/plain": "          CLUE small area  Dwelling number  ...  Predict_parking  Impact_index\nBlock ID                                    ...                               \n1105            Docklands              189  ...             7684           100\n1108            Docklands             3118  ...             7514            52\n34        Melbourne (CBD)               32  ...             2520            42\n\n[3 rows x 6 columns]"
                },
                "metadata": {}
              }
            ],
            "_view_module": "@jupyter-widgets/output",
            "_model_module_version": "1.0.0",
            "_view_count": null,
            "_view_module_version": "1.0.0",
            "layout": "IPY_MODEL_78dd1e9e63774d4285bcf89069339d35",
            "_model_module": "@jupyter-widgets/output"
          }
        },
        "7693353f27a0449d8fe96356ab064456": {
          "model_module": "@jupyter-widgets/controls",
          "model_name": "SliderStyleModel",
          "model_module_version": "1.5.0",
          "state": {
            "_view_name": "StyleView",
            "handle_color": null,
            "_model_name": "SliderStyleModel",
            "description_width": "initial",
            "_view_module": "@jupyter-widgets/base",
            "_model_module_version": "1.5.0",
            "_view_count": null,
            "_view_module_version": "1.2.0",
            "_model_module": "@jupyter-widgets/controls"
          }
        },
        "235b7b22c5be4f63839e3fe9ffac1dc2": {
          "model_module": "@jupyter-widgets/base",
          "model_name": "LayoutModel",
          "model_module_version": "1.2.0",
          "state": {
            "_view_name": "LayoutView",
            "grid_template_rows": null,
            "right": null,
            "justify_content": null,
            "_view_module": "@jupyter-widgets/base",
            "overflow": null,
            "_model_module_version": "1.2.0",
            "_view_count": null,
            "flex_flow": null,
            "width": null,
            "min_width": null,
            "border": null,
            "align_items": null,
            "bottom": null,
            "_model_module": "@jupyter-widgets/base",
            "top": null,
            "grid_column": null,
            "overflow_y": null,
            "overflow_x": null,
            "grid_auto_flow": null,
            "grid_area": null,
            "grid_template_columns": null,
            "flex": null,
            "_model_name": "LayoutModel",
            "justify_items": null,
            "grid_row": null,
            "max_height": null,
            "align_content": null,
            "visibility": null,
            "align_self": null,
            "height": null,
            "min_height": null,
            "padding": null,
            "grid_auto_rows": null,
            "grid_gap": null,
            "max_width": null,
            "order": null,
            "_view_module_version": "1.2.0",
            "grid_template_areas": null,
            "object_position": null,
            "object_fit": null,
            "grid_auto_columns": null,
            "margin": null,
            "display": null,
            "left": null
          }
        },
        "d15739b3b7a14b3ca7e380d35228285e": {
          "model_module": "@jupyter-widgets/controls",
          "model_name": "DescriptionStyleModel",
          "model_module_version": "1.5.0",
          "state": {
            "_view_name": "StyleView",
            "_model_name": "DescriptionStyleModel",
            "description_width": "",
            "_view_module": "@jupyter-widgets/base",
            "_model_module_version": "1.5.0",
            "_view_count": null,
            "_view_module_version": "1.2.0",
            "_model_module": "@jupyter-widgets/controls"
          }
        },
        "d8dfdf26756f4e108310311afde5fbb4": {
          "model_module": "@jupyter-widgets/base",
          "model_name": "LayoutModel",
          "model_module_version": "1.2.0",
          "state": {
            "_view_name": "LayoutView",
            "grid_template_rows": null,
            "right": null,
            "justify_content": null,
            "_view_module": "@jupyter-widgets/base",
            "overflow": null,
            "_model_module_version": "1.2.0",
            "_view_count": null,
            "flex_flow": null,
            "width": null,
            "min_width": null,
            "border": null,
            "align_items": null,
            "bottom": null,
            "_model_module": "@jupyter-widgets/base",
            "top": null,
            "grid_column": null,
            "overflow_y": null,
            "overflow_x": null,
            "grid_auto_flow": null,
            "grid_area": null,
            "grid_template_columns": null,
            "flex": null,
            "_model_name": "LayoutModel",
            "justify_items": null,
            "grid_row": null,
            "max_height": null,
            "align_content": null,
            "visibility": null,
            "align_self": null,
            "height": null,
            "min_height": null,
            "padding": null,
            "grid_auto_rows": null,
            "grid_gap": null,
            "max_width": null,
            "order": null,
            "_view_module_version": "1.2.0",
            "grid_template_areas": null,
            "object_position": null,
            "object_fit": null,
            "grid_auto_columns": null,
            "margin": null,
            "display": null,
            "left": null
          }
        },
        "2b9521ff5f794eb390ef4b19996e2952": {
          "model_module": "@jupyter-widgets/controls",
          "model_name": "DescriptionStyleModel",
          "model_module_version": "1.5.0",
          "state": {
            "_view_name": "StyleView",
            "_model_name": "DescriptionStyleModel",
            "description_width": "",
            "_view_module": "@jupyter-widgets/base",
            "_model_module_version": "1.5.0",
            "_view_count": null,
            "_view_module_version": "1.2.0",
            "_model_module": "@jupyter-widgets/controls"
          }
        },
        "f4a147d1617a427287ed550813cd7934": {
          "model_module": "@jupyter-widgets/base",
          "model_name": "LayoutModel",
          "model_module_version": "1.2.0",
          "state": {
            "_view_name": "LayoutView",
            "grid_template_rows": null,
            "right": null,
            "justify_content": null,
            "_view_module": "@jupyter-widgets/base",
            "overflow": null,
            "_model_module_version": "1.2.0",
            "_view_count": null,
            "flex_flow": null,
            "width": null,
            "min_width": null,
            "border": null,
            "align_items": null,
            "bottom": null,
            "_model_module": "@jupyter-widgets/base",
            "top": null,
            "grid_column": null,
            "overflow_y": null,
            "overflow_x": null,
            "grid_auto_flow": null,
            "grid_area": null,
            "grid_template_columns": null,
            "flex": null,
            "_model_name": "LayoutModel",
            "justify_items": null,
            "grid_row": null,
            "max_height": null,
            "align_content": null,
            "visibility": null,
            "align_self": null,
            "height": null,
            "min_height": null,
            "padding": null,
            "grid_auto_rows": null,
            "grid_gap": null,
            "max_width": null,
            "order": null,
            "_view_module_version": "1.2.0",
            "grid_template_areas": null,
            "object_position": null,
            "object_fit": null,
            "grid_auto_columns": null,
            "margin": null,
            "display": null,
            "left": null
          }
        },
        "dbd6387527d24dbc8fe3aea0422f9e3e": {
          "model_module": "@jupyter-widgets/controls",
          "model_name": "SliderStyleModel",
          "model_module_version": "1.5.0",
          "state": {
            "_view_name": "StyleView",
            "handle_color": null,
            "_model_name": "SliderStyleModel",
            "description_width": "initial",
            "_view_module": "@jupyter-widgets/base",
            "_model_module_version": "1.5.0",
            "_view_count": null,
            "_view_module_version": "1.2.0",
            "_model_module": "@jupyter-widgets/controls"
          }
        },
        "0756710fd62d46938bd98e71ae55e45f": {
          "model_module": "@jupyter-widgets/base",
          "model_name": "LayoutModel",
          "model_module_version": "1.2.0",
          "state": {
            "_view_name": "LayoutView",
            "grid_template_rows": null,
            "right": null,
            "justify_content": null,
            "_view_module": "@jupyter-widgets/base",
            "overflow": null,
            "_model_module_version": "1.2.0",
            "_view_count": null,
            "flex_flow": null,
            "width": null,
            "min_width": null,
            "border": null,
            "align_items": null,
            "bottom": null,
            "_model_module": "@jupyter-widgets/base",
            "top": null,
            "grid_column": null,
            "overflow_y": null,
            "overflow_x": null,
            "grid_auto_flow": null,
            "grid_area": null,
            "grid_template_columns": null,
            "flex": null,
            "_model_name": "LayoutModel",
            "justify_items": null,
            "grid_row": null,
            "max_height": null,
            "align_content": null,
            "visibility": null,
            "align_self": null,
            "height": null,
            "min_height": null,
            "padding": null,
            "grid_auto_rows": null,
            "grid_gap": null,
            "max_width": null,
            "order": null,
            "_view_module_version": "1.2.0",
            "grid_template_areas": null,
            "object_position": null,
            "object_fit": null,
            "grid_auto_columns": null,
            "margin": null,
            "display": null,
            "left": null
          }
        },
        "b11ccbf97bfb44b888527cd43ed4f078": {
          "model_module": "@jupyter-widgets/controls",
          "model_name": "ButtonStyleModel",
          "model_module_version": "1.5.0",
          "state": {
            "_view_name": "StyleView",
            "_model_name": "ButtonStyleModel",
            "_view_module": "@jupyter-widgets/base",
            "_model_module_version": "1.5.0",
            "_view_count": null,
            "button_color": null,
            "font_weight": "",
            "_view_module_version": "1.2.0",
            "_model_module": "@jupyter-widgets/controls"
          }
        },
        "023501b288ab4940ac1bcbbf5bab6b84": {
          "model_module": "@jupyter-widgets/base",
          "model_name": "LayoutModel",
          "model_module_version": "1.2.0",
          "state": {
            "_view_name": "LayoutView",
            "grid_template_rows": null,
            "right": null,
            "justify_content": null,
            "_view_module": "@jupyter-widgets/base",
            "overflow": null,
            "_model_module_version": "1.2.0",
            "_view_count": null,
            "flex_flow": null,
            "width": null,
            "min_width": null,
            "border": null,
            "align_items": null,
            "bottom": null,
            "_model_module": "@jupyter-widgets/base",
            "top": null,
            "grid_column": null,
            "overflow_y": null,
            "overflow_x": null,
            "grid_auto_flow": null,
            "grid_area": null,
            "grid_template_columns": null,
            "flex": null,
            "_model_name": "LayoutModel",
            "justify_items": null,
            "grid_row": null,
            "max_height": null,
            "align_content": null,
            "visibility": null,
            "align_self": null,
            "height": null,
            "min_height": null,
            "padding": null,
            "grid_auto_rows": null,
            "grid_gap": null,
            "max_width": null,
            "order": null,
            "_view_module_version": "1.2.0",
            "grid_template_areas": null,
            "object_position": null,
            "object_fit": null,
            "grid_auto_columns": null,
            "margin": null,
            "display": null,
            "left": null
          }
        },
        "78dd1e9e63774d4285bcf89069339d35": {
          "model_module": "@jupyter-widgets/base",
          "model_name": "LayoutModel",
          "model_module_version": "1.2.0",
          "state": {
            "_view_name": "LayoutView",
            "grid_template_rows": null,
            "right": null,
            "justify_content": null,
            "_view_module": "@jupyter-widgets/base",
            "overflow": null,
            "_model_module_version": "1.2.0",
            "_view_count": null,
            "flex_flow": null,
            "width": null,
            "min_width": null,
            "border": null,
            "align_items": null,
            "bottom": null,
            "_model_module": "@jupyter-widgets/base",
            "top": null,
            "grid_column": null,
            "overflow_y": null,
            "overflow_x": null,
            "grid_auto_flow": null,
            "grid_area": null,
            "grid_template_columns": null,
            "flex": null,
            "_model_name": "LayoutModel",
            "justify_items": null,
            "grid_row": null,
            "max_height": null,
            "align_content": null,
            "visibility": null,
            "align_self": null,
            "height": null,
            "min_height": null,
            "padding": null,
            "grid_auto_rows": null,
            "grid_gap": null,
            "max_width": null,
            "order": null,
            "_view_module_version": "1.2.0",
            "grid_template_areas": null,
            "object_position": null,
            "object_fit": null,
            "grid_auto_columns": null,
            "margin": null,
            "display": null,
            "left": null
          }
        }
      }
    }
  },
  "cells": [
    {
      "cell_type": "code",
      "metadata": {
        "id": "wPNGAqnKDZX7",
        "colab": {
          "base_uri": "https://localhost:8080/"
        },
        "outputId": "bc5d025d-8512-4a84-ff45-b40138988714"
      },
      "source": [
        "pip install nbinteract"
      ],
      "execution_count": 107,
      "outputs": [
        {
          "output_type": "stream",
          "name": "stdout",
          "text": [
            "Requirement already satisfied: nbinteract in /usr/local/lib/python3.7/dist-packages (0.2.6)\n",
            "Requirement already satisfied: IPython<8,>=6 in /usr/local/lib/python3.7/dist-packages (from nbinteract) (7.30.0)\n",
            "Requirement already satisfied: numpy<2,>=1 in /usr/local/lib/python3.7/dist-packages (from nbinteract) (1.19.5)\n",
            "Requirement already satisfied: bqplot==0.11.0 in /usr/local/lib/python3.7/dist-packages (from nbinteract) (0.11.0)\n",
            "Requirement already satisfied: traitlets<5,>=4.3 in /usr/local/lib/python3.7/dist-packages (from nbinteract) (4.3.3)\n",
            "Requirement already satisfied: docopt<1,>=0.6.2 in /usr/local/lib/python3.7/dist-packages (from nbinteract) (0.6.2)\n",
            "Requirement already satisfied: nbconvert>=5.3 in /usr/local/lib/python3.7/dist-packages (from nbinteract) (5.6.1)\n",
            "Requirement already satisfied: Jinja2<3,>=2.10 in /usr/local/lib/python3.7/dist-packages (from nbinteract) (2.11.3)\n",
            "Requirement already satisfied: ipywidgets<8,>=7.5.0 in /usr/local/lib/python3.7/dist-packages (from nbinteract) (7.6.5)\n",
            "Requirement already satisfied: toolz<1,>=0.8 in /usr/local/lib/python3.7/dist-packages (from nbinteract) (0.11.2)\n",
            "Requirement already satisfied: nbformat<5,>=4.4.0 in /usr/local/lib/python3.7/dist-packages (from nbinteract) (4.4.0)\n",
            "Requirement already satisfied: traittypes>=0.0.6 in /usr/local/lib/python3.7/dist-packages (from bqplot==0.11.0->nbinteract) (0.2.1)\n",
            "Requirement already satisfied: pandas in /usr/local/lib/python3.7/dist-packages (from bqplot==0.11.0->nbinteract) (1.1.5)\n",
            "Requirement already satisfied: jedi>=0.16 in /usr/local/lib/python3.7/dist-packages (from IPython<8,>=6->nbinteract) (0.18.1)\n",
            "Requirement already satisfied: backcall in /usr/local/lib/python3.7/dist-packages (from IPython<8,>=6->nbinteract) (0.2.0)\n",
            "Requirement already satisfied: setuptools>=18.5 in /usr/local/lib/python3.7/dist-packages (from IPython<8,>=6->nbinteract) (57.4.0)\n",
            "Requirement already satisfied: matplotlib-inline in /usr/local/lib/python3.7/dist-packages (from IPython<8,>=6->nbinteract) (0.1.3)\n",
            "Requirement already satisfied: pexpect>4.3 in /usr/local/lib/python3.7/dist-packages (from IPython<8,>=6->nbinteract) (4.8.0)\n",
            "Requirement already satisfied: pygments in /usr/local/lib/python3.7/dist-packages (from IPython<8,>=6->nbinteract) (2.6.1)\n",
            "Requirement already satisfied: prompt-toolkit!=3.0.0,!=3.0.1,<3.1.0,>=2.0.0 in /usr/local/lib/python3.7/dist-packages (from IPython<8,>=6->nbinteract) (3.0.23)\n",
            "Requirement already satisfied: pickleshare in /usr/local/lib/python3.7/dist-packages (from IPython<8,>=6->nbinteract) (0.7.5)\n",
            "Requirement already satisfied: decorator in /usr/local/lib/python3.7/dist-packages (from IPython<8,>=6->nbinteract) (4.4.2)\n",
            "Requirement already satisfied: jupyterlab-widgets>=1.0.0 in /usr/local/lib/python3.7/dist-packages (from ipywidgets<8,>=7.5.0->nbinteract) (1.0.2)\n",
            "Requirement already satisfied: ipykernel>=4.5.1 in /usr/local/lib/python3.7/dist-packages (from ipywidgets<8,>=7.5.0->nbinteract) (4.10.1)\n",
            "Requirement already satisfied: ipython-genutils~=0.2.0 in /usr/local/lib/python3.7/dist-packages (from ipywidgets<8,>=7.5.0->nbinteract) (0.2.0)\n",
            "Requirement already satisfied: widgetsnbextension~=3.5.0 in /usr/local/lib/python3.7/dist-packages (from ipywidgets<8,>=7.5.0->nbinteract) (3.5.2)\n",
            "Requirement already satisfied: tornado>=4.0 in /usr/local/lib/python3.7/dist-packages (from ipykernel>=4.5.1->ipywidgets<8,>=7.5.0->nbinteract) (5.1.1)\n",
            "Requirement already satisfied: jupyter-client in /usr/local/lib/python3.7/dist-packages (from ipykernel>=4.5.1->ipywidgets<8,>=7.5.0->nbinteract) (5.3.5)\n",
            "Requirement already satisfied: parso<0.9.0,>=0.8.0 in /usr/local/lib/python3.7/dist-packages (from jedi>=0.16->IPython<8,>=6->nbinteract) (0.8.2)\n",
            "Requirement already satisfied: MarkupSafe>=0.23 in /usr/local/lib/python3.7/dist-packages (from Jinja2<3,>=2.10->nbinteract) (2.0.1)\n",
            "Requirement already satisfied: jupyter-core in /usr/local/lib/python3.7/dist-packages (from nbconvert>=5.3->nbinteract) (4.9.1)\n",
            "Requirement already satisfied: bleach in /usr/local/lib/python3.7/dist-packages (from nbconvert>=5.3->nbinteract) (4.1.0)\n",
            "Requirement already satisfied: pandocfilters>=1.4.1 in /usr/local/lib/python3.7/dist-packages (from nbconvert>=5.3->nbinteract) (1.5.0)\n",
            "Requirement already satisfied: testpath in /usr/local/lib/python3.7/dist-packages (from nbconvert>=5.3->nbinteract) (0.5.0)\n",
            "Requirement already satisfied: defusedxml in /usr/local/lib/python3.7/dist-packages (from nbconvert>=5.3->nbinteract) (0.7.1)\n",
            "Requirement already satisfied: mistune<2,>=0.8.1 in /usr/local/lib/python3.7/dist-packages (from nbconvert>=5.3->nbinteract) (0.8.4)\n",
            "Requirement already satisfied: entrypoints>=0.2.2 in /usr/local/lib/python3.7/dist-packages (from nbconvert>=5.3->nbinteract) (0.3)\n",
            "Requirement already satisfied: jsonschema!=2.5.0,>=2.4 in /usr/local/lib/python3.7/dist-packages (from nbformat<5,>=4.4.0->nbinteract) (2.6.0)\n",
            "Requirement already satisfied: ptyprocess>=0.5 in /usr/local/lib/python3.7/dist-packages (from pexpect>4.3->IPython<8,>=6->nbinteract) (0.7.0)\n",
            "Requirement already satisfied: wcwidth in /usr/local/lib/python3.7/dist-packages (from prompt-toolkit!=3.0.0,!=3.0.1,<3.1.0,>=2.0.0->IPython<8,>=6->nbinteract) (0.2.5)\n",
            "Requirement already satisfied: six in /usr/local/lib/python3.7/dist-packages (from traitlets<5,>=4.3->nbinteract) (1.15.0)\n",
            "Requirement already satisfied: notebook>=4.4.1 in /usr/local/lib/python3.7/dist-packages (from widgetsnbextension~=3.5.0->ipywidgets<8,>=7.5.0->nbinteract) (5.3.1)\n",
            "Requirement already satisfied: Send2Trash in /usr/local/lib/python3.7/dist-packages (from notebook>=4.4.1->widgetsnbextension~=3.5.0->ipywidgets<8,>=7.5.0->nbinteract) (1.8.0)\n",
            "Requirement already satisfied: terminado>=0.8.1 in /usr/local/lib/python3.7/dist-packages (from notebook>=4.4.1->widgetsnbextension~=3.5.0->ipywidgets<8,>=7.5.0->nbinteract) (0.12.1)\n",
            "Requirement already satisfied: pyzmq>=13 in /usr/local/lib/python3.7/dist-packages (from jupyter-client->ipykernel>=4.5.1->ipywidgets<8,>=7.5.0->nbinteract) (22.3.0)\n",
            "Requirement already satisfied: python-dateutil>=2.1 in /usr/local/lib/python3.7/dist-packages (from jupyter-client->ipykernel>=4.5.1->ipywidgets<8,>=7.5.0->nbinteract) (2.8.2)\n",
            "Requirement already satisfied: webencodings in /usr/local/lib/python3.7/dist-packages (from bleach->nbconvert>=5.3->nbinteract) (0.5.1)\n",
            "Requirement already satisfied: packaging in /usr/local/lib/python3.7/dist-packages (from bleach->nbconvert>=5.3->nbinteract) (21.3)\n",
            "Requirement already satisfied: pyparsing!=3.0.5,>=2.0.2 in /usr/local/lib/python3.7/dist-packages (from packaging->bleach->nbconvert>=5.3->nbinteract) (3.0.6)\n",
            "Requirement already satisfied: pytz>=2017.2 in /usr/local/lib/python3.7/dist-packages (from pandas->bqplot==0.11.0->nbinteract) (2018.9)\n"
          ]
        }
      ]
    },
    {
      "cell_type": "markdown",
      "metadata": {
        "id": "uZhOb2ODsEBk"
      },
      "source": [
        "### A case study: using CLUE datasets of Melbourne Open Data\n",
        "\n",
        "# **Where should public transportation be enhanced in the city of Melbourne?**\n",
        "\n",
        "The City of Melbourne has always evolved, and so have the numbers of its residential dwellings and employment population (based on data available on Melbourne Open Data). Without a consistent or parallel increase of off-street parking, the city will face the difficulty in providing enough spaces for parking of private transportation. To resolve this problem, the city planner needs to locate the potential areas where extension of public transportation should be implemented to replace the need for off-street parking.\n",
        "\n",
        "\n",
        "## Purpose: \n",
        "This case study is intended to provide educational instructions of how CLUE datasets can be used for city planners or individuals whose have some knowledge in data analysis.\n",
        "\n",
        "## Pre-requisite skills:\n",
        "- Python scripting (Basic)\n",
        "- Data analysis (Basic EDA and visualizations)\n",
        "\n",
        "## Solution:\n",
        "By looking at the population trend of residential dwellings and employments at different Melbourne city blocks, the city planner can project amount of public transportation services necessary to sufficiently accommodate potential travellers to or/and from those city blocks.\n",
        "\n"
      ]
    },
    {
      "cell_type": "markdown",
      "metadata": {
        "id": "biCQO7dcoyUL"
      },
      "source": [
        "# **Working with Residential dwelling datasets**"
      ]
    },
    {
      "cell_type": "code",
      "metadata": {
        "id": "stROK9yMyX34",
        "colab": {
          "base_uri": "https://localhost:8080/",
          "height": 293
        },
        "outputId": "ea47d4e6-e416-4af6-c389-4fe716058d1f"
      },
      "source": [
        "#CLUE datasets\n",
        "#======================================================\n",
        "import pandas as pd\n",
        "#Residential dwellings data\n",
        "resident = pd.read_csv('/content/drive/MyDrive/Notebooks/SIT782/CLUE/Residential_dwellings.csv')\n",
        "#Total records before cleaning\n",
        "print('Total records before cleaning is',len(resident))\n",
        "#Data cleaning (remove duplicated values)\n",
        "resident.drop_duplicates(inplace = True)\n",
        "#Total records after cleaning\n",
        "print('Total records after cleaning is',len(resident))\n",
        "#Select only necessary columns\n",
        "selected_columns =['Census year','Block ID','CLUE small area','Dwelling number']\n",
        "resident = resident[selected_columns]\n",
        "#Sum the Dwelling number based on Block ID and Year\n",
        "resident_by_block = resident.groupby(['Census year','Block ID']).agg({'CLUE small area':'max','Dwelling number':'sum'})\n",
        "print('Total records after grouping (by Block ID) is',len(resident_by_block))\n",
        "#Detail of the residential dwellings by block\n",
        "resident_by_block.head()\n"
      ],
      "execution_count": 108,
      "outputs": [
        {
          "output_type": "stream",
          "name": "stdout",
          "text": [
            "Total records before cleaning is 177733\n",
            "Total records after cleaning is 177729\n",
            "Total records after grouping (by Block ID) is 8036\n"
          ]
        },
        {
          "output_type": "execute_result",
          "data": {
            "text/html": [
              "<div>\n",
              "<style scoped>\n",
              "    .dataframe tbody tr th:only-of-type {\n",
              "        vertical-align: middle;\n",
              "    }\n",
              "\n",
              "    .dataframe tbody tr th {\n",
              "        vertical-align: top;\n",
              "    }\n",
              "\n",
              "    .dataframe thead th {\n",
              "        text-align: right;\n",
              "    }\n",
              "</style>\n",
              "<table border=\"1\" class=\"dataframe\">\n",
              "  <thead>\n",
              "    <tr style=\"text-align: right;\">\n",
              "      <th></th>\n",
              "      <th></th>\n",
              "      <th>CLUE small area</th>\n",
              "      <th>Dwelling number</th>\n",
              "    </tr>\n",
              "    <tr>\n",
              "      <th>Census year</th>\n",
              "      <th>Block ID</th>\n",
              "      <th></th>\n",
              "      <th></th>\n",
              "    </tr>\n",
              "  </thead>\n",
              "  <tbody>\n",
              "    <tr>\n",
              "      <th rowspan=\"5\" valign=\"top\">2002</th>\n",
              "      <th>11</th>\n",
              "      <td>Melbourne (CBD)</td>\n",
              "      <td>97</td>\n",
              "    </tr>\n",
              "    <tr>\n",
              "      <th>12</th>\n",
              "      <td>Melbourne (CBD)</td>\n",
              "      <td>189</td>\n",
              "    </tr>\n",
              "    <tr>\n",
              "      <th>13</th>\n",
              "      <td>Melbourne (CBD)</td>\n",
              "      <td>113</td>\n",
              "    </tr>\n",
              "    <tr>\n",
              "      <th>14</th>\n",
              "      <td>Melbourne (CBD)</td>\n",
              "      <td>87</td>\n",
              "    </tr>\n",
              "    <tr>\n",
              "      <th>15</th>\n",
              "      <td>Melbourne (CBD)</td>\n",
              "      <td>282</td>\n",
              "    </tr>\n",
              "  </tbody>\n",
              "</table>\n",
              "</div>"
            ],
            "text/plain": [
              "                      CLUE small area  Dwelling number\n",
              "Census year Block ID                                  \n",
              "2002        11        Melbourne (CBD)               97\n",
              "            12        Melbourne (CBD)              189\n",
              "            13        Melbourne (CBD)              113\n",
              "            14        Melbourne (CBD)               87\n",
              "            15        Melbourne (CBD)              282"
            ]
          },
          "metadata": {},
          "execution_count": 108
        }
      ]
    },
    {
      "cell_type": "markdown",
      "metadata": {
        "id": "G2ZGGFzqoqrA"
      },
      "source": [
        "# **Working with Emploment datasets**"
      ]
    },
    {
      "cell_type": "code",
      "metadata": {
        "id": "aT1K2LltF-A-",
        "colab": {
          "base_uri": "https://localhost:8080/",
          "height": 293
        },
        "outputId": "bf15d4df-979a-42ad-9307-707045e9a2a8"
      },
      "source": [
        "#Employment data\n",
        "employment = pd.read_csv('/content/drive/MyDrive/Notebooks/SIT782/CLUE/Employment_by_block_by_CLUE_industry.csv')\n",
        "#Total records before cleaning\n",
        "print('Total records before cleaning is',len(employment))\n",
        "#Cleaning the data (remove missing values at [Total employment in block])\n",
        "employment.dropna(subset=['Total employment in block'],inplace=True)\n",
        "#Total records after cleaning\n",
        "print('Total records afer cleaning is',len(employment))\n",
        "#Select only necessary columns\n",
        "selected_columns =['Census year','Block ID','Total employment in block']\n",
        "employment = employment[selected_columns]\n",
        "#Sum the employment based on Block ID and Year\n",
        "employment_by_block = employment.groupby(['Census year','Block ID']).sum()\n",
        "print('Total records after grouping (by Block ID) is',len(employment_by_block))\n",
        "#Detail of the employment_by_block\n",
        "employment_by_block.head()"
      ],
      "execution_count": 109,
      "outputs": [
        {
          "output_type": "stream",
          "name": "stdout",
          "text": [
            "Total records before cleaning is 11182\n",
            "Total records afer cleaning is 8759\n",
            "Total records after grouping (by Block ID) is 8759\n"
          ]
        },
        {
          "output_type": "execute_result",
          "data": {
            "text/html": [
              "<div>\n",
              "<style scoped>\n",
              "    .dataframe tbody tr th:only-of-type {\n",
              "        vertical-align: middle;\n",
              "    }\n",
              "\n",
              "    .dataframe tbody tr th {\n",
              "        vertical-align: top;\n",
              "    }\n",
              "\n",
              "    .dataframe thead th {\n",
              "        text-align: right;\n",
              "    }\n",
              "</style>\n",
              "<table border=\"1\" class=\"dataframe\">\n",
              "  <thead>\n",
              "    <tr style=\"text-align: right;\">\n",
              "      <th></th>\n",
              "      <th></th>\n",
              "      <th>Total employment in block</th>\n",
              "    </tr>\n",
              "    <tr>\n",
              "      <th>Census year</th>\n",
              "      <th>Block ID</th>\n",
              "      <th></th>\n",
              "    </tr>\n",
              "  </thead>\n",
              "  <tbody>\n",
              "    <tr>\n",
              "      <th rowspan=\"5\" valign=\"top\">2002</th>\n",
              "      <th>0</th>\n",
              "      <td>319729.0</td>\n",
              "    </tr>\n",
              "    <tr>\n",
              "      <th>1</th>\n",
              "      <td>6.0</td>\n",
              "    </tr>\n",
              "    <tr>\n",
              "      <th>2</th>\n",
              "      <td>169.0</td>\n",
              "    </tr>\n",
              "    <tr>\n",
              "      <th>4</th>\n",
              "      <td>1174.0</td>\n",
              "    </tr>\n",
              "    <tr>\n",
              "      <th>5</th>\n",
              "      <td>12.0</td>\n",
              "    </tr>\n",
              "  </tbody>\n",
              "</table>\n",
              "</div>"
            ],
            "text/plain": [
              "                      Total employment in block\n",
              "Census year Block ID                           \n",
              "2002        0                          319729.0\n",
              "            1                               6.0\n",
              "            2                             169.0\n",
              "            4                            1174.0\n",
              "            5                              12.0"
            ]
          },
          "metadata": {},
          "execution_count": 109
        }
      ]
    },
    {
      "cell_type": "markdown",
      "metadata": {
        "id": "qop-Dmtrn7Bf"
      },
      "source": [
        "# **Working with Off-street Parking datasets**"
      ]
    },
    {
      "cell_type": "code",
      "metadata": {
        "id": "YUX3USheHzpg",
        "colab": {
          "base_uri": "https://localhost:8080/",
          "height": 293
        },
        "outputId": "3f7a1186-de73-4df4-dcca-7a151c6dca5b"
      },
      "source": [
        "#Off-street parking data\n",
        "parking = pd.read_csv('/content/drive/MyDrive/Notebooks/SIT782/CLUE/Off-street_car_parks_with_capacity_and_type.csv')\n",
        "#Total records before cleaning\n",
        "print('Total records before cleaning is',len(parking))\n",
        "#Data cleaning (remove duplicate values)\n",
        "parking.drop_duplicates(inplace=True)\n",
        "#Total records after cleaning\n",
        "print('Total records after cleaning is',len(parking))\n",
        "#Select only necessary columns\n",
        "selected_columns =['Census year','Block ID','Parking spaces']\n",
        "parking = parking[selected_columns]\n",
        "#Sum the parking based on Block ID and Year\n",
        "parking_by_block = parking.groupby(['Census year','Block ID']).sum()\n",
        "print('Total records after grouping (by Block ID) is',len(parking_by_block))\n",
        "#Detail of the employment_by_block\n",
        "parking_by_block.head()\n"
      ],
      "execution_count": 110,
      "outputs": [
        {
          "output_type": "stream",
          "name": "stdout",
          "text": [
            "Total records before cleaning is 124114\n",
            "Total records after cleaning is 122461\n",
            "Total records after grouping (by Block ID) is 9939\n"
          ]
        },
        {
          "output_type": "execute_result",
          "data": {
            "text/html": [
              "<div>\n",
              "<style scoped>\n",
              "    .dataframe tbody tr th:only-of-type {\n",
              "        vertical-align: middle;\n",
              "    }\n",
              "\n",
              "    .dataframe tbody tr th {\n",
              "        vertical-align: top;\n",
              "    }\n",
              "\n",
              "    .dataframe thead th {\n",
              "        text-align: right;\n",
              "    }\n",
              "</style>\n",
              "<table border=\"1\" class=\"dataframe\">\n",
              "  <thead>\n",
              "    <tr style=\"text-align: right;\">\n",
              "      <th></th>\n",
              "      <th></th>\n",
              "      <th>Parking spaces</th>\n",
              "    </tr>\n",
              "    <tr>\n",
              "      <th>Census year</th>\n",
              "      <th>Block ID</th>\n",
              "      <th></th>\n",
              "    </tr>\n",
              "  </thead>\n",
              "  <tbody>\n",
              "    <tr>\n",
              "      <th rowspan=\"5\" valign=\"top\">2002</th>\n",
              "      <th>1</th>\n",
              "      <td>270</td>\n",
              "    </tr>\n",
              "    <tr>\n",
              "      <th>6</th>\n",
              "      <td>500</td>\n",
              "    </tr>\n",
              "    <tr>\n",
              "      <th>11</th>\n",
              "      <td>303</td>\n",
              "    </tr>\n",
              "    <tr>\n",
              "      <th>12</th>\n",
              "      <td>749</td>\n",
              "    </tr>\n",
              "    <tr>\n",
              "      <th>13</th>\n",
              "      <td>622</td>\n",
              "    </tr>\n",
              "  </tbody>\n",
              "</table>\n",
              "</div>"
            ],
            "text/plain": [
              "                      Parking spaces\n",
              "Census year Block ID                \n",
              "2002        1                    270\n",
              "            6                    500\n",
              "            11                   303\n",
              "            12                   749\n",
              "            13                   622"
            ]
          },
          "metadata": {},
          "execution_count": 110
        }
      ]
    },
    {
      "cell_type": "markdown",
      "metadata": {
        "id": "_Xfatyh439UD"
      },
      "source": [
        "# **Merge and explore the 3 datasets (Resident, Employment, & Parking)**"
      ]
    },
    {
      "cell_type": "markdown",
      "metadata": {
        "id": "UMFEWTdiX6UD"
      },
      "source": [
        "Formulate the model to identify a suitable number of parking slots based on residential dwelling or employment."
      ]
    },
    {
      "cell_type": "code",
      "metadata": {
        "colab": {
          "base_uri": "https://localhost:8080/",
          "height": 750
        },
        "id": "-6X0xImgqERh",
        "outputId": "2ce828ee-cbaa-412e-faf3-2ab84cbc1414"
      },
      "source": [
        "import matplotlib.pyplot as plt\n",
        "import numpy as np\n",
        "import seaborn as sns\n",
        "sns.set_theme(color_codes=True)\n",
        "\n",
        "#Combine the datasets (only take the blocks that match between three datasets)\n",
        "data = resident_by_block.merge(employment_by_block, left_index= True, right_index=True)\n",
        "data = data.merge(parking_by_block,left_index=True,right_index=True)\n",
        "print(data.head())\n",
        "#Prepare data for scatter plots\n",
        "x1 = data['Total employment in block']\n",
        "x2 = data['Dwelling number']\n",
        "y = data['Parking spaces']\n",
        "#Plot the data points (Parking Spaces vs. Total Employment) and regression line\n",
        "plt.plot(x1,y,'x')\n",
        "a, b = np.polyfit(x1,y,1)\n",
        "plt.plot(x1, a*x1 + b)\n",
        "plt.title('Parking Spaces vs. Total Employment')\n",
        "plt.ylabel('Parking Spaces')\n",
        "plt.xlabel('Total Employment')\n",
        "plt.show()\n",
        "#Plot the data points (Parking Spaces vs. Dwelling Number) and regression line\n",
        "plt.plot(x2,y,'+')\n",
        "a, b = np.polyfit(x2,y,1)\n",
        "plt.plot(x2, a*x2 + b)\n",
        "plt.title('Parking Spaces vs. Dwelling Number')\n",
        "plt.ylabel('Parking Spaces')\n",
        "plt.xlabel('Dwelling Number')\n",
        "plt.show()\n",
        "\n",
        "#NOTE: This dataset here ('data') need to be exported to GitHub and named as \"merged_data.csv\" to allow interactive (function) to work"
      ],
      "execution_count": 177,
      "outputs": [
        {
          "output_type": "stream",
          "name": "stdout",
          "text": [
            "                      CLUE small area  ...  Parking spaces\n",
            "Census year Block ID                   ...                \n",
            "2002        11        Melbourne (CBD)  ...             303\n",
            "            12        Melbourne (CBD)  ...             749\n",
            "            13        Melbourne (CBD)  ...             622\n",
            "            14        Melbourne (CBD)  ...            1229\n",
            "            15        Melbourne (CBD)  ...              88\n",
            "\n",
            "[5 rows x 4 columns]\n"
          ]
        },
        {
          "output_type": "display_data",
          "data": {
            "image/png": "[encoded data removed]",
            "text/plain": [
              "<Figure size 432x288 with 1 Axes>"
            ]
          },
          "metadata": {}
        },
        {
          "output_type": "display_data",
          "data": {
            "image/png": "[encoded data removed]",
            "text/plain": [
              "<Figure size 432x288 with 1 Axes>"
            ]
          },
          "metadata": {}
        }
      ]
    },
    {
      "cell_type": "markdown",
      "metadata": {
        "id": "0I4h1N4zooQO"
      },
      "source": [
        "# **Modeling and Analyzing**"
      ]
    },
    {
      "cell_type": "markdown",
      "metadata": {
        "id": "VXTzXE8bsFFW"
      },
      "source": [
        "## Prepare the filtered data records"
      ]
    },
    {
      "cell_type": "code",
      "metadata": {
        "id": "NNnbFdxXrquN"
      },
      "source": [
        "#Prepare X and Y data for model training\n",
        "def Get_data(Data, Year_to_include,Employment,Resident_dwellings):\n",
        "  import numpy as np\n",
        "  features = np.array(['Total employment in block', 'Dwelling number'])\n",
        "  features_to_include = features[[Employment,Resident_dwellings]] #Define the data features for the study\n",
        "  data_to_include = Data.loc[min(Year_to_include):max(Year_to_include)] #Get the wanted rows\n",
        "  X = np.array(data_to_include[features_to_include]) #Get the independent variable(s) based on the selected features\n",
        "  Y = np.array(data_to_include['Parking spaces']) #Get the dependent variable\n",
        "  return X, Y\n",
        "#print('The study period is between: %d and %d'%(min(years_to_include),max(years_to_include)))\n"
      ],
      "execution_count": 112,
      "outputs": []
    },
    {
      "cell_type": "markdown",
      "metadata": {
        "id": "OOHNOm_NvlIU"
      },
      "source": [
        "## Build linear regression model"
      ]
    },
    {
      "cell_type": "code",
      "metadata": {
        "id": "7PRejFEtvkHq"
      },
      "source": [
        "def lm_model(X, Y):\n",
        "  import sklearn\n",
        "  from sklearn import linear_model\n",
        "  from sklearn.ensemble import IsolationForest\n",
        "  iso = IsolationForest(contamination=0.1)#use outliers detector\n",
        "  yhat = iso.fit_predict(X) #Search for outliers\n",
        "  lm = linear_model.LinearRegression() #linear regression model\n",
        "  lm.fit(X[yhat!=-1],Y[yhat!=-1]) # Train the model excluding outliers\n",
        "  return lm"
      ],
      "execution_count": 132,
      "outputs": []
    },
    {
      "cell_type": "markdown",
      "metadata": {
        "id": "rc7kJD-p4ZIt"
      },
      "source": [
        "## Predict the parking problem based on the latest year (2020)"
      ]
    },
    {
      "cell_type": "code",
      "metadata": {
        "id": "RZkmpC_U4YUv"
      },
      "source": [
        "#Predict parking issue in 2020\n",
        "def Get_predict_result(Data, Model, Employment, Residential_dwellings):\n",
        "  import numpy as np\n",
        "  data_latest = Data.loc[years.max] # Get data of 2020\n",
        "  features = np.array(['Total employment in block', 'Dwelling number'])\n",
        "  features_to_include = features[[Employment,Residential_dwellings]] #Define the data features for the study\n",
        "  result = np.round(Model.predict(np.array(data_latest[features_to_include]))) #Predict based on the selected features\n",
        "  data_latest['Predict_parking'] = result.astype(int) #Add result to the data\n",
        "  impact = result - data_latest['Parking spaces']\n",
        "  impact[impact>=0] = 100*(impact[impact>=0]/(max(impact[impact>=0]))) # Normalize the impact index (0-100)\n",
        "  data_latest['Impact_index'] = impact.astype(int) #Add impact index to the data\n",
        "  return data_latest"
      ],
      "execution_count": 176,
      "outputs": []
    },
    {
      "cell_type": "markdown",
      "metadata": {
        "id": "mlLslmEOGitd"
      },
      "source": [
        "## Plot barchart of the predict results"
      ]
    },
    {
      "cell_type": "code",
      "metadata": {
        "id": "5l4X3zdoGhbq"
      },
      "source": [
        "#visualize the impacted city blocks\n",
        "def bar_plot(Data, Impact_level):\n",
        "  import matplotlib.pyplot as plt\n",
        "  import numpy as np\n",
        "  #Only visualize the blocks greater than the impact level\n",
        "  plot_data = Data[Data['Impact_index']>=Impact_level]['Impact_index']#Get only the data records with higher impact level\n",
        "  plt.figure(figsize=(18,len(plot_data)/3))\n",
        "  plt.xlabel('Impact Index (Higher index indicates serious shortage of off-street parking)')\n",
        "  plt.ylabel('Block ID of Melbourne city')\n",
        "  plt.title('Impacted Blocks vs. Impact Index\\n Shows impact index from '+str(Impact_level)+' to 100')\n",
        "  plt.barh (plot_data.index.astype(str),plot_data.values)\n",
        "  plt.show()"
      ],
      "execution_count": 170,
      "outputs": []
    },
    {
      "cell_type": "markdown",
      "metadata": {
        "id": "q2sCp9c0Np_Y"
      },
      "source": [
        "# Prepare datasets for map plotting"
      ]
    },
    {
      "cell_type": "code",
      "metadata": {
        "id": "upAFbbAA7gaR",
        "colab": {
          "base_uri": "https://localhost:8080/",
          "height": 91
        },
        "outputId": "f036ad2c-01c8-4367-afd4-914a90d0dd8e"
      },
      "source": [
        "\n",
        "\n",
        "\n",
        "#Only take the impacted blocks\n",
        "clue_data = data_latest[data_latest['Impact_index']>=min_impact_level].sort_values('Impact_index',ascending = False)\n",
        "clue_data.reset_index(inplace=True) #turn the index (Block_ID) into a column in the dataframe (clue_data)\n",
        "clue_data['Block ID'] = clue_data['Block ID'].astype('str') # conver [Block ID] to str, so that it is compatible with json content\n"
      ],
      "execution_count": 116,
      "outputs": [
        {
          "output_type": "execute_result",
          "data": {
            "application/vnd.google.colaboratory.intrinsic+json": {
              "type": "string"
            },
            "text/plain": [
              "\"\\n#CLUE block map\\nimport json\\njson_file = open('/content/drive/MyDrive/Notebooks/SIT782/CLUE/clue_blocks.geojson') \\nclue_geo = json.load(json_file)\\n\\n#Only take the impacted blocks\\nclue_data = data_latest[data_latest['Impact_index']>=min_impact_level].sort_values('Impact_index',ascending = False)\\nclue_data.reset_index(inplace=True) #turn the index (Block_ID) into a column in the dataframe (clue_data)\\nclue_data['Block ID'] = clue_data['Block ID'].astype('str') # conver [Block ID] to str, so that it is compatible with json content\\n\""
            ]
          },
          "metadata": {},
          "execution_count": 116
        }
      ]
    },
    {
      "cell_type": "markdown",
      "metadata": {
        "id": "wu-cEzszOeYK"
      },
      "source": [
        "# Plot the map using Folium Choropleth"
      ]
    },
    {
      "cell_type": "code",
      "metadata": {
        "colab": {
          "base_uri": "https://localhost:8080/",
          "height": 128
        },
        "id": "bJofRzQc_Kxu",
        "outputId": "e0e45825-a31d-46c2-d3c3-a2dda42cdb41"
      },
      "source": [
        "\n",
        "def plot_map(Data):\n",
        "  import json\n",
        "  import folium\n",
        "  #Load the csv and json data for map plotting\n",
        "  json_file = open('https://github.com/Tithra/SIT782/blob/main/clue_blocks.geojson') \n",
        "  clue_geo = json.load(json_file)\n",
        "  return 'Done'\n",
        "\n",
        "'''\n",
        "#Create the initial map\n",
        "fmap = folium.Map(location=[-37.811600, 144.964610],\n",
        "           tiles='Stamen Toner',\n",
        "           width = '80%',\n",
        "           height = '60%',\n",
        "           zoom_start=13)\n",
        "\n",
        "#create the choropleth layer and add to the map above\n",
        "choropleth = folium.Choropleth(\n",
        "    geo_data=clue_geo,\n",
        "    name='choropleth',\n",
        "    data=clue_data,\n",
        "    columns=['Block ID','Impact_index'],\n",
        "    key_on='feature.properties.block_id',\n",
        "    fill_color='YlOrRd',\n",
        "    fill_opacity=1,\n",
        "    line_opacity=0.5,\n",
        "    nan_fill_color='cloud',\n",
        "    nan_fill_opacity = 0.2,\n",
        "    highlight=True,\n",
        "    legend_name='Impact index'\n",
        ").add_to(fmap)\n",
        "\n",
        "#Add more layers and tooltips\n",
        "fmap.add_tile_layer()\n",
        "fmap.add_tile_layer('Stamen Terrain')\n",
        "choropleth.geojson.add_child(folium.features.GeoJsonTooltip(['block_id','clue_area'],labels=True))\n",
        "folium.LayerControl().add_to(fmap)\n",
        "fmap\n",
        "'''"
      ],
      "execution_count": 183,
      "outputs": [
        {
          "output_type": "execute_result",
          "data": {
            "application/vnd.google.colaboratory.intrinsic+json": {
              "type": "string"
            },
            "text/plain": [
              "\"\\n#Create the initial map\\nfmap = folium.Map(location=[-37.811600, 144.964610],\\n           tiles='Stamen Toner',\\n           width = '80%',\\n           height = '60%',\\n           zoom_start=13)\\n\\n#create the choropleth layer and add to the map above\\nchoropleth = folium.Choropleth(\\n    geo_data=clue_geo,\\n    name='choropleth',\\n    data=clue_data,\\n    columns=['Block ID','Impact_index'],\\n    key_on='feature.properties.block_id',\\n    fill_color='YlOrRd',\\n    fill_opacity=1,\\n    line_opacity=0.5,\\n    nan_fill_color='cloud',\\n    nan_fill_opacity = 0.2,\\n    highlight=True,\\n    legend_name='Impact index'\\n).add_to(fmap)\\n\\n#Add more layers and tooltips\\nfmap.add_tile_layer()\\nfmap.add_tile_layer('Stamen Terrain')\\nchoropleth.geojson.add_child(folium.features.GeoJsonTooltip(['block_id','clue_area'],labels=True))\\nfolium.LayerControl().add_to(fmap)\\nfmap\\n\""
            ]
          },
          "metadata": {},
          "execution_count": 183
        }
      ]
    },
    {
      "cell_type": "markdown",
      "metadata": {
        "id": "ul0SWwlX-ivA"
      },
      "source": [
        "## Interactive Tools and Visualizations"
      ]
    },
    {
      "cell_type": "code",
      "metadata": {
        "id": "4_-EHzxUokbX"
      },
      "source": [
        "#Year to include in the study (from 2002 to 2020 or between that)\n",
        "#Create a widget to select the range of study years\n",
        "from ipywidgets import interact_manual\n",
        "import ipywidgets as widgets\n",
        "from IPython.display import display\n",
        "style = {'description_width': 'initial'} #for long label of the widgets\n",
        "#Year-to-include slider\n",
        "years = widgets.IntRangeSlider(\n",
        "    value=[2002, 2020],\n",
        "    min=2002,\n",
        "    max=2020,\n",
        "    step=1,\n",
        "    description='Years to include:',\n",
        "    disabled=False,\n",
        "    continuous_update=True,\n",
        "    orientation='horizontal',\n",
        "    readout=True,\n",
        "    readout_format='d',\n",
        "    style=style\n",
        ")\n",
        "#Display option: impact level\n",
        "show_impact = widgets.IntSlider(\n",
        "    value=10,\n",
        "    min=10,\n",
        "    max=100,\n",
        "    step=1,\n",
        "    description='Impact index from:',\n",
        "    disabled=False,\n",
        "    continuous_update=True,\n",
        "    orientation='horizontal',\n",
        "    readout=True,\n",
        "    readout_format='d',\n",
        "    style=style\n",
        ")\n",
        "#Employment checkbox\n",
        "chk_employment = widgets.Checkbox(\n",
        "    value=True,\n",
        "    description='Employment',\n",
        "    disabled=False,\n",
        "    indent=False,\n",
        "    continuous_updates=True\n",
        ")\n",
        "#Residential Dwellings checkbox\n",
        "chk_resident = widgets.Checkbox(\n",
        "    value=True,\n",
        "    description='Residential Dwellings',\n",
        "    disabled=False,\n",
        "    indent=False,\n",
        "    continuous_update=True\n",
        ")\n"
      ],
      "execution_count": 184,
      "outputs": []
    },
    {
      "cell_type": "code",
      "metadata": {
        "colab": {
          "base_uri": "https://localhost:8080/",
          "height": 690,
          "referenced_widgets": [
            "b79c890a52144355a6e5982a0c210098",
            "94cd7f09289846f2b2c130ff37a180c7",
            "226eb96f6b724001b7d8885ae49c72e8",
            "2ba5821a94ed4588b0569c17c2644b9e",
            "de233da8d3ff4e5a91a69812fe74bd85",
            "c3a3d562b8e249fcaf99de9951450a25",
            "f7939a584eb04ef683ef3443f1b6db9d",
            "32a580b7839845ceb4ba6b470c84b768",
            "7693353f27a0449d8fe96356ab064456",
            "235b7b22c5be4f63839e3fe9ffac1dc2",
            "d15739b3b7a14b3ca7e380d35228285e",
            "d8dfdf26756f4e108310311afde5fbb4",
            "2b9521ff5f794eb390ef4b19996e2952",
            "f4a147d1617a427287ed550813cd7934",
            "dbd6387527d24dbc8fe3aea0422f9e3e",
            "0756710fd62d46938bd98e71ae55e45f",
            "b11ccbf97bfb44b888527cd43ed4f078",
            "023501b288ab4940ac1bcbbf5bab6b84",
            "78dd1e9e63774d4285bcf89069339d35"
          ]
        },
        "id": "omj0ACtQcOp1",
        "outputId": "83efe1cc-72c2-4ef2-8fa5-41dedd8f8fcc"
      },
      "source": [
        "#Define function to execute when using interactive tools\n",
        "def f(Year_to_include,Employment,Residential_dwellings, Impact_level):\n",
        "  #Must import libraries and datasets for a self-contain function\n",
        "  import pandas as pd\n",
        "  import warnings\n",
        "  warnings.filterwarnings(\"ignore\") #remove dataframe warning\n",
        "\n",
        "  import json\n",
        "  import folium\n",
        "  #Load the csv and json data for map plotting\n",
        "  json_file = open('clue_blocks.geojson') \n",
        "  clue_geo = json.load(json_file)\n",
        "\n",
        "  data = pd.read_csv('merged_data.csv') #the dataset that contains all the THREE features (employment, resident & parking)\n",
        "  data.set_index(['Census year','Block ID'],inplace=True) #Turn the data to pandas series\n",
        "\n",
        "  print('='*23)\n",
        "  print('|DATA ANALYSIS RESULTS|')\n",
        "  print('='*23)\n",
        "  print('(NOTE: The city blocks without parking information available are ignored by our analyzing model.\\n\\n')\n",
        "  if (not(Employment)) & (not(Residential_dwellings)):\n",
        "    Employment = True  #Prevent both data features are unticked ==> Error\n",
        "  #Get the filtered data for analysis\n",
        "  X, Y = Get_data(data,Year_to_include,Employment,Residential_dwellings)\n",
        "  #Build regression model\n",
        "  lm = lm_model(X,Y)\n",
        "  #Get the predicted results\n",
        "  predict_results = Get_predict_result(data,lm, Employment, Residential_dwellings)\n",
        "  #Plot the barchart of the predicted results\n",
        "  bar_plot(predict_results, Impact_level);\n",
        "  #Show table of the impacted blocks in detail table\n",
        "  print('\\n\\n The table below shows the impacted blocks (limited parking) by the order of the impact index.\\n')\n",
        "  display(predict_results[predict_results['Impact_index']>=Impact_level].sort_values('Impact_index',ascending = False))\n",
        "  #Plot the folium choropleth map\n",
        "  \n",
        "\n",
        "interact_manual.opts['manual_name'] = 'Start Analyzing'\n",
        "interact_manual(f,Year_to_include=years, Employment=chk_employment, Residential_dwellings = chk_resident, Impact_level = show_impact);"
      ],
      "execution_count": 195,
      "outputs": [
        {
          "output_type": "display_data",
          "data": {
            "application/vnd.jupyter.widget-view+json": {
              "model_id": "b79c890a52144355a6e5982a0c210098",
              "version_minor": 0,
              "version_major": 2
            },
            "text/plain": [
              "interactive(children=(IntRangeSlider(value=(2002, 2020), description='Years to include:', max=2020, min=2002, …"
            ]
          },
          "metadata": {}
        }
      ]
    }
  ]
}