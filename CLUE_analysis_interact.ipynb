{
  "nbformat": 4,
  "nbformat_minor": 0,
  "metadata": {
    "colab": {
      "name": "CLUE_analysis.ipynb",
      "provenance": [],
      "mount_file_id": "https://github.com/Tithra/SIT782/blob/main/CLUE_analysis_interact.ipynb",
      "authorship_tag": "ABX9TyPFmIMTX2f0QmopMvq5srWq"
    },
    "kernelspec": {
      "name": "python3",
      "display_name": "Python 3"
    },
    "language_info": {
      "name": "python"
    },
    "widgets": {
      "application/vnd.jupyter.widget-state+json": {
        "22890b3bc23d448dbbd8bade38b4f44a": {
          "model_module": "@jupyter-widgets/controls",
          "model_name": "VBoxModel",
          "model_module_version": "1.5.0",
          "state": {
            "_view_name": "VBoxView",
            "_dom_classes": [
              "widget-interact"
            ],
            "_model_name": "VBoxModel",
            "_view_module": "@jupyter-widgets/controls",
            "_model_module_version": "1.5.0",
            "_view_count": null,
            "_view_module_version": "1.5.0",
            "box_style": "",
            "layout": "IPY_MODEL_d7f5e4a852a145c888859899fa81a9f9",
            "_model_module": "@jupyter-widgets/controls",
            "children": [
              "IPY_MODEL_18014eeb7e0945aeba458001591aaf03",
              "IPY_MODEL_72ef8505daf540528504b626529f72a3",
              "IPY_MODEL_d88803d9591f4870a4c80113aff25677",
              "IPY_MODEL_2d9c8297209044c6924883bc0bf65d47",
              "IPY_MODEL_7e0c075e5b3e4afc87cb7369a5536ab3",
              "IPY_MODEL_5114688973fa415097d8341cb29a5617"
            ]
          }
        },
        "d7f5e4a852a145c888859899fa81a9f9": {
          "model_module": "@jupyter-widgets/base",
          "model_name": "LayoutModel",
          "model_module_version": "1.2.0",
          "state": {
            "_view_name": "LayoutView",
            "grid_template_rows": null,
            "right": null,
            "justify_content": null,
            "_view_module": "@jupyter-widgets/base",
            "overflow": null,
            "_model_module_version": "1.2.0",
            "_view_count": null,
            "flex_flow": null,
            "width": null,
            "min_width": null,
            "border": null,
            "align_items": null,
            "bottom": null,
            "_model_module": "@jupyter-widgets/base",
            "top": null,
            "grid_column": null,
            "overflow_y": null,
            "overflow_x": null,
            "grid_auto_flow": null,
            "grid_area": null,
            "grid_template_columns": null,
            "flex": null,
            "_model_name": "LayoutModel",
            "justify_items": null,
            "grid_row": null,
            "max_height": null,
            "align_content": null,
            "visibility": null,
            "align_self": null,
            "height": null,
            "min_height": null,
            "padding": null,
            "grid_auto_rows": null,
            "grid_gap": null,
            "max_width": null,
            "order": null,
            "_view_module_version": "1.2.0",
            "grid_template_areas": null,
            "object_position": null,
            "object_fit": null,
            "grid_auto_columns": null,
            "margin": null,
            "display": null,
            "left": null
          }
        },
        "18014eeb7e0945aeba458001591aaf03": {
          "model_module": "@jupyter-widgets/controls",
          "model_name": "IntRangeSliderModel",
          "model_module_version": "1.5.0",
          "state": {
            "_view_name": "IntRangeSliderView",
            "style": "IPY_MODEL_861051ad28fc4e1bb425950862d40e5d",
            "_dom_classes": [],
            "description": "Years to include:",
            "step": 1,
            "_model_name": "IntRangeSliderModel",
            "orientation": "horizontal",
            "max": 2020,
            "_view_module": "@jupyter-widgets/controls",
            "_model_module_version": "1.5.0",
            "value": [
              2002,
              2020
            ],
            "_view_count": null,
            "disabled": false,
            "_view_module_version": "1.5.0",
            "min": 2002,
            "continuous_update": true,
            "readout_format": "d",
            "description_tooltip": null,
            "readout": true,
            "_model_module": "@jupyter-widgets/controls",
            "layout": "IPY_MODEL_2b3ac3c1254f47ba90f598bfe6502460"
          }
        },
        "72ef8505daf540528504b626529f72a3": {
          "model_module": "@jupyter-widgets/controls",
          "model_name": "CheckboxModel",
          "model_module_version": "1.5.0",
          "state": {
            "_view_name": "CheckboxView",
            "style": "IPY_MODEL_41cf757955124b71a12a82450d156b7b",
            "_dom_classes": [],
            "description": "Employment",
            "_model_name": "CheckboxModel",
            "_view_module": "@jupyter-widgets/controls",
            "_model_module_version": "1.5.0",
            "value": true,
            "_view_count": null,
            "disabled": false,
            "_view_module_version": "1.5.0",
            "indent": false,
            "description_tooltip": null,
            "_model_module": "@jupyter-widgets/controls",
            "layout": "IPY_MODEL_0d0033b12f594ae59b9078f174b1c9f3"
          }
        },
        "d88803d9591f4870a4c80113aff25677": {
          "model_module": "@jupyter-widgets/controls",
          "model_name": "CheckboxModel",
          "model_module_version": "1.5.0",
          "state": {
            "_view_name": "CheckboxView",
            "style": "IPY_MODEL_43c3247e29044ffc979876ce144faa82",
            "_dom_classes": [],
            "description": "Residential Dwellings",
            "_model_name": "CheckboxModel",
            "_view_module": "@jupyter-widgets/controls",
            "_model_module_version": "1.5.0",
            "value": true,
            "_view_count": null,
            "disabled": false,
            "_view_module_version": "1.5.0",
            "indent": false,
            "description_tooltip": null,
            "_model_module": "@jupyter-widgets/controls",
            "layout": "IPY_MODEL_101079e934ce4a918c4c0a8f7b27680c"
          }
        },
        "2d9c8297209044c6924883bc0bf65d47": {
          "model_module": "@jupyter-widgets/controls",
          "model_name": "IntSliderModel",
          "model_module_version": "1.5.0",
          "state": {
            "_view_name": "IntSliderView",
            "style": "IPY_MODEL_d846b5b1248b4becb95c28d9e658843a",
            "_dom_classes": [],
            "description": "Impact index from:",
            "step": 1,
            "_model_name": "IntSliderModel",
            "orientation": "horizontal",
            "max": 100,
            "_view_module": "@jupyter-widgets/controls",
            "_model_module_version": "1.5.0",
            "value": 10,
            "_view_count": null,
            "disabled": false,
            "_view_module_version": "1.5.0",
            "min": 10,
            "continuous_update": true,
            "readout_format": "d",
            "description_tooltip": null,
            "readout": true,
            "_model_module": "@jupyter-widgets/controls",
            "layout": "IPY_MODEL_ca9f9ea7ccda4e038506584ef45b4c1b"
          }
        },
        "7e0c075e5b3e4afc87cb7369a5536ab3": {
          "model_module": "@jupyter-widgets/controls",
          "model_name": "ButtonModel",
          "model_module_version": "1.5.0",
          "state": {
            "_view_name": "ButtonView",
            "style": "IPY_MODEL_874abea722d74869a213c490eb7418be",
            "_dom_classes": [],
            "description": "Start Analyzing",
            "_model_name": "ButtonModel",
            "button_style": "",
            "_view_module": "@jupyter-widgets/controls",
            "_model_module_version": "1.5.0",
            "tooltip": "",
            "_view_count": null,
            "disabled": false,
            "_view_module_version": "1.5.0",
            "layout": "IPY_MODEL_3a91f51c54714b4bb31b7f5b6a23b346",
            "_model_module": "@jupyter-widgets/controls",
            "icon": ""
          }
        },
        "5114688973fa415097d8341cb29a5617": {
          "model_module": "@jupyter-widgets/output",
          "model_name": "OutputModel",
          "model_module_version": "1.0.0",
          "state": {
            "_view_name": "OutputView",
            "msg_id": "",
            "_dom_classes": [],
            "_model_name": "OutputModel",
            "outputs": [
              {
                "output_type": "stream",
                "name": "stdout",
                "text": [
                  "=======================\n",
                  "|DATA ANALYSIS RESULTS|\n",
                  "=======================\n",
                  "(NOTE: The city blocks without parking information available are ignored by our analyzing model.\n",
                  "\n",
                  "\n"
                ]
              },
              {
                "output_type": "display_data",
                "data": {
                  "image/png": "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\n",
                  "text/plain": "<Figure size 1224x360 with 1 Axes>"
                },
                "metadata": {}
              },
              {
                "output_type": "stream",
                "name": "stdout",
                "text": [
                  "\n",
                  "\n",
                  " The table below shows the impacted blocks (limited parking) by the order of the impact index.\n",
                  "\n"
                ]
              },
              {
                "output_type": "display_data",
                "data": {
                  "text/html": "<div>\n<style scoped>\n    .dataframe tbody tr th:only-of-type {\n        vertical-align: middle;\n    }\n\n    .dataframe tbody tr th {\n        vertical-align: top;\n    }\n\n    .dataframe thead th {\n        text-align: right;\n    }\n</style>\n<table border=\"1\" class=\"dataframe\">\n  <thead>\n    <tr style=\"text-align: right;\">\n      <th></th>\n      <th>CLUE small area</th>\n      <th>Dwelling number</th>\n      <th>Total employment in block</th>\n      <th>Parking spaces</th>\n      <th>Predict_parking</th>\n      <th>Impact_index</th>\n    </tr>\n    <tr>\n      <th>Block ID</th>\n      <th></th>\n      <th></th>\n      <th></th>\n      <th></th>\n      <th></th>\n      <th></th>\n    </tr>\n  </thead>\n  <tbody>\n    <tr>\n      <th>1105</th>\n      <td>Docklands</td>\n      <td>189</td>\n      <td>22612.0</td>\n      <td>2507</td>\n      <td>7669.0</td>\n      <td>100.000000</td>\n    </tr>\n    <tr>\n      <th>1108</th>\n      <td>Docklands</td>\n      <td>3118</td>\n      <td>16425.0</td>\n      <td>4800</td>\n      <td>7722.0</td>\n      <td>56.605967</td>\n    </tr>\n    <tr>\n      <th>34</th>\n      <td>Melbourne (CBD)</td>\n      <td>32</td>\n      <td>7390.0</td>\n      <td>328</td>\n      <td>2512.0</td>\n      <td>42.309182</td>\n    </tr>\n    <tr>\n      <th>47</th>\n      <td>Melbourne (CBD)</td>\n      <td>323</td>\n      <td>7837.0</td>\n      <td>1059</td>\n      <td>2869.0</td>\n      <td>35.063929</td>\n    </tr>\n    <tr>\n      <th>24</th>\n      <td>Melbourne (CBD)</td>\n      <td>175</td>\n      <td>7580.0</td>\n      <td>887</td>\n      <td>2678.0</td>\n      <td>34.695854</td>\n    </tr>\n    <tr>\n      <th>87</th>\n      <td>Melbourne (CBD)</td>\n      <td>915</td>\n      <td>4366.0</td>\n      <td>387</td>\n      <td>2144.0</td>\n      <td>34.037195</td>\n    </tr>\n    <tr>\n      <th>1101</th>\n      <td>Docklands</td>\n      <td>120</td>\n      <td>8949.0</td>\n      <td>1378</td>\n      <td>3092.0</td>\n      <td>33.204184</td>\n    </tr>\n    <tr>\n      <th>32</th>\n      <td>Melbourne (CBD)</td>\n      <td>104</td>\n      <td>6966.0</td>\n      <td>719</td>\n      <td>2423.0</td>\n      <td>33.010461</td>\n    </tr>\n    <tr>\n      <th>53</th>\n      <td>Melbourne (CBD)</td>\n      <td>192</td>\n      <td>6026.0</td>\n      <td>553</td>\n      <td>2175.0</td>\n      <td>31.421929</td>\n    </tr>\n    <tr>\n      <th>85</th>\n      <td>Melbourne (CBD)</td>\n      <td>321</td>\n      <td>7477.0</td>\n      <td>1273</td>\n      <td>2749.0</td>\n      <td>28.593568</td>\n    </tr>\n    <tr>\n      <th>33</th>\n      <td>Melbourne (CBD)</td>\n      <td>268</td>\n      <td>3556.0</td>\n      <td>172</td>\n      <td>1411.0</td>\n      <td>24.002325</td>\n    </tr>\n    <tr>\n      <th>18</th>\n      <td>Melbourne (CBD)</td>\n      <td>217</td>\n      <td>6459.0</td>\n      <td>1130</td>\n      <td>2337.0</td>\n      <td>23.382410</td>\n    </tr>\n    <tr>\n      <th>25</th>\n      <td>Melbourne (CBD)</td>\n      <td>254</td>\n      <td>3457.0</td>\n      <td>172</td>\n      <td>1368.0</td>\n      <td>23.169314</td>\n    </tr>\n    <tr>\n      <th>15</th>\n      <td>Melbourne (CBD)</td>\n      <td>659</td>\n      <td>2139.0</td>\n      <td>93</td>\n      <td>1222.0</td>\n      <td>21.871368</td>\n    </tr>\n    <tr>\n      <th>44</th>\n      <td>Melbourne (CBD)</td>\n      <td>98</td>\n      <td>3794.0</td>\n      <td>246</td>\n      <td>1368.0</td>\n      <td>21.735761</td>\n    </tr>\n    <tr>\n      <th>84</th>\n      <td>Melbourne (CBD)</td>\n      <td>1493</td>\n      <td>759.0</td>\n      <td>344</td>\n      <td>1364.0</td>\n      <td>19.759783</td>\n    </tr>\n    <tr>\n      <th>105</th>\n      <td>Melbourne (CBD)</td>\n      <td>1729</td>\n      <td>1067.0</td>\n      <td>639</td>\n      <td>1635.0</td>\n      <td>19.294847</td>\n    </tr>\n    <tr>\n      <th>27</th>\n      <td>Melbourne (CBD)</td>\n      <td>2</td>\n      <td>5903.0</td>\n      <td>1050</td>\n      <td>1998.0</td>\n      <td>18.364975</td>\n    </tr>\n    <tr>\n      <th>95</th>\n      <td>Melbourne (CBD)</td>\n      <td>1745</td>\n      <td>606.0</td>\n      <td>548</td>\n      <td>1494.0</td>\n      <td>18.326230</td>\n    </tr>\n    <tr>\n      <th>264</th>\n      <td>Carlton</td>\n      <td>1806</td>\n      <td>175.0</td>\n      <td>450</td>\n      <td>1395.0</td>\n      <td>18.306858</td>\n    </tr>\n    <tr>\n      <th>38</th>\n      <td>Melbourne (CBD)</td>\n      <td>218</td>\n      <td>2544.0</td>\n      <td>208</td>\n      <td>1040.0</td>\n      <td>16.117784</td>\n    </tr>\n    <tr>\n      <th>26</th>\n      <td>Melbourne (CBD)</td>\n      <td>72</td>\n      <td>4000.0</td>\n      <td>611</td>\n      <td>1418.0</td>\n      <td>15.633475</td>\n    </tr>\n    <tr>\n      <th>82</th>\n      <td>Melbourne (CBD)</td>\n      <td>34</td>\n      <td>3515.0</td>\n      <td>438</td>\n      <td>1230.0</td>\n      <td>15.342890</td>\n    </tr>\n    <tr>\n      <th>753</th>\n      <td>Southbank</td>\n      <td>174</td>\n      <td>6315.0</td>\n      <td>1491</td>\n      <td>2258.0</td>\n      <td>14.858582</td>\n    </tr>\n    <tr>\n      <th>61</th>\n      <td>Melbourne (CBD)</td>\n      <td>2609</td>\n      <td>511.0</td>\n      <td>1356</td>\n      <td>2083.0</td>\n      <td>14.083688</td>\n    </tr>\n    <tr>\n      <th>23</th>\n      <td>Melbourne (CBD)</td>\n      <td>90</td>\n      <td>2211.0</td>\n      <td>129</td>\n      <td>838.0</td>\n      <td>13.734986</td>\n    </tr>\n    <tr>\n      <th>93</th>\n      <td>Melbourne (CBD)</td>\n      <td>817</td>\n      <td>2343.0</td>\n      <td>733</td>\n      <td>1403.0</td>\n      <td>12.979465</td>\n    </tr>\n    <tr>\n      <th>28</th>\n      <td>Melbourne (CBD)</td>\n      <td>279</td>\n      <td>4538.0</td>\n      <td>1079</td>\n      <td>1745.0</td>\n      <td>12.901976</td>\n    </tr>\n    <tr>\n      <th>1103</th>\n      <td>Docklands</td>\n      <td>860</td>\n      <td>11148.0</td>\n      <td>3688</td>\n      <td>4352.0</td>\n      <td>12.863231</td>\n    </tr>\n    <tr>\n      <th>46</th>\n      <td>Melbourne (CBD)</td>\n      <td>143</td>\n      <td>2441.0</td>\n      <td>337</td>\n      <td>952.0</td>\n      <td>11.913987</td>\n    </tr>\n    <tr>\n      <th>94</th>\n      <td>Melbourne (CBD)</td>\n      <td>878</td>\n      <td>3330.0</td>\n      <td>1160</td>\n      <td>1774.0</td>\n      <td>11.894614</td>\n    </tr>\n    <tr>\n      <th>257</th>\n      <td>Carlton</td>\n      <td>669</td>\n      <td>674.0</td>\n      <td>142</td>\n      <td>744.0</td>\n      <td>11.662146</td>\n    </tr>\n    <tr>\n      <th>65</th>\n      <td>Melbourne (CBD)</td>\n      <td>225</td>\n      <td>2040.0</td>\n      <td>277</td>\n      <td>878.0</td>\n      <td>11.642774</td>\n    </tr>\n    <tr>\n      <th>41</th>\n      <td>Melbourne (CBD)</td>\n      <td>44</td>\n      <td>2007.0</td>\n      <td>192</td>\n      <td>737.0</td>\n      <td>10.557923</td>\n    </tr>\n  </tbody>\n</table>\n</div>",
                  "text/plain": "          CLUE small area  Dwelling number  ...  Predict_parking  Impact_index\nBlock ID                                    ...                               \n1105            Docklands              189  ...           7669.0    100.000000\n1108            Docklands             3118  ...           7722.0     56.605967\n34        Melbourne (CBD)               32  ...           2512.0     42.309182\n47        Melbourne (CBD)              323  ...           2869.0     35.063929\n24        Melbourne (CBD)              175  ...           2678.0     34.695854\n87        Melbourne (CBD)              915  ...           2144.0     34.037195\n1101            Docklands              120  ...           3092.0     33.204184\n32        Melbourne (CBD)              104  ...           2423.0     33.010461\n53        Melbourne (CBD)              192  ...           2175.0     31.421929\n85        Melbourne (CBD)              321  ...           2749.0     28.593568\n33        Melbourne (CBD)              268  ...           1411.0     24.002325\n18        Melbourne (CBD)              217  ...           2337.0     23.382410\n25        Melbourne (CBD)              254  ...           1368.0     23.169314\n15        Melbourne (CBD)              659  ...           1222.0     21.871368\n44        Melbourne (CBD)               98  ...           1368.0     21.735761\n84        Melbourne (CBD)             1493  ...           1364.0     19.759783\n105       Melbourne (CBD)             1729  ...           1635.0     19.294847\n27        Melbourne (CBD)                2  ...           1998.0     18.364975\n95        Melbourne (CBD)             1745  ...           1494.0     18.326230\n264               Carlton             1806  ...           1395.0     18.306858\n38        Melbourne (CBD)              218  ...           1040.0     16.117784\n26        Melbourne (CBD)               72  ...           1418.0     15.633475\n82        Melbourne (CBD)               34  ...           1230.0     15.342890\n753             Southbank              174  ...           2258.0     14.858582\n61        Melbourne (CBD)             2609  ...           2083.0     14.083688\n23        Melbourne (CBD)               90  ...            838.0     13.734986\n93        Melbourne (CBD)              817  ...           1403.0     12.979465\n28        Melbourne (CBD)              279  ...           1745.0     12.901976\n1103            Docklands              860  ...           4352.0     12.863231\n46        Melbourne (CBD)              143  ...            952.0     11.913987\n94        Melbourne (CBD)              878  ...           1774.0     11.894614\n257               Carlton              669  ...            744.0     11.662146\n65        Melbourne (CBD)              225  ...            878.0     11.642774\n41        Melbourne (CBD)               44  ...            737.0     10.557923\n\n[34 rows x 6 columns]"
                },
                "metadata": {}
              }
            ],
            "_view_module": "@jupyter-widgets/output",
            "_model_module_version": "1.0.0",
            "_view_count": null,
            "_view_module_version": "1.0.0",
            "layout": "IPY_MODEL_788779ada1b64d669af40c654935a0f8",
            "_model_module": "@jupyter-widgets/output"
          }
        },
        "861051ad28fc4e1bb425950862d40e5d": {
          "model_module": "@jupyter-widgets/controls",
          "model_name": "SliderStyleModel",
          "model_module_version": "1.5.0",
          "state": {
            "_view_name": "StyleView",
            "handle_color": null,
            "_model_name": "SliderStyleModel",
            "description_width": "initial",
            "_view_module": "@jupyter-widgets/base",
            "_model_module_version": "1.5.0",
            "_view_count": null,
            "_view_module_version": "1.2.0",
            "_model_module": "@jupyter-widgets/controls"
          }
        },
        "2b3ac3c1254f47ba90f598bfe6502460": {
          "model_module": "@jupyter-widgets/base",
          "model_name": "LayoutModel",
          "model_module_version": "1.2.0",
          "state": {
            "_view_name": "LayoutView",
            "grid_template_rows": null,
            "right": null,
            "justify_content": null,
            "_view_module": "@jupyter-widgets/base",
            "overflow": null,
            "_model_module_version": "1.2.0",
            "_view_count": null,
            "flex_flow": null,
            "width": null,
            "min_width": null,
            "border": null,
            "align_items": null,
            "bottom": null,
            "_model_module": "@jupyter-widgets/base",
            "top": null,
            "grid_column": null,
            "overflow_y": null,
            "overflow_x": null,
            "grid_auto_flow": null,
            "grid_area": null,
            "grid_template_columns": null,
            "flex": null,
            "_model_name": "LayoutModel",
            "justify_items": null,
            "grid_row": null,
            "max_height": null,
            "align_content": null,
            "visibility": null,
            "align_self": null,
            "height": null,
            "min_height": null,
            "padding": null,
            "grid_auto_rows": null,
            "grid_gap": null,
            "max_width": null,
            "order": null,
            "_view_module_version": "1.2.0",
            "grid_template_areas": null,
            "object_position": null,
            "object_fit": null,
            "grid_auto_columns": null,
            "margin": null,
            "display": null,
            "left": null
          }
        },
        "41cf757955124b71a12a82450d156b7b": {
          "model_module": "@jupyter-widgets/controls",
          "model_name": "DescriptionStyleModel",
          "model_module_version": "1.5.0",
          "state": {
            "_view_name": "StyleView",
            "_model_name": "DescriptionStyleModel",
            "description_width": "",
            "_view_module": "@jupyter-widgets/base",
            "_model_module_version": "1.5.0",
            "_view_count": null,
            "_view_module_version": "1.2.0",
            "_model_module": "@jupyter-widgets/controls"
          }
        },
        "0d0033b12f594ae59b9078f174b1c9f3": {
          "model_module": "@jupyter-widgets/base",
          "model_name": "LayoutModel",
          "model_module_version": "1.2.0",
          "state": {
            "_view_name": "LayoutView",
            "grid_template_rows": null,
            "right": null,
            "justify_content": null,
            "_view_module": "@jupyter-widgets/base",
            "overflow": null,
            "_model_module_version": "1.2.0",
            "_view_count": null,
            "flex_flow": null,
            "width": null,
            "min_width": null,
            "border": null,
            "align_items": null,
            "bottom": null,
            "_model_module": "@jupyter-widgets/base",
            "top": null,
            "grid_column": null,
            "overflow_y": null,
            "overflow_x": null,
            "grid_auto_flow": null,
            "grid_area": null,
            "grid_template_columns": null,
            "flex": null,
            "_model_name": "LayoutModel",
            "justify_items": null,
            "grid_row": null,
            "max_height": null,
            "align_content": null,
            "visibility": null,
            "align_self": null,
            "height": null,
            "min_height": null,
            "padding": null,
            "grid_auto_rows": null,
            "grid_gap": null,
            "max_width": null,
            "order": null,
            "_view_module_version": "1.2.0",
            "grid_template_areas": null,
            "object_position": null,
            "object_fit": null,
            "grid_auto_columns": null,
            "margin": null,
            "display": null,
            "left": null
          }
        },
        "43c3247e29044ffc979876ce144faa82": {
          "model_module": "@jupyter-widgets/controls",
          "model_name": "DescriptionStyleModel",
          "model_module_version": "1.5.0",
          "state": {
            "_view_name": "StyleView",
            "_model_name": "DescriptionStyleModel",
            "description_width": "",
            "_view_module": "@jupyter-widgets/base",
            "_model_module_version": "1.5.0",
            "_view_count": null,
            "_view_module_version": "1.2.0",
            "_model_module": "@jupyter-widgets/controls"
          }
        },
        "101079e934ce4a918c4c0a8f7b27680c": {
          "model_module": "@jupyter-widgets/base",
          "model_name": "LayoutModel",
          "model_module_version": "1.2.0",
          "state": {
            "_view_name": "LayoutView",
            "grid_template_rows": null,
            "right": null,
            "justify_content": null,
            "_view_module": "@jupyter-widgets/base",
            "overflow": null,
            "_model_module_version": "1.2.0",
            "_view_count": null,
            "flex_flow": null,
            "width": null,
            "min_width": null,
            "border": null,
            "align_items": null,
            "bottom": null,
            "_model_module": "@jupyter-widgets/base",
            "top": null,
            "grid_column": null,
            "overflow_y": null,
            "overflow_x": null,
            "grid_auto_flow": null,
            "grid_area": null,
            "grid_template_columns": null,
            "flex": null,
            "_model_name": "LayoutModel",
            "justify_items": null,
            "grid_row": null,
            "max_height": null,
            "align_content": null,
            "visibility": null,
            "align_self": null,
            "height": null,
            "min_height": null,
            "padding": null,
            "grid_auto_rows": null,
            "grid_gap": null,
            "max_width": null,
            "order": null,
            "_view_module_version": "1.2.0",
            "grid_template_areas": null,
            "object_position": null,
            "object_fit": null,
            "grid_auto_columns": null,
            "margin": null,
            "display": null,
            "left": null
          }
        },
        "d846b5b1248b4becb95c28d9e658843a": {
          "model_module": "@jupyter-widgets/controls",
          "model_name": "SliderStyleModel",
          "model_module_version": "1.5.0",
          "state": {
            "_view_name": "StyleView",
            "handle_color": null,
            "_model_name": "SliderStyleModel",
            "description_width": "initial",
            "_view_module": "@jupyter-widgets/base",
            "_model_module_version": "1.5.0",
            "_view_count": null,
            "_view_module_version": "1.2.0",
            "_model_module": "@jupyter-widgets/controls"
          }
        },
        "ca9f9ea7ccda4e038506584ef45b4c1b": {
          "model_module": "@jupyter-widgets/base",
          "model_name": "LayoutModel",
          "model_module_version": "1.2.0",
          "state": {
            "_view_name": "LayoutView",
            "grid_template_rows": null,
            "right": null,
            "justify_content": null,
            "_view_module": "@jupyter-widgets/base",
            "overflow": null,
            "_model_module_version": "1.2.0",
            "_view_count": null,
            "flex_flow": null,
            "width": null,
            "min_width": null,
            "border": null,
            "align_items": null,
            "bottom": null,
            "_model_module": "@jupyter-widgets/base",
            "top": null,
            "grid_column": null,
            "overflow_y": null,
            "overflow_x": null,
            "grid_auto_flow": null,
            "grid_area": null,
            "grid_template_columns": null,
            "flex": null,
            "_model_name": "LayoutModel",
            "justify_items": null,
            "grid_row": null,
            "max_height": null,
            "align_content": null,
            "visibility": null,
            "align_self": null,
            "height": null,
            "min_height": null,
            "padding": null,
            "grid_auto_rows": null,
            "grid_gap": null,
            "max_width": null,
            "order": null,
            "_view_module_version": "1.2.0",
            "grid_template_areas": null,
            "object_position": null,
            "object_fit": null,
            "grid_auto_columns": null,
            "margin": null,
            "display": null,
            "left": null
          }
        },
        "874abea722d74869a213c490eb7418be": {
          "model_module": "@jupyter-widgets/controls",
          "model_name": "ButtonStyleModel",
          "model_module_version": "1.5.0",
          "state": {
            "_view_name": "StyleView",
            "_model_name": "ButtonStyleModel",
            "_view_module": "@jupyter-widgets/base",
            "_model_module_version": "1.5.0",
            "_view_count": null,
            "button_color": null,
            "font_weight": "",
            "_view_module_version": "1.2.0",
            "_model_module": "@jupyter-widgets/controls"
          }
        },
        "3a91f51c54714b4bb31b7f5b6a23b346": {
          "model_module": "@jupyter-widgets/base",
          "model_name": "LayoutModel",
          "model_module_version": "1.2.0",
          "state": {
            "_view_name": "LayoutView",
            "grid_template_rows": null,
            "right": null,
            "justify_content": null,
            "_view_module": "@jupyter-widgets/base",
            "overflow": null,
            "_model_module_version": "1.2.0",
            "_view_count": null,
            "flex_flow": null,
            "width": null,
            "min_width": null,
            "border": null,
            "align_items": null,
            "bottom": null,
            "_model_module": "@jupyter-widgets/base",
            "top": null,
            "grid_column": null,
            "overflow_y": null,
            "overflow_x": null,
            "grid_auto_flow": null,
            "grid_area": null,
            "grid_template_columns": null,
            "flex": null,
            "_model_name": "LayoutModel",
            "justify_items": null,
            "grid_row": null,
            "max_height": null,
            "align_content": null,
            "visibility": null,
            "align_self": null,
            "height": null,
            "min_height": null,
            "padding": null,
            "grid_auto_rows": null,
            "grid_gap": null,
            "max_width": null,
            "order": null,
            "_view_module_version": "1.2.0",
            "grid_template_areas": null,
            "object_position": null,
            "object_fit": null,
            "grid_auto_columns": null,
            "margin": null,
            "display": null,
            "left": null
          }
        },
        "788779ada1b64d669af40c654935a0f8": {
          "model_module": "@jupyter-widgets/base",
          "model_name": "LayoutModel",
          "model_module_version": "1.2.0",
          "state": {
            "_view_name": "LayoutView",
            "grid_template_rows": null,
            "right": null,
            "justify_content": null,
            "_view_module": "@jupyter-widgets/base",
            "overflow": null,
            "_model_module_version": "1.2.0",
            "_view_count": null,
            "flex_flow": null,
            "width": null,
            "min_width": null,
            "border": null,
            "align_items": null,
            "bottom": null,
            "_model_module": "@jupyter-widgets/base",
            "top": null,
            "grid_column": null,
            "overflow_y": null,
            "overflow_x": null,
            "grid_auto_flow": null,
            "grid_area": null,
            "grid_template_columns": null,
            "flex": null,
            "_model_name": "LayoutModel",
            "justify_items": null,
            "grid_row": null,
            "max_height": null,
            "align_content": null,
            "visibility": null,
            "align_self": null,
            "height": null,
            "min_height": null,
            "padding": null,
            "grid_auto_rows": null,
            "grid_gap": null,
            "max_width": null,
            "order": null,
            "_view_module_version": "1.2.0",
            "grid_template_areas": null,
            "object_position": null,
            "object_fit": null,
            "grid_auto_columns": null,
            "margin": null,
            "display": null,
            "left": null
          }
        }
      }
    }
  },
  "cells": [
    {
      "cell_type": "code",
      "metadata": {
        "id": "wPNGAqnKDZX7"
      },
      "source": [
        "#pip install nbinteract"
      ],
      "execution_count": 1,
      "outputs": []
    },
    {
      "cell_type": "markdown",
      "metadata": {
        "id": "uZhOb2ODsEBk"
      },
      "source": [
        "### A case study: using CLUE datasets of Melbourne Open Data\n",
        "\n",
        "# **Where should public transportation be enhanced in the city of Melbourne?**\n",
        "\n",
        "The City of Melbourne has always evolved, and so have the numbers of its residential dwellings and employment population (based on data available on Melbourne Open Data). Without a consistent or parallel increase of off-street parking, the city will face the difficulty in providing enough spaces for parking of private transportation. To resolve this problem, the city planner needs to locate the potential areas where extension of public transportation should be implemented to replace the need for off-street parking.\n",
        "\n",
        "\n",
        "## Purpose: \n",
        "This case study is intended to provide educational instructions of how CLUE datasets can be used for city planners or individuals whose have some knowledge in data analysis.\n",
        "\n",
        "## Pre-requisite skills:\n",
        "- Python scripting (Basic)\n",
        "- Data analysis (Basic EDA and visualizations)\n",
        "\n",
        "## Solution:\n",
        "By looking at the population trend of residential dwellings and employments at different Melbourne city blocks, the city planner can project amount of public transportation services necessary to sufficiently accommodate potential travellers to or/and from those city blocks.\n",
        "\n"
      ]
    },
    {
      "cell_type": "markdown",
      "metadata": {
        "id": "biCQO7dcoyUL"
      },
      "source": [
        "# **Working with Residential dwelling datasets**"
      ]
    },
    {
      "cell_type": "code",
      "metadata": {
        "id": "stROK9yMyX34",
        "colab": {
          "base_uri": "https://localhost:8080/",
          "height": 293
        },
        "outputId": "7e6ddd45-6d57-493a-d84b-9cd1eec64848"
      },
      "source": [
        "#CLUE datasets\n",
        "#======================================================\n",
        "import pandas as pd\n",
        "#Residential dwellings data\n",
        "resident = pd.read_csv('/content/drive/MyDrive/Notebooks/SIT782/CLUE/Residential_dwellings.csv')\n",
        "#Total records before cleaning\n",
        "print('Total records before cleaning is',len(resident))\n",
        "#Data cleaning (remove duplicated values)\n",
        "resident.drop_duplicates(inplace = True)\n",
        "#Total records after cleaning\n",
        "print('Total records after cleaning is',len(resident))\n",
        "#Select only necessary columns\n",
        "selected_columns =['Census year','Block ID','CLUE small area','Dwelling number']\n",
        "resident = resident[selected_columns]\n",
        "#Sum the Dwelling number based on Block ID and Year\n",
        "resident_by_block = resident.groupby(['Census year','Block ID']).agg({'CLUE small area':'max','Dwelling number':'sum'})\n",
        "print('Total records after grouping (by Block ID) is',len(resident_by_block))\n",
        "#Detail of the residential dwellings by block\n",
        "resident_by_block.head()\n"
      ],
      "execution_count": 28,
      "outputs": [
        {
          "output_type": "stream",
          "name": "stdout",
          "text": [
            "Total records before cleaning is 177733\n",
            "Total records after cleaning is 177729\n",
            "Total records after grouping (by Block ID) is 8036\n"
          ]
        },
        {
          "output_type": "execute_result",
          "data": {
            "text/html": [
              "<div>\n",
              "<style scoped>\n",
              "    .dataframe tbody tr th:only-of-type {\n",
              "        vertical-align: middle;\n",
              "    }\n",
              "\n",
              "    .dataframe tbody tr th {\n",
              "        vertical-align: top;\n",
              "    }\n",
              "\n",
              "    .dataframe thead th {\n",
              "        text-align: right;\n",
              "    }\n",
              "</style>\n",
              "<table border=\"1\" class=\"dataframe\">\n",
              "  <thead>\n",
              "    <tr style=\"text-align: right;\">\n",
              "      <th></th>\n",
              "      <th></th>\n",
              "      <th>CLUE small area</th>\n",
              "      <th>Dwelling number</th>\n",
              "    </tr>\n",
              "    <tr>\n",
              "      <th>Census year</th>\n",
              "      <th>Block ID</th>\n",
              "      <th></th>\n",
              "      <th></th>\n",
              "    </tr>\n",
              "  </thead>\n",
              "  <tbody>\n",
              "    <tr>\n",
              "      <th rowspan=\"5\" valign=\"top\">2002</th>\n",
              "      <th>11</th>\n",
              "      <td>Melbourne (CBD)</td>\n",
              "      <td>97</td>\n",
              "    </tr>\n",
              "    <tr>\n",
              "      <th>12</th>\n",
              "      <td>Melbourne (CBD)</td>\n",
              "      <td>189</td>\n",
              "    </tr>\n",
              "    <tr>\n",
              "      <th>13</th>\n",
              "      <td>Melbourne (CBD)</td>\n",
              "      <td>113</td>\n",
              "    </tr>\n",
              "    <tr>\n",
              "      <th>14</th>\n",
              "      <td>Melbourne (CBD)</td>\n",
              "      <td>87</td>\n",
              "    </tr>\n",
              "    <tr>\n",
              "      <th>15</th>\n",
              "      <td>Melbourne (CBD)</td>\n",
              "      <td>282</td>\n",
              "    </tr>\n",
              "  </tbody>\n",
              "</table>\n",
              "</div>"
            ],
            "text/plain": [
              "                      CLUE small area  Dwelling number\n",
              "Census year Block ID                                  \n",
              "2002        11        Melbourne (CBD)               97\n",
              "            12        Melbourne (CBD)              189\n",
              "            13        Melbourne (CBD)              113\n",
              "            14        Melbourne (CBD)               87\n",
              "            15        Melbourne (CBD)              282"
            ]
          },
          "metadata": {},
          "execution_count": 28
        }
      ]
    },
    {
      "cell_type": "markdown",
      "metadata": {
        "id": "G2ZGGFzqoqrA"
      },
      "source": [
        "# **Working with Emploment datasets**"
      ]
    },
    {
      "cell_type": "code",
      "metadata": {
        "id": "aT1K2LltF-A-",
        "colab": {
          "base_uri": "https://localhost:8080/",
          "height": 293
        },
        "outputId": "e35a7a3f-6a46-4025-c59b-6c359d72fd8f"
      },
      "source": [
        "#Employment data\n",
        "employment = pd.read_csv('/content/drive/MyDrive/Notebooks/SIT782/CLUE/Employment_by_block_by_CLUE_industry.csv')\n",
        "#Total records before cleaning\n",
        "print('Total records before cleaning is',len(employment))\n",
        "#Cleaning the data (remove missing values at [Total employment in block])\n",
        "employment.dropna(subset=['Total employment in block'],inplace=True)\n",
        "#Total records after cleaning\n",
        "print('Total records afer cleaning is',len(employment))\n",
        "#Select only necessary columns\n",
        "selected_columns =['Census year','Block ID','Total employment in block']\n",
        "employment = employment[selected_columns]\n",
        "#Sum the employment based on Block ID and Year\n",
        "employment_by_block = employment.groupby(['Census year','Block ID']).sum()\n",
        "print('Total records after grouping (by Block ID) is',len(employment_by_block))\n",
        "#Detail of the employment_by_block\n",
        "employment_by_block.head()"
      ],
      "execution_count": 33,
      "outputs": [
        {
          "output_type": "stream",
          "name": "stdout",
          "text": [
            "Total records before cleaning is 11182\n",
            "Total records afer cleaning is 8759\n",
            "Total records after grouping (by Block ID) is 8759\n"
          ]
        },
        {
          "output_type": "execute_result",
          "data": {
            "text/html": [
              "<div>\n",
              "<style scoped>\n",
              "    .dataframe tbody tr th:only-of-type {\n",
              "        vertical-align: middle;\n",
              "    }\n",
              "\n",
              "    .dataframe tbody tr th {\n",
              "        vertical-align: top;\n",
              "    }\n",
              "\n",
              "    .dataframe thead th {\n",
              "        text-align: right;\n",
              "    }\n",
              "</style>\n",
              "<table border=\"1\" class=\"dataframe\">\n",
              "  <thead>\n",
              "    <tr style=\"text-align: right;\">\n",
              "      <th></th>\n",
              "      <th></th>\n",
              "      <th>Total employment in block</th>\n",
              "    </tr>\n",
              "    <tr>\n",
              "      <th>Census year</th>\n",
              "      <th>Block ID</th>\n",
              "      <th></th>\n",
              "    </tr>\n",
              "  </thead>\n",
              "  <tbody>\n",
              "    <tr>\n",
              "      <th rowspan=\"5\" valign=\"top\">2002</th>\n",
              "      <th>0</th>\n",
              "      <td>319729.0</td>\n",
              "    </tr>\n",
              "    <tr>\n",
              "      <th>1</th>\n",
              "      <td>6.0</td>\n",
              "    </tr>\n",
              "    <tr>\n",
              "      <th>2</th>\n",
              "      <td>169.0</td>\n",
              "    </tr>\n",
              "    <tr>\n",
              "      <th>4</th>\n",
              "      <td>1174.0</td>\n",
              "    </tr>\n",
              "    <tr>\n",
              "      <th>5</th>\n",
              "      <td>12.0</td>\n",
              "    </tr>\n",
              "  </tbody>\n",
              "</table>\n",
              "</div>"
            ],
            "text/plain": [
              "                      Total employment in block\n",
              "Census year Block ID                           \n",
              "2002        0                          319729.0\n",
              "            1                               6.0\n",
              "            2                             169.0\n",
              "            4                            1174.0\n",
              "            5                              12.0"
            ]
          },
          "metadata": {},
          "execution_count": 33
        }
      ]
    },
    {
      "cell_type": "markdown",
      "metadata": {
        "id": "qop-Dmtrn7Bf"
      },
      "source": [
        "# **Working with Off-street Parking datasets**"
      ]
    },
    {
      "cell_type": "code",
      "metadata": {
        "id": "YUX3USheHzpg",
        "colab": {
          "base_uri": "https://localhost:8080/",
          "height": 293
        },
        "outputId": "9b0c8843-3a7b-4530-d228-95886e9dead9"
      },
      "source": [
        "#Off-street parking data\n",
        "parking = pd.read_csv('/content/drive/MyDrive/Notebooks/SIT782/CLUE/Off-street_car_parks_with_capacity_and_type.csv')\n",
        "#Total records before cleaning\n",
        "print('Total records before cleaning is',len(parking))\n",
        "#Data cleaning (remove duplicate values)\n",
        "parking.drop_duplicates(inplace=True)\n",
        "#Total records after cleaning\n",
        "print('Total records after cleaning is',len(parking))\n",
        "#Select only necessary columns\n",
        "selected_columns =['Census year','Block ID','Parking spaces']\n",
        "parking = parking[selected_columns]\n",
        "#Sum the parking based on Block ID and Year\n",
        "parking_by_block = parking.groupby(['Census year','Block ID']).sum()\n",
        "print('Total records after grouping (by Block ID) is',len(parking_by_block))\n",
        "#Detail of the employment_by_block\n",
        "parking_by_block.head()\n"
      ],
      "execution_count": 31,
      "outputs": [
        {
          "output_type": "stream",
          "name": "stdout",
          "text": [
            "Total records before cleaning is 124114\n",
            "Total records after cleaning is 122461\n",
            "Total records after grouping (by Block ID) is 9939\n"
          ]
        },
        {
          "output_type": "execute_result",
          "data": {
            "text/html": [
              "<div>\n",
              "<style scoped>\n",
              "    .dataframe tbody tr th:only-of-type {\n",
              "        vertical-align: middle;\n",
              "    }\n",
              "\n",
              "    .dataframe tbody tr th {\n",
              "        vertical-align: top;\n",
              "    }\n",
              "\n",
              "    .dataframe thead th {\n",
              "        text-align: right;\n",
              "    }\n",
              "</style>\n",
              "<table border=\"1\" class=\"dataframe\">\n",
              "  <thead>\n",
              "    <tr style=\"text-align: right;\">\n",
              "      <th></th>\n",
              "      <th></th>\n",
              "      <th>Parking spaces</th>\n",
              "    </tr>\n",
              "    <tr>\n",
              "      <th>Census year</th>\n",
              "      <th>Block ID</th>\n",
              "      <th></th>\n",
              "    </tr>\n",
              "  </thead>\n",
              "  <tbody>\n",
              "    <tr>\n",
              "      <th rowspan=\"5\" valign=\"top\">2002</th>\n",
              "      <th>1</th>\n",
              "      <td>270</td>\n",
              "    </tr>\n",
              "    <tr>\n",
              "      <th>6</th>\n",
              "      <td>500</td>\n",
              "    </tr>\n",
              "    <tr>\n",
              "      <th>11</th>\n",
              "      <td>303</td>\n",
              "    </tr>\n",
              "    <tr>\n",
              "      <th>12</th>\n",
              "      <td>749</td>\n",
              "    </tr>\n",
              "    <tr>\n",
              "      <th>13</th>\n",
              "      <td>622</td>\n",
              "    </tr>\n",
              "  </tbody>\n",
              "</table>\n",
              "</div>"
            ],
            "text/plain": [
              "                      Parking spaces\n",
              "Census year Block ID                \n",
              "2002        1                    270\n",
              "            6                    500\n",
              "            11                   303\n",
              "            12                   749\n",
              "            13                   622"
            ]
          },
          "metadata": {},
          "execution_count": 31
        }
      ]
    },
    {
      "cell_type": "markdown",
      "metadata": {
        "id": "_Xfatyh439UD"
      },
      "source": [
        "# **Merge and explore the 3 datasets (Resident, Employment, & Parking)**"
      ]
    },
    {
      "cell_type": "markdown",
      "metadata": {
        "id": "UMFEWTdiX6UD"
      },
      "source": [
        "Formulate the model to identify a suitable number of parking slots based on residential dwelling or employment."
      ]
    },
    {
      "cell_type": "code",
      "metadata": {
        "colab": {
          "base_uri": "https://localhost:8080/",
          "height": 752
        },
        "id": "-6X0xImgqERh",
        "outputId": "37c23747-b2bb-4087-bc2d-21c715580bc0"
      },
      "source": [
        "import matplotlib.pyplot as plt\n",
        "import numpy as np\n",
        "import seaborn as sns\n",
        "sns.set_theme(color_codes=True)\n",
        "\n",
        "#Combine the datasets (only take the blocks that match between three datasets)\n",
        "data = resident_by_block.merge(employment_by_block, left_index= True, right_index=True)\n",
        "data = data.merge(parking_by_block,left_index=True,right_index=True)\n",
        "print(data.head())\n",
        "#Prepare data for scatter plots\n",
        "x1 = data['Total employment in block']\n",
        "x2 = data['Dwelling number']\n",
        "y = data['Parking spaces']\n",
        "#Plot the data points (Parking Spaces vs. Total Employment) and regression line\n",
        "plt.plot(x1,y,'x')\n",
        "a, b = np.polyfit(x1,y,1)\n",
        "plt.plot(x1, a*x1 + b)\n",
        "plt.title('Parking Spaces vs. Total Employment')\n",
        "plt.ylabel('Parking Spaces')\n",
        "plt.xlabel('Total Employment')\n",
        "plt.show()\n",
        "#Plot the data points (Parking Spaces vs. Dwelling Number) and regression line\n",
        "plt.plot(x2,y,'+')\n",
        "a, b = np.polyfit(x2,y,1)\n",
        "plt.plot(x2, a*x2 + b)\n",
        "plt.title('Parking Spaces vs. Dwelling Number')\n",
        "plt.ylabel('Parking Spaces')\n",
        "plt.xlabel('Dwelling Number')\n",
        "plt.show()\n"
      ],
      "execution_count": 48,
      "outputs": [
        {
          "output_type": "stream",
          "name": "stdout",
          "text": [
            "                      CLUE small area  ...  Parking spaces\n",
            "Census year Block ID                   ...                \n",
            "2002        11        Melbourne (CBD)  ...             303\n",
            "            12        Melbourne (CBD)  ...             749\n",
            "            13        Melbourne (CBD)  ...             622\n",
            "            14        Melbourne (CBD)  ...            1229\n",
            "            15        Melbourne (CBD)  ...              88\n",
            "\n",
            "[5 rows x 4 columns]\n"
          ]
        },
        {
          "output_type": "display_data",
          "data": {
            "image/png": "[encoded data removed]",
            "text/plain": [
              "<Figure size 432x288 with 1 Axes>"
            ]
          },
          "metadata": {}
        },
        {
          "output_type": "display_data",
          "data": {
            "image/png": "[encoded data removed]",
            "text/plain": [
              "<Figure size 432x288 with 1 Axes>"
            ]
          },
          "metadata": {}
        }
      ]
    },
    {
      "cell_type": "markdown",
      "metadata": {
        "id": "0I4h1N4zooQO"
      },
      "source": [
        "# **Modeling and Analyzing**"
      ]
    },
    {
      "cell_type": "markdown",
      "metadata": {
        "id": "VXTzXE8bsFFW"
      },
      "source": [
        "## Prepare the filtered data records"
      ]
    },
    {
      "cell_type": "code",
      "metadata": {
        "id": "NNnbFdxXrquN"
      },
      "source": [
        "#Prepare Data\n",
        "def Get_data(year_to_include,Employment,Resident_dwellings):\n",
        "  import numpy as np\n",
        "  features = np.array(['Total employment in block', 'Dwelling number'])\n",
        "  features_to_include = features[[Employment,Resident_dwellings]] #Define the data features for the study\n",
        "  data_to_include = data.loc[min(year_to_include):max(year_to_include)] #Get the wanted rows\n",
        "  X = np.array(data_to_include[features_to_include]) #Get the independent variable(s) based on the selected features\n",
        "  Y = np.array(data_to_include['Parking spaces']) #Get the dependent variable\n",
        "  return X, Y\n",
        "#print('The study period is between: %d and %d'%(min(years_to_include),max(years_to_include)))\n"
      ],
      "execution_count": 49,
      "outputs": []
    },
    {
      "cell_type": "markdown",
      "metadata": {
        "id": "OOHNOm_NvlIU"
      },
      "source": [
        "## Build linear regression model"
      ]
    },
    {
      "cell_type": "code",
      "metadata": {
        "id": "7PRejFEtvkHq"
      },
      "source": [
        "def lm_model(X, Y):\n",
        "  from sklearn import linear_model\n",
        "  from sklearn.ensemble import IsolationForest\n",
        "  iso = IsolationForest(contamination=0.1)#use outliers detector\n",
        "  yhat = iso.fit_predict(X) #Search for outliers\n",
        "  lm = linear_model.LinearRegression() #linear regression model\n",
        "  lm.fit(X[yhat!=-1],Y[yhat!=-1]) # Train the model excluding outliers\n",
        "  return lm"
      ],
      "execution_count": 50,
      "outputs": []
    },
    {
      "cell_type": "markdown",
      "metadata": {
        "id": "rc7kJD-p4ZIt"
      },
      "source": [
        "## Predict the parking problem based on the latest year (2020)"
      ]
    },
    {
      "cell_type": "code",
      "metadata": {
        "id": "RZkmpC_U4YUv"
      },
      "source": [
        "#Predict parking issue in 2020\n",
        "def Get_predict_result(Model, Data, Employment, Residential_dwellings):\n",
        "  import numpy as np\n",
        "  data_latest = data.loc[years.max] # Get data of 2020\n",
        "  features = np.array(['Total employment in block', 'Dwelling number'])\n",
        "  features_to_include = features[[Employment,Residential_dwellings]] #Define the data features for the study\n",
        "  result = np.round(Model.predict(np.array(data_latest[features_to_include]))) #Predict based on the selected features\n",
        "  data_latest['Predict_parking'] = result #Add result to the data\n",
        "  impact = result - data_latest['Parking spaces']\n",
        "  impact[impact>=0] = 100*(impact[impact>=0]/(max(impact[impact>=0]))) # Normalize the impact index (0-100)\n",
        "  data_latest['Impact_index'] = impact #Add impact index to the data\n",
        "  return data_latest"
      ],
      "execution_count": 51,
      "outputs": []
    },
    {
      "cell_type": "markdown",
      "metadata": {
        "id": "mlLslmEOGitd"
      },
      "source": [
        "## Plot barchart of the predict results"
      ]
    },
    {
      "cell_type": "code",
      "metadata": {
        "id": "5l4X3zdoGhbq"
      },
      "source": [
        "#visualize the impacted city blocks\n",
        "def bar_plot(Data, Impact_level):\n",
        "  #Only visualize the blocks greater than the impact level\n",
        "  plot_data = Data[Data['Impact_index']>=Impact_level]['Impact_index']#Get only the data records with higher impact level\n",
        "  plot_data.plot(kind='bar',figsize=(len(plot_data)/2,5),\n",
        "                title='Impacted Blocks(limited parking spaces)\\n Shows impact index from '+str(Impact_level)+' to 100',\n",
        "                ylabel='Impact Index (0-100)')\n",
        "  plt.show()"
      ],
      "execution_count": 52,
      "outputs": []
    },
    {
      "cell_type": "markdown",
      "metadata": {
        "id": "q2sCp9c0Np_Y"
      },
      "source": [
        "# Prepare datasets for map plotting"
      ]
    },
    {
      "cell_type": "code",
      "metadata": {
        "id": "upAFbbAA7gaR"
      },
      "source": [
        "#CLUE block map\n",
        "import json\n",
        "json_file = open('/content/drive/MyDrive/Notebooks/SIT782/CLUE/clue_blocks.geojson') \n",
        "clue_geo = json.load(json_file)\n",
        "\n",
        "#Only take the impacted blocks\n",
        "clue_data = data_latest[data_latest['Impact_index']>=min_impact_level].sort_values('Impact_index',ascending = False)\n",
        "clue_data.reset_index(inplace=True) #turn the index (Block_ID) into a column in the dataframe (clue_data)\n",
        "clue_data['Block ID'] = clue_data['Block ID'].astype('str') # conver [Block ID] to str, so that it is compatible with json content\n"
      ],
      "execution_count": null,
      "outputs": []
    },
    {
      "cell_type": "markdown",
      "metadata": {
        "id": "wu-cEzszOeYK"
      },
      "source": [
        "# Plot the map using Folium Choropleth"
      ]
    },
    {
      "cell_type": "code",
      "metadata": {
        "id": "bJofRzQc_Kxu"
      },
      "source": [
        "import folium\n",
        "#Create the initial map\n",
        "fmap = folium.Map(location=[-37.811600, 144.964610],\n",
        "           tiles='Stamen Toner',\n",
        "           width = '80%',\n",
        "           height = '60%',\n",
        "           zoom_start=13)\n",
        "\n",
        "#create the choropleth layer and add to the map above\n",
        "choropleth = folium.Choropleth(\n",
        "    geo_data=clue_geo,\n",
        "    name='choropleth',\n",
        "    data=clue_data,\n",
        "    columns=['Block ID','Impact_index'],\n",
        "    key_on='feature.properties.block_id',\n",
        "    fill_color='YlOrRd',\n",
        "    fill_opacity=1,\n",
        "    line_opacity=0.5,\n",
        "    nan_fill_color='cloud',\n",
        "    nan_fill_opacity = 0.2,\n",
        "    highlight=True,\n",
        "    legend_name='Impact index'\n",
        ").add_to(fmap)\n",
        "\n",
        "#Add more layers and tooltips\n",
        "fmap.add_tile_layer()\n",
        "fmap.add_tile_layer('Stamen Terrain')\n",
        "choropleth.geojson.add_child(folium.features.GeoJsonTooltip(['block_id','clue_area'],labels=True))\n",
        "folium.LayerControl().add_to(fmap)\n",
        "fmap\n"
      ],
      "execution_count": null,
      "outputs": []
    },
    {
      "cell_type": "markdown",
      "metadata": {
        "id": "ul0SWwlX-ivA"
      },
      "source": [
        "## Interactive Tools and Visualizations"
      ]
    },
    {
      "cell_type": "code",
      "metadata": {
        "id": "4_-EHzxUokbX"
      },
      "source": [
        "#Year to include in the study (from 2002 to 2020 or between that)\n",
        "#Create a widget to select the range of study years\n",
        "from ipywidgets import interact_manual\n",
        "import ipywidgets as widgets\n",
        "from IPython.display import display\n",
        "\n",
        "style = {'description_width': 'initial'} #for long label\n",
        "\n",
        "#Year-to-include slider\n",
        "years = widgets.IntRangeSlider(\n",
        "    value=[2002, 2020],\n",
        "    min=2002,\n",
        "    max=2020,\n",
        "    step=1,\n",
        "    description='Years to include:',\n",
        "    disabled=False,\n",
        "    continuous_update=True,\n",
        "    orientation='horizontal',\n",
        "    readout=True,\n",
        "    readout_format='d',\n",
        "    style=style\n",
        ")\n",
        "#Display option: impact level\n",
        "show_impact = widgets.IntSlider(\n",
        "    value=10,\n",
        "    min=10,\n",
        "    max=100,\n",
        "    step=1,\n",
        "    description='Impact index from:',\n",
        "    disabled=False,\n",
        "    continuous_update=True,\n",
        "    orientation='horizontal',\n",
        "    readout=True,\n",
        "    readout_format='d',\n",
        "    style=style\n",
        ")\n",
        "#Employment checkbox\n",
        "chk_employment = widgets.Checkbox(\n",
        "    value=True,\n",
        "    description='Employment',\n",
        "    disabled=False,\n",
        "    indent=False,\n",
        "    continuous_updates=True\n",
        ")\n",
        "#Residential Dwellings checkbox\n",
        "chk_resident = widgets.Checkbox(\n",
        "    value=True,\n",
        "    description='Residential Dwellings',\n",
        "    disabled=False,\n",
        "    indent=False,\n",
        "    continuous_update=True\n",
        ")\n"
      ],
      "execution_count": 53,
      "outputs": []
    },
    {
      "cell_type": "code",
      "metadata": {
        "colab": {
          "base_uri": "https://localhost:8080/",
          "height": 1000,
          "referenced_widgets": [
            "22890b3bc23d448dbbd8bade38b4f44a",
            "d7f5e4a852a145c888859899fa81a9f9",
            "18014eeb7e0945aeba458001591aaf03",
            "72ef8505daf540528504b626529f72a3",
            "d88803d9591f4870a4c80113aff25677",
            "2d9c8297209044c6924883bc0bf65d47",
            "7e0c075e5b3e4afc87cb7369a5536ab3",
            "5114688973fa415097d8341cb29a5617",
            "861051ad28fc4e1bb425950862d40e5d",
            "2b3ac3c1254f47ba90f598bfe6502460",
            "41cf757955124b71a12a82450d156b7b",
            "0d0033b12f594ae59b9078f174b1c9f3",
            "43c3247e29044ffc979876ce144faa82",
            "101079e934ce4a918c4c0a8f7b27680c",
            "d846b5b1248b4becb95c28d9e658843a",
            "ca9f9ea7ccda4e038506584ef45b4c1b",
            "874abea722d74869a213c490eb7418be",
            "3a91f51c54714b4bb31b7f5b6a23b346",
            "788779ada1b64d669af40c654935a0f8"
          ]
        },
        "id": "omj0ACtQcOp1",
        "outputId": "2c3e40ab-14f7-456a-ee9b-f207c05f109d"
      },
      "source": [
        "def f(year_to_include,Employment,Residential_dwellings, Impact_level):\n",
        "  import warnings\n",
        "  warnings.filterwarnings(\"ignore\") #remove dataframe warning\n",
        "  print('='*23)\n",
        "  print('|DATA ANALYSIS RESULTS|')\n",
        "  print('='*23)\n",
        "  print('(NOTE: The city blocks without parking information available are ignored by our analyzing model.\\n\\n')\n",
        "  if (not(Employment)) & (not(Residential_dwellings)):\n",
        "    Employment = True  #Prevent both data features are unticked ==> Error\n",
        "\n",
        "  #Get the filtered data for analysis\n",
        "  X, Y = Get_data(year_to_include,Employment,Residential_dwellings)\n",
        "  #Build regression model\n",
        "  lm = lm_model(X,Y)\n",
        "  #Get the predicted results\n",
        "  predict_results = Get_predict_result(lm, data, Employment, Residential_dwellings)\n",
        "  #Plot the barchart of the predicted results\n",
        "  bar_plot(predict_results, Impact_level)\n",
        "  #Show table of the impacted blocks in detail table\n",
        "  print('\\n\\n The table below shows the impacted blocks (limited parking) by the order of the impact index.\\n')\n",
        "  display(predict_results[predict_results['Impact_index']>=Impact_level].sort_values('Impact_index',ascending = False))\n",
        "\n",
        "interact_manual.opts['manual_name'] = 'Start Analyzing'\n",
        "interact_manual(f,year_to_include=years, Employment=chk_employment, Residential_dwellings = chk_resident, Impact_level = show_impact);"
      ],
      "execution_count": 57,
      "outputs": [
        {
          "output_type": "display_data",
          "data": {
            "application/vnd.jupyter.widget-view+json": {
              "model_id": "22890b3bc23d448dbbd8bade38b4f44a",
              "version_minor": 0,
              "version_major": 2
            },
            "text/plain": [
              "interactive(children=(IntRangeSlider(value=(2002, 2020), description='Years to include:', max=2020, min=2002, …"
            ]
          },
          "metadata": {}
        }
      ]
    }
  ]
}