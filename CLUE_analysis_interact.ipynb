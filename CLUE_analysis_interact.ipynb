{
  "nbformat": 4,
  "nbformat_minor": 0,
  "metadata": {
    "colab": {
      "name": "CLUE_analysis.ipynb",
      "provenance": [],
      "mount_file_id": "https://github.com/Tithra/SIT782/blob/main/CLUE_analysis_interact.ipynb",
      "authorship_tag": "ABX9TyMrMzGSdu8TuvXoEC1nJRiN"
    },
    "kernelspec": {
      "name": "python3",
      "display_name": "Python 3"
    },
    "language_info": {
      "name": "python"
    },
    "widgets": {
      "application/vnd.jupyter.widget-state+json": {
        "0c97393efc2a46d9aacd392575a46fed": {
          "model_module": "@jupyter-widgets/controls",
          "model_name": "VBoxModel",
          "model_module_version": "1.5.0",
          "state": {
            "_view_name": "VBoxView",
            "_dom_classes": [
              "widget-interact"
            ],
            "_model_name": "VBoxModel",
            "_view_module": "@jupyter-widgets/controls",
            "_model_module_version": "1.5.0",
            "_view_count": null,
            "_view_module_version": "1.5.0",
            "box_style": "",
            "layout": "IPY_MODEL_8d9c0fc216624f20a0835a4c974d476b",
            "_model_module": "@jupyter-widgets/controls",
            "children": [
              "IPY_MODEL_be2785a3539c4614ac6477923eb66299",
              "IPY_MODEL_ea02504a0d854f008366d05ca4701096",
              "IPY_MODEL_3f77c3427b1b496a90dded082c013905",
              "IPY_MODEL_2ffcdac88207478cab41ba46861968b0",
              "IPY_MODEL_5caae2cecd6843eab111249c24764a7b",
              "IPY_MODEL_5c133dafe628499db83d28870f5086d5"
            ]
          }
        },
        "8d9c0fc216624f20a0835a4c974d476b": {
          "model_module": "@jupyter-widgets/base",
          "model_name": "LayoutModel",
          "model_module_version": "1.2.0",
          "state": {
            "_view_name": "LayoutView",
            "grid_template_rows": null,
            "right": null,
            "justify_content": null,
            "_view_module": "@jupyter-widgets/base",
            "overflow": null,
            "_model_module_version": "1.2.0",
            "_view_count": null,
            "flex_flow": null,
            "width": null,
            "min_width": null,
            "border": null,
            "align_items": null,
            "bottom": null,
            "_model_module": "@jupyter-widgets/base",
            "top": null,
            "grid_column": null,
            "overflow_y": null,
            "overflow_x": null,
            "grid_auto_flow": null,
            "grid_area": null,
            "grid_template_columns": null,
            "flex": null,
            "_model_name": "LayoutModel",
            "justify_items": null,
            "grid_row": null,
            "max_height": null,
            "align_content": null,
            "visibility": null,
            "align_self": null,
            "height": null,
            "min_height": null,
            "padding": null,
            "grid_auto_rows": null,
            "grid_gap": null,
            "max_width": null,
            "order": null,
            "_view_module_version": "1.2.0",
            "grid_template_areas": null,
            "object_position": null,
            "object_fit": null,
            "grid_auto_columns": null,
            "margin": null,
            "display": null,
            "left": null
          }
        },
        "be2785a3539c4614ac6477923eb66299": {
          "model_module": "@jupyter-widgets/controls",
          "model_name": "IntRangeSliderModel",
          "model_module_version": "1.5.0",
          "state": {
            "_view_name": "IntRangeSliderView",
            "style": "IPY_MODEL_b80480b1bfc443eabdf5e55b8d089bb3",
            "_dom_classes": [],
            "description": "Years to include:",
            "step": 1,
            "_model_name": "IntRangeSliderModel",
            "orientation": "horizontal",
            "max": 2020,
            "_view_module": "@jupyter-widgets/controls",
            "_model_module_version": "1.5.0",
            "value": [
              2002,
              2020
            ],
            "_view_count": null,
            "disabled": false,
            "_view_module_version": "1.5.0",
            "min": 2002,
            "continuous_update": true,
            "readout_format": "d",
            "description_tooltip": null,
            "readout": true,
            "_model_module": "@jupyter-widgets/controls",
            "layout": "IPY_MODEL_6df704c6c8c14894830c4287e99d202c"
          }
        },
        "ea02504a0d854f008366d05ca4701096": {
          "model_module": "@jupyter-widgets/controls",
          "model_name": "CheckboxModel",
          "model_module_version": "1.5.0",
          "state": {
            "_view_name": "CheckboxView",
            "style": "IPY_MODEL_9298998288954ceab177bc4e0e75916e",
            "_dom_classes": [],
            "description": "Employment",
            "_model_name": "CheckboxModel",
            "_view_module": "@jupyter-widgets/controls",
            "_model_module_version": "1.5.0",
            "value": true,
            "_view_count": null,
            "disabled": false,
            "_view_module_version": "1.5.0",
            "indent": false,
            "description_tooltip": null,
            "_model_module": "@jupyter-widgets/controls",
            "layout": "IPY_MODEL_9d57c009e27847c1ad52ccdb6094fa0f"
          }
        },
        "3f77c3427b1b496a90dded082c013905": {
          "model_module": "@jupyter-widgets/controls",
          "model_name": "CheckboxModel",
          "model_module_version": "1.5.0",
          "state": {
            "_view_name": "CheckboxView",
            "style": "IPY_MODEL_1b2b2e70ba33495a9f72a5e74bece2fc",
            "_dom_classes": [],
            "description": "Residential Dwellings",
            "_model_name": "CheckboxModel",
            "_view_module": "@jupyter-widgets/controls",
            "_model_module_version": "1.5.0",
            "value": true,
            "_view_count": null,
            "disabled": false,
            "_view_module_version": "1.5.0",
            "indent": false,
            "description_tooltip": null,
            "_model_module": "@jupyter-widgets/controls",
            "layout": "IPY_MODEL_186ed54767b742819176af86c99c14fe"
          }
        },
        "2ffcdac88207478cab41ba46861968b0": {
          "model_module": "@jupyter-widgets/controls",
          "model_name": "IntSliderModel",
          "model_module_version": "1.5.0",
          "state": {
            "_view_name": "IntSliderView",
            "style": "IPY_MODEL_e49f88f0a92b4fc293fced9d197b57f8",
            "_dom_classes": [],
            "description": "Impact index from:",
            "step": 1,
            "_model_name": "IntSliderModel",
            "orientation": "horizontal",
            "max": 100,
            "_view_module": "@jupyter-widgets/controls",
            "_model_module_version": "1.5.0",
            "value": 10,
            "_view_count": null,
            "disabled": false,
            "_view_module_version": "1.5.0",
            "min": 10,
            "continuous_update": true,
            "readout_format": "d",
            "description_tooltip": null,
            "readout": true,
            "_model_module": "@jupyter-widgets/controls",
            "layout": "IPY_MODEL_baf2e7e0b724481792f610ddfa7ff1e3"
          }
        },
        "5caae2cecd6843eab111249c24764a7b": {
          "model_module": "@jupyter-widgets/controls",
          "model_name": "ButtonModel",
          "model_module_version": "1.5.0",
          "state": {
            "_view_name": "ButtonView",
            "style": "IPY_MODEL_50cd40e8a6e840de83c1f41d01ddd121",
            "_dom_classes": [],
            "description": "Start Analyzing",
            "_model_name": "ButtonModel",
            "button_style": "",
            "_view_module": "@jupyter-widgets/controls",
            "_model_module_version": "1.5.0",
            "tooltip": "",
            "_view_count": null,
            "disabled": false,
            "_view_module_version": "1.5.0",
            "layout": "IPY_MODEL_08a988e9e60e4444b5ddfa3f02c32152",
            "_model_module": "@jupyter-widgets/controls",
            "icon": ""
          }
        },
        "5c133dafe628499db83d28870f5086d5": {
          "model_module": "@jupyter-widgets/output",
          "model_name": "OutputModel",
          "model_module_version": "1.0.0",
          "state": {
            "_view_name": "OutputView",
            "msg_id": "",
            "_dom_classes": [],
            "_model_name": "OutputModel",
            "outputs": [
              {
                "output_type": "stream",
                "name": "stdout",
                "text": [
                  "=======================\n",
                  "|DATA ANALYSIS RESULTS|\n",
                  "=======================\n",
                  "(NOTE: The city blocks without parking information available are ignored by our analyzing model.\n",
                  "\n",
                  "\n"
                ]
              },
              {
                "output_type": "display_data",
                "data": {
                  "image/png": "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\n",
                  "text/plain": "<Figure size 1296x360 with 1 Axes>"
                },
                "metadata": {}
              },
              {
                "output_type": "stream",
                "name": "stdout",
                "text": [
                  "\n",
                  "\n",
                  " The table below shows the impacted blocks (limited parking) by the order of the impact index.\n",
                  "\n"
                ]
              },
              {
                "output_type": "display_data",
                "data": {
                  "text/html": "<div>\n<style scoped>\n    .dataframe tbody tr th:only-of-type {\n        vertical-align: middle;\n    }\n\n    .dataframe tbody tr th {\n        vertical-align: top;\n    }\n\n    .dataframe thead th {\n        text-align: right;\n    }\n</style>\n<table border=\"1\" class=\"dataframe\">\n  <thead>\n    <tr style=\"text-align: right;\">\n      <th></th>\n      <th>CLUE small area</th>\n      <th>Dwelling number</th>\n      <th>Total employment in block</th>\n      <th>Parking spaces</th>\n      <th>Predict_parking</th>\n      <th>Impact_index</th>\n    </tr>\n    <tr>\n      <th>Block ID</th>\n      <th></th>\n      <th></th>\n      <th></th>\n      <th></th>\n      <th></th>\n      <th></th>\n    </tr>\n  </thead>\n  <tbody>\n    <tr>\n      <th>1105</th>\n      <td>Docklands</td>\n      <td>189</td>\n      <td>22612.0</td>\n      <td>2507</td>\n      <td>7663.0</td>\n      <td>100.000000</td>\n    </tr>\n    <tr>\n      <th>1108</th>\n      <td>Docklands</td>\n      <td>3118</td>\n      <td>16425.0</td>\n      <td>4800</td>\n      <td>7642.0</td>\n      <td>55.120248</td>\n    </tr>\n    <tr>\n      <th>34</th>\n      <td>Melbourne (CBD)</td>\n      <td>32</td>\n      <td>7390.0</td>\n      <td>328</td>\n      <td>2512.0</td>\n      <td>42.358417</td>\n    </tr>\n    <tr>\n      <th>47</th>\n      <td>Melbourne (CBD)</td>\n      <td>323</td>\n      <td>7837.0</td>\n      <td>1059</td>\n      <td>2862.0</td>\n      <td>34.968968</td>\n    </tr>\n    <tr>\n      <th>24</th>\n      <td>Melbourne (CBD)</td>\n      <td>175</td>\n      <td>7580.0</td>\n      <td>887</td>\n      <td>2674.0</td>\n      <td>34.658650</td>\n    </tr>\n    <tr>\n      <th>87</th>\n      <td>Melbourne (CBD)</td>\n      <td>915</td>\n      <td>4366.0</td>\n      <td>387</td>\n      <td>2122.0</td>\n      <td>33.650116</td>\n    </tr>\n    <tr>\n      <th>1101</th>\n      <td>Docklands</td>\n      <td>120</td>\n      <td>8949.0</td>\n      <td>1378</td>\n      <td>3090.0</td>\n      <td>33.204034</td>\n    </tr>\n    <tr>\n      <th>32</th>\n      <td>Melbourne (CBD)</td>\n      <td>104</td>\n      <td>6966.0</td>\n      <td>719</td>\n      <td>2422.0</td>\n      <td>33.029480</td>\n    </tr>\n    <tr>\n      <th>53</th>\n      <td>Melbourne (CBD)</td>\n      <td>192</td>\n      <td>6026.0</td>\n      <td>553</td>\n      <td>2171.0</td>\n      <td>31.380915</td>\n    </tr>\n    <tr>\n      <th>85</th>\n      <td>Melbourne (CBD)</td>\n      <td>321</td>\n      <td>7477.0</td>\n      <td>1273</td>\n      <td>2741.0</td>\n      <td>28.471683</td>\n    </tr>\n    <tr>\n      <th>33</th>\n      <td>Melbourne (CBD)</td>\n      <td>268</td>\n      <td>3556.0</td>\n      <td>172</td>\n      <td>1406.0</td>\n      <td>23.933282</td>\n    </tr>\n    <tr>\n      <th>18</th>\n      <td>Melbourne (CBD)</td>\n      <td>217</td>\n      <td>6459.0</td>\n      <td>1130</td>\n      <td>2332.0</td>\n      <td>23.312645</td>\n    </tr>\n    <tr>\n      <th>25</th>\n      <td>Melbourne (CBD)</td>\n      <td>254</td>\n      <td>3457.0</td>\n      <td>172</td>\n      <td>1363.0</td>\n      <td>23.099302</td>\n    </tr>\n    <tr>\n      <th>44</th>\n      <td>Melbourne (CBD)</td>\n      <td>98</td>\n      <td>3794.0</td>\n      <td>246</td>\n      <td>1367.0</td>\n      <td>21.741660</td>\n    </tr>\n    <tr>\n      <th>15</th>\n      <td>Melbourne (CBD)</td>\n      <td>659</td>\n      <td>2139.0</td>\n      <td>93</td>\n      <td>1207.0</td>\n      <td>21.605896</td>\n    </tr>\n    <tr>\n      <th>84</th>\n      <td>Melbourne (CBD)</td>\n      <td>1493</td>\n      <td>759.0</td>\n      <td>344</td>\n      <td>1328.0</td>\n      <td>19.084562</td>\n    </tr>\n    <tr>\n      <th>105</th>\n      <td>Melbourne (CBD)</td>\n      <td>1729</td>\n      <td>1067.0</td>\n      <td>639</td>\n      <td>1593.0</td>\n      <td>18.502715</td>\n    </tr>\n    <tr>\n      <th>27</th>\n      <td>Melbourne (CBD)</td>\n      <td>2</td>\n      <td>5903.0</td>\n      <td>1050</td>\n      <td>1999.0</td>\n      <td>18.405741</td>\n    </tr>\n    <tr>\n      <th>95</th>\n      <td>Melbourne (CBD)</td>\n      <td>1745</td>\n      <td>606.0</td>\n      <td>548</td>\n      <td>1451.0</td>\n      <td>17.513576</td>\n    </tr>\n    <tr>\n      <th>264</th>\n      <td>Carlton</td>\n      <td>1806</td>\n      <td>175.0</td>\n      <td>450</td>\n      <td>1351.0</td>\n      <td>17.474787</td>\n    </tr>\n    <tr>\n      <th>38</th>\n      <td>Melbourne (CBD)</td>\n      <td>218</td>\n      <td>2544.0</td>\n      <td>208</td>\n      <td>1036.0</td>\n      <td>16.058960</td>\n    </tr>\n    <tr>\n      <th>26</th>\n      <td>Melbourne (CBD)</td>\n      <td>72</td>\n      <td>4000.0</td>\n      <td>611</td>\n      <td>1417.0</td>\n      <td>15.632273</td>\n    </tr>\n    <tr>\n      <th>82</th>\n      <td>Melbourne (CBD)</td>\n      <td>34</td>\n      <td>3515.0</td>\n      <td>438</td>\n      <td>1230.0</td>\n      <td>15.360745</td>\n    </tr>\n    <tr>\n      <th>753</th>\n      <td>Southbank</td>\n      <td>174</td>\n      <td>6315.0</td>\n      <td>1491</td>\n      <td>2255.0</td>\n      <td>14.817688</td>\n    </tr>\n    <tr>\n      <th>23</th>\n      <td>Melbourne (CBD)</td>\n      <td>90</td>\n      <td>2211.0</td>\n      <td>129</td>\n      <td>837.0</td>\n      <td>13.731575</td>\n    </tr>\n    <tr>\n      <th>61</th>\n      <td>Melbourne (CBD)</td>\n      <td>2609</td>\n      <td>511.0</td>\n      <td>1356</td>\n      <td>2018.0</td>\n      <td>12.839410</td>\n    </tr>\n    <tr>\n      <th>28</th>\n      <td>Melbourne (CBD)</td>\n      <td>279</td>\n      <td>4538.0</td>\n      <td>1079</td>\n      <td>1739.0</td>\n      <td>12.800621</td>\n    </tr>\n    <tr>\n      <th>93</th>\n      <td>Melbourne (CBD)</td>\n      <td>817</td>\n      <td>2343.0</td>\n      <td>733</td>\n      <td>1384.0</td>\n      <td>12.626067</td>\n    </tr>\n    <tr>\n      <th>1103</th>\n      <td>Docklands</td>\n      <td>860</td>\n      <td>11148.0</td>\n      <td>3688</td>\n      <td>4331.0</td>\n      <td>12.470908</td>\n    </tr>\n    <tr>\n      <th>46</th>\n      <td>Melbourne (CBD)</td>\n      <td>143</td>\n      <td>2441.0</td>\n      <td>337</td>\n      <td>950.0</td>\n      <td>11.889061</td>\n    </tr>\n    <tr>\n      <th>65</th>\n      <td>Melbourne (CBD)</td>\n      <td>225</td>\n      <td>2040.0</td>\n      <td>277</td>\n      <td>874.0</td>\n      <td>11.578743</td>\n    </tr>\n    <tr>\n      <th>94</th>\n      <td>Melbourne (CBD)</td>\n      <td>878</td>\n      <td>3330.0</td>\n      <td>1160</td>\n      <td>1753.0</td>\n      <td>11.501164</td>\n    </tr>\n    <tr>\n      <th>257</th>\n      <td>Carlton</td>\n      <td>669</td>\n      <td>674.0</td>\n      <td>142</td>\n      <td>729.0</td>\n      <td>11.384794</td>\n    </tr>\n    <tr>\n      <th>41</th>\n      <td>Melbourne (CBD)</td>\n      <td>44</td>\n      <td>2007.0</td>\n      <td>192</td>\n      <td>737.0</td>\n      <td>10.570209</td>\n    </tr>\n    <tr>\n      <th>36</th>\n      <td>Melbourne (CBD)</td>\n      <td>4</td>\n      <td>2023.0</td>\n      <td>198</td>\n      <td>715.0</td>\n      <td>10.027153</td>\n    </tr>\n    <tr>\n      <th>56</th>\n      <td>Melbourne (CBD)</td>\n      <td>4</td>\n      <td>1831.0</td>\n      <td>134</td>\n      <td>651.0</td>\n      <td>10.027153</td>\n    </tr>\n  </tbody>\n</table>\n</div>",
                  "text/plain": "          CLUE small area  Dwelling number  ...  Predict_parking  Impact_index\nBlock ID                                    ...                               \n1105            Docklands              189  ...           7663.0    100.000000\n1108            Docklands             3118  ...           7642.0     55.120248\n34        Melbourne (CBD)               32  ...           2512.0     42.358417\n47        Melbourne (CBD)              323  ...           2862.0     34.968968\n24        Melbourne (CBD)              175  ...           2674.0     34.658650\n87        Melbourne (CBD)              915  ...           2122.0     33.650116\n1101            Docklands              120  ...           3090.0     33.204034\n32        Melbourne (CBD)              104  ...           2422.0     33.029480\n53        Melbourne (CBD)              192  ...           2171.0     31.380915\n85        Melbourne (CBD)              321  ...           2741.0     28.471683\n33        Melbourne (CBD)              268  ...           1406.0     23.933282\n18        Melbourne (CBD)              217  ...           2332.0     23.312645\n25        Melbourne (CBD)              254  ...           1363.0     23.099302\n44        Melbourne (CBD)               98  ...           1367.0     21.741660\n15        Melbourne (CBD)              659  ...           1207.0     21.605896\n84        Melbourne (CBD)             1493  ...           1328.0     19.084562\n105       Melbourne (CBD)             1729  ...           1593.0     18.502715\n27        Melbourne (CBD)                2  ...           1999.0     18.405741\n95        Melbourne (CBD)             1745  ...           1451.0     17.513576\n264               Carlton             1806  ...           1351.0     17.474787\n38        Melbourne (CBD)              218  ...           1036.0     16.058960\n26        Melbourne (CBD)               72  ...           1417.0     15.632273\n82        Melbourne (CBD)               34  ...           1230.0     15.360745\n753             Southbank              174  ...           2255.0     14.817688\n23        Melbourne (CBD)               90  ...            837.0     13.731575\n61        Melbourne (CBD)             2609  ...           2018.0     12.839410\n28        Melbourne (CBD)              279  ...           1739.0     12.800621\n93        Melbourne (CBD)              817  ...           1384.0     12.626067\n1103            Docklands              860  ...           4331.0     12.470908\n46        Melbourne (CBD)              143  ...            950.0     11.889061\n65        Melbourne (CBD)              225  ...            874.0     11.578743\n94        Melbourne (CBD)              878  ...           1753.0     11.501164\n257               Carlton              669  ...            729.0     11.384794\n41        Melbourne (CBD)               44  ...            737.0     10.570209\n36        Melbourne (CBD)                4  ...            715.0     10.027153\n56        Melbourne (CBD)                4  ...            651.0     10.027153\n\n[36 rows x 6 columns]"
                },
                "metadata": {}
              }
            ],
            "_view_module": "@jupyter-widgets/output",
            "_model_module_version": "1.0.0",
            "_view_count": null,
            "_view_module_version": "1.0.0",
            "layout": "IPY_MODEL_0f44a3adfeb24d019b70b64a55605073",
            "_model_module": "@jupyter-widgets/output"
          }
        },
        "b80480b1bfc443eabdf5e55b8d089bb3": {
          "model_module": "@jupyter-widgets/controls",
          "model_name": "SliderStyleModel",
          "model_module_version": "1.5.0",
          "state": {
            "_view_name": "StyleView",
            "handle_color": null,
            "_model_name": "SliderStyleModel",
            "description_width": "initial",
            "_view_module": "@jupyter-widgets/base",
            "_model_module_version": "1.5.0",
            "_view_count": null,
            "_view_module_version": "1.2.0",
            "_model_module": "@jupyter-widgets/controls"
          }
        },
        "6df704c6c8c14894830c4287e99d202c": {
          "model_module": "@jupyter-widgets/base",
          "model_name": "LayoutModel",
          "model_module_version": "1.2.0",
          "state": {
            "_view_name": "LayoutView",
            "grid_template_rows": null,
            "right": null,
            "justify_content": null,
            "_view_module": "@jupyter-widgets/base",
            "overflow": null,
            "_model_module_version": "1.2.0",
            "_view_count": null,
            "flex_flow": null,
            "width": null,
            "min_width": null,
            "border": null,
            "align_items": null,
            "bottom": null,
            "_model_module": "@jupyter-widgets/base",
            "top": null,
            "grid_column": null,
            "overflow_y": null,
            "overflow_x": null,
            "grid_auto_flow": null,
            "grid_area": null,
            "grid_template_columns": null,
            "flex": null,
            "_model_name": "LayoutModel",
            "justify_items": null,
            "grid_row": null,
            "max_height": null,
            "align_content": null,
            "visibility": null,
            "align_self": null,
            "height": null,
            "min_height": null,
            "padding": null,
            "grid_auto_rows": null,
            "grid_gap": null,
            "max_width": null,
            "order": null,
            "_view_module_version": "1.2.0",
            "grid_template_areas": null,
            "object_position": null,
            "object_fit": null,
            "grid_auto_columns": null,
            "margin": null,
            "display": null,
            "left": null
          }
        },
        "9298998288954ceab177bc4e0e75916e": {
          "model_module": "@jupyter-widgets/controls",
          "model_name": "DescriptionStyleModel",
          "model_module_version": "1.5.0",
          "state": {
            "_view_name": "StyleView",
            "_model_name": "DescriptionStyleModel",
            "description_width": "",
            "_view_module": "@jupyter-widgets/base",
            "_model_module_version": "1.5.0",
            "_view_count": null,
            "_view_module_version": "1.2.0",
            "_model_module": "@jupyter-widgets/controls"
          }
        },
        "9d57c009e27847c1ad52ccdb6094fa0f": {
          "model_module": "@jupyter-widgets/base",
          "model_name": "LayoutModel",
          "model_module_version": "1.2.0",
          "state": {
            "_view_name": "LayoutView",
            "grid_template_rows": null,
            "right": null,
            "justify_content": null,
            "_view_module": "@jupyter-widgets/base",
            "overflow": null,
            "_model_module_version": "1.2.0",
            "_view_count": null,
            "flex_flow": null,
            "width": null,
            "min_width": null,
            "border": null,
            "align_items": null,
            "bottom": null,
            "_model_module": "@jupyter-widgets/base",
            "top": null,
            "grid_column": null,
            "overflow_y": null,
            "overflow_x": null,
            "grid_auto_flow": null,
            "grid_area": null,
            "grid_template_columns": null,
            "flex": null,
            "_model_name": "LayoutModel",
            "justify_items": null,
            "grid_row": null,
            "max_height": null,
            "align_content": null,
            "visibility": null,
            "align_self": null,
            "height": null,
            "min_height": null,
            "padding": null,
            "grid_auto_rows": null,
            "grid_gap": null,
            "max_width": null,
            "order": null,
            "_view_module_version": "1.2.0",
            "grid_template_areas": null,
            "object_position": null,
            "object_fit": null,
            "grid_auto_columns": null,
            "margin": null,
            "display": null,
            "left": null
          }
        },
        "1b2b2e70ba33495a9f72a5e74bece2fc": {
          "model_module": "@jupyter-widgets/controls",
          "model_name": "DescriptionStyleModel",
          "model_module_version": "1.5.0",
          "state": {
            "_view_name": "StyleView",
            "_model_name": "DescriptionStyleModel",
            "description_width": "",
            "_view_module": "@jupyter-widgets/base",
            "_model_module_version": "1.5.0",
            "_view_count": null,
            "_view_module_version": "1.2.0",
            "_model_module": "@jupyter-widgets/controls"
          }
        },
        "186ed54767b742819176af86c99c14fe": {
          "model_module": "@jupyter-widgets/base",
          "model_name": "LayoutModel",
          "model_module_version": "1.2.0",
          "state": {
            "_view_name": "LayoutView",
            "grid_template_rows": null,
            "right": null,
            "justify_content": null,
            "_view_module": "@jupyter-widgets/base",
            "overflow": null,
            "_model_module_version": "1.2.0",
            "_view_count": null,
            "flex_flow": null,
            "width": null,
            "min_width": null,
            "border": null,
            "align_items": null,
            "bottom": null,
            "_model_module": "@jupyter-widgets/base",
            "top": null,
            "grid_column": null,
            "overflow_y": null,
            "overflow_x": null,
            "grid_auto_flow": null,
            "grid_area": null,
            "grid_template_columns": null,
            "flex": null,
            "_model_name": "LayoutModel",
            "justify_items": null,
            "grid_row": null,
            "max_height": null,
            "align_content": null,
            "visibility": null,
            "align_self": null,
            "height": null,
            "min_height": null,
            "padding": null,
            "grid_auto_rows": null,
            "grid_gap": null,
            "max_width": null,
            "order": null,
            "_view_module_version": "1.2.0",
            "grid_template_areas": null,
            "object_position": null,
            "object_fit": null,
            "grid_auto_columns": null,
            "margin": null,
            "display": null,
            "left": null
          }
        },
        "e49f88f0a92b4fc293fced9d197b57f8": {
          "model_module": "@jupyter-widgets/controls",
          "model_name": "SliderStyleModel",
          "model_module_version": "1.5.0",
          "state": {
            "_view_name": "StyleView",
            "handle_color": null,
            "_model_name": "SliderStyleModel",
            "description_width": "initial",
            "_view_module": "@jupyter-widgets/base",
            "_model_module_version": "1.5.0",
            "_view_count": null,
            "_view_module_version": "1.2.0",
            "_model_module": "@jupyter-widgets/controls"
          }
        },
        "baf2e7e0b724481792f610ddfa7ff1e3": {
          "model_module": "@jupyter-widgets/base",
          "model_name": "LayoutModel",
          "model_module_version": "1.2.0",
          "state": {
            "_view_name": "LayoutView",
            "grid_template_rows": null,
            "right": null,
            "justify_content": null,
            "_view_module": "@jupyter-widgets/base",
            "overflow": null,
            "_model_module_version": "1.2.0",
            "_view_count": null,
            "flex_flow": null,
            "width": null,
            "min_width": null,
            "border": null,
            "align_items": null,
            "bottom": null,
            "_model_module": "@jupyter-widgets/base",
            "top": null,
            "grid_column": null,
            "overflow_y": null,
            "overflow_x": null,
            "grid_auto_flow": null,
            "grid_area": null,
            "grid_template_columns": null,
            "flex": null,
            "_model_name": "LayoutModel",
            "justify_items": null,
            "grid_row": null,
            "max_height": null,
            "align_content": null,
            "visibility": null,
            "align_self": null,
            "height": null,
            "min_height": null,
            "padding": null,
            "grid_auto_rows": null,
            "grid_gap": null,
            "max_width": null,
            "order": null,
            "_view_module_version": "1.2.0",
            "grid_template_areas": null,
            "object_position": null,
            "object_fit": null,
            "grid_auto_columns": null,
            "margin": null,
            "display": null,
            "left": null
          }
        },
        "50cd40e8a6e840de83c1f41d01ddd121": {
          "model_module": "@jupyter-widgets/controls",
          "model_name": "ButtonStyleModel",
          "model_module_version": "1.5.0",
          "state": {
            "_view_name": "StyleView",
            "_model_name": "ButtonStyleModel",
            "_view_module": "@jupyter-widgets/base",
            "_model_module_version": "1.5.0",
            "_view_count": null,
            "button_color": null,
            "font_weight": "",
            "_view_module_version": "1.2.0",
            "_model_module": "@jupyter-widgets/controls"
          }
        },
        "08a988e9e60e4444b5ddfa3f02c32152": {
          "model_module": "@jupyter-widgets/base",
          "model_name": "LayoutModel",
          "model_module_version": "1.2.0",
          "state": {
            "_view_name": "LayoutView",
            "grid_template_rows": null,
            "right": null,
            "justify_content": null,
            "_view_module": "@jupyter-widgets/base",
            "overflow": null,
            "_model_module_version": "1.2.0",
            "_view_count": null,
            "flex_flow": null,
            "width": null,
            "min_width": null,
            "border": null,
            "align_items": null,
            "bottom": null,
            "_model_module": "@jupyter-widgets/base",
            "top": null,
            "grid_column": null,
            "overflow_y": null,
            "overflow_x": null,
            "grid_auto_flow": null,
            "grid_area": null,
            "grid_template_columns": null,
            "flex": null,
            "_model_name": "LayoutModel",
            "justify_items": null,
            "grid_row": null,
            "max_height": null,
            "align_content": null,
            "visibility": null,
            "align_self": null,
            "height": null,
            "min_height": null,
            "padding": null,
            "grid_auto_rows": null,
            "grid_gap": null,
            "max_width": null,
            "order": null,
            "_view_module_version": "1.2.0",
            "grid_template_areas": null,
            "object_position": null,
            "object_fit": null,
            "grid_auto_columns": null,
            "margin": null,
            "display": null,
            "left": null
          }
        },
        "0f44a3adfeb24d019b70b64a55605073": {
          "model_module": "@jupyter-widgets/base",
          "model_name": "LayoutModel",
          "model_module_version": "1.2.0",
          "state": {
            "_view_name": "LayoutView",
            "grid_template_rows": null,
            "right": null,
            "justify_content": null,
            "_view_module": "@jupyter-widgets/base",
            "overflow": null,
            "_model_module_version": "1.2.0",
            "_view_count": null,
            "flex_flow": null,
            "width": null,
            "min_width": null,
            "border": null,
            "align_items": null,
            "bottom": null,
            "_model_module": "@jupyter-widgets/base",
            "top": null,
            "grid_column": null,
            "overflow_y": null,
            "overflow_x": null,
            "grid_auto_flow": null,
            "grid_area": null,
            "grid_template_columns": null,
            "flex": null,
            "_model_name": "LayoutModel",
            "justify_items": null,
            "grid_row": null,
            "max_height": null,
            "align_content": null,
            "visibility": null,
            "align_self": null,
            "height": null,
            "min_height": null,
            "padding": null,
            "grid_auto_rows": null,
            "grid_gap": null,
            "max_width": null,
            "order": null,
            "_view_module_version": "1.2.0",
            "grid_template_areas": null,
            "object_position": null,
            "object_fit": null,
            "grid_auto_columns": null,
            "margin": null,
            "display": null,
            "left": null
          }
        }
      }
    }
  },
  "cells": [
    {
      "cell_type": "code",
      "metadata": {
        "id": "wPNGAqnKDZX7",
        "colab": {
          "base_uri": "https://localhost:8080/"
        },
        "outputId": "2c914bcf-d4a8-43fb-c7c4-9a045ffe1ebb"
      },
      "source": [
        "pip install nbinteract"
      ],
      "execution_count": 61,
      "outputs": [
        {
          "output_type": "stream",
          "name": "stdout",
          "text": [
            "Requirement already satisfied: nbinteract in /usr/local/lib/python3.7/dist-packages (0.2.6)\n",
            "Requirement already satisfied: nbconvert>=5.3 in /usr/local/lib/python3.7/dist-packages (from nbinteract) (5.6.1)\n",
            "Requirement already satisfied: numpy<2,>=1 in /usr/local/lib/python3.7/dist-packages (from nbinteract) (1.19.5)\n",
            "Requirement already satisfied: bqplot==0.11.0 in /usr/local/lib/python3.7/dist-packages (from nbinteract) (0.11.0)\n",
            "Requirement already satisfied: docopt<1,>=0.6.2 in /usr/local/lib/python3.7/dist-packages (from nbinteract) (0.6.2)\n",
            "Requirement already satisfied: Jinja2<3,>=2.10 in /usr/local/lib/python3.7/dist-packages (from nbinteract) (2.11.3)\n",
            "Requirement already satisfied: traitlets<5,>=4.3 in /usr/local/lib/python3.7/dist-packages (from nbinteract) (4.3.3)\n",
            "Requirement already satisfied: IPython<8,>=6 in /usr/local/lib/python3.7/dist-packages (from nbinteract) (7.30.0)\n",
            "Requirement already satisfied: nbformat<5,>=4.4.0 in /usr/local/lib/python3.7/dist-packages (from nbinteract) (4.4.0)\n",
            "Requirement already satisfied: toolz<1,>=0.8 in /usr/local/lib/python3.7/dist-packages (from nbinteract) (0.11.2)\n",
            "Requirement already satisfied: ipywidgets<8,>=7.5.0 in /usr/local/lib/python3.7/dist-packages (from nbinteract) (7.6.5)\n",
            "Requirement already satisfied: traittypes>=0.0.6 in /usr/local/lib/python3.7/dist-packages (from bqplot==0.11.0->nbinteract) (0.2.1)\n",
            "Requirement already satisfied: pandas in /usr/local/lib/python3.7/dist-packages (from bqplot==0.11.0->nbinteract) (1.1.5)\n",
            "Requirement already satisfied: decorator in /usr/local/lib/python3.7/dist-packages (from IPython<8,>=6->nbinteract) (4.4.2)\n",
            "Requirement already satisfied: matplotlib-inline in /usr/local/lib/python3.7/dist-packages (from IPython<8,>=6->nbinteract) (0.1.3)\n",
            "Requirement already satisfied: prompt-toolkit!=3.0.0,!=3.0.1,<3.1.0,>=2.0.0 in /usr/local/lib/python3.7/dist-packages (from IPython<8,>=6->nbinteract) (3.0.23)\n",
            "Requirement already satisfied: jedi>=0.16 in /usr/local/lib/python3.7/dist-packages (from IPython<8,>=6->nbinteract) (0.18.1)\n",
            "Requirement already satisfied: setuptools>=18.5 in /usr/local/lib/python3.7/dist-packages (from IPython<8,>=6->nbinteract) (57.4.0)\n",
            "Requirement already satisfied: pygments in /usr/local/lib/python3.7/dist-packages (from IPython<8,>=6->nbinteract) (2.6.1)\n",
            "Requirement already satisfied: pexpect>4.3 in /usr/local/lib/python3.7/dist-packages (from IPython<8,>=6->nbinteract) (4.8.0)\n",
            "Requirement already satisfied: backcall in /usr/local/lib/python3.7/dist-packages (from IPython<8,>=6->nbinteract) (0.2.0)\n",
            "Requirement already satisfied: pickleshare in /usr/local/lib/python3.7/dist-packages (from IPython<8,>=6->nbinteract) (0.7.5)\n",
            "Requirement already satisfied: widgetsnbextension~=3.5.0 in /usr/local/lib/python3.7/dist-packages (from ipywidgets<8,>=7.5.0->nbinteract) (3.5.2)\n",
            "Requirement already satisfied: ipython-genutils~=0.2.0 in /usr/local/lib/python3.7/dist-packages (from ipywidgets<8,>=7.5.0->nbinteract) (0.2.0)\n",
            "Requirement already satisfied: ipykernel>=4.5.1 in /usr/local/lib/python3.7/dist-packages (from ipywidgets<8,>=7.5.0->nbinteract) (4.10.1)\n",
            "Requirement already satisfied: jupyterlab-widgets>=1.0.0 in /usr/local/lib/python3.7/dist-packages (from ipywidgets<8,>=7.5.0->nbinteract) (1.0.2)\n",
            "Requirement already satisfied: tornado>=4.0 in /usr/local/lib/python3.7/dist-packages (from ipykernel>=4.5.1->ipywidgets<8,>=7.5.0->nbinteract) (5.1.1)\n",
            "Requirement already satisfied: jupyter-client in /usr/local/lib/python3.7/dist-packages (from ipykernel>=4.5.1->ipywidgets<8,>=7.5.0->nbinteract) (5.3.5)\n",
            "Requirement already satisfied: parso<0.9.0,>=0.8.0 in /usr/local/lib/python3.7/dist-packages (from jedi>=0.16->IPython<8,>=6->nbinteract) (0.8.2)\n",
            "Requirement already satisfied: MarkupSafe>=0.23 in /usr/local/lib/python3.7/dist-packages (from Jinja2<3,>=2.10->nbinteract) (2.0.1)\n",
            "Requirement already satisfied: jupyter-core in /usr/local/lib/python3.7/dist-packages (from nbconvert>=5.3->nbinteract) (4.9.1)\n",
            "Requirement already satisfied: testpath in /usr/local/lib/python3.7/dist-packages (from nbconvert>=5.3->nbinteract) (0.5.0)\n",
            "Requirement already satisfied: mistune<2,>=0.8.1 in /usr/local/lib/python3.7/dist-packages (from nbconvert>=5.3->nbinteract) (0.8.4)\n",
            "Requirement already satisfied: bleach in /usr/local/lib/python3.7/dist-packages (from nbconvert>=5.3->nbinteract) (4.1.0)\n",
            "Requirement already satisfied: pandocfilters>=1.4.1 in /usr/local/lib/python3.7/dist-packages (from nbconvert>=5.3->nbinteract) (1.5.0)\n",
            "Requirement already satisfied: entrypoints>=0.2.2 in /usr/local/lib/python3.7/dist-packages (from nbconvert>=5.3->nbinteract) (0.3)\n",
            "Requirement already satisfied: defusedxml in /usr/local/lib/python3.7/dist-packages (from nbconvert>=5.3->nbinteract) (0.7.1)\n",
            "Requirement already satisfied: jsonschema!=2.5.0,>=2.4 in /usr/local/lib/python3.7/dist-packages (from nbformat<5,>=4.4.0->nbinteract) (2.6.0)\n",
            "Requirement already satisfied: ptyprocess>=0.5 in /usr/local/lib/python3.7/dist-packages (from pexpect>4.3->IPython<8,>=6->nbinteract) (0.7.0)\n",
            "Requirement already satisfied: wcwidth in /usr/local/lib/python3.7/dist-packages (from prompt-toolkit!=3.0.0,!=3.0.1,<3.1.0,>=2.0.0->IPython<8,>=6->nbinteract) (0.2.5)\n",
            "Requirement already satisfied: six in /usr/local/lib/python3.7/dist-packages (from traitlets<5,>=4.3->nbinteract) (1.15.0)\n",
            "Requirement already satisfied: notebook>=4.4.1 in /usr/local/lib/python3.7/dist-packages (from widgetsnbextension~=3.5.0->ipywidgets<8,>=7.5.0->nbinteract) (5.3.1)\n",
            "Requirement already satisfied: Send2Trash in /usr/local/lib/python3.7/dist-packages (from notebook>=4.4.1->widgetsnbextension~=3.5.0->ipywidgets<8,>=7.5.0->nbinteract) (1.8.0)\n",
            "Requirement already satisfied: terminado>=0.8.1 in /usr/local/lib/python3.7/dist-packages (from notebook>=4.4.1->widgetsnbextension~=3.5.0->ipywidgets<8,>=7.5.0->nbinteract) (0.12.1)\n",
            "Requirement already satisfied: pyzmq>=13 in /usr/local/lib/python3.7/dist-packages (from jupyter-client->ipykernel>=4.5.1->ipywidgets<8,>=7.5.0->nbinteract) (22.3.0)\n",
            "Requirement already satisfied: python-dateutil>=2.1 in /usr/local/lib/python3.7/dist-packages (from jupyter-client->ipykernel>=4.5.1->ipywidgets<8,>=7.5.0->nbinteract) (2.8.2)\n",
            "Requirement already satisfied: webencodings in /usr/local/lib/python3.7/dist-packages (from bleach->nbconvert>=5.3->nbinteract) (0.5.1)\n",
            "Requirement already satisfied: packaging in /usr/local/lib/python3.7/dist-packages (from bleach->nbconvert>=5.3->nbinteract) (21.3)\n",
            "Requirement already satisfied: pyparsing!=3.0.5,>=2.0.2 in /usr/local/lib/python3.7/dist-packages (from packaging->bleach->nbconvert>=5.3->nbinteract) (3.0.6)\n",
            "Requirement already satisfied: pytz>=2017.2 in /usr/local/lib/python3.7/dist-packages (from pandas->bqplot==0.11.0->nbinteract) (2018.9)\n"
          ]
        }
      ]
    },
    {
      "cell_type": "markdown",
      "metadata": {
        "id": "uZhOb2ODsEBk"
      },
      "source": [
        "### A case study: using CLUE datasets of Melbourne Open Data\n",
        "\n",
        "# **Where should public transportation be enhanced in the city of Melbourne?**\n",
        "\n",
        "The City of Melbourne has always evolved, and so have the numbers of its residential dwellings and employment population (based on data available on Melbourne Open Data). Without a consistent or parallel increase of off-street parking, the city will face the difficulty in providing enough spaces for parking of private transportation. To resolve this problem, the city planner needs to locate the potential areas where extension of public transportation should be implemented to replace the need for off-street parking.\n",
        "\n",
        "\n",
        "## Purpose: \n",
        "This case study is intended to provide educational instructions of how CLUE datasets can be used for city planners or individuals whose have some knowledge in data analysis.\n",
        "\n",
        "## Pre-requisite skills:\n",
        "- Python scripting (Basic)\n",
        "- Data analysis (Basic EDA and visualizations)\n",
        "\n",
        "## Solution:\n",
        "By looking at the population trend of residential dwellings and employments at different Melbourne city blocks, the city planner can project amount of public transportation services necessary to sufficiently accommodate potential travellers to or/and from those city blocks.\n",
        "\n"
      ]
    },
    {
      "cell_type": "markdown",
      "metadata": {
        "id": "biCQO7dcoyUL"
      },
      "source": [
        "# **Working with Residential dwelling datasets**"
      ]
    },
    {
      "cell_type": "code",
      "metadata": {
        "id": "stROK9yMyX34",
        "colab": {
          "base_uri": "https://localhost:8080/",
          "height": 293
        },
        "outputId": "f1d585e1-b662-438e-81a9-4e0dec5d6cfb"
      },
      "source": [
        "#CLUE datasets\n",
        "#======================================================\n",
        "import pandas as pd\n",
        "#Residential dwellings data\n",
        "resident = pd.read_csv('/content/drive/MyDrive/Notebooks/SIT782/CLUE/Residential_dwellings.csv')\n",
        "#Total records before cleaning\n",
        "print('Total records before cleaning is',len(resident))\n",
        "#Data cleaning (remove duplicated values)\n",
        "resident.drop_duplicates(inplace = True)\n",
        "#Total records after cleaning\n",
        "print('Total records after cleaning is',len(resident))\n",
        "#Select only necessary columns\n",
        "selected_columns =['Census year','Block ID','CLUE small area','Dwelling number']\n",
        "resident = resident[selected_columns]\n",
        "#Sum the Dwelling number based on Block ID and Year\n",
        "resident_by_block = resident.groupby(['Census year','Block ID']).agg({'CLUE small area':'max','Dwelling number':'sum'})\n",
        "print('Total records after grouping (by Block ID) is',len(resident_by_block))\n",
        "#Detail of the residential dwellings by block\n",
        "resident_by_block.head()\n"
      ],
      "execution_count": 62,
      "outputs": [
        {
          "output_type": "stream",
          "name": "stdout",
          "text": [
            "Total records before cleaning is 177733\n",
            "Total records after cleaning is 177729\n",
            "Total records after grouping (by Block ID) is 8036\n"
          ]
        },
        {
          "output_type": "execute_result",
          "data": {
            "text/html": [
              "<div>\n",
              "<style scoped>\n",
              "    .dataframe tbody tr th:only-of-type {\n",
              "        vertical-align: middle;\n",
              "    }\n",
              "\n",
              "    .dataframe tbody tr th {\n",
              "        vertical-align: top;\n",
              "    }\n",
              "\n",
              "    .dataframe thead th {\n",
              "        text-align: right;\n",
              "    }\n",
              "</style>\n",
              "<table border=\"1\" class=\"dataframe\">\n",
              "  <thead>\n",
              "    <tr style=\"text-align: right;\">\n",
              "      <th></th>\n",
              "      <th></th>\n",
              "      <th>CLUE small area</th>\n",
              "      <th>Dwelling number</th>\n",
              "    </tr>\n",
              "    <tr>\n",
              "      <th>Census year</th>\n",
              "      <th>Block ID</th>\n",
              "      <th></th>\n",
              "      <th></th>\n",
              "    </tr>\n",
              "  </thead>\n",
              "  <tbody>\n",
              "    <tr>\n",
              "      <th rowspan=\"5\" valign=\"top\">2002</th>\n",
              "      <th>11</th>\n",
              "      <td>Melbourne (CBD)</td>\n",
              "      <td>97</td>\n",
              "    </tr>\n",
              "    <tr>\n",
              "      <th>12</th>\n",
              "      <td>Melbourne (CBD)</td>\n",
              "      <td>189</td>\n",
              "    </tr>\n",
              "    <tr>\n",
              "      <th>13</th>\n",
              "      <td>Melbourne (CBD)</td>\n",
              "      <td>113</td>\n",
              "    </tr>\n",
              "    <tr>\n",
              "      <th>14</th>\n",
              "      <td>Melbourne (CBD)</td>\n",
              "      <td>87</td>\n",
              "    </tr>\n",
              "    <tr>\n",
              "      <th>15</th>\n",
              "      <td>Melbourne (CBD)</td>\n",
              "      <td>282</td>\n",
              "    </tr>\n",
              "  </tbody>\n",
              "</table>\n",
              "</div>"
            ],
            "text/plain": [
              "                      CLUE small area  Dwelling number\n",
              "Census year Block ID                                  \n",
              "2002        11        Melbourne (CBD)               97\n",
              "            12        Melbourne (CBD)              189\n",
              "            13        Melbourne (CBD)              113\n",
              "            14        Melbourne (CBD)               87\n",
              "            15        Melbourne (CBD)              282"
            ]
          },
          "metadata": {},
          "execution_count": 62
        }
      ]
    },
    {
      "cell_type": "markdown",
      "metadata": {
        "id": "G2ZGGFzqoqrA"
      },
      "source": [
        "# **Working with Emploment datasets**"
      ]
    },
    {
      "cell_type": "code",
      "metadata": {
        "id": "aT1K2LltF-A-",
        "colab": {
          "base_uri": "https://localhost:8080/",
          "height": 293
        },
        "outputId": "edb35bcd-148d-425a-be48-f3a4bc3200ea"
      },
      "source": [
        "#Employment data\n",
        "employment = pd.read_csv('/content/drive/MyDrive/Notebooks/SIT782/CLUE/Employment_by_block_by_CLUE_industry.csv')\n",
        "#Total records before cleaning\n",
        "print('Total records before cleaning is',len(employment))\n",
        "#Cleaning the data (remove missing values at [Total employment in block])\n",
        "employment.dropna(subset=['Total employment in block'],inplace=True)\n",
        "#Total records after cleaning\n",
        "print('Total records afer cleaning is',len(employment))\n",
        "#Select only necessary columns\n",
        "selected_columns =['Census year','Block ID','Total employment in block']\n",
        "employment = employment[selected_columns]\n",
        "#Sum the employment based on Block ID and Year\n",
        "employment_by_block = employment.groupby(['Census year','Block ID']).sum()\n",
        "print('Total records after grouping (by Block ID) is',len(employment_by_block))\n",
        "#Detail of the employment_by_block\n",
        "employment_by_block.head()"
      ],
      "execution_count": 63,
      "outputs": [
        {
          "output_type": "stream",
          "name": "stdout",
          "text": [
            "Total records before cleaning is 11182\n",
            "Total records afer cleaning is 8759\n",
            "Total records after grouping (by Block ID) is 8759\n"
          ]
        },
        {
          "output_type": "execute_result",
          "data": {
            "text/html": [
              "<div>\n",
              "<style scoped>\n",
              "    .dataframe tbody tr th:only-of-type {\n",
              "        vertical-align: middle;\n",
              "    }\n",
              "\n",
              "    .dataframe tbody tr th {\n",
              "        vertical-align: top;\n",
              "    }\n",
              "\n",
              "    .dataframe thead th {\n",
              "        text-align: right;\n",
              "    }\n",
              "</style>\n",
              "<table border=\"1\" class=\"dataframe\">\n",
              "  <thead>\n",
              "    <tr style=\"text-align: right;\">\n",
              "      <th></th>\n",
              "      <th></th>\n",
              "      <th>Total employment in block</th>\n",
              "    </tr>\n",
              "    <tr>\n",
              "      <th>Census year</th>\n",
              "      <th>Block ID</th>\n",
              "      <th></th>\n",
              "    </tr>\n",
              "  </thead>\n",
              "  <tbody>\n",
              "    <tr>\n",
              "      <th rowspan=\"5\" valign=\"top\">2002</th>\n",
              "      <th>0</th>\n",
              "      <td>319729.0</td>\n",
              "    </tr>\n",
              "    <tr>\n",
              "      <th>1</th>\n",
              "      <td>6.0</td>\n",
              "    </tr>\n",
              "    <tr>\n",
              "      <th>2</th>\n",
              "      <td>169.0</td>\n",
              "    </tr>\n",
              "    <tr>\n",
              "      <th>4</th>\n",
              "      <td>1174.0</td>\n",
              "    </tr>\n",
              "    <tr>\n",
              "      <th>5</th>\n",
              "      <td>12.0</td>\n",
              "    </tr>\n",
              "  </tbody>\n",
              "</table>\n",
              "</div>"
            ],
            "text/plain": [
              "                      Total employment in block\n",
              "Census year Block ID                           \n",
              "2002        0                          319729.0\n",
              "            1                               6.0\n",
              "            2                             169.0\n",
              "            4                            1174.0\n",
              "            5                              12.0"
            ]
          },
          "metadata": {},
          "execution_count": 63
        }
      ]
    },
    {
      "cell_type": "markdown",
      "metadata": {
        "id": "qop-Dmtrn7Bf"
      },
      "source": [
        "# **Working with Off-street Parking datasets**"
      ]
    },
    {
      "cell_type": "code",
      "metadata": {
        "id": "YUX3USheHzpg",
        "colab": {
          "base_uri": "https://localhost:8080/",
          "height": 293
        },
        "outputId": "ee98b7dc-5360-4377-986a-fa78fcb34b2f"
      },
      "source": [
        "#Off-street parking data\n",
        "parking = pd.read_csv('/content/drive/MyDrive/Notebooks/SIT782/CLUE/Off-street_car_parks_with_capacity_and_type.csv')\n",
        "#Total records before cleaning\n",
        "print('Total records before cleaning is',len(parking))\n",
        "#Data cleaning (remove duplicate values)\n",
        "parking.drop_duplicates(inplace=True)\n",
        "#Total records after cleaning\n",
        "print('Total records after cleaning is',len(parking))\n",
        "#Select only necessary columns\n",
        "selected_columns =['Census year','Block ID','Parking spaces']\n",
        "parking = parking[selected_columns]\n",
        "#Sum the parking based on Block ID and Year\n",
        "parking_by_block = parking.groupby(['Census year','Block ID']).sum()\n",
        "print('Total records after grouping (by Block ID) is',len(parking_by_block))\n",
        "#Detail of the employment_by_block\n",
        "parking_by_block.head()\n"
      ],
      "execution_count": 64,
      "outputs": [
        {
          "output_type": "stream",
          "name": "stdout",
          "text": [
            "Total records before cleaning is 124114\n",
            "Total records after cleaning is 122461\n",
            "Total records after grouping (by Block ID) is 9939\n"
          ]
        },
        {
          "output_type": "execute_result",
          "data": {
            "text/html": [
              "<div>\n",
              "<style scoped>\n",
              "    .dataframe tbody tr th:only-of-type {\n",
              "        vertical-align: middle;\n",
              "    }\n",
              "\n",
              "    .dataframe tbody tr th {\n",
              "        vertical-align: top;\n",
              "    }\n",
              "\n",
              "    .dataframe thead th {\n",
              "        text-align: right;\n",
              "    }\n",
              "</style>\n",
              "<table border=\"1\" class=\"dataframe\">\n",
              "  <thead>\n",
              "    <tr style=\"text-align: right;\">\n",
              "      <th></th>\n",
              "      <th></th>\n",
              "      <th>Parking spaces</th>\n",
              "    </tr>\n",
              "    <tr>\n",
              "      <th>Census year</th>\n",
              "      <th>Block ID</th>\n",
              "      <th></th>\n",
              "    </tr>\n",
              "  </thead>\n",
              "  <tbody>\n",
              "    <tr>\n",
              "      <th rowspan=\"5\" valign=\"top\">2002</th>\n",
              "      <th>1</th>\n",
              "      <td>270</td>\n",
              "    </tr>\n",
              "    <tr>\n",
              "      <th>6</th>\n",
              "      <td>500</td>\n",
              "    </tr>\n",
              "    <tr>\n",
              "      <th>11</th>\n",
              "      <td>303</td>\n",
              "    </tr>\n",
              "    <tr>\n",
              "      <th>12</th>\n",
              "      <td>749</td>\n",
              "    </tr>\n",
              "    <tr>\n",
              "      <th>13</th>\n",
              "      <td>622</td>\n",
              "    </tr>\n",
              "  </tbody>\n",
              "</table>\n",
              "</div>"
            ],
            "text/plain": [
              "                      Parking spaces\n",
              "Census year Block ID                \n",
              "2002        1                    270\n",
              "            6                    500\n",
              "            11                   303\n",
              "            12                   749\n",
              "            13                   622"
            ]
          },
          "metadata": {},
          "execution_count": 64
        }
      ]
    },
    {
      "cell_type": "markdown",
      "metadata": {
        "id": "_Xfatyh439UD"
      },
      "source": [
        "# **Merge and explore the 3 datasets (Resident, Employment, & Parking)**"
      ]
    },
    {
      "cell_type": "markdown",
      "metadata": {
        "id": "UMFEWTdiX6UD"
      },
      "source": [
        "Formulate the model to identify a suitable number of parking slots based on residential dwelling or employment."
      ]
    },
    {
      "cell_type": "code",
      "metadata": {
        "colab": {
          "base_uri": "https://localhost:8080/",
          "height": 752
        },
        "id": "-6X0xImgqERh",
        "outputId": "4fe45156-6b79-4a48-9e61-a7515d2e6cbb"
      },
      "source": [
        "import matplotlib.pyplot as plt\n",
        "import numpy as np\n",
        "import seaborn as sns\n",
        "sns.set_theme(color_codes=True)\n",
        "\n",
        "#Combine the datasets (only take the blocks that match between three datasets)\n",
        "data = resident_by_block.merge(employment_by_block, left_index= True, right_index=True)\n",
        "data = data.merge(parking_by_block,left_index=True,right_index=True)\n",
        "print(data.head())\n",
        "#Prepare data for scatter plots\n",
        "x1 = data['Total employment in block']\n",
        "x2 = data['Dwelling number']\n",
        "y = data['Parking spaces']\n",
        "#Plot the data points (Parking Spaces vs. Total Employment) and regression line\n",
        "plt.plot(x1,y,'x')\n",
        "a, b = np.polyfit(x1,y,1)\n",
        "plt.plot(x1, a*x1 + b)\n",
        "plt.title('Parking Spaces vs. Total Employment')\n",
        "plt.ylabel('Parking Spaces')\n",
        "plt.xlabel('Total Employment')\n",
        "plt.show()\n",
        "#Plot the data points (Parking Spaces vs. Dwelling Number) and regression line\n",
        "plt.plot(x2,y,'+')\n",
        "a, b = np.polyfit(x2,y,1)\n",
        "plt.plot(x2, a*x2 + b)\n",
        "plt.title('Parking Spaces vs. Dwelling Number')\n",
        "plt.ylabel('Parking Spaces')\n",
        "plt.xlabel('Dwelling Number')\n",
        "plt.show()\n"
      ],
      "execution_count": 65,
      "outputs": [
        {
          "output_type": "stream",
          "name": "stdout",
          "text": [
            "                      CLUE small area  ...  Parking spaces\n",
            "Census year Block ID                   ...                \n",
            "2002        11        Melbourne (CBD)  ...             303\n",
            "            12        Melbourne (CBD)  ...             749\n",
            "            13        Melbourne (CBD)  ...             622\n",
            "            14        Melbourne (CBD)  ...            1229\n",
            "            15        Melbourne (CBD)  ...              88\n",
            "\n",
            "[5 rows x 4 columns]\n"
          ]
        },
        {
          "output_type": "display_data",
          "data": {
            "image/png": "[encoded data removed]",
            "text/plain": [
              "<Figure size 432x288 with 1 Axes>"
            ]
          },
          "metadata": {}
        },
        {
          "output_type": "display_data",
          "data": {
            "image/png": "[encoded data removed]",
            "text/plain": [
              "<Figure size 432x288 with 1 Axes>"
            ]
          },
          "metadata": {}
        }
      ]
    },
    {
      "cell_type": "markdown",
      "metadata": {
        "id": "0I4h1N4zooQO"
      },
      "source": [
        "# **Modeling and Analyzing**"
      ]
    },
    {
      "cell_type": "markdown",
      "metadata": {
        "id": "VXTzXE8bsFFW"
      },
      "source": [
        "## Prepare the filtered data records"
      ]
    },
    {
      "cell_type": "code",
      "metadata": {
        "id": "NNnbFdxXrquN"
      },
      "source": [
        "#Prepare Data\n",
        "def Get_data(Data, Year_to_include,Employment,Resident_dwellings):\n",
        "  import numpy as np\n",
        "  features = np.array(['Total employment in block', 'Dwelling number'])\n",
        "  features_to_include = features[[Employment,Resident_dwellings]] #Define the data features for the study\n",
        "  data_to_include = Data.loc[min(Year_to_include):max(Year_to_include)] #Get the wanted rows\n",
        "  X = np.array(data_to_include[features_to_include]) #Get the independent variable(s) based on the selected features\n",
        "  Y = np.array(data_to_include['Parking spaces']) #Get the dependent variable\n",
        "  return X, Y\n",
        "#print('The study period is between: %d and %d'%(min(years_to_include),max(years_to_include)))\n"
      ],
      "execution_count": 66,
      "outputs": []
    },
    {
      "cell_type": "markdown",
      "metadata": {
        "id": "OOHNOm_NvlIU"
      },
      "source": [
        "## Build linear regression model"
      ]
    },
    {
      "cell_type": "code",
      "metadata": {
        "id": "7PRejFEtvkHq"
      },
      "source": [
        "def lm_model(X, Y):\n",
        "  from sklearn import linear_model\n",
        "  from sklearn.ensemble import IsolationForest\n",
        "  iso = IsolationForest(contamination=0.1)#use outliers detector\n",
        "  yhat = iso.fit_predict(X) #Search for outliers\n",
        "  lm = linear_model.LinearRegression() #linear regression model\n",
        "  lm.fit(X[yhat!=-1],Y[yhat!=-1]) # Train the model excluding outliers\n",
        "  return lm"
      ],
      "execution_count": 67,
      "outputs": []
    },
    {
      "cell_type": "markdown",
      "metadata": {
        "id": "rc7kJD-p4ZIt"
      },
      "source": [
        "## Predict the parking problem based on the latest year (2020)"
      ]
    },
    {
      "cell_type": "code",
      "metadata": {
        "id": "RZkmpC_U4YUv"
      },
      "source": [
        "#Predict parking issue in 2020\n",
        "def Get_predict_result(Model, Data, Employment, Residential_dwellings):\n",
        "  import numpy as np\n",
        "  data_latest = data.loc[years.max] # Get data of 2020\n",
        "  features = np.array(['Total employment in block', 'Dwelling number'])\n",
        "  features_to_include = features[[Employment,Residential_dwellings]] #Define the data features for the study\n",
        "  result = np.round(Model.predict(np.array(data_latest[features_to_include]))) #Predict based on the selected features\n",
        "  data_latest['Predict_parking'] = result #Add result to the data\n",
        "  impact = result - data_latest['Parking spaces']\n",
        "  impact[impact>=0] = 100*(impact[impact>=0]/(max(impact[impact>=0]))) # Normalize the impact index (0-100)\n",
        "  data_latest['Impact_index'] = impact #Add impact index to the data\n",
        "  return data_latest"
      ],
      "execution_count": 68,
      "outputs": []
    },
    {
      "cell_type": "markdown",
      "metadata": {
        "id": "mlLslmEOGitd"
      },
      "source": [
        "## Plot barchart of the predict results"
      ]
    },
    {
      "cell_type": "code",
      "metadata": {
        "id": "5l4X3zdoGhbq"
      },
      "source": [
        "#visualize the impacted city blocks\n",
        "def bar_plot(Data, Impact_level):\n",
        "  #Only visualize the blocks greater than the impact level\n",
        "  plot_data = Data[Data['Impact_index']>=Impact_level]['Impact_index']#Get only the data records with higher impact level\n",
        "  plot_data.plot(kind='bar',figsize=(len(plot_data)/2,5),\n",
        "                title='Impacted Blocks(limited parking spaces)\\n Shows impact index from '+str(Impact_level)+' to 100',\n",
        "                ylabel='Impact Index (0-100)')\n",
        "  plt.show()"
      ],
      "execution_count": 69,
      "outputs": []
    },
    {
      "cell_type": "markdown",
      "metadata": {
        "id": "q2sCp9c0Np_Y"
      },
      "source": [
        "# Prepare datasets for map plotting"
      ]
    },
    {
      "cell_type": "code",
      "metadata": {
        "id": "upAFbbAA7gaR",
        "colab": {
          "base_uri": "https://localhost:8080/",
          "height": 110
        },
        "outputId": "dc3ab0b8-8250-4552-f28f-69838a8eae53"
      },
      "source": [
        "'''\n",
        "#CLUE block map\n",
        "import json\n",
        "json_file = open('/content/drive/MyDrive/Notebooks/SIT782/CLUE/clue_blocks.geojson') \n",
        "clue_geo = json.load(json_file)\n",
        "\n",
        "#Only take the impacted blocks\n",
        "clue_data = data_latest[data_latest['Impact_index']>=min_impact_level].sort_values('Impact_index',ascending = False)\n",
        "clue_data.reset_index(inplace=True) #turn the index (Block_ID) into a column in the dataframe (clue_data)\n",
        "clue_data['Block ID'] = clue_data['Block ID'].astype('str') # conver [Block ID] to str, so that it is compatible with json content\n",
        "'''"
      ],
      "execution_count": 71,
      "outputs": [
        {
          "output_type": "execute_result",
          "data": {
            "application/vnd.google.colaboratory.intrinsic+json": {
              "type": "string"
            },
            "text/plain": [
              "\"\\n#CLUE block map\\nimport json\\njson_file = open('/content/drive/MyDrive/Notebooks/SIT782/CLUE/clue_blocks.geojson') \\nclue_geo = json.load(json_file)\\n\\n#Only take the impacted blocks\\nclue_data = data_latest[data_latest['Impact_index']>=min_impact_level].sort_values('Impact_index',ascending = False)\\nclue_data.reset_index(inplace=True) #turn the index (Block_ID) into a column in the dataframe (clue_data)\\nclue_data['Block ID'] = clue_data['Block ID'].astype('str') # conver [Block ID] to str, so that it is compatible with json content\\n\""
            ]
          },
          "metadata": {},
          "execution_count": 71
        }
      ]
    },
    {
      "cell_type": "markdown",
      "metadata": {
        "id": "wu-cEzszOeYK"
      },
      "source": [
        "# Plot the map using Folium Choropleth"
      ]
    },
    {
      "cell_type": "code",
      "metadata": {
        "colab": {
          "base_uri": "https://localhost:8080/",
          "height": 184
        },
        "id": "bJofRzQc_Kxu",
        "outputId": "40d796e7-6077-4c7a-9e45-315ca641da98"
      },
      "source": [
        "'''\n",
        "import folium\n",
        "#Create the initial map\n",
        "fmap = folium.Map(location=[-37.811600, 144.964610],\n",
        "           tiles='Stamen Toner',\n",
        "           width = '80%',\n",
        "           height = '60%',\n",
        "           zoom_start=13)\n",
        "\n",
        "#create the choropleth layer and add to the map above\n",
        "choropleth = folium.Choropleth(\n",
        "    geo_data=clue_geo,\n",
        "    name='choropleth',\n",
        "    data=clue_data,\n",
        "    columns=['Block ID','Impact_index'],\n",
        "    key_on='feature.properties.block_id',\n",
        "    fill_color='YlOrRd',\n",
        "    fill_opacity=1,\n",
        "    line_opacity=0.5,\n",
        "    nan_fill_color='cloud',\n",
        "    nan_fill_opacity = 0.2,\n",
        "    highlight=True,\n",
        "    legend_name='Impact index'\n",
        ").add_to(fmap)\n",
        "\n",
        "#Add more layers and tooltips\n",
        "fmap.add_tile_layer()\n",
        "fmap.add_tile_layer('Stamen Terrain')\n",
        "choropleth.geojson.add_child(folium.features.GeoJsonTooltip(['block_id','clue_area'],labels=True))\n",
        "folium.LayerControl().add_to(fmap)\n",
        "fmap\n",
        "\n",
        "'''"
      ],
      "execution_count": 73,
      "outputs": [
        {
          "output_type": "execute_result",
          "data": {
            "application/vnd.google.colaboratory.intrinsic+json": {
              "type": "string"
            },
            "text/plain": [
              "\"\\nimport folium\\n#Create the initial map\\nfmap = folium.Map(location=[-37.811600, 144.964610],\\n           tiles='Stamen Toner',\\n           width = '80%',\\n           height = '60%',\\n           zoom_start=13)\\n\\n#create the choropleth layer and add to the map above\\nchoropleth = folium.Choropleth(\\n    geo_data=clue_geo,\\n    name='choropleth',\\n    data=clue_data,\\n    columns=['Block ID','Impact_index'],\\n    key_on='feature.properties.block_id',\\n    fill_color='YlOrRd',\\n    fill_opacity=1,\\n    line_opacity=0.5,\\n    nan_fill_color='cloud',\\n    nan_fill_opacity = 0.2,\\n    highlight=True,\\n    legend_name='Impact index'\\n).add_to(fmap)\\n\\n#Add more layers and tooltips\\nfmap.add_tile_layer()\\nfmap.add_tile_layer('Stamen Terrain')\\nchoropleth.geojson.add_child(folium.features.GeoJsonTooltip(['block_id','clue_area'],labels=True))\\nfolium.LayerControl().add_to(fmap)\\nfmap\\n\\n\""
            ]
          },
          "metadata": {},
          "execution_count": 73
        }
      ]
    },
    {
      "cell_type": "markdown",
      "metadata": {
        "id": "ul0SWwlX-ivA"
      },
      "source": [
        "## Interactive Tools and Visualizations"
      ]
    },
    {
      "cell_type": "code",
      "metadata": {
        "id": "4_-EHzxUokbX"
      },
      "source": [
        "#Year to include in the study (from 2002 to 2020 or between that)\n",
        "#Create a widget to select the range of study years\n",
        "from ipywidgets import interact_manual\n",
        "import ipywidgets as widgets\n",
        "from IPython.display import display\n",
        "\n",
        "style = {'description_width': 'initial'} #for long label\n",
        "\n",
        "#Year-to-include slider\n",
        "years = widgets.IntRangeSlider(\n",
        "    value=[2002, 2020],\n",
        "    min=2002,\n",
        "    max=2020,\n",
        "    step=1,\n",
        "    description='Years to include:',\n",
        "    disabled=False,\n",
        "    continuous_update=True,\n",
        "    orientation='horizontal',\n",
        "    readout=True,\n",
        "    readout_format='d',\n",
        "    style=style\n",
        ")\n",
        "#Display option: impact level\n",
        "show_impact = widgets.IntSlider(\n",
        "    value=10,\n",
        "    min=10,\n",
        "    max=100,\n",
        "    step=1,\n",
        "    description='Impact index from:',\n",
        "    disabled=False,\n",
        "    continuous_update=True,\n",
        "    orientation='horizontal',\n",
        "    readout=True,\n",
        "    readout_format='d',\n",
        "    style=style\n",
        ")\n",
        "#Employment checkbox\n",
        "chk_employment = widgets.Checkbox(\n",
        "    value=True,\n",
        "    description='Employment',\n",
        "    disabled=False,\n",
        "    indent=False,\n",
        "    continuous_updates=True\n",
        ")\n",
        "#Residential Dwellings checkbox\n",
        "chk_resident = widgets.Checkbox(\n",
        "    value=True,\n",
        "    description='Residential Dwellings',\n",
        "    disabled=False,\n",
        "    indent=False,\n",
        "    continuous_update=True\n",
        ")\n"
      ],
      "execution_count": 74,
      "outputs": []
    },
    {
      "cell_type": "code",
      "metadata": {
        "colab": {
          "base_uri": "https://localhost:8080/",
          "height": 1000,
          "referenced_widgets": [
            "0c97393efc2a46d9aacd392575a46fed",
            "8d9c0fc216624f20a0835a4c974d476b",
            "be2785a3539c4614ac6477923eb66299",
            "ea02504a0d854f008366d05ca4701096",
            "3f77c3427b1b496a90dded082c013905",
            "2ffcdac88207478cab41ba46861968b0",
            "5caae2cecd6843eab111249c24764a7b",
            "5c133dafe628499db83d28870f5086d5",
            "b80480b1bfc443eabdf5e55b8d089bb3",
            "6df704c6c8c14894830c4287e99d202c",
            "9298998288954ceab177bc4e0e75916e",
            "9d57c009e27847c1ad52ccdb6094fa0f",
            "1b2b2e70ba33495a9f72a5e74bece2fc",
            "186ed54767b742819176af86c99c14fe",
            "e49f88f0a92b4fc293fced9d197b57f8",
            "baf2e7e0b724481792f610ddfa7ff1e3",
            "50cd40e8a6e840de83c1f41d01ddd121",
            "08a988e9e60e4444b5ddfa3f02c32152",
            "0f44a3adfeb24d019b70b64a55605073"
          ]
        },
        "id": "omj0ACtQcOp1",
        "outputId": "2eb9cafc-47a7-4e6d-ea77-22a2168aed3d"
      },
      "source": [
        "def f(Year_to_include,Employment,Residential_dwellings, Impact_level):\n",
        "  import warnings\n",
        "  warnings.filterwarnings(\"ignore\") #remove dataframe warning\n",
        "  print('='*23)\n",
        "  print('|DATA ANALYSIS RESULTS|')\n",
        "  print('='*23)\n",
        "  print('(NOTE: The city blocks without parking information available are ignored by our analyzing model.\\n\\n')\n",
        "  if (not(Employment)) & (not(Residential_dwellings)):\n",
        "    Employment = True  #Prevent both data features are unticked ==> Error\n",
        "\n",
        "  #Get the filtered data for analysis\n",
        "  X, Y = Get_data(data,Year_to_include,Employment,Residential_dwellings)\n",
        "  #Build regression model\n",
        "  lm = lm_model(X,Y)\n",
        "  #Get the predicted results\n",
        "  predict_results = Get_predict_result(lm, data, Employment, Residential_dwellings)\n",
        "  #Plot the barchart of the predicted results\n",
        "  bar_plot(predict_results, Impact_level)\n",
        "  #Show table of the impacted blocks in detail table\n",
        "  print('\\n\\n The table below shows the impacted blocks (limited parking) by the order of the impact index.\\n')\n",
        "  display(predict_results[predict_results['Impact_index']>=Impact_level].sort_values('Impact_index',ascending = False))\n",
        "\n",
        "interact_manual.opts['manual_name'] = 'Start Analyzing'\n",
        "interact_manual(f,Year_to_include=years, Employment=chk_employment, Residential_dwellings = chk_resident, Impact_level = show_impact);"
      ],
      "execution_count": 75,
      "outputs": [
        {
          "output_type": "display_data",
          "data": {
            "application/vnd.jupyter.widget-view+json": {
              "model_id": "0c97393efc2a46d9aacd392575a46fed",
              "version_minor": 0,
              "version_major": 2
            },
            "text/plain": [
              "interactive(children=(IntRangeSlider(value=(2002, 2020), description='Years to include:', max=2020, min=2002, …"
            ]
          },
          "metadata": {}
        }
      ]
    }
  ]
}