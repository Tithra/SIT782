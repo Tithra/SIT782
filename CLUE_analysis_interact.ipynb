{
  "nbformat": 4,
  "nbformat_minor": 0,
  "metadata": {
    "colab": {
      "name": "CLUE_analysis.ipynb",
      "provenance": [],
      "mount_file_id": "https://github.com/Tithra/SIT782/blob/main/CLUE_analysis_interact.ipynb",
      "authorship_tag": "ABX9TyPdXpmcIibOzA7L7tcYVNFK"
    },
    "kernelspec": {
      "name": "python3",
      "display_name": "Python 3"
    },
    "language_info": {
      "name": "python"
    },
    "widgets": {
      "application/vnd.jupyter.widget-state+json": {
        "41c1bbe2ed404ef787f41651ae02aea6": {
          "model_module": "@jupyter-widgets/controls",
          "model_name": "VBoxModel",
          "model_module_version": "1.5.0",
          "state": {
            "_view_name": "VBoxView",
            "_dom_classes": [
              "widget-interact"
            ],
            "_model_name": "VBoxModel",
            "_view_module": "@jupyter-widgets/controls",
            "_model_module_version": "1.5.0",
            "_view_count": null,
            "_view_module_version": "1.5.0",
            "box_style": "",
            "layout": "IPY_MODEL_33a057ccc16644788ea2f76489e6e94e",
            "_model_module": "@jupyter-widgets/controls",
            "children": [
              "IPY_MODEL_81548f9d393c4bdc95f7c44919fbf5a6",
              "IPY_MODEL_eb9100da33f7415aabde7d4af3bc047f",
              "IPY_MODEL_cfa76c5ae6244bea9a5f5adbea0d49be",
              "IPY_MODEL_4414ccdf047e4cd6a20cf733a651fecd",
              "IPY_MODEL_a64399faf8f14a00a1abc47ffb04d296",
              "IPY_MODEL_1eb210889d9945bf89b0a211434c808b"
            ]
          }
        },
        "33a057ccc16644788ea2f76489e6e94e": {
          "model_module": "@jupyter-widgets/base",
          "model_name": "LayoutModel",
          "model_module_version": "1.2.0",
          "state": {
            "_view_name": "LayoutView",
            "grid_template_rows": null,
            "right": null,
            "justify_content": null,
            "_view_module": "@jupyter-widgets/base",
            "overflow": null,
            "_model_module_version": "1.2.0",
            "_view_count": null,
            "flex_flow": null,
            "width": null,
            "min_width": null,
            "border": null,
            "align_items": null,
            "bottom": null,
            "_model_module": "@jupyter-widgets/base",
            "top": null,
            "grid_column": null,
            "overflow_y": null,
            "overflow_x": null,
            "grid_auto_flow": null,
            "grid_area": null,
            "grid_template_columns": null,
            "flex": null,
            "_model_name": "LayoutModel",
            "justify_items": null,
            "grid_row": null,
            "max_height": null,
            "align_content": null,
            "visibility": null,
            "align_self": null,
            "height": null,
            "min_height": null,
            "padding": null,
            "grid_auto_rows": null,
            "grid_gap": null,
            "max_width": null,
            "order": null,
            "_view_module_version": "1.2.0",
            "grid_template_areas": null,
            "object_position": null,
            "object_fit": null,
            "grid_auto_columns": null,
            "margin": null,
            "display": null,
            "left": null
          }
        },
        "81548f9d393c4bdc95f7c44919fbf5a6": {
          "model_module": "@jupyter-widgets/controls",
          "model_name": "IntRangeSliderModel",
          "model_module_version": "1.5.0",
          "state": {
            "_view_name": "IntRangeSliderView",
            "style": "IPY_MODEL_bee2c6fcd8484b4b8f654cd7ed428dcc",
            "_dom_classes": [],
            "description": "Years to include:",
            "step": 1,
            "_model_name": "IntRangeSliderModel",
            "orientation": "horizontal",
            "max": 2020,
            "_view_module": "@jupyter-widgets/controls",
            "_model_module_version": "1.5.0",
            "value": [
              2010,
              2020
            ],
            "_view_count": null,
            "disabled": false,
            "_view_module_version": "1.5.0",
            "min": 2002,
            "continuous_update": true,
            "readout_format": "d",
            "description_tooltip": null,
            "readout": true,
            "_model_module": "@jupyter-widgets/controls",
            "layout": "IPY_MODEL_c76d14a1ed024ac69a0865ec93f22509"
          }
        },
        "eb9100da33f7415aabde7d4af3bc047f": {
          "model_module": "@jupyter-widgets/controls",
          "model_name": "CheckboxModel",
          "model_module_version": "1.5.0",
          "state": {
            "_view_name": "CheckboxView",
            "style": "IPY_MODEL_61453f31f825499aa6973e6eab268a30",
            "_dom_classes": [],
            "description": "Employment",
            "_model_name": "CheckboxModel",
            "_view_module": "@jupyter-widgets/controls",
            "_model_module_version": "1.5.0",
            "value": false,
            "_view_count": null,
            "disabled": false,
            "_view_module_version": "1.5.0",
            "indent": false,
            "description_tooltip": null,
            "_model_module": "@jupyter-widgets/controls",
            "layout": "IPY_MODEL_a6b2a1e3f2f5416f98c61a13dbc82844"
          }
        },
        "cfa76c5ae6244bea9a5f5adbea0d49be": {
          "model_module": "@jupyter-widgets/controls",
          "model_name": "CheckboxModel",
          "model_module_version": "1.5.0",
          "state": {
            "_view_name": "CheckboxView",
            "style": "IPY_MODEL_c751817ab7e84c078122b447472792c6",
            "_dom_classes": [],
            "description": "Residential Dwellings",
            "_model_name": "CheckboxModel",
            "_view_module": "@jupyter-widgets/controls",
            "_model_module_version": "1.5.0",
            "value": true,
            "_view_count": null,
            "disabled": false,
            "_view_module_version": "1.5.0",
            "indent": false,
            "description_tooltip": null,
            "_model_module": "@jupyter-widgets/controls",
            "layout": "IPY_MODEL_fdc9c8d712f2439a9a2f390b1350f6f9"
          }
        },
        "4414ccdf047e4cd6a20cf733a651fecd": {
          "model_module": "@jupyter-widgets/controls",
          "model_name": "IntSliderModel",
          "model_module_version": "1.5.0",
          "state": {
            "_view_name": "IntSliderView",
            "style": "IPY_MODEL_3da8c074860a42f7b9e996e0bbecda02",
            "_dom_classes": [],
            "description": "Impact index from:",
            "step": 1,
            "_model_name": "IntSliderModel",
            "orientation": "horizontal",
            "max": 100,
            "_view_module": "@jupyter-widgets/controls",
            "_model_module_version": "1.5.0",
            "value": 20,
            "_view_count": null,
            "disabled": false,
            "_view_module_version": "1.5.0",
            "min": 10,
            "continuous_update": true,
            "readout_format": "d",
            "description_tooltip": null,
            "readout": true,
            "_model_module": "@jupyter-widgets/controls",
            "layout": "IPY_MODEL_074d69c44e9b45819785f9168c87353f"
          }
        },
        "a64399faf8f14a00a1abc47ffb04d296": {
          "model_module": "@jupyter-widgets/controls",
          "model_name": "ButtonModel",
          "model_module_version": "1.5.0",
          "state": {
            "_view_name": "ButtonView",
            "style": "IPY_MODEL_0a0512bb203a4186824d9f5a8df9c7ac",
            "_dom_classes": [],
            "description": "Start Analyzing",
            "_model_name": "ButtonModel",
            "button_style": "",
            "_view_module": "@jupyter-widgets/controls",
            "_model_module_version": "1.5.0",
            "tooltip": "",
            "_view_count": null,
            "disabled": false,
            "_view_module_version": "1.5.0",
            "layout": "IPY_MODEL_729629479c26426bbf625adbe769bf3c",
            "_model_module": "@jupyter-widgets/controls",
            "icon": ""
          }
        },
        "1eb210889d9945bf89b0a211434c808b": {
          "model_module": "@jupyter-widgets/output",
          "model_name": "OutputModel",
          "model_module_version": "1.0.0",
          "state": {
            "_view_name": "OutputView",
            "msg_id": "",
            "_dom_classes": [],
            "_model_name": "OutputModel",
            "outputs": [
              {
                "output_type": "stream",
                "name": "stdout",
                "text": [
                  "=======================\n",
                  "|DATA ANALYSIS RESULTS|\n",
                  "=======================\n"
                ]
              },
              {
                "output_type": "display_data",
                "data": {
                  "image/png": "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\n",
                  "text/plain": "<Figure size 972x360 with 1 Axes>"
                },
                "metadata": {}
              },
              {
                "output_type": "stream",
                "name": "stdout",
                "text": [
                  "\n",
                  "\n",
                  " The table below shows the impacted blocks (limited parking) by order of impact index.\n",
                  "\n"
                ]
              },
              {
                "output_type": "display_data",
                "data": {
                  "text/html": "<div>\n<style scoped>\n    .dataframe tbody tr th:only-of-type {\n        vertical-align: middle;\n    }\n\n    .dataframe tbody tr th {\n        vertical-align: top;\n    }\n\n    .dataframe thead th {\n        text-align: right;\n    }\n</style>\n<table border=\"1\" class=\"dataframe\">\n  <thead>\n    <tr style=\"text-align: right;\">\n      <th></th>\n      <th>CLUE small area</th>\n      <th>Dwelling number</th>\n      <th>Total employment in block</th>\n      <th>Parking spaces</th>\n      <th>Predict_parking</th>\n      <th>Impact_index</th>\n    </tr>\n    <tr>\n      <th>Block ID</th>\n      <th></th>\n      <th></th>\n      <th></th>\n      <th></th>\n      <th></th>\n      <th></th>\n    </tr>\n  </thead>\n  <tbody>\n    <tr>\n      <th>264</th>\n      <td>Carlton</td>\n      <td>1806</td>\n      <td>175.0</td>\n      <td>450</td>\n      <td>2051.0</td>\n      <td>100.000000</td>\n    </tr>\n    <tr>\n      <th>61</th>\n      <td>Melbourne (CBD)</td>\n      <td>2609</td>\n      <td>511.0</td>\n      <td>1356</td>\n      <td>2876.0</td>\n      <td>94.940662</td>\n    </tr>\n    <tr>\n      <th>95</th>\n      <td>Melbourne (CBD)</td>\n      <td>1745</td>\n      <td>606.0</td>\n      <td>548</td>\n      <td>1988.0</td>\n      <td>89.943785</td>\n    </tr>\n    <tr>\n      <th>84</th>\n      <td>Melbourne (CBD)</td>\n      <td>1493</td>\n      <td>759.0</td>\n      <td>344</td>\n      <td>1729.0</td>\n      <td>86.508432</td>\n    </tr>\n    <tr>\n      <th>105</th>\n      <td>Melbourne (CBD)</td>\n      <td>1729</td>\n      <td>1067.0</td>\n      <td>639</td>\n      <td>1972.0</td>\n      <td>83.260462</td>\n    </tr>\n    <tr>\n      <th>212</th>\n      <td>Carlton</td>\n      <td>1857</td>\n      <td>293.0</td>\n      <td>1000</td>\n      <td>2103.0</td>\n      <td>68.894441</td>\n    </tr>\n    <tr>\n      <th>15</th>\n      <td>Melbourne (CBD)</td>\n      <td>659</td>\n      <td>2139.0</td>\n      <td>93</td>\n      <td>873.0</td>\n      <td>48.719550</td>\n    </tr>\n    <tr>\n      <th>87</th>\n      <td>Melbourne (CBD)</td>\n      <td>915</td>\n      <td>4366.0</td>\n      <td>387</td>\n      <td>1136.0</td>\n      <td>46.783260</td>\n    </tr>\n    <tr>\n      <th>257</th>\n      <td>Carlton</td>\n      <td>669</td>\n      <td>674.0</td>\n      <td>142</td>\n      <td>883.0</td>\n      <td>46.283573</td>\n    </tr>\n    <tr>\n      <th>255</th>\n      <td>Carlton</td>\n      <td>699</td>\n      <td>331.0</td>\n      <td>273</td>\n      <td>914.0</td>\n      <td>40.037477</td>\n    </tr>\n    <tr>\n      <th>103</th>\n      <td>Melbourne (CBD)</td>\n      <td>638</td>\n      <td>453.0</td>\n      <td>293</td>\n      <td>851.0</td>\n      <td>34.853217</td>\n    </tr>\n    <tr>\n      <th>115</th>\n      <td>Melbourne (CBD)</td>\n      <td>2173</td>\n      <td>1431.0</td>\n      <td>1888</td>\n      <td>2428.0</td>\n      <td>33.728919</td>\n    </tr>\n    <tr>\n      <th>378</th>\n      <td>North Melbourne</td>\n      <td>683</td>\n      <td>252.0</td>\n      <td>396</td>\n      <td>897.0</td>\n      <td>31.292942</td>\n    </tr>\n    <tr>\n      <th>11</th>\n      <td>Melbourne (CBD)</td>\n      <td>690</td>\n      <td>824.0</td>\n      <td>417</td>\n      <td>904.0</td>\n      <td>30.418488</td>\n    </tr>\n    <tr>\n      <th>260</th>\n      <td>Carlton</td>\n      <td>393</td>\n      <td>110.0</td>\n      <td>137</td>\n      <td>599.0</td>\n      <td>28.856964</td>\n    </tr>\n    <tr>\n      <th>520</th>\n      <td>Kensington</td>\n      <td>922</td>\n      <td>13.0</td>\n      <td>710</td>\n      <td>1143.0</td>\n      <td>27.045597</td>\n    </tr>\n    <tr>\n      <th>71</th>\n      <td>Melbourne (CBD)</td>\n      <td>1028</td>\n      <td>117.0</td>\n      <td>823</td>\n      <td>1252.0</td>\n      <td>26.795753</td>\n    </tr>\n    <tr>\n      <th>733</th>\n      <td>Southbank</td>\n      <td>373</td>\n      <td>63.0</td>\n      <td>150</td>\n      <td>579.0</td>\n      <td>26.795753</td>\n    </tr>\n    <tr>\n      <th>377</th>\n      <td>North Melbourne</td>\n      <td>501</td>\n      <td>639.0</td>\n      <td>283</td>\n      <td>710.0</td>\n      <td>26.670831</td>\n    </tr>\n    <tr>\n      <th>811</th>\n      <td>Southbank</td>\n      <td>1577</td>\n      <td>72.0</td>\n      <td>1395</td>\n      <td>1816.0</td>\n      <td>26.296065</td>\n    </tr>\n    <tr>\n      <th>2392</th>\n      <td>North Melbourne</td>\n      <td>279</td>\n      <td>34.0</td>\n      <td>61</td>\n      <td>482.0</td>\n      <td>26.296065</td>\n    </tr>\n    <tr>\n      <th>111</th>\n      <td>West Melbourne (Residential)</td>\n      <td>479</td>\n      <td>185.0</td>\n      <td>268</td>\n      <td>688.0</td>\n      <td>26.233604</td>\n    </tr>\n    <tr>\n      <th>263</th>\n      <td>Carlton</td>\n      <td>562</td>\n      <td>1184.0</td>\n      <td>354</td>\n      <td>773.0</td>\n      <td>26.171143</td>\n    </tr>\n    <tr>\n      <th>376</th>\n      <td>North Melbourne</td>\n      <td>593</td>\n      <td>703.0</td>\n      <td>387</td>\n      <td>805.0</td>\n      <td>26.108682</td>\n    </tr>\n    <tr>\n      <th>810</th>\n      <td>Southbank</td>\n      <td>2194</td>\n      <td>48.0</td>\n      <td>2079</td>\n      <td>2449.0</td>\n      <td>23.110556</td>\n    </tr>\n    <tr>\n      <th>258</th>\n      <td>Carlton</td>\n      <td>252</td>\n      <td>225.0</td>\n      <td>87</td>\n      <td>455.0</td>\n      <td>22.985634</td>\n    </tr>\n    <tr>\n      <th>266</th>\n      <td>Carlton</td>\n      <td>214</td>\n      <td>343.0</td>\n      <td>48</td>\n      <td>415.0</td>\n      <td>22.923173</td>\n    </tr>\n  </tbody>\n</table>\n</div>",
                  "text/plain": "                       CLUE small area  ...  Impact_index\nBlock ID                                ...              \n264                            Carlton  ...    100.000000\n61                     Melbourne (CBD)  ...     94.940662\n95                     Melbourne (CBD)  ...     89.943785\n84                     Melbourne (CBD)  ...     86.508432\n105                    Melbourne (CBD)  ...     83.260462\n212                            Carlton  ...     68.894441\n15                     Melbourne (CBD)  ...     48.719550\n87                     Melbourne (CBD)  ...     46.783260\n257                            Carlton  ...     46.283573\n255                            Carlton  ...     40.037477\n103                    Melbourne (CBD)  ...     34.853217\n115                    Melbourne (CBD)  ...     33.728919\n378                    North Melbourne  ...     31.292942\n11                     Melbourne (CBD)  ...     30.418488\n260                            Carlton  ...     28.856964\n520                         Kensington  ...     27.045597\n71                     Melbourne (CBD)  ...     26.795753\n733                          Southbank  ...     26.795753\n377                    North Melbourne  ...     26.670831\n811                          Southbank  ...     26.296065\n2392                   North Melbourne  ...     26.296065\n111       West Melbourne (Residential)  ...     26.233604\n263                            Carlton  ...     26.171143\n376                    North Melbourne  ...     26.108682\n810                          Southbank  ...     23.110556\n258                            Carlton  ...     22.985634\n266                            Carlton  ...     22.923173\n\n[27 rows x 6 columns]"
                },
                "metadata": {}
              }
            ],
            "_view_module": "@jupyter-widgets/output",
            "_model_module_version": "1.0.0",
            "_view_count": null,
            "_view_module_version": "1.0.0",
            "layout": "IPY_MODEL_4ba8bb57050b4441a7994a82aa6138b1",
            "_model_module": "@jupyter-widgets/output"
          }
        },
        "bee2c6fcd8484b4b8f654cd7ed428dcc": {
          "model_module": "@jupyter-widgets/controls",
          "model_name": "SliderStyleModel",
          "model_module_version": "1.5.0",
          "state": {
            "_view_name": "StyleView",
            "handle_color": null,
            "_model_name": "SliderStyleModel",
            "description_width": "initial",
            "_view_module": "@jupyter-widgets/base",
            "_model_module_version": "1.5.0",
            "_view_count": null,
            "_view_module_version": "1.2.0",
            "_model_module": "@jupyter-widgets/controls"
          }
        },
        "c76d14a1ed024ac69a0865ec93f22509": {
          "model_module": "@jupyter-widgets/base",
          "model_name": "LayoutModel",
          "model_module_version": "1.2.0",
          "state": {
            "_view_name": "LayoutView",
            "grid_template_rows": null,
            "right": null,
            "justify_content": null,
            "_view_module": "@jupyter-widgets/base",
            "overflow": null,
            "_model_module_version": "1.2.0",
            "_view_count": null,
            "flex_flow": null,
            "width": null,
            "min_width": null,
            "border": null,
            "align_items": null,
            "bottom": null,
            "_model_module": "@jupyter-widgets/base",
            "top": null,
            "grid_column": null,
            "overflow_y": null,
            "overflow_x": null,
            "grid_auto_flow": null,
            "grid_area": null,
            "grid_template_columns": null,
            "flex": null,
            "_model_name": "LayoutModel",
            "justify_items": null,
            "grid_row": null,
            "max_height": null,
            "align_content": null,
            "visibility": null,
            "align_self": null,
            "height": null,
            "min_height": null,
            "padding": null,
            "grid_auto_rows": null,
            "grid_gap": null,
            "max_width": null,
            "order": null,
            "_view_module_version": "1.2.0",
            "grid_template_areas": null,
            "object_position": null,
            "object_fit": null,
            "grid_auto_columns": null,
            "margin": null,
            "display": null,
            "left": null
          }
        },
        "61453f31f825499aa6973e6eab268a30": {
          "model_module": "@jupyter-widgets/controls",
          "model_name": "DescriptionStyleModel",
          "model_module_version": "1.5.0",
          "state": {
            "_view_name": "StyleView",
            "_model_name": "DescriptionStyleModel",
            "description_width": "",
            "_view_module": "@jupyter-widgets/base",
            "_model_module_version": "1.5.0",
            "_view_count": null,
            "_view_module_version": "1.2.0",
            "_model_module": "@jupyter-widgets/controls"
          }
        },
        "a6b2a1e3f2f5416f98c61a13dbc82844": {
          "model_module": "@jupyter-widgets/base",
          "model_name": "LayoutModel",
          "model_module_version": "1.2.0",
          "state": {
            "_view_name": "LayoutView",
            "grid_template_rows": null,
            "right": null,
            "justify_content": null,
            "_view_module": "@jupyter-widgets/base",
            "overflow": null,
            "_model_module_version": "1.2.0",
            "_view_count": null,
            "flex_flow": null,
            "width": null,
            "min_width": null,
            "border": null,
            "align_items": null,
            "bottom": null,
            "_model_module": "@jupyter-widgets/base",
            "top": null,
            "grid_column": null,
            "overflow_y": null,
            "overflow_x": null,
            "grid_auto_flow": null,
            "grid_area": null,
            "grid_template_columns": null,
            "flex": null,
            "_model_name": "LayoutModel",
            "justify_items": null,
            "grid_row": null,
            "max_height": null,
            "align_content": null,
            "visibility": null,
            "align_self": null,
            "height": null,
            "min_height": null,
            "padding": null,
            "grid_auto_rows": null,
            "grid_gap": null,
            "max_width": null,
            "order": null,
            "_view_module_version": "1.2.0",
            "grid_template_areas": null,
            "object_position": null,
            "object_fit": null,
            "grid_auto_columns": null,
            "margin": null,
            "display": null,
            "left": null
          }
        },
        "c751817ab7e84c078122b447472792c6": {
          "model_module": "@jupyter-widgets/controls",
          "model_name": "DescriptionStyleModel",
          "model_module_version": "1.5.0",
          "state": {
            "_view_name": "StyleView",
            "_model_name": "DescriptionStyleModel",
            "description_width": "",
            "_view_module": "@jupyter-widgets/base",
            "_model_module_version": "1.5.0",
            "_view_count": null,
            "_view_module_version": "1.2.0",
            "_model_module": "@jupyter-widgets/controls"
          }
        },
        "fdc9c8d712f2439a9a2f390b1350f6f9": {
          "model_module": "@jupyter-widgets/base",
          "model_name": "LayoutModel",
          "model_module_version": "1.2.0",
          "state": {
            "_view_name": "LayoutView",
            "grid_template_rows": null,
            "right": null,
            "justify_content": null,
            "_view_module": "@jupyter-widgets/base",
            "overflow": null,
            "_model_module_version": "1.2.0",
            "_view_count": null,
            "flex_flow": null,
            "width": null,
            "min_width": null,
            "border": null,
            "align_items": null,
            "bottom": null,
            "_model_module": "@jupyter-widgets/base",
            "top": null,
            "grid_column": null,
            "overflow_y": null,
            "overflow_x": null,
            "grid_auto_flow": null,
            "grid_area": null,
            "grid_template_columns": null,
            "flex": null,
            "_model_name": "LayoutModel",
            "justify_items": null,
            "grid_row": null,
            "max_height": null,
            "align_content": null,
            "visibility": null,
            "align_self": null,
            "height": null,
            "min_height": null,
            "padding": null,
            "grid_auto_rows": null,
            "grid_gap": null,
            "max_width": null,
            "order": null,
            "_view_module_version": "1.2.0",
            "grid_template_areas": null,
            "object_position": null,
            "object_fit": null,
            "grid_auto_columns": null,
            "margin": null,
            "display": null,
            "left": null
          }
        },
        "3da8c074860a42f7b9e996e0bbecda02": {
          "model_module": "@jupyter-widgets/controls",
          "model_name": "SliderStyleModel",
          "model_module_version": "1.5.0",
          "state": {
            "_view_name": "StyleView",
            "handle_color": null,
            "_model_name": "SliderStyleModel",
            "description_width": "initial",
            "_view_module": "@jupyter-widgets/base",
            "_model_module_version": "1.5.0",
            "_view_count": null,
            "_view_module_version": "1.2.0",
            "_model_module": "@jupyter-widgets/controls"
          }
        },
        "074d69c44e9b45819785f9168c87353f": {
          "model_module": "@jupyter-widgets/base",
          "model_name": "LayoutModel",
          "model_module_version": "1.2.0",
          "state": {
            "_view_name": "LayoutView",
            "grid_template_rows": null,
            "right": null,
            "justify_content": null,
            "_view_module": "@jupyter-widgets/base",
            "overflow": null,
            "_model_module_version": "1.2.0",
            "_view_count": null,
            "flex_flow": null,
            "width": null,
            "min_width": null,
            "border": null,
            "align_items": null,
            "bottom": null,
            "_model_module": "@jupyter-widgets/base",
            "top": null,
            "grid_column": null,
            "overflow_y": null,
            "overflow_x": null,
            "grid_auto_flow": null,
            "grid_area": null,
            "grid_template_columns": null,
            "flex": null,
            "_model_name": "LayoutModel",
            "justify_items": null,
            "grid_row": null,
            "max_height": null,
            "align_content": null,
            "visibility": null,
            "align_self": null,
            "height": null,
            "min_height": null,
            "padding": null,
            "grid_auto_rows": null,
            "grid_gap": null,
            "max_width": null,
            "order": null,
            "_view_module_version": "1.2.0",
            "grid_template_areas": null,
            "object_position": null,
            "object_fit": null,
            "grid_auto_columns": null,
            "margin": null,
            "display": null,
            "left": null
          }
        },
        "0a0512bb203a4186824d9f5a8df9c7ac": {
          "model_module": "@jupyter-widgets/controls",
          "model_name": "ButtonStyleModel",
          "model_module_version": "1.5.0",
          "state": {
            "_view_name": "StyleView",
            "_model_name": "ButtonStyleModel",
            "_view_module": "@jupyter-widgets/base",
            "_model_module_version": "1.5.0",
            "_view_count": null,
            "button_color": null,
            "font_weight": "",
            "_view_module_version": "1.2.0",
            "_model_module": "@jupyter-widgets/controls"
          }
        },
        "729629479c26426bbf625adbe769bf3c": {
          "model_module": "@jupyter-widgets/base",
          "model_name": "LayoutModel",
          "model_module_version": "1.2.0",
          "state": {
            "_view_name": "LayoutView",
            "grid_template_rows": null,
            "right": null,
            "justify_content": null,
            "_view_module": "@jupyter-widgets/base",
            "overflow": null,
            "_model_module_version": "1.2.0",
            "_view_count": null,
            "flex_flow": null,
            "width": null,
            "min_width": null,
            "border": null,
            "align_items": null,
            "bottom": null,
            "_model_module": "@jupyter-widgets/base",
            "top": null,
            "grid_column": null,
            "overflow_y": null,
            "overflow_x": null,
            "grid_auto_flow": null,
            "grid_area": null,
            "grid_template_columns": null,
            "flex": null,
            "_model_name": "LayoutModel",
            "justify_items": null,
            "grid_row": null,
            "max_height": null,
            "align_content": null,
            "visibility": null,
            "align_self": null,
            "height": null,
            "min_height": null,
            "padding": null,
            "grid_auto_rows": null,
            "grid_gap": null,
            "max_width": null,
            "order": null,
            "_view_module_version": "1.2.0",
            "grid_template_areas": null,
            "object_position": null,
            "object_fit": null,
            "grid_auto_columns": null,
            "margin": null,
            "display": null,
            "left": null
          }
        },
        "4ba8bb57050b4441a7994a82aa6138b1": {
          "model_module": "@jupyter-widgets/base",
          "model_name": "LayoutModel",
          "model_module_version": "1.2.0",
          "state": {
            "_view_name": "LayoutView",
            "grid_template_rows": null,
            "right": null,
            "justify_content": null,
            "_view_module": "@jupyter-widgets/base",
            "overflow": null,
            "_model_module_version": "1.2.0",
            "_view_count": null,
            "flex_flow": null,
            "width": null,
            "min_width": null,
            "border": null,
            "align_items": null,
            "bottom": null,
            "_model_module": "@jupyter-widgets/base",
            "top": null,
            "grid_column": null,
            "overflow_y": null,
            "overflow_x": null,
            "grid_auto_flow": null,
            "grid_area": null,
            "grid_template_columns": null,
            "flex": null,
            "_model_name": "LayoutModel",
            "justify_items": null,
            "grid_row": null,
            "max_height": null,
            "align_content": null,
            "visibility": null,
            "align_self": null,
            "height": null,
            "min_height": null,
            "padding": null,
            "grid_auto_rows": null,
            "grid_gap": null,
            "max_width": null,
            "order": null,
            "_view_module_version": "1.2.0",
            "grid_template_areas": null,
            "object_position": null,
            "object_fit": null,
            "grid_auto_columns": null,
            "margin": null,
            "display": null,
            "left": null
          }
        }
      }
    }
  },
  "cells": [
    {
      "cell_type": "code",
      "metadata": {
        "id": "wPNGAqnKDZX7"
      },
      "source": [
        "#pip install nbinteract"
      ],
      "execution_count": 1,
      "outputs": []
    },
    {
      "cell_type": "markdown",
      "metadata": {
        "id": "uZhOb2ODsEBk"
      },
      "source": [
        "### A case study: using CLUE datasets of Melbourne Open Data\n",
        "\n",
        "# **Where should public transportation be enhanced in the city of Melbourne?**\n",
        "\n",
        "The City of Melbourne has always evolved, and so have the numbers of its residential dwellings and employment population (based on data available on Melbourne Open Data). Without a consistent or parallel increase of off-street parking, the city will face the difficulty in providing enough spaces for parking of private transportation. To resolve this problem, the city planner needs to locate the potential areas where extension of public transportation should be implemented to replace the need for off-street parking.\n",
        "\n",
        "\n",
        "## Purpose: \n",
        "This case study is intended to provide educational instructions of how CLUE datasets can be used for city planners or individuals whose have some knowledge in data analysis.\n",
        "\n",
        "## Pre-requisite skills:\n",
        "- Python scripting (Basic)\n",
        "- Data analysis (Basic EDA and visualizations)\n",
        "\n",
        "## Solution:\n",
        "By looking at the population trend of residential dwellings and employments at different Melbourne city blocks, the city planner can project amount of public transportation services necessary to sufficiently accommodate potential travellers to or/and from those city blocks.\n",
        "\n"
      ]
    },
    {
      "cell_type": "markdown",
      "metadata": {
        "id": "biCQO7dcoyUL"
      },
      "source": [
        "# **Working with Residential dwelling datasets**"
      ]
    },
    {
      "cell_type": "code",
      "metadata": {
        "id": "stROK9yMyX34",
        "colab": {
          "base_uri": "https://localhost:8080/",
          "height": 411
        },
        "outputId": "41da5df1-0c59-420c-84e8-8c98397c5edd"
      },
      "source": [
        "#CLUE datasets\n",
        "#======================================================\n",
        "import pandas as pd\n",
        "import seaborn as sns\n",
        "sns.set_theme(color_codes=True)\n",
        "\n",
        "#Residential dwellings data\n",
        "resident = pd.read_csv('/content/drive/MyDrive/Notebooks/SIT782/CLUE/Residential_dwellings.csv')\n",
        "\n",
        "#Total records before cleaning\n",
        "print('Total records before cleaning is',len(resident))\n",
        "\n",
        "#Data cleaning (remove duplicated values)\n",
        "resident.drop_duplicates(inplace = True)\n",
        "\n",
        "#Total records after cleaning\n",
        "print('Total records before cleaning is',len(resident))\n",
        "\n",
        "#Select only necessary columns\n",
        "selected_columns =['Census year','Block ID','CLUE small area','Dwelling number']\n",
        "resident = resident[selected_columns]\n",
        "\n",
        "#Sum the Dwelling number based on Block ID and Year\n",
        "resident_by_block = resident.groupby(['Census year','Block ID']).agg({'CLUE small area':'max','Dwelling number':'sum'})\n",
        "\n",
        "#plot the residential dwellings\n",
        "xTicks = range(2002,2020,1)\n",
        "resident_by_block.groupby(['Census year']).sum()[:-1].plot.line(xticks = xTicks,\n",
        "                                                                figsize=(10,5),\n",
        "                                                                title='Residential Dwelling Trend',\n",
        "                                                                ylabel = 'Dwelling number')"
      ],
      "execution_count": 2,
      "outputs": [
        {
          "output_type": "stream",
          "name": "stdout",
          "text": [
            "Total records before cleaning is 177733\n",
            "Total records before cleaning is 177729\n"
          ]
        },
        {
          "output_type": "execute_result",
          "data": {
            "text/plain": [
              "<matplotlib.axes._subplots.AxesSubplot at 0x7f9c02a3c590>"
            ]
          },
          "metadata": {},
          "execution_count": 2
        },
        {
          "output_type": "display_data",
          "data": {
            "image/png": "[encoded data removed]",
            "text/plain": [
              "<Figure size 720x360 with 1 Axes>"
            ]
          },
          "metadata": {}
        }
      ]
    },
    {
      "cell_type": "markdown",
      "metadata": {
        "id": "G2ZGGFzqoqrA"
      },
      "source": [
        "# **Working with Emploment datasets**"
      ]
    },
    {
      "cell_type": "code",
      "metadata": {
        "id": "aT1K2LltF-A-",
        "colab": {
          "base_uri": "https://localhost:8080/",
          "height": 411
        },
        "outputId": "804cb34e-332a-4e59-a854-51407796d0ac"
      },
      "source": [
        "#Employment data\n",
        "employment = pd.read_csv('/content/drive/MyDrive/Notebooks/SIT782/CLUE/Employment_by_block_by_CLUE_industry.csv')\n",
        "\n",
        "#Total records before cleaning\n",
        "print('Total records before cleaning is',len(employment))\n",
        "\n",
        "#Cleaning the data (remove missing values at [Total employment in block])\n",
        "employment.dropna(subset=['Total employment in block'],inplace=True)\n",
        "\n",
        "#Total records after cleaning\n",
        "print('Total records afer cleaning is',len(employment))\n",
        "\n",
        "#Select only necessary columns\n",
        "selected_columns =['Census year','Block ID','Total employment in block']\n",
        "employment = employment[selected_columns]\n",
        "employment\n",
        "\n",
        "#Sum the employment based on Block ID and Year\n",
        "employment_by_block = resident.groupby(['Census year','Block ID']).sum()\n",
        "\n",
        "#Sum the employment number based on Block ID and Year\n",
        "employment_by_block = employment.groupby(['Census year','Block ID']).sum()\n",
        "\n",
        "#plot the residential dwellings\n",
        "xTicks = range(2002,2020,1)\n",
        "employment_by_block.groupby(['Census year']).sum()[:-1].plot.line(xticks = xTicks,\n",
        "                                                                figsize=(10,5),\n",
        "                                                                title='Employment Trend',\n",
        "                                                                ylabel = 'Employment number (Million unit)'\n",
        "                                                                )"
      ],
      "execution_count": 3,
      "outputs": [
        {
          "output_type": "stream",
          "name": "stdout",
          "text": [
            "Total records before cleaning is 11182\n",
            "Total records afer cleaning is 8759\n"
          ]
        },
        {
          "output_type": "execute_result",
          "data": {
            "text/plain": [
              "<matplotlib.axes._subplots.AxesSubplot at 0x7f9c02ab1390>"
            ]
          },
          "metadata": {},
          "execution_count": 3
        },
        {
          "output_type": "display_data",
          "data": {
            "image/png": "[encoded data removed]",
            "text/plain": [
              "<Figure size 720x360 with 1 Axes>"
            ]
          },
          "metadata": {}
        }
      ]
    },
    {
      "cell_type": "markdown",
      "metadata": {
        "id": "qop-Dmtrn7Bf"
      },
      "source": [
        "# **Working with Off-street Parking datasets**"
      ]
    },
    {
      "cell_type": "code",
      "metadata": {
        "id": "YUX3USheHzpg",
        "colab": {
          "base_uri": "https://localhost:8080/",
          "height": 493
        },
        "outputId": "70d8aeab-f8b3-49d0-d594-f45e94e1d0ea"
      },
      "source": [
        "#Off-street parking data\n",
        "parking = pd.read_csv('/content/drive/MyDrive/Notebooks/SIT782/CLUE/Off-street_car_parks_with_capacity_and_type.csv')\n",
        "\n",
        "#Total records before cleaning\n",
        "print('Total records before cleaning is',len(parking))\n",
        "\n",
        "#Data cleaning (remove duplicate values)\n",
        "parking.drop_duplicates(inplace=True)\n",
        "\n",
        "#Total records after cleaning\n",
        "print('Total records after cleaning is',len(parking))\n",
        "\n",
        "#Select only necessary columns\n",
        "selected_columns =['Census year','Block ID','Parking spaces']\n",
        "parking = parking[selected_columns]\n",
        "\n",
        "#Sum the parking based on Block ID and Year\n",
        "parking_by_block = parking.groupby(['Census year','Block ID']).sum()\n",
        "parking_by_block\n"
      ],
      "execution_count": 4,
      "outputs": [
        {
          "output_type": "stream",
          "name": "stdout",
          "text": [
            "Total records before cleaning is 124114\n",
            "Total records after cleaning is 122461\n"
          ]
        },
        {
          "output_type": "execute_result",
          "data": {
            "text/html": [
              "<div>\n",
              "<style scoped>\n",
              "    .dataframe tbody tr th:only-of-type {\n",
              "        vertical-align: middle;\n",
              "    }\n",
              "\n",
              "    .dataframe tbody tr th {\n",
              "        vertical-align: top;\n",
              "    }\n",
              "\n",
              "    .dataframe thead th {\n",
              "        text-align: right;\n",
              "    }\n",
              "</style>\n",
              "<table border=\"1\" class=\"dataframe\">\n",
              "  <thead>\n",
              "    <tr style=\"text-align: right;\">\n",
              "      <th></th>\n",
              "      <th></th>\n",
              "      <th>Parking spaces</th>\n",
              "    </tr>\n",
              "    <tr>\n",
              "      <th>Census year</th>\n",
              "      <th>Block ID</th>\n",
              "      <th></th>\n",
              "    </tr>\n",
              "  </thead>\n",
              "  <tbody>\n",
              "    <tr>\n",
              "      <th rowspan=\"5\" valign=\"top\">2002</th>\n",
              "      <th>1</th>\n",
              "      <td>270</td>\n",
              "    </tr>\n",
              "    <tr>\n",
              "      <th>6</th>\n",
              "      <td>500</td>\n",
              "    </tr>\n",
              "    <tr>\n",
              "      <th>11</th>\n",
              "      <td>303</td>\n",
              "    </tr>\n",
              "    <tr>\n",
              "      <th>12</th>\n",
              "      <td>749</td>\n",
              "    </tr>\n",
              "    <tr>\n",
              "      <th>13</th>\n",
              "      <td>622</td>\n",
              "    </tr>\n",
              "    <tr>\n",
              "      <th>...</th>\n",
              "      <th>...</th>\n",
              "      <td>...</td>\n",
              "    </tr>\n",
              "    <tr>\n",
              "      <th rowspan=\"5\" valign=\"top\">2020</th>\n",
              "      <th>2543</th>\n",
              "      <td>1</td>\n",
              "    </tr>\n",
              "    <tr>\n",
              "      <th>2544</th>\n",
              "      <td>39</td>\n",
              "    </tr>\n",
              "    <tr>\n",
              "      <th>2545</th>\n",
              "      <td>2</td>\n",
              "    </tr>\n",
              "    <tr>\n",
              "      <th>2546</th>\n",
              "      <td>16</td>\n",
              "    </tr>\n",
              "    <tr>\n",
              "      <th>2547</th>\n",
              "      <td>272</td>\n",
              "    </tr>\n",
              "  </tbody>\n",
              "</table>\n",
              "<p>9939 rows × 1 columns</p>\n",
              "</div>"
            ],
            "text/plain": [
              "                      Parking spaces\n",
              "Census year Block ID                \n",
              "2002        1                    270\n",
              "            6                    500\n",
              "            11                   303\n",
              "            12                   749\n",
              "            13                   622\n",
              "...                              ...\n",
              "2020        2543                   1\n",
              "            2544                  39\n",
              "            2545                   2\n",
              "            2546                  16\n",
              "            2547                 272\n",
              "\n",
              "[9939 rows x 1 columns]"
            ]
          },
          "metadata": {},
          "execution_count": 4
        }
      ]
    },
    {
      "cell_type": "markdown",
      "metadata": {
        "id": "_Xfatyh439UD"
      },
      "source": [
        "# **Merge and explore the 3 datasets (Resident, Employment, & Parking)**"
      ]
    },
    {
      "cell_type": "markdown",
      "metadata": {
        "id": "UMFEWTdiX6UD"
      },
      "source": [
        "Formulate the model to identify a suitable number of parking slots based on residential dwelling or employment."
      ]
    },
    {
      "cell_type": "code",
      "metadata": {
        "colab": {
          "base_uri": "https://localhost:8080/",
          "height": 585
        },
        "id": "-6X0xImgqERh",
        "outputId": "afecc1a3-e17f-4fdb-d46a-4086caa6df7e"
      },
      "source": [
        "import matplotlib.pyplot as plt\n",
        "import numpy as np\n",
        "\n",
        "#Combine the datasets\n",
        "data = resident_by_block.merge(employment_by_block, left_index= True, right_index=True)\n",
        "data = data.merge(parking_by_block,left_index=True,right_index=True)\n",
        "\n",
        "#Find the linear regression model between parking space (Y) and employment (X1)\n",
        "x1 = data['Total employment in block']\n",
        "x2 = data['Dwelling number']\n",
        "y = data['Parking spaces']\n",
        "\n",
        "#Plot the data points (Parking Spaces vs. Total Employment) and regression line\n",
        "plt.plot(x1,y,'o')\n",
        "a, b = np.polyfit(x1,y,1)\n",
        "plt.plot(x1, a*x1 + b)\n",
        "plt.title('Parking Spaces vs. Total Employment')\n",
        "plt.ylabel('Parking Spaces')\n",
        "plt.xlabel('Total Employment')\n",
        "plt.show()\n",
        "\n",
        "#Plot the data points (Parking Spaces vs. Dwelling Number) and regression line\n",
        "plt.plot(x2,y,'o')\n",
        "a, b = np.polyfit(x2,y,1)\n",
        "plt.plot(x2, a*x2 + b)\n",
        "plt.title('Parking Spaces vs. Dwelling Number')\n",
        "plt.ylabel('Parking Spaces')\n",
        "plt.xlabel('Dwelling Number')\n",
        "plt.show()\n"
      ],
      "execution_count": 5,
      "outputs": [
        {
          "output_type": "display_data",
          "data": {
            "image/png": "[encoded data removed]",
            "text/plain": [
              "<Figure size 432x288 with 1 Axes>"
            ]
          },
          "metadata": {}
        },
        {
          "output_type": "display_data",
          "data": {
            "image/png": "[encoded data removed]",
            "text/plain": [
              "<Figure size 432x288 with 1 Axes>"
            ]
          },
          "metadata": {}
        }
      ]
    },
    {
      "cell_type": "markdown",
      "metadata": {
        "id": "0I4h1N4zooQO"
      },
      "source": [
        "# **Modeling and Analyzing**"
      ]
    },
    {
      "cell_type": "markdown",
      "metadata": {
        "id": "VXTzXE8bsFFW"
      },
      "source": [
        "## Prepare the filtered data records"
      ]
    },
    {
      "cell_type": "code",
      "metadata": {
        "id": "NNnbFdxXrquN"
      },
      "source": [
        "#Prepare Data\n",
        "def Get_data(year_to_include,Employment,Resident_dwellings):\n",
        "  features = np.array(['Total employment in block', 'Dwelling number'])\n",
        "  features_to_include = features[[Employment,Resident_dwellings]] #Define the data features for the study\n",
        "  data_to_include = data.loc[min(year_to_include):max(year_to_include)] #Get the wanted rows\n",
        "  X = np.array(data_to_include[features_to_include]) #Get the independent variable(s) based on the selected features\n",
        "  Y = np.array(data_to_include['Parking spaces']) #Get the dependent variable\n",
        "  return X, Y\n",
        "#print('The study period is between: %d and %d'%(min(years_to_include),max(years_to_include)))\n"
      ],
      "execution_count": 13,
      "outputs": []
    },
    {
      "cell_type": "markdown",
      "metadata": {
        "id": "OOHNOm_NvlIU"
      },
      "source": [
        "## Build linear regression model"
      ]
    },
    {
      "cell_type": "code",
      "metadata": {
        "id": "7PRejFEtvkHq"
      },
      "source": [
        "def lm_model(X, Y):\n",
        "  from sklearn import linear_model\n",
        "  from sklearn.ensemble import IsolationForest\n",
        "  iso = IsolationForest(contamination=0.1)#use outliers detector\n",
        "  yhat = iso.fit_predict(X) #Search for outliers\n",
        "  lm = linear_model.LinearRegression() #linear regression model\n",
        "  lm.fit(X[yhat!=-1],Y[yhat!=-1]) # Train the model excluding outliers\n",
        "  return lm"
      ],
      "execution_count": 14,
      "outputs": []
    },
    {
      "cell_type": "markdown",
      "metadata": {
        "id": "rc7kJD-p4ZIt"
      },
      "source": [
        "## Predict the parking problem based on the latest year (2020)"
      ]
    },
    {
      "cell_type": "code",
      "metadata": {
        "id": "RZkmpC_U4YUv"
      },
      "source": [
        "#Predict parking issue in 2020\n",
        "def Get_predict_result(Model, Data, Employment, Residential_dwellings): \n",
        "  data_latest = data.loc[years.max] # Get data of 2020\n",
        "  features = np.array(['Total employment in block', 'Dwelling number'])\n",
        "  features_to_include = features[[Employment,Residential_dwellings]] #Define the data features for the study\n",
        "  result = np.round(Model.predict(np.array(data_latest[features_to_include]))) #Predict based on the selected features\n",
        "  data_latest['Predict_parking'] = result #Add result to the data\n",
        "  impact = result - data_latest['Parking spaces']\n",
        "  impact[impact>=0] = 100*(impact[impact>=0]/(max(impact[impact>=0]))) # Normalize the impact index (0-100)\n",
        "  data_latest['Impact_index'] = impact #Add impact index to the data\n",
        "  return data_latest"
      ],
      "execution_count": 15,
      "outputs": []
    },
    {
      "cell_type": "markdown",
      "metadata": {
        "id": "mlLslmEOGitd"
      },
      "source": [
        "## Plot barchart of the predict results"
      ]
    },
    {
      "cell_type": "code",
      "metadata": {
        "id": "5l4X3zdoGhbq"
      },
      "source": [
        "#visualize the impacted city blocks\n",
        "def bar_plot(Data, Impact_level):\n",
        "  #Only visualize the blocks greater than the impact level\n",
        "  plot_data = Data[Data['Impact_index']>=Impact_level]['Impact_index']#Get only the data records with higher impact level\n",
        "  plot_data.plot(kind='bar',figsize=(len(plot_data)/2,5),\n",
        "                title='Impacted Blocks(limited parking spaces)\\n Shows impact index from '+str(Impact_level)+' to 100',\n",
        "                ylabel='Impact Index (0-100)')\n",
        "  plt.show()"
      ],
      "execution_count": 16,
      "outputs": []
    },
    {
      "cell_type": "markdown",
      "metadata": {
        "id": "q2sCp9c0Np_Y"
      },
      "source": [
        "# Prepare datasets for map plotting"
      ]
    },
    {
      "cell_type": "code",
      "metadata": {
        "id": "upAFbbAA7gaR"
      },
      "source": [
        "#CLUE block map\n",
        "import json\n",
        "json_file = open('/content/drive/MyDrive/Notebooks/SIT782/CLUE/clue_blocks.geojson') \n",
        "clue_geo = json.load(json_file)\n",
        "\n",
        "#Only take the impacted blocks\n",
        "clue_data = data_latest[data_latest['Impact_index']>=min_impact_level].sort_values('Impact_index',ascending = False)\n",
        "clue_data.reset_index(inplace=True) #turn the index (Block_ID) into a column in the dataframe (clue_data)\n",
        "clue_data['Block ID'] = clue_data['Block ID'].astype('str') # conver [Block ID] to str, so that it is compatible with json content\n"
      ],
      "execution_count": null,
      "outputs": []
    },
    {
      "cell_type": "markdown",
      "metadata": {
        "id": "wu-cEzszOeYK"
      },
      "source": [
        "# Plot the map using Folium Choropleth"
      ]
    },
    {
      "cell_type": "code",
      "metadata": {
        "id": "bJofRzQc_Kxu"
      },
      "source": [
        "import folium\n",
        "#Create the initial map\n",
        "fmap = folium.Map(location=[-37.811600, 144.964610],\n",
        "           tiles='Stamen Toner',\n",
        "           width = '80%',\n",
        "           height = '60%',\n",
        "           zoom_start=13)\n",
        "\n",
        "#create the choropleth layer and add to the map above\n",
        "choropleth = folium.Choropleth(\n",
        "    geo_data=clue_geo,\n",
        "    name='choropleth',\n",
        "    data=clue_data,\n",
        "    columns=['Block ID','Impact_index'],\n",
        "    key_on='feature.properties.block_id',\n",
        "    fill_color='YlOrRd',\n",
        "    fill_opacity=1,\n",
        "    line_opacity=0.5,\n",
        "    nan_fill_color='cloud',\n",
        "    nan_fill_opacity = 0.2,\n",
        "    highlight=True,\n",
        "    legend_name='Impact index'\n",
        ").add_to(fmap)\n",
        "\n",
        "#Add more layers and tooltips\n",
        "fmap.add_tile_layer()\n",
        "fmap.add_tile_layer('Stamen Terrain')\n",
        "choropleth.geojson.add_child(folium.features.GeoJsonTooltip(['block_id','clue_area'],labels=True))\n",
        "folium.LayerControl().add_to(fmap)\n",
        "fmap\n"
      ],
      "execution_count": null,
      "outputs": []
    },
    {
      "cell_type": "markdown",
      "metadata": {
        "id": "ul0SWwlX-ivA"
      },
      "source": [
        "## Interactive Tools and Visualizations"
      ]
    },
    {
      "cell_type": "code",
      "metadata": {
        "id": "4_-EHzxUokbX"
      },
      "source": [
        "#Year to include in the study (from 2002 to 2020 or between that)\n",
        "#Create a widget to select the range of study years\n",
        "from ipywidgets import interact_manual\n",
        "import ipywidgets as widgets\n",
        "from IPython.display import display\n",
        "\n",
        "style = {'description_width': 'initial'} #for long label\n",
        "\n",
        "#Year-to-include slider\n",
        "years = widgets.IntRangeSlider(\n",
        "    value=[2002, 2020],\n",
        "    min=2002,\n",
        "    max=2020,\n",
        "    step=1,\n",
        "    description='Years to include:',\n",
        "    disabled=False,\n",
        "    continuous_update=True,\n",
        "    orientation='horizontal',\n",
        "    readout=True,\n",
        "    readout_format='d',\n",
        "    style=style\n",
        ")\n",
        "#Display option: impact level\n",
        "show_impact = widgets.IntSlider(\n",
        "    value=10,\n",
        "    min=10,\n",
        "    max=100,\n",
        "    step=1,\n",
        "    description='Impact index from:',\n",
        "    disabled=False,\n",
        "    continuous_update=True,\n",
        "    orientation='horizontal',\n",
        "    readout=True,\n",
        "    readout_format='d',\n",
        "    style=style\n",
        ")\n",
        "#Employment checkbox\n",
        "chk_employment = widgets.Checkbox(\n",
        "    value=True,\n",
        "    description='Employment',\n",
        "    disabled=False,\n",
        "    indent=False,\n",
        "    continuous_updates=True\n",
        ")\n",
        "#Residential Dwellings checkbox\n",
        "chk_resident = widgets.Checkbox(\n",
        "    value=True,\n",
        "    description='Residential Dwellings',\n",
        "    disabled=False,\n",
        "    indent=False,\n",
        "    continuous_update=True\n",
        ")\n"
      ],
      "execution_count": 20,
      "outputs": []
    },
    {
      "cell_type": "code",
      "metadata": {
        "colab": {
          "base_uri": "https://localhost:8080/",
          "height": 1000,
          "referenced_widgets": [
            "41c1bbe2ed404ef787f41651ae02aea6",
            "33a057ccc16644788ea2f76489e6e94e",
            "81548f9d393c4bdc95f7c44919fbf5a6",
            "eb9100da33f7415aabde7d4af3bc047f",
            "cfa76c5ae6244bea9a5f5adbea0d49be",
            "4414ccdf047e4cd6a20cf733a651fecd",
            "a64399faf8f14a00a1abc47ffb04d296",
            "1eb210889d9945bf89b0a211434c808b",
            "bee2c6fcd8484b4b8f654cd7ed428dcc",
            "c76d14a1ed024ac69a0865ec93f22509",
            "61453f31f825499aa6973e6eab268a30",
            "a6b2a1e3f2f5416f98c61a13dbc82844",
            "c751817ab7e84c078122b447472792c6",
            "fdc9c8d712f2439a9a2f390b1350f6f9",
            "3da8c074860a42f7b9e996e0bbecda02",
            "074d69c44e9b45819785f9168c87353f",
            "0a0512bb203a4186824d9f5a8df9c7ac",
            "729629479c26426bbf625adbe769bf3c",
            "4ba8bb57050b4441a7994a82aa6138b1"
          ]
        },
        "id": "omj0ACtQcOp1",
        "outputId": "18f8ceba-3b0b-4949-9909-aa2134585406"
      },
      "source": [
        "def f(year_to_include,Employment,Residential_dwellings, Impact_level):\n",
        "  import warnings\n",
        "  warnings.filterwarnings(\"ignore\") #remove dataframe warning\n",
        "  print('='*23)\n",
        "  print('|DATA ANALYSIS RESULTS|')\n",
        "  print('='*23)\n",
        "  if (not(Employment)) & (not(Residential_dwellings)):\n",
        "    Employment = True  #Prevent both data features are unticked ==> Error\n",
        "\n",
        "  #Get the filtered data for analysis\n",
        "  X, Y = Get_data(year_to_include,Employment,Residential_dwellings)\n",
        "  #Build regression model\n",
        "  lm = lm_model(X,Y)\n",
        "  #Get the predicted results\n",
        "  predict_results = Get_predict_result(lm, data, Employment, Residential_dwellings)\n",
        "  #Plot the barchart of the predicted results\n",
        "  bar_plot(predict_results, Impact_level)\n",
        "  #Show table of the impacted blocks in detail table\n",
        "  print('\\n\\n The table below shows the impacted blocks (limited parking) by order of impact index.\\n')\n",
        "  display(predict_results[predict_results['Impact_index']>=Impact_level].sort_values('Impact_index',ascending = False))\n",
        "\n",
        "interact_manual.opts['manual_name'] = 'Start Analyzing'\n",
        "interact_manual(f,year_to_include=years, Employment=chk_employment, Residential_dwellings = chk_resident, Impact_level = show_impact);"
      ],
      "execution_count": 22,
      "outputs": [
        {
          "output_type": "display_data",
          "data": {
            "application/vnd.jupyter.widget-view+json": {
              "model_id": "41c1bbe2ed404ef787f41651ae02aea6",
              "version_minor": 0,
              "version_major": 2
            },
            "text/plain": [
              "interactive(children=(IntRangeSlider(value=(2010, 2020), description='Years to include:', max=2020, min=2002, …"
            ]
          },
          "metadata": {}
        }
      ]
    }
  ]
}