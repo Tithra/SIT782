{
  "nbformat": 4,
  "nbformat_minor": 0,
  "metadata": {
    "colab": {
      "name": "CLUE_analysis.ipynb",
      "provenance": [],
      "mount_file_id": "https://github.com/Tithra/SIT782/blob/main/CLUE_analysis_interact.ipynb",
      "authorship_tag": "ABX9TyMCLN04OHQpfEMgJcgaBCsq"
    },
    "kernelspec": {
      "name": "python3",
      "display_name": "Python 3"
    },
    "language_info": {
      "name": "python"
    },
    "widgets": {
      "application/vnd.jupyter.widget-state+json": {
        "69ebc270354c42b283c4dce08767dd67": {
          "model_module": "@jupyter-widgets/controls",
          "model_name": "VBoxModel",
          "model_module_version": "1.5.0",
          "state": {
            "_view_name": "VBoxView",
            "_dom_classes": [
              "widget-interact"
            ],
            "_model_name": "VBoxModel",
            "_view_module": "@jupyter-widgets/controls",
            "_model_module_version": "1.5.0",
            "_view_count": null,
            "_view_module_version": "1.5.0",
            "box_style": "",
            "layout": "IPY_MODEL_5a609cbd5be047249da08502da72834d",
            "_model_module": "@jupyter-widgets/controls",
            "children": [
              "IPY_MODEL_ebc814727e944e9cbc4bd05a3a09a851",
              "IPY_MODEL_ed098d43b6e44c52a18001eeb643de0a",
              "IPY_MODEL_7127804557ea4b2a97d0e11532b8ebaf",
              "IPY_MODEL_9bf6d7739caa4665973a65aa9888437c",
              "IPY_MODEL_ed5757d6dde341cb85be69fbe66d692c",
              "IPY_MODEL_55865aabc17f4688a879eb804fba7a6f"
            ]
          }
        },
        "5a609cbd5be047249da08502da72834d": {
          "model_module": "@jupyter-widgets/base",
          "model_name": "LayoutModel",
          "model_module_version": "1.2.0",
          "state": {
            "_view_name": "LayoutView",
            "grid_template_rows": null,
            "right": null,
            "justify_content": null,
            "_view_module": "@jupyter-widgets/base",
            "overflow": null,
            "_model_module_version": "1.2.0",
            "_view_count": null,
            "flex_flow": null,
            "width": null,
            "min_width": null,
            "border": null,
            "align_items": null,
            "bottom": null,
            "_model_module": "@jupyter-widgets/base",
            "top": null,
            "grid_column": null,
            "overflow_y": null,
            "overflow_x": null,
            "grid_auto_flow": null,
            "grid_area": null,
            "grid_template_columns": null,
            "flex": null,
            "_model_name": "LayoutModel",
            "justify_items": null,
            "grid_row": null,
            "max_height": null,
            "align_content": null,
            "visibility": null,
            "align_self": null,
            "height": null,
            "min_height": null,
            "padding": null,
            "grid_auto_rows": null,
            "grid_gap": null,
            "max_width": null,
            "order": null,
            "_view_module_version": "1.2.0",
            "grid_template_areas": null,
            "object_position": null,
            "object_fit": null,
            "grid_auto_columns": null,
            "margin": null,
            "display": null,
            "left": null
          }
        },
        "ebc814727e944e9cbc4bd05a3a09a851": {
          "model_module": "@jupyter-widgets/controls",
          "model_name": "IntRangeSliderModel",
          "model_module_version": "1.5.0",
          "state": {
            "_view_name": "IntRangeSliderView",
            "style": "IPY_MODEL_c4318d57a3c54403b316f09102087d4b",
            "_dom_classes": [],
            "description": "Years to include:",
            "step": 1,
            "_model_name": "IntRangeSliderModel",
            "orientation": "horizontal",
            "max": 2020,
            "_view_module": "@jupyter-widgets/controls",
            "_model_module_version": "1.5.0",
            "value": [
              2002,
              2020
            ],
            "_view_count": null,
            "disabled": false,
            "_view_module_version": "1.5.0",
            "min": 2002,
            "continuous_update": true,
            "readout_format": "d",
            "description_tooltip": null,
            "readout": true,
            "_model_module": "@jupyter-widgets/controls",
            "layout": "IPY_MODEL_c5859a43d0264326a1a069c3caba62cc"
          }
        },
        "ed098d43b6e44c52a18001eeb643de0a": {
          "model_module": "@jupyter-widgets/controls",
          "model_name": "CheckboxModel",
          "model_module_version": "1.5.0",
          "state": {
            "_view_name": "CheckboxView",
            "style": "IPY_MODEL_6a78cb8333284b759bc946930dfee7d4",
            "_dom_classes": [],
            "description": "Employment",
            "_model_name": "CheckboxModel",
            "_view_module": "@jupyter-widgets/controls",
            "_model_module_version": "1.5.0",
            "value": true,
            "_view_count": null,
            "disabled": false,
            "_view_module_version": "1.5.0",
            "indent": false,
            "description_tooltip": null,
            "_model_module": "@jupyter-widgets/controls",
            "layout": "IPY_MODEL_9fe51fffb7ce4a46b8a0c48bd2b837db"
          }
        },
        "7127804557ea4b2a97d0e11532b8ebaf": {
          "model_module": "@jupyter-widgets/controls",
          "model_name": "CheckboxModel",
          "model_module_version": "1.5.0",
          "state": {
            "_view_name": "CheckboxView",
            "style": "IPY_MODEL_5ba6a46cf7a448c59b78267f43aaa662",
            "_dom_classes": [],
            "description": "Residential Dwellings",
            "_model_name": "CheckboxModel",
            "_view_module": "@jupyter-widgets/controls",
            "_model_module_version": "1.5.0",
            "value": true,
            "_view_count": null,
            "disabled": false,
            "_view_module_version": "1.5.0",
            "indent": false,
            "description_tooltip": null,
            "_model_module": "@jupyter-widgets/controls",
            "layout": "IPY_MODEL_375e5d358b26407bbc82cea5d3142565"
          }
        },
        "9bf6d7739caa4665973a65aa9888437c": {
          "model_module": "@jupyter-widgets/controls",
          "model_name": "IntSliderModel",
          "model_module_version": "1.5.0",
          "state": {
            "_view_name": "IntSliderView",
            "style": "IPY_MODEL_9b1184d3dc634d2386a98c861f4f0ef4",
            "_dom_classes": [],
            "description": "Impact index from:",
            "step": 1,
            "_model_name": "IntSliderModel",
            "orientation": "horizontal",
            "max": 100,
            "_view_module": "@jupyter-widgets/controls",
            "_model_module_version": "1.5.0",
            "value": 10,
            "_view_count": null,
            "disabled": false,
            "_view_module_version": "1.5.0",
            "min": 10,
            "continuous_update": true,
            "readout_format": "d",
            "description_tooltip": null,
            "readout": true,
            "_model_module": "@jupyter-widgets/controls",
            "layout": "IPY_MODEL_86ad2b4069864b1c877aa2f4dde61b37"
          }
        },
        "ed5757d6dde341cb85be69fbe66d692c": {
          "model_module": "@jupyter-widgets/controls",
          "model_name": "ButtonModel",
          "model_module_version": "1.5.0",
          "state": {
            "_view_name": "ButtonView",
            "style": "IPY_MODEL_31f5a0e2c0ae434388f88de9b2ec8aa4",
            "_dom_classes": [],
            "description": "Start Analyzing",
            "_model_name": "ButtonModel",
            "button_style": "",
            "_view_module": "@jupyter-widgets/controls",
            "_model_module_version": "1.5.0",
            "tooltip": "",
            "_view_count": null,
            "disabled": false,
            "_view_module_version": "1.5.0",
            "layout": "IPY_MODEL_e7b1d6e26b224f00802615f5067bf879",
            "_model_module": "@jupyter-widgets/controls",
            "icon": ""
          }
        },
        "55865aabc17f4688a879eb804fba7a6f": {
          "model_module": "@jupyter-widgets/output",
          "model_name": "OutputModel",
          "model_module_version": "1.0.0",
          "state": {
            "_view_name": "OutputView",
            "msg_id": "",
            "_dom_classes": [],
            "_model_name": "OutputModel",
            "outputs": [
              {
                "output_type": "stream",
                "name": "stdout",
                "text": [
                  "=======================\n",
                  "|DATA ANALYSIS RESULTS|\n",
                  "=======================\n",
                  "(NOTE: The city blocks without parking information available are ignored by our analyzing model.\n",
                  "\n",
                  "\n"
                ]
              },
              {
                "output_type": "stream",
                "name": "stdout",
                "text": [
                  "Int64Index([  15,   18,   23,   24,   25,   26,   27,   28,   32,   33,   34,\n",
                  "              38,   41,   44,   46,   47,   53,   61,   65,   82,   84,   85,\n",
                  "              87,   93,   94,   95,  105,  257,  264,  753, 1101, 1103, 1105,\n",
                  "            1108],\n",
                  "           dtype='int64', name='Block ID')\n",
                  "[ 21.97483059  23.38818974  13.72700871  34.69506292  23.1945789\n",
                  "  15.62439497  18.33494676  12.91384318  33.0106486   24.02710552\n",
                  "  42.28460794  16.12778316  10.5517909   21.7231365   11.9070668\n",
                  "  35.10164569  31.42303969  14.52081317  11.6553727   15.31461762\n",
                  "  20.          28.61568248  34.17231365  13.10745402  12.04259439\n",
                  "  18.60600194  19.57405615  11.75217812  18.60600194  14.86931268\n",
                  "  33.20425944  13.0106486  100.          57.13455954]\n"
                ]
              },
              {
                "output_type": "display_data",
                "data": {
                  "image/png": "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\n",
                  "text/plain": "<Figure size 1224x360 with 1 Axes>"
                },
                "metadata": {}
              },
              {
                "output_type": "stream",
                "name": "stdout",
                "text": [
                  "\n",
                  "\n",
                  " The table below shows the impacted blocks (limited parking) by the order of the impact index.\n",
                  "\n"
                ]
              },
              {
                "output_type": "display_data",
                "data": {
                  "text/html": "<div>\n<style scoped>\n    .dataframe tbody tr th:only-of-type {\n        vertical-align: middle;\n    }\n\n    .dataframe tbody tr th {\n        vertical-align: top;\n    }\n\n    .dataframe thead th {\n        text-align: right;\n    }\n</style>\n<table border=\"1\" class=\"dataframe\">\n  <thead>\n    <tr style=\"text-align: right;\">\n      <th></th>\n      <th>CLUE small area</th>\n      <th>Dwelling number</th>\n      <th>Total employment in block</th>\n      <th>Parking spaces</th>\n      <th>Predict_parking</th>\n      <th>Impact_index</th>\n    </tr>\n    <tr>\n      <th>Block ID</th>\n      <th></th>\n      <th></th>\n      <th></th>\n      <th></th>\n      <th></th>\n      <th></th>\n    </tr>\n  </thead>\n  <tbody>\n    <tr>\n      <th>1105</th>\n      <td>Docklands</td>\n      <td>189</td>\n      <td>22612.0</td>\n      <td>2507</td>\n      <td>7672.0</td>\n      <td>100.000000</td>\n    </tr>\n    <tr>\n      <th>1108</th>\n      <td>Docklands</td>\n      <td>3118</td>\n      <td>16425.0</td>\n      <td>4800</td>\n      <td>7751.0</td>\n      <td>57.134560</td>\n    </tr>\n    <tr>\n      <th>34</th>\n      <td>Melbourne (CBD)</td>\n      <td>32</td>\n      <td>7390.0</td>\n      <td>328</td>\n      <td>2512.0</td>\n      <td>42.284608</td>\n    </tr>\n    <tr>\n      <th>47</th>\n      <td>Melbourne (CBD)</td>\n      <td>323</td>\n      <td>7837.0</td>\n      <td>1059</td>\n      <td>2872.0</td>\n      <td>35.101646</td>\n    </tr>\n    <tr>\n      <th>24</th>\n      <td>Melbourne (CBD)</td>\n      <td>175</td>\n      <td>7580.0</td>\n      <td>887</td>\n      <td>2679.0</td>\n      <td>34.695063</td>\n    </tr>\n    <tr>\n      <th>87</th>\n      <td>Melbourne (CBD)</td>\n      <td>915</td>\n      <td>4366.0</td>\n      <td>387</td>\n      <td>2152.0</td>\n      <td>34.172314</td>\n    </tr>\n    <tr>\n      <th>1101</th>\n      <td>Docklands</td>\n      <td>120</td>\n      <td>8949.0</td>\n      <td>1378</td>\n      <td>3093.0</td>\n      <td>33.204259</td>\n    </tr>\n    <tr>\n      <th>32</th>\n      <td>Melbourne (CBD)</td>\n      <td>104</td>\n      <td>6966.0</td>\n      <td>719</td>\n      <td>2424.0</td>\n      <td>33.010649</td>\n    </tr>\n    <tr>\n      <th>53</th>\n      <td>Melbourne (CBD)</td>\n      <td>192</td>\n      <td>6026.0</td>\n      <td>553</td>\n      <td>2176.0</td>\n      <td>31.423040</td>\n    </tr>\n    <tr>\n      <th>85</th>\n      <td>Melbourne (CBD)</td>\n      <td>321</td>\n      <td>7477.0</td>\n      <td>1273</td>\n      <td>2751.0</td>\n      <td>28.615682</td>\n    </tr>\n    <tr>\n      <th>33</th>\n      <td>Melbourne (CBD)</td>\n      <td>268</td>\n      <td>3556.0</td>\n      <td>172</td>\n      <td>1413.0</td>\n      <td>24.027106</td>\n    </tr>\n    <tr>\n      <th>18</th>\n      <td>Melbourne (CBD)</td>\n      <td>217</td>\n      <td>6459.0</td>\n      <td>1130</td>\n      <td>2338.0</td>\n      <td>23.388190</td>\n    </tr>\n    <tr>\n      <th>25</th>\n      <td>Melbourne (CBD)</td>\n      <td>254</td>\n      <td>3457.0</td>\n      <td>172</td>\n      <td>1370.0</td>\n      <td>23.194579</td>\n    </tr>\n    <tr>\n      <th>15</th>\n      <td>Melbourne (CBD)</td>\n      <td>659</td>\n      <td>2139.0</td>\n      <td>93</td>\n      <td>1228.0</td>\n      <td>21.974831</td>\n    </tr>\n    <tr>\n      <th>44</th>\n      <td>Melbourne (CBD)</td>\n      <td>98</td>\n      <td>3794.0</td>\n      <td>246</td>\n      <td>1368.0</td>\n      <td>21.723136</td>\n    </tr>\n    <tr>\n      <th>84</th>\n      <td>Melbourne (CBD)</td>\n      <td>1493</td>\n      <td>759.0</td>\n      <td>344</td>\n      <td>1377.0</td>\n      <td>20.000000</td>\n    </tr>\n    <tr>\n      <th>105</th>\n      <td>Melbourne (CBD)</td>\n      <td>1729</td>\n      <td>1067.0</td>\n      <td>639</td>\n      <td>1650.0</td>\n      <td>19.574056</td>\n    </tr>\n    <tr>\n      <th>95</th>\n      <td>Melbourne (CBD)</td>\n      <td>1745</td>\n      <td>606.0</td>\n      <td>548</td>\n      <td>1509.0</td>\n      <td>18.606002</td>\n    </tr>\n    <tr>\n      <th>264</th>\n      <td>Carlton</td>\n      <td>1806</td>\n      <td>175.0</td>\n      <td>450</td>\n      <td>1411.0</td>\n      <td>18.606002</td>\n    </tr>\n    <tr>\n      <th>27</th>\n      <td>Melbourne (CBD)</td>\n      <td>2</td>\n      <td>5903.0</td>\n      <td>1050</td>\n      <td>1997.0</td>\n      <td>18.334947</td>\n    </tr>\n    <tr>\n      <th>38</th>\n      <td>Melbourne (CBD)</td>\n      <td>218</td>\n      <td>2544.0</td>\n      <td>208</td>\n      <td>1041.0</td>\n      <td>16.127783</td>\n    </tr>\n    <tr>\n      <th>26</th>\n      <td>Melbourne (CBD)</td>\n      <td>72</td>\n      <td>4000.0</td>\n      <td>611</td>\n      <td>1418.0</td>\n      <td>15.624395</td>\n    </tr>\n    <tr>\n      <th>82</th>\n      <td>Melbourne (CBD)</td>\n      <td>34</td>\n      <td>3515.0</td>\n      <td>438</td>\n      <td>1229.0</td>\n      <td>15.314618</td>\n    </tr>\n    <tr>\n      <th>753</th>\n      <td>Southbank</td>\n      <td>174</td>\n      <td>6315.0</td>\n      <td>1491</td>\n      <td>2259.0</td>\n      <td>14.869313</td>\n    </tr>\n    <tr>\n      <th>61</th>\n      <td>Melbourne (CBD)</td>\n      <td>2609</td>\n      <td>511.0</td>\n      <td>1356</td>\n      <td>2106.0</td>\n      <td>14.520813</td>\n    </tr>\n    <tr>\n      <th>23</th>\n      <td>Melbourne (CBD)</td>\n      <td>90</td>\n      <td>2211.0</td>\n      <td>129</td>\n      <td>838.0</td>\n      <td>13.727009</td>\n    </tr>\n    <tr>\n      <th>93</th>\n      <td>Melbourne (CBD)</td>\n      <td>817</td>\n      <td>2343.0</td>\n      <td>733</td>\n      <td>1410.0</td>\n      <td>13.107454</td>\n    </tr>\n    <tr>\n      <th>1103</th>\n      <td>Docklands</td>\n      <td>860</td>\n      <td>11148.0</td>\n      <td>3688</td>\n      <td>4360.0</td>\n      <td>13.010649</td>\n    </tr>\n    <tr>\n      <th>28</th>\n      <td>Melbourne (CBD)</td>\n      <td>279</td>\n      <td>4538.0</td>\n      <td>1079</td>\n      <td>1746.0</td>\n      <td>12.913843</td>\n    </tr>\n    <tr>\n      <th>94</th>\n      <td>Melbourne (CBD)</td>\n      <td>878</td>\n      <td>3330.0</td>\n      <td>1160</td>\n      <td>1782.0</td>\n      <td>12.042594</td>\n    </tr>\n    <tr>\n      <th>46</th>\n      <td>Melbourne (CBD)</td>\n      <td>143</td>\n      <td>2441.0</td>\n      <td>337</td>\n      <td>952.0</td>\n      <td>11.907067</td>\n    </tr>\n    <tr>\n      <th>257</th>\n      <td>Carlton</td>\n      <td>669</td>\n      <td>674.0</td>\n      <td>142</td>\n      <td>749.0</td>\n      <td>11.752178</td>\n    </tr>\n    <tr>\n      <th>65</th>\n      <td>Melbourne (CBD)</td>\n      <td>225</td>\n      <td>2040.0</td>\n      <td>277</td>\n      <td>879.0</td>\n      <td>11.655373</td>\n    </tr>\n    <tr>\n      <th>41</th>\n      <td>Melbourne (CBD)</td>\n      <td>44</td>\n      <td>2007.0</td>\n      <td>192</td>\n      <td>737.0</td>\n      <td>10.551791</td>\n    </tr>\n  </tbody>\n</table>\n</div>",
                  "text/plain": "          CLUE small area  Dwelling number  ...  Predict_parking  Impact_index\nBlock ID                                    ...                               \n1105            Docklands              189  ...           7672.0    100.000000\n1108            Docklands             3118  ...           7751.0     57.134560\n34        Melbourne (CBD)               32  ...           2512.0     42.284608\n47        Melbourne (CBD)              323  ...           2872.0     35.101646\n24        Melbourne (CBD)              175  ...           2679.0     34.695063\n87        Melbourne (CBD)              915  ...           2152.0     34.172314\n1101            Docklands              120  ...           3093.0     33.204259\n32        Melbourne (CBD)              104  ...           2424.0     33.010649\n53        Melbourne (CBD)              192  ...           2176.0     31.423040\n85        Melbourne (CBD)              321  ...           2751.0     28.615682\n33        Melbourne (CBD)              268  ...           1413.0     24.027106\n18        Melbourne (CBD)              217  ...           2338.0     23.388190\n25        Melbourne (CBD)              254  ...           1370.0     23.194579\n15        Melbourne (CBD)              659  ...           1228.0     21.974831\n44        Melbourne (CBD)               98  ...           1368.0     21.723136\n84        Melbourne (CBD)             1493  ...           1377.0     20.000000\n105       Melbourne (CBD)             1729  ...           1650.0     19.574056\n95        Melbourne (CBD)             1745  ...           1509.0     18.606002\n264               Carlton             1806  ...           1411.0     18.606002\n27        Melbourne (CBD)                2  ...           1997.0     18.334947\n38        Melbourne (CBD)              218  ...           1041.0     16.127783\n26        Melbourne (CBD)               72  ...           1418.0     15.624395\n82        Melbourne (CBD)               34  ...           1229.0     15.314618\n753             Southbank              174  ...           2259.0     14.869313\n61        Melbourne (CBD)             2609  ...           2106.0     14.520813\n23        Melbourne (CBD)               90  ...            838.0     13.727009\n93        Melbourne (CBD)              817  ...           1410.0     13.107454\n1103            Docklands              860  ...           4360.0     13.010649\n28        Melbourne (CBD)              279  ...           1746.0     12.913843\n94        Melbourne (CBD)              878  ...           1782.0     12.042594\n46        Melbourne (CBD)              143  ...            952.0     11.907067\n257               Carlton              669  ...            749.0     11.752178\n65        Melbourne (CBD)              225  ...            879.0     11.655373\n41        Melbourne (CBD)               44  ...            737.0     10.551791\n\n[34 rows x 6 columns]"
                },
                "metadata": {}
              }
            ],
            "_view_module": "@jupyter-widgets/output",
            "_model_module_version": "1.0.0",
            "_view_count": null,
            "_view_module_version": "1.0.0",
            "layout": "IPY_MODEL_3d21fbc6fe5146d2a93cdc69c3683004",
            "_model_module": "@jupyter-widgets/output"
          }
        },
        "c4318d57a3c54403b316f09102087d4b": {
          "model_module": "@jupyter-widgets/controls",
          "model_name": "SliderStyleModel",
          "model_module_version": "1.5.0",
          "state": {
            "_view_name": "StyleView",
            "handle_color": null,
            "_model_name": "SliderStyleModel",
            "description_width": "initial",
            "_view_module": "@jupyter-widgets/base",
            "_model_module_version": "1.5.0",
            "_view_count": null,
            "_view_module_version": "1.2.0",
            "_model_module": "@jupyter-widgets/controls"
          }
        },
        "c5859a43d0264326a1a069c3caba62cc": {
          "model_module": "@jupyter-widgets/base",
          "model_name": "LayoutModel",
          "model_module_version": "1.2.0",
          "state": {
            "_view_name": "LayoutView",
            "grid_template_rows": null,
            "right": null,
            "justify_content": null,
            "_view_module": "@jupyter-widgets/base",
            "overflow": null,
            "_model_module_version": "1.2.0",
            "_view_count": null,
            "flex_flow": null,
            "width": null,
            "min_width": null,
            "border": null,
            "align_items": null,
            "bottom": null,
            "_model_module": "@jupyter-widgets/base",
            "top": null,
            "grid_column": null,
            "overflow_y": null,
            "overflow_x": null,
            "grid_auto_flow": null,
            "grid_area": null,
            "grid_template_columns": null,
            "flex": null,
            "_model_name": "LayoutModel",
            "justify_items": null,
            "grid_row": null,
            "max_height": null,
            "align_content": null,
            "visibility": null,
            "align_self": null,
            "height": null,
            "min_height": null,
            "padding": null,
            "grid_auto_rows": null,
            "grid_gap": null,
            "max_width": null,
            "order": null,
            "_view_module_version": "1.2.0",
            "grid_template_areas": null,
            "object_position": null,
            "object_fit": null,
            "grid_auto_columns": null,
            "margin": null,
            "display": null,
            "left": null
          }
        },
        "6a78cb8333284b759bc946930dfee7d4": {
          "model_module": "@jupyter-widgets/controls",
          "model_name": "DescriptionStyleModel",
          "model_module_version": "1.5.0",
          "state": {
            "_view_name": "StyleView",
            "_model_name": "DescriptionStyleModel",
            "description_width": "",
            "_view_module": "@jupyter-widgets/base",
            "_model_module_version": "1.5.0",
            "_view_count": null,
            "_view_module_version": "1.2.0",
            "_model_module": "@jupyter-widgets/controls"
          }
        },
        "9fe51fffb7ce4a46b8a0c48bd2b837db": {
          "model_module": "@jupyter-widgets/base",
          "model_name": "LayoutModel",
          "model_module_version": "1.2.0",
          "state": {
            "_view_name": "LayoutView",
            "grid_template_rows": null,
            "right": null,
            "justify_content": null,
            "_view_module": "@jupyter-widgets/base",
            "overflow": null,
            "_model_module_version": "1.2.0",
            "_view_count": null,
            "flex_flow": null,
            "width": null,
            "min_width": null,
            "border": null,
            "align_items": null,
            "bottom": null,
            "_model_module": "@jupyter-widgets/base",
            "top": null,
            "grid_column": null,
            "overflow_y": null,
            "overflow_x": null,
            "grid_auto_flow": null,
            "grid_area": null,
            "grid_template_columns": null,
            "flex": null,
            "_model_name": "LayoutModel",
            "justify_items": null,
            "grid_row": null,
            "max_height": null,
            "align_content": null,
            "visibility": null,
            "align_self": null,
            "height": null,
            "min_height": null,
            "padding": null,
            "grid_auto_rows": null,
            "grid_gap": null,
            "max_width": null,
            "order": null,
            "_view_module_version": "1.2.0",
            "grid_template_areas": null,
            "object_position": null,
            "object_fit": null,
            "grid_auto_columns": null,
            "margin": null,
            "display": null,
            "left": null
          }
        },
        "5ba6a46cf7a448c59b78267f43aaa662": {
          "model_module": "@jupyter-widgets/controls",
          "model_name": "DescriptionStyleModel",
          "model_module_version": "1.5.0",
          "state": {
            "_view_name": "StyleView",
            "_model_name": "DescriptionStyleModel",
            "description_width": "",
            "_view_module": "@jupyter-widgets/base",
            "_model_module_version": "1.5.0",
            "_view_count": null,
            "_view_module_version": "1.2.0",
            "_model_module": "@jupyter-widgets/controls"
          }
        },
        "375e5d358b26407bbc82cea5d3142565": {
          "model_module": "@jupyter-widgets/base",
          "model_name": "LayoutModel",
          "model_module_version": "1.2.0",
          "state": {
            "_view_name": "LayoutView",
            "grid_template_rows": null,
            "right": null,
            "justify_content": null,
            "_view_module": "@jupyter-widgets/base",
            "overflow": null,
            "_model_module_version": "1.2.0",
            "_view_count": null,
            "flex_flow": null,
            "width": null,
            "min_width": null,
            "border": null,
            "align_items": null,
            "bottom": null,
            "_model_module": "@jupyter-widgets/base",
            "top": null,
            "grid_column": null,
            "overflow_y": null,
            "overflow_x": null,
            "grid_auto_flow": null,
            "grid_area": null,
            "grid_template_columns": null,
            "flex": null,
            "_model_name": "LayoutModel",
            "justify_items": null,
            "grid_row": null,
            "max_height": null,
            "align_content": null,
            "visibility": null,
            "align_self": null,
            "height": null,
            "min_height": null,
            "padding": null,
            "grid_auto_rows": null,
            "grid_gap": null,
            "max_width": null,
            "order": null,
            "_view_module_version": "1.2.0",
            "grid_template_areas": null,
            "object_position": null,
            "object_fit": null,
            "grid_auto_columns": null,
            "margin": null,
            "display": null,
            "left": null
          }
        },
        "9b1184d3dc634d2386a98c861f4f0ef4": {
          "model_module": "@jupyter-widgets/controls",
          "model_name": "SliderStyleModel",
          "model_module_version": "1.5.0",
          "state": {
            "_view_name": "StyleView",
            "handle_color": null,
            "_model_name": "SliderStyleModel",
            "description_width": "initial",
            "_view_module": "@jupyter-widgets/base",
            "_model_module_version": "1.5.0",
            "_view_count": null,
            "_view_module_version": "1.2.0",
            "_model_module": "@jupyter-widgets/controls"
          }
        },
        "86ad2b4069864b1c877aa2f4dde61b37": {
          "model_module": "@jupyter-widgets/base",
          "model_name": "LayoutModel",
          "model_module_version": "1.2.0",
          "state": {
            "_view_name": "LayoutView",
            "grid_template_rows": null,
            "right": null,
            "justify_content": null,
            "_view_module": "@jupyter-widgets/base",
            "overflow": null,
            "_model_module_version": "1.2.0",
            "_view_count": null,
            "flex_flow": null,
            "width": null,
            "min_width": null,
            "border": null,
            "align_items": null,
            "bottom": null,
            "_model_module": "@jupyter-widgets/base",
            "top": null,
            "grid_column": null,
            "overflow_y": null,
            "overflow_x": null,
            "grid_auto_flow": null,
            "grid_area": null,
            "grid_template_columns": null,
            "flex": null,
            "_model_name": "LayoutModel",
            "justify_items": null,
            "grid_row": null,
            "max_height": null,
            "align_content": null,
            "visibility": null,
            "align_self": null,
            "height": null,
            "min_height": null,
            "padding": null,
            "grid_auto_rows": null,
            "grid_gap": null,
            "max_width": null,
            "order": null,
            "_view_module_version": "1.2.0",
            "grid_template_areas": null,
            "object_position": null,
            "object_fit": null,
            "grid_auto_columns": null,
            "margin": null,
            "display": null,
            "left": null
          }
        },
        "31f5a0e2c0ae434388f88de9b2ec8aa4": {
          "model_module": "@jupyter-widgets/controls",
          "model_name": "ButtonStyleModel",
          "model_module_version": "1.5.0",
          "state": {
            "_view_name": "StyleView",
            "_model_name": "ButtonStyleModel",
            "_view_module": "@jupyter-widgets/base",
            "_model_module_version": "1.5.0",
            "_view_count": null,
            "button_color": null,
            "font_weight": "",
            "_view_module_version": "1.2.0",
            "_model_module": "@jupyter-widgets/controls"
          }
        },
        "e7b1d6e26b224f00802615f5067bf879": {
          "model_module": "@jupyter-widgets/base",
          "model_name": "LayoutModel",
          "model_module_version": "1.2.0",
          "state": {
            "_view_name": "LayoutView",
            "grid_template_rows": null,
            "right": null,
            "justify_content": null,
            "_view_module": "@jupyter-widgets/base",
            "overflow": null,
            "_model_module_version": "1.2.0",
            "_view_count": null,
            "flex_flow": null,
            "width": null,
            "min_width": null,
            "border": null,
            "align_items": null,
            "bottom": null,
            "_model_module": "@jupyter-widgets/base",
            "top": null,
            "grid_column": null,
            "overflow_y": null,
            "overflow_x": null,
            "grid_auto_flow": null,
            "grid_area": null,
            "grid_template_columns": null,
            "flex": null,
            "_model_name": "LayoutModel",
            "justify_items": null,
            "grid_row": null,
            "max_height": null,
            "align_content": null,
            "visibility": null,
            "align_self": null,
            "height": null,
            "min_height": null,
            "padding": null,
            "grid_auto_rows": null,
            "grid_gap": null,
            "max_width": null,
            "order": null,
            "_view_module_version": "1.2.0",
            "grid_template_areas": null,
            "object_position": null,
            "object_fit": null,
            "grid_auto_columns": null,
            "margin": null,
            "display": null,
            "left": null
          }
        },
        "3d21fbc6fe5146d2a93cdc69c3683004": {
          "model_module": "@jupyter-widgets/base",
          "model_name": "LayoutModel",
          "model_module_version": "1.2.0",
          "state": {
            "_view_name": "LayoutView",
            "grid_template_rows": null,
            "right": null,
            "justify_content": null,
            "_view_module": "@jupyter-widgets/base",
            "overflow": null,
            "_model_module_version": "1.2.0",
            "_view_count": null,
            "flex_flow": null,
            "width": null,
            "min_width": null,
            "border": null,
            "align_items": null,
            "bottom": null,
            "_model_module": "@jupyter-widgets/base",
            "top": null,
            "grid_column": null,
            "overflow_y": null,
            "overflow_x": null,
            "grid_auto_flow": null,
            "grid_area": null,
            "grid_template_columns": null,
            "flex": null,
            "_model_name": "LayoutModel",
            "justify_items": null,
            "grid_row": null,
            "max_height": null,
            "align_content": null,
            "visibility": null,
            "align_self": null,
            "height": null,
            "min_height": null,
            "padding": null,
            "grid_auto_rows": null,
            "grid_gap": null,
            "max_width": null,
            "order": null,
            "_view_module_version": "1.2.0",
            "grid_template_areas": null,
            "object_position": null,
            "object_fit": null,
            "grid_auto_columns": null,
            "margin": null,
            "display": null,
            "left": null
          }
        }
      }
    }
  },
  "cells": [
    {
      "cell_type": "code",
      "metadata": {
        "id": "wPNGAqnKDZX7",
        "colab": {
          "base_uri": "https://localhost:8080/"
        },
        "outputId": "bc5d025d-8512-4a84-ff45-b40138988714"
      },
      "source": [
        "pip install nbinteract"
      ],
      "execution_count": 107,
      "outputs": [
        {
          "output_type": "stream",
          "name": "stdout",
          "text": [
            "Requirement already satisfied: nbinteract in /usr/local/lib/python3.7/dist-packages (0.2.6)\n",
            "Requirement already satisfied: IPython<8,>=6 in /usr/local/lib/python3.7/dist-packages (from nbinteract) (7.30.0)\n",
            "Requirement already satisfied: numpy<2,>=1 in /usr/local/lib/python3.7/dist-packages (from nbinteract) (1.19.5)\n",
            "Requirement already satisfied: bqplot==0.11.0 in /usr/local/lib/python3.7/dist-packages (from nbinteract) (0.11.0)\n",
            "Requirement already satisfied: traitlets<5,>=4.3 in /usr/local/lib/python3.7/dist-packages (from nbinteract) (4.3.3)\n",
            "Requirement already satisfied: docopt<1,>=0.6.2 in /usr/local/lib/python3.7/dist-packages (from nbinteract) (0.6.2)\n",
            "Requirement already satisfied: nbconvert>=5.3 in /usr/local/lib/python3.7/dist-packages (from nbinteract) (5.6.1)\n",
            "Requirement already satisfied: Jinja2<3,>=2.10 in /usr/local/lib/python3.7/dist-packages (from nbinteract) (2.11.3)\n",
            "Requirement already satisfied: ipywidgets<8,>=7.5.0 in /usr/local/lib/python3.7/dist-packages (from nbinteract) (7.6.5)\n",
            "Requirement already satisfied: toolz<1,>=0.8 in /usr/local/lib/python3.7/dist-packages (from nbinteract) (0.11.2)\n",
            "Requirement already satisfied: nbformat<5,>=4.4.0 in /usr/local/lib/python3.7/dist-packages (from nbinteract) (4.4.0)\n",
            "Requirement already satisfied: traittypes>=0.0.6 in /usr/local/lib/python3.7/dist-packages (from bqplot==0.11.0->nbinteract) (0.2.1)\n",
            "Requirement already satisfied: pandas in /usr/local/lib/python3.7/dist-packages (from bqplot==0.11.0->nbinteract) (1.1.5)\n",
            "Requirement already satisfied: jedi>=0.16 in /usr/local/lib/python3.7/dist-packages (from IPython<8,>=6->nbinteract) (0.18.1)\n",
            "Requirement already satisfied: backcall in /usr/local/lib/python3.7/dist-packages (from IPython<8,>=6->nbinteract) (0.2.0)\n",
            "Requirement already satisfied: setuptools>=18.5 in /usr/local/lib/python3.7/dist-packages (from IPython<8,>=6->nbinteract) (57.4.0)\n",
            "Requirement already satisfied: matplotlib-inline in /usr/local/lib/python3.7/dist-packages (from IPython<8,>=6->nbinteract) (0.1.3)\n",
            "Requirement already satisfied: pexpect>4.3 in /usr/local/lib/python3.7/dist-packages (from IPython<8,>=6->nbinteract) (4.8.0)\n",
            "Requirement already satisfied: pygments in /usr/local/lib/python3.7/dist-packages (from IPython<8,>=6->nbinteract) (2.6.1)\n",
            "Requirement already satisfied: prompt-toolkit!=3.0.0,!=3.0.1,<3.1.0,>=2.0.0 in /usr/local/lib/python3.7/dist-packages (from IPython<8,>=6->nbinteract) (3.0.23)\n",
            "Requirement already satisfied: pickleshare in /usr/local/lib/python3.7/dist-packages (from IPython<8,>=6->nbinteract) (0.7.5)\n",
            "Requirement already satisfied: decorator in /usr/local/lib/python3.7/dist-packages (from IPython<8,>=6->nbinteract) (4.4.2)\n",
            "Requirement already satisfied: jupyterlab-widgets>=1.0.0 in /usr/local/lib/python3.7/dist-packages (from ipywidgets<8,>=7.5.0->nbinteract) (1.0.2)\n",
            "Requirement already satisfied: ipykernel>=4.5.1 in /usr/local/lib/python3.7/dist-packages (from ipywidgets<8,>=7.5.0->nbinteract) (4.10.1)\n",
            "Requirement already satisfied: ipython-genutils~=0.2.0 in /usr/local/lib/python3.7/dist-packages (from ipywidgets<8,>=7.5.0->nbinteract) (0.2.0)\n",
            "Requirement already satisfied: widgetsnbextension~=3.5.0 in /usr/local/lib/python3.7/dist-packages (from ipywidgets<8,>=7.5.0->nbinteract) (3.5.2)\n",
            "Requirement already satisfied: tornado>=4.0 in /usr/local/lib/python3.7/dist-packages (from ipykernel>=4.5.1->ipywidgets<8,>=7.5.0->nbinteract) (5.1.1)\n",
            "Requirement already satisfied: jupyter-client in /usr/local/lib/python3.7/dist-packages (from ipykernel>=4.5.1->ipywidgets<8,>=7.5.0->nbinteract) (5.3.5)\n",
            "Requirement already satisfied: parso<0.9.0,>=0.8.0 in /usr/local/lib/python3.7/dist-packages (from jedi>=0.16->IPython<8,>=6->nbinteract) (0.8.2)\n",
            "Requirement already satisfied: MarkupSafe>=0.23 in /usr/local/lib/python3.7/dist-packages (from Jinja2<3,>=2.10->nbinteract) (2.0.1)\n",
            "Requirement already satisfied: jupyter-core in /usr/local/lib/python3.7/dist-packages (from nbconvert>=5.3->nbinteract) (4.9.1)\n",
            "Requirement already satisfied: bleach in /usr/local/lib/python3.7/dist-packages (from nbconvert>=5.3->nbinteract) (4.1.0)\n",
            "Requirement already satisfied: pandocfilters>=1.4.1 in /usr/local/lib/python3.7/dist-packages (from nbconvert>=5.3->nbinteract) (1.5.0)\n",
            "Requirement already satisfied: testpath in /usr/local/lib/python3.7/dist-packages (from nbconvert>=5.3->nbinteract) (0.5.0)\n",
            "Requirement already satisfied: defusedxml in /usr/local/lib/python3.7/dist-packages (from nbconvert>=5.3->nbinteract) (0.7.1)\n",
            "Requirement already satisfied: mistune<2,>=0.8.1 in /usr/local/lib/python3.7/dist-packages (from nbconvert>=5.3->nbinteract) (0.8.4)\n",
            "Requirement already satisfied: entrypoints>=0.2.2 in /usr/local/lib/python3.7/dist-packages (from nbconvert>=5.3->nbinteract) (0.3)\n",
            "Requirement already satisfied: jsonschema!=2.5.0,>=2.4 in /usr/local/lib/python3.7/dist-packages (from nbformat<5,>=4.4.0->nbinteract) (2.6.0)\n",
            "Requirement already satisfied: ptyprocess>=0.5 in /usr/local/lib/python3.7/dist-packages (from pexpect>4.3->IPython<8,>=6->nbinteract) (0.7.0)\n",
            "Requirement already satisfied: wcwidth in /usr/local/lib/python3.7/dist-packages (from prompt-toolkit!=3.0.0,!=3.0.1,<3.1.0,>=2.0.0->IPython<8,>=6->nbinteract) (0.2.5)\n",
            "Requirement already satisfied: six in /usr/local/lib/python3.7/dist-packages (from traitlets<5,>=4.3->nbinteract) (1.15.0)\n",
            "Requirement already satisfied: notebook>=4.4.1 in /usr/local/lib/python3.7/dist-packages (from widgetsnbextension~=3.5.0->ipywidgets<8,>=7.5.0->nbinteract) (5.3.1)\n",
            "Requirement already satisfied: Send2Trash in /usr/local/lib/python3.7/dist-packages (from notebook>=4.4.1->widgetsnbextension~=3.5.0->ipywidgets<8,>=7.5.0->nbinteract) (1.8.0)\n",
            "Requirement already satisfied: terminado>=0.8.1 in /usr/local/lib/python3.7/dist-packages (from notebook>=4.4.1->widgetsnbextension~=3.5.0->ipywidgets<8,>=7.5.0->nbinteract) (0.12.1)\n",
            "Requirement already satisfied: pyzmq>=13 in /usr/local/lib/python3.7/dist-packages (from jupyter-client->ipykernel>=4.5.1->ipywidgets<8,>=7.5.0->nbinteract) (22.3.0)\n",
            "Requirement already satisfied: python-dateutil>=2.1 in /usr/local/lib/python3.7/dist-packages (from jupyter-client->ipykernel>=4.5.1->ipywidgets<8,>=7.5.0->nbinteract) (2.8.2)\n",
            "Requirement already satisfied: webencodings in /usr/local/lib/python3.7/dist-packages (from bleach->nbconvert>=5.3->nbinteract) (0.5.1)\n",
            "Requirement already satisfied: packaging in /usr/local/lib/python3.7/dist-packages (from bleach->nbconvert>=5.3->nbinteract) (21.3)\n",
            "Requirement already satisfied: pyparsing!=3.0.5,>=2.0.2 in /usr/local/lib/python3.7/dist-packages (from packaging->bleach->nbconvert>=5.3->nbinteract) (3.0.6)\n",
            "Requirement already satisfied: pytz>=2017.2 in /usr/local/lib/python3.7/dist-packages (from pandas->bqplot==0.11.0->nbinteract) (2018.9)\n"
          ]
        }
      ]
    },
    {
      "cell_type": "markdown",
      "metadata": {
        "id": "uZhOb2ODsEBk"
      },
      "source": [
        "### A case study: using CLUE datasets of Melbourne Open Data\n",
        "\n",
        "# **Where should public transportation be enhanced in the city of Melbourne?**\n",
        "\n",
        "The City of Melbourne has always evolved, and so have the numbers of its residential dwellings and employment population (based on data available on Melbourne Open Data). Without a consistent or parallel increase of off-street parking, the city will face the difficulty in providing enough spaces for parking of private transportation. To resolve this problem, the city planner needs to locate the potential areas where extension of public transportation should be implemented to replace the need for off-street parking.\n",
        "\n",
        "\n",
        "## Purpose: \n",
        "This case study is intended to provide educational instructions of how CLUE datasets can be used for city planners or individuals whose have some knowledge in data analysis.\n",
        "\n",
        "## Pre-requisite skills:\n",
        "- Python scripting (Basic)\n",
        "- Data analysis (Basic EDA and visualizations)\n",
        "\n",
        "## Solution:\n",
        "By looking at the population trend of residential dwellings and employments at different Melbourne city blocks, the city planner can project amount of public transportation services necessary to sufficiently accommodate potential travellers to or/and from those city blocks.\n",
        "\n"
      ]
    },
    {
      "cell_type": "markdown",
      "metadata": {
        "id": "biCQO7dcoyUL"
      },
      "source": [
        "# **Working with Residential dwelling datasets**"
      ]
    },
    {
      "cell_type": "code",
      "metadata": {
        "id": "stROK9yMyX34",
        "colab": {
          "base_uri": "https://localhost:8080/",
          "height": 293
        },
        "outputId": "ea47d4e6-e416-4af6-c389-4fe716058d1f"
      },
      "source": [
        "#CLUE datasets\n",
        "#======================================================\n",
        "import pandas as pd\n",
        "#Residential dwellings data\n",
        "resident = pd.read_csv('/content/drive/MyDrive/Notebooks/SIT782/CLUE/Residential_dwellings.csv')\n",
        "#Total records before cleaning\n",
        "print('Total records before cleaning is',len(resident))\n",
        "#Data cleaning (remove duplicated values)\n",
        "resident.drop_duplicates(inplace = True)\n",
        "#Total records after cleaning\n",
        "print('Total records after cleaning is',len(resident))\n",
        "#Select only necessary columns\n",
        "selected_columns =['Census year','Block ID','CLUE small area','Dwelling number']\n",
        "resident = resident[selected_columns]\n",
        "#Sum the Dwelling number based on Block ID and Year\n",
        "resident_by_block = resident.groupby(['Census year','Block ID']).agg({'CLUE small area':'max','Dwelling number':'sum'})\n",
        "print('Total records after grouping (by Block ID) is',len(resident_by_block))\n",
        "#Detail of the residential dwellings by block\n",
        "resident_by_block.head()\n"
      ],
      "execution_count": 108,
      "outputs": [
        {
          "output_type": "stream",
          "name": "stdout",
          "text": [
            "Total records before cleaning is 177733\n",
            "Total records after cleaning is 177729\n",
            "Total records after grouping (by Block ID) is 8036\n"
          ]
        },
        {
          "output_type": "execute_result",
          "data": {
            "text/html": [
              "<div>\n",
              "<style scoped>\n",
              "    .dataframe tbody tr th:only-of-type {\n",
              "        vertical-align: middle;\n",
              "    }\n",
              "\n",
              "    .dataframe tbody tr th {\n",
              "        vertical-align: top;\n",
              "    }\n",
              "\n",
              "    .dataframe thead th {\n",
              "        text-align: right;\n",
              "    }\n",
              "</style>\n",
              "<table border=\"1\" class=\"dataframe\">\n",
              "  <thead>\n",
              "    <tr style=\"text-align: right;\">\n",
              "      <th></th>\n",
              "      <th></th>\n",
              "      <th>CLUE small area</th>\n",
              "      <th>Dwelling number</th>\n",
              "    </tr>\n",
              "    <tr>\n",
              "      <th>Census year</th>\n",
              "      <th>Block ID</th>\n",
              "      <th></th>\n",
              "      <th></th>\n",
              "    </tr>\n",
              "  </thead>\n",
              "  <tbody>\n",
              "    <tr>\n",
              "      <th rowspan=\"5\" valign=\"top\">2002</th>\n",
              "      <th>11</th>\n",
              "      <td>Melbourne (CBD)</td>\n",
              "      <td>97</td>\n",
              "    </tr>\n",
              "    <tr>\n",
              "      <th>12</th>\n",
              "      <td>Melbourne (CBD)</td>\n",
              "      <td>189</td>\n",
              "    </tr>\n",
              "    <tr>\n",
              "      <th>13</th>\n",
              "      <td>Melbourne (CBD)</td>\n",
              "      <td>113</td>\n",
              "    </tr>\n",
              "    <tr>\n",
              "      <th>14</th>\n",
              "      <td>Melbourne (CBD)</td>\n",
              "      <td>87</td>\n",
              "    </tr>\n",
              "    <tr>\n",
              "      <th>15</th>\n",
              "      <td>Melbourne (CBD)</td>\n",
              "      <td>282</td>\n",
              "    </tr>\n",
              "  </tbody>\n",
              "</table>\n",
              "</div>"
            ],
            "text/plain": [
              "                      CLUE small area  Dwelling number\n",
              "Census year Block ID                                  \n",
              "2002        11        Melbourne (CBD)               97\n",
              "            12        Melbourne (CBD)              189\n",
              "            13        Melbourne (CBD)              113\n",
              "            14        Melbourne (CBD)               87\n",
              "            15        Melbourne (CBD)              282"
            ]
          },
          "metadata": {},
          "execution_count": 108
        }
      ]
    },
    {
      "cell_type": "markdown",
      "metadata": {
        "id": "G2ZGGFzqoqrA"
      },
      "source": [
        "# **Working with Emploment datasets**"
      ]
    },
    {
      "cell_type": "code",
      "metadata": {
        "id": "aT1K2LltF-A-",
        "colab": {
          "base_uri": "https://localhost:8080/",
          "height": 293
        },
        "outputId": "bf15d4df-979a-42ad-9307-707045e9a2a8"
      },
      "source": [
        "#Employment data\n",
        "employment = pd.read_csv('/content/drive/MyDrive/Notebooks/SIT782/CLUE/Employment_by_block_by_CLUE_industry.csv')\n",
        "#Total records before cleaning\n",
        "print('Total records before cleaning is',len(employment))\n",
        "#Cleaning the data (remove missing values at [Total employment in block])\n",
        "employment.dropna(subset=['Total employment in block'],inplace=True)\n",
        "#Total records after cleaning\n",
        "print('Total records afer cleaning is',len(employment))\n",
        "#Select only necessary columns\n",
        "selected_columns =['Census year','Block ID','Total employment in block']\n",
        "employment = employment[selected_columns]\n",
        "#Sum the employment based on Block ID and Year\n",
        "employment_by_block = employment.groupby(['Census year','Block ID']).sum()\n",
        "print('Total records after grouping (by Block ID) is',len(employment_by_block))\n",
        "#Detail of the employment_by_block\n",
        "employment_by_block.head()"
      ],
      "execution_count": 109,
      "outputs": [
        {
          "output_type": "stream",
          "name": "stdout",
          "text": [
            "Total records before cleaning is 11182\n",
            "Total records afer cleaning is 8759\n",
            "Total records after grouping (by Block ID) is 8759\n"
          ]
        },
        {
          "output_type": "execute_result",
          "data": {
            "text/html": [
              "<div>\n",
              "<style scoped>\n",
              "    .dataframe tbody tr th:only-of-type {\n",
              "        vertical-align: middle;\n",
              "    }\n",
              "\n",
              "    .dataframe tbody tr th {\n",
              "        vertical-align: top;\n",
              "    }\n",
              "\n",
              "    .dataframe thead th {\n",
              "        text-align: right;\n",
              "    }\n",
              "</style>\n",
              "<table border=\"1\" class=\"dataframe\">\n",
              "  <thead>\n",
              "    <tr style=\"text-align: right;\">\n",
              "      <th></th>\n",
              "      <th></th>\n",
              "      <th>Total employment in block</th>\n",
              "    </tr>\n",
              "    <tr>\n",
              "      <th>Census year</th>\n",
              "      <th>Block ID</th>\n",
              "      <th></th>\n",
              "    </tr>\n",
              "  </thead>\n",
              "  <tbody>\n",
              "    <tr>\n",
              "      <th rowspan=\"5\" valign=\"top\">2002</th>\n",
              "      <th>0</th>\n",
              "      <td>319729.0</td>\n",
              "    </tr>\n",
              "    <tr>\n",
              "      <th>1</th>\n",
              "      <td>6.0</td>\n",
              "    </tr>\n",
              "    <tr>\n",
              "      <th>2</th>\n",
              "      <td>169.0</td>\n",
              "    </tr>\n",
              "    <tr>\n",
              "      <th>4</th>\n",
              "      <td>1174.0</td>\n",
              "    </tr>\n",
              "    <tr>\n",
              "      <th>5</th>\n",
              "      <td>12.0</td>\n",
              "    </tr>\n",
              "  </tbody>\n",
              "</table>\n",
              "</div>"
            ],
            "text/plain": [
              "                      Total employment in block\n",
              "Census year Block ID                           \n",
              "2002        0                          319729.0\n",
              "            1                               6.0\n",
              "            2                             169.0\n",
              "            4                            1174.0\n",
              "            5                              12.0"
            ]
          },
          "metadata": {},
          "execution_count": 109
        }
      ]
    },
    {
      "cell_type": "markdown",
      "metadata": {
        "id": "qop-Dmtrn7Bf"
      },
      "source": [
        "# **Working with Off-street Parking datasets**"
      ]
    },
    {
      "cell_type": "code",
      "metadata": {
        "id": "YUX3USheHzpg",
        "colab": {
          "base_uri": "https://localhost:8080/",
          "height": 293
        },
        "outputId": "3f7a1186-de73-4df4-dcca-7a151c6dca5b"
      },
      "source": [
        "#Off-street parking data\n",
        "parking = pd.read_csv('/content/drive/MyDrive/Notebooks/SIT782/CLUE/Off-street_car_parks_with_capacity_and_type.csv')\n",
        "#Total records before cleaning\n",
        "print('Total records before cleaning is',len(parking))\n",
        "#Data cleaning (remove duplicate values)\n",
        "parking.drop_duplicates(inplace=True)\n",
        "#Total records after cleaning\n",
        "print('Total records after cleaning is',len(parking))\n",
        "#Select only necessary columns\n",
        "selected_columns =['Census year','Block ID','Parking spaces']\n",
        "parking = parking[selected_columns]\n",
        "#Sum the parking based on Block ID and Year\n",
        "parking_by_block = parking.groupby(['Census year','Block ID']).sum()\n",
        "print('Total records after grouping (by Block ID) is',len(parking_by_block))\n",
        "#Detail of the employment_by_block\n",
        "parking_by_block.head()\n"
      ],
      "execution_count": 110,
      "outputs": [
        {
          "output_type": "stream",
          "name": "stdout",
          "text": [
            "Total records before cleaning is 124114\n",
            "Total records after cleaning is 122461\n",
            "Total records after grouping (by Block ID) is 9939\n"
          ]
        },
        {
          "output_type": "execute_result",
          "data": {
            "text/html": [
              "<div>\n",
              "<style scoped>\n",
              "    .dataframe tbody tr th:only-of-type {\n",
              "        vertical-align: middle;\n",
              "    }\n",
              "\n",
              "    .dataframe tbody tr th {\n",
              "        vertical-align: top;\n",
              "    }\n",
              "\n",
              "    .dataframe thead th {\n",
              "        text-align: right;\n",
              "    }\n",
              "</style>\n",
              "<table border=\"1\" class=\"dataframe\">\n",
              "  <thead>\n",
              "    <tr style=\"text-align: right;\">\n",
              "      <th></th>\n",
              "      <th></th>\n",
              "      <th>Parking spaces</th>\n",
              "    </tr>\n",
              "    <tr>\n",
              "      <th>Census year</th>\n",
              "      <th>Block ID</th>\n",
              "      <th></th>\n",
              "    </tr>\n",
              "  </thead>\n",
              "  <tbody>\n",
              "    <tr>\n",
              "      <th rowspan=\"5\" valign=\"top\">2002</th>\n",
              "      <th>1</th>\n",
              "      <td>270</td>\n",
              "    </tr>\n",
              "    <tr>\n",
              "      <th>6</th>\n",
              "      <td>500</td>\n",
              "    </tr>\n",
              "    <tr>\n",
              "      <th>11</th>\n",
              "      <td>303</td>\n",
              "    </tr>\n",
              "    <tr>\n",
              "      <th>12</th>\n",
              "      <td>749</td>\n",
              "    </tr>\n",
              "    <tr>\n",
              "      <th>13</th>\n",
              "      <td>622</td>\n",
              "    </tr>\n",
              "  </tbody>\n",
              "</table>\n",
              "</div>"
            ],
            "text/plain": [
              "                      Parking spaces\n",
              "Census year Block ID                \n",
              "2002        1                    270\n",
              "            6                    500\n",
              "            11                   303\n",
              "            12                   749\n",
              "            13                   622"
            ]
          },
          "metadata": {},
          "execution_count": 110
        }
      ]
    },
    {
      "cell_type": "markdown",
      "metadata": {
        "id": "_Xfatyh439UD"
      },
      "source": [
        "# **Merge and explore the 3 datasets (Resident, Employment, & Parking)**"
      ]
    },
    {
      "cell_type": "markdown",
      "metadata": {
        "id": "UMFEWTdiX6UD"
      },
      "source": [
        "Formulate the model to identify a suitable number of parking slots based on residential dwelling or employment."
      ]
    },
    {
      "cell_type": "code",
      "metadata": {
        "colab": {
          "base_uri": "https://localhost:8080/",
          "height": 750
        },
        "id": "-6X0xImgqERh",
        "outputId": "48f7bae4-ab99-4c76-f638-e74749697e22"
      },
      "source": [
        "import matplotlib.pyplot as plt\n",
        "import numpy as np\n",
        "import seaborn as sns\n",
        "sns.set_theme(color_codes=True)\n",
        "\n",
        "#Combine the datasets (only take the blocks that match between three datasets)\n",
        "data = resident_by_block.merge(employment_by_block, left_index= True, right_index=True)\n",
        "data = data.merge(parking_by_block,left_index=True,right_index=True)\n",
        "print(data.head())\n",
        "#Prepare data for scatter plots\n",
        "x1 = data['Total employment in block']\n",
        "x2 = data['Dwelling number']\n",
        "y = data['Parking spaces']\n",
        "#Plot the data points (Parking Spaces vs. Total Employment) and regression line\n",
        "plt.plot(x1,y,'x')\n",
        "a, b = np.polyfit(x1,y,1)\n",
        "plt.plot(x1, a*x1 + b)\n",
        "plt.title('Parking Spaces vs. Total Employment')\n",
        "plt.ylabel('Parking Spaces')\n",
        "plt.xlabel('Total Employment')\n",
        "plt.show()\n",
        "#Plot the data points (Parking Spaces vs. Dwelling Number) and regression line\n",
        "plt.plot(x2,y,'+')\n",
        "a, b = np.polyfit(x2,y,1)\n",
        "plt.plot(x2, a*x2 + b)\n",
        "plt.title('Parking Spaces vs. Dwelling Number')\n",
        "plt.ylabel('Parking Spaces')\n",
        "plt.xlabel('Dwelling Number')\n",
        "plt.show()\n"
      ],
      "execution_count": 111,
      "outputs": [
        {
          "output_type": "stream",
          "name": "stdout",
          "text": [
            "                      CLUE small area  ...  Parking spaces\n",
            "Census year Block ID                   ...                \n",
            "2002        11        Melbourne (CBD)  ...             303\n",
            "            12        Melbourne (CBD)  ...             749\n",
            "            13        Melbourne (CBD)  ...             622\n",
            "            14        Melbourne (CBD)  ...            1229\n",
            "            15        Melbourne (CBD)  ...              88\n",
            "\n",
            "[5 rows x 4 columns]\n"
          ]
        },
        {
          "output_type": "display_data",
          "data": {
            "image/png": "[encoded data removed]",
            "text/plain": [
              "<Figure size 432x288 with 1 Axes>"
            ]
          },
          "metadata": {}
        },
        {
          "output_type": "display_data",
          "data": {
            "image/png": "[encoded data removed]",
            "text/plain": [
              "<Figure size 432x288 with 1 Axes>"
            ]
          },
          "metadata": {}
        }
      ]
    },
    {
      "cell_type": "markdown",
      "metadata": {
        "id": "0I4h1N4zooQO"
      },
      "source": [
        "# **Modeling and Analyzing**"
      ]
    },
    {
      "cell_type": "markdown",
      "metadata": {
        "id": "VXTzXE8bsFFW"
      },
      "source": [
        "## Prepare the filtered data records"
      ]
    },
    {
      "cell_type": "code",
      "metadata": {
        "id": "NNnbFdxXrquN"
      },
      "source": [
        "#Prepare X and Y data for model training\n",
        "def Get_data(Data, Year_to_include,Employment,Resident_dwellings):\n",
        "  import numpy as np\n",
        "  features = np.array(['Total employment in block', 'Dwelling number'])\n",
        "  features_to_include = features[[Employment,Resident_dwellings]] #Define the data features for the study\n",
        "  data_to_include = Data.loc[min(Year_to_include):max(Year_to_include)] #Get the wanted rows\n",
        "  X = np.array(data_to_include[features_to_include]) #Get the independent variable(s) based on the selected features\n",
        "  Y = np.array(data_to_include['Parking spaces']) #Get the dependent variable\n",
        "  return X, Y\n",
        "#print('The study period is between: %d and %d'%(min(years_to_include),max(years_to_include)))\n"
      ],
      "execution_count": 112,
      "outputs": []
    },
    {
      "cell_type": "markdown",
      "metadata": {
        "id": "OOHNOm_NvlIU"
      },
      "source": [
        "## Build linear regression model"
      ]
    },
    {
      "cell_type": "code",
      "metadata": {
        "id": "7PRejFEtvkHq"
      },
      "source": [
        "def lm_model(X, Y):\n",
        "  import sklearn\n",
        "  from sklearn import linear_model\n",
        "  from sklearn.ensemble import IsolationForest\n",
        "  iso = IsolationForest(contamination=0.1)#use outliers detector\n",
        "  yhat = iso.fit_predict(X) #Search for outliers\n",
        "  lm = linear_model.LinearRegression() #linear regression model\n",
        "  lm.fit(X[yhat!=-1],Y[yhat!=-1]) # Train the model excluding outliers\n",
        "  return lm"
      ],
      "execution_count": 132,
      "outputs": []
    },
    {
      "cell_type": "code",
      "metadata": {
        "colab": {
          "base_uri": "https://localhost:8080/"
        },
        "id": "d5j6L43WmFcs",
        "outputId": "717746f5-1cbb-4b43-ddc2-95535ffc06e5"
      },
      "source": [
        "pip install matplotlib"
      ],
      "execution_count": 128,
      "outputs": [
        {
          "output_type": "stream",
          "name": "stdout",
          "text": [
            "Requirement already satisfied: matplotlib in /usr/local/lib/python3.7/dist-packages (3.2.2)\n",
            "Requirement already satisfied: pyparsing!=2.0.4,!=2.1.2,!=2.1.6,>=2.0.1 in /usr/local/lib/python3.7/dist-packages (from matplotlib) (3.0.6)\n",
            "Requirement already satisfied: kiwisolver>=1.0.1 in /usr/local/lib/python3.7/dist-packages (from matplotlib) (1.3.2)\n",
            "Requirement already satisfied: numpy>=1.11 in /usr/local/lib/python3.7/dist-packages (from matplotlib) (1.19.5)\n",
            "Requirement already satisfied: python-dateutil>=2.1 in /usr/local/lib/python3.7/dist-packages (from matplotlib) (2.8.2)\n",
            "Requirement already satisfied: cycler>=0.10 in /usr/local/lib/python3.7/dist-packages (from matplotlib) (0.11.0)\n",
            "Requirement already satisfied: six>=1.5 in /usr/local/lib/python3.7/dist-packages (from python-dateutil>=2.1->matplotlib) (1.15.0)\n"
          ]
        }
      ]
    },
    {
      "cell_type": "markdown",
      "metadata": {
        "id": "rc7kJD-p4ZIt"
      },
      "source": [
        "## Predict the parking problem based on the latest year (2020)"
      ]
    },
    {
      "cell_type": "code",
      "metadata": {
        "id": "RZkmpC_U4YUv"
      },
      "source": [
        "#Predict parking issue in 2020\n",
        "def Get_predict_result(Data, Model, Employment, Residential_dwellings):\n",
        "  import numpy as np\n",
        "  data_latest = Data.loc[years.max] # Get data of 2020\n",
        "  features = np.array(['Total employment in block', 'Dwelling number'])\n",
        "  features_to_include = features[[Employment,Residential_dwellings]] #Define the data features for the study\n",
        "  result = np.round(Model.predict(np.array(data_latest[features_to_include]))) #Predict based on the selected features\n",
        "  data_latest['Predict_parking'] = result #Add result to the data\n",
        "  impact = result - data_latest['Parking spaces']\n",
        "  impact[impact>=0] = 100*(impact[impact>=0]/(max(impact[impact>=0]))) # Normalize the impact index (0-100)\n",
        "  data_latest['Impact_index'] = impact #Add impact index to the data\n",
        "  return data_latest"
      ],
      "execution_count": 114,
      "outputs": []
    },
    {
      "cell_type": "markdown",
      "metadata": {
        "id": "mlLslmEOGitd"
      },
      "source": [
        "## Plot barchart of the predict results"
      ]
    },
    {
      "cell_type": "code",
      "metadata": {
        "id": "5l4X3zdoGhbq"
      },
      "source": [
        "#visualize the impacted city blocks\n",
        "def bar_plot(Data, Impact_level):\n",
        "  import matplotlib.pyplot as plt\n",
        "  #Only visualize the blocks greater than the impact level\n",
        "  plot_data = Data[Data['Impact_index']>=Impact_level]['Impact_index']#Get only the data records with higher impact level\n",
        "  print(plot_data.index)\n",
        "  print(plot_data.values)\n",
        "  plt.figure(figsize=(len(plot_data)/2,5))\n",
        "  plt.title('Impacted Blocks(limited parking spaces)\\n Shows impact index from '+str(Impact_level)+' to 100')\n",
        "  plt.bar (np.array2string(plot_data.index),plot_data.values)\n",
        "  plt.show()"
      ],
      "execution_count": 150,
      "outputs": []
    },
    {
      "cell_type": "markdown",
      "metadata": {
        "id": "q2sCp9c0Np_Y"
      },
      "source": [
        "# Prepare datasets for map plotting"
      ]
    },
    {
      "cell_type": "code",
      "metadata": {
        "id": "upAFbbAA7gaR",
        "colab": {
          "base_uri": "https://localhost:8080/",
          "height": 91
        },
        "outputId": "f036ad2c-01c8-4367-afd4-914a90d0dd8e"
      },
      "source": [
        "'''\n",
        "#CLUE block map\n",
        "import json\n",
        "json_file = open('/content/drive/MyDrive/Notebooks/SIT782/CLUE/clue_blocks.geojson') \n",
        "clue_geo = json.load(json_file)\n",
        "\n",
        "#Only take the impacted blocks\n",
        "clue_data = data_latest[data_latest['Impact_index']>=min_impact_level].sort_values('Impact_index',ascending = False)\n",
        "clue_data.reset_index(inplace=True) #turn the index (Block_ID) into a column in the dataframe (clue_data)\n",
        "clue_data['Block ID'] = clue_data['Block ID'].astype('str') # conver [Block ID] to str, so that it is compatible with json content\n",
        "'''"
      ],
      "execution_count": 116,
      "outputs": [
        {
          "output_type": "execute_result",
          "data": {
            "application/vnd.google.colaboratory.intrinsic+json": {
              "type": "string"
            },
            "text/plain": [
              "\"\\n#CLUE block map\\nimport json\\njson_file = open('/content/drive/MyDrive/Notebooks/SIT782/CLUE/clue_blocks.geojson') \\nclue_geo = json.load(json_file)\\n\\n#Only take the impacted blocks\\nclue_data = data_latest[data_latest['Impact_index']>=min_impact_level].sort_values('Impact_index',ascending = False)\\nclue_data.reset_index(inplace=True) #turn the index (Block_ID) into a column in the dataframe (clue_data)\\nclue_data['Block ID'] = clue_data['Block ID'].astype('str') # conver [Block ID] to str, so that it is compatible with json content\\n\""
            ]
          },
          "metadata": {},
          "execution_count": 116
        }
      ]
    },
    {
      "cell_type": "markdown",
      "metadata": {
        "id": "wu-cEzszOeYK"
      },
      "source": [
        "# Plot the map using Folium Choropleth"
      ]
    },
    {
      "cell_type": "code",
      "metadata": {
        "colab": {
          "base_uri": "https://localhost:8080/",
          "height": 128
        },
        "id": "bJofRzQc_Kxu",
        "outputId": "967bb7da-481b-4de4-c46b-b445ea6ef7c6"
      },
      "source": [
        "'''\n",
        "import folium\n",
        "#Create the initial map\n",
        "fmap = folium.Map(location=[-37.811600, 144.964610],\n",
        "           tiles='Stamen Toner',\n",
        "           width = '80%',\n",
        "           height = '60%',\n",
        "           zoom_start=13)\n",
        "\n",
        "#create the choropleth layer and add to the map above\n",
        "choropleth = folium.Choropleth(\n",
        "    geo_data=clue_geo,\n",
        "    name='choropleth',\n",
        "    data=clue_data,\n",
        "    columns=['Block ID','Impact_index'],\n",
        "    key_on='feature.properties.block_id',\n",
        "    fill_color='YlOrRd',\n",
        "    fill_opacity=1,\n",
        "    line_opacity=0.5,\n",
        "    nan_fill_color='cloud',\n",
        "    nan_fill_opacity = 0.2,\n",
        "    highlight=True,\n",
        "    legend_name='Impact index'\n",
        ").add_to(fmap)\n",
        "\n",
        "#Add more layers and tooltips\n",
        "fmap.add_tile_layer()\n",
        "fmap.add_tile_layer('Stamen Terrain')\n",
        "choropleth.geojson.add_child(folium.features.GeoJsonTooltip(['block_id','clue_area'],labels=True))\n",
        "folium.LayerControl().add_to(fmap)\n",
        "fmap\n",
        "\n",
        "'''"
      ],
      "execution_count": 117,
      "outputs": [
        {
          "output_type": "execute_result",
          "data": {
            "application/vnd.google.colaboratory.intrinsic+json": {
              "type": "string"
            },
            "text/plain": [
              "\"\\nimport folium\\n#Create the initial map\\nfmap = folium.Map(location=[-37.811600, 144.964610],\\n           tiles='Stamen Toner',\\n           width = '80%',\\n           height = '60%',\\n           zoom_start=13)\\n\\n#create the choropleth layer and add to the map above\\nchoropleth = folium.Choropleth(\\n    geo_data=clue_geo,\\n    name='choropleth',\\n    data=clue_data,\\n    columns=['Block ID','Impact_index'],\\n    key_on='feature.properties.block_id',\\n    fill_color='YlOrRd',\\n    fill_opacity=1,\\n    line_opacity=0.5,\\n    nan_fill_color='cloud',\\n    nan_fill_opacity = 0.2,\\n    highlight=True,\\n    legend_name='Impact index'\\n).add_to(fmap)\\n\\n#Add more layers and tooltips\\nfmap.add_tile_layer()\\nfmap.add_tile_layer('Stamen Terrain')\\nchoropleth.geojson.add_child(folium.features.GeoJsonTooltip(['block_id','clue_area'],labels=True))\\nfolium.LayerControl().add_to(fmap)\\nfmap\\n\\n\""
            ]
          },
          "metadata": {},
          "execution_count": 117
        }
      ]
    },
    {
      "cell_type": "markdown",
      "metadata": {
        "id": "ul0SWwlX-ivA"
      },
      "source": [
        "## Interactive Tools and Visualizations"
      ]
    },
    {
      "cell_type": "code",
      "metadata": {
        "id": "4_-EHzxUokbX"
      },
      "source": [
        "#Year to include in the study (from 2002 to 2020 or between that)\n",
        "#Create a widget to select the range of study years\n",
        "from ipywidgets import interact_manual\n",
        "import ipywidgets as widgets\n",
        "from IPython.display import display\n",
        "style = {'description_width': 'initial'} #for long label of the widgets\n",
        "#Year-to-include slider\n",
        "years = widgets.IntRangeSlider(\n",
        "    value=[2002, 2020],\n",
        "    min=2002,\n",
        "    max=2020,\n",
        "    step=1,\n",
        "    description='Years to include:',\n",
        "    disabled=False,\n",
        "    continuous_update=True,\n",
        "    orientation='horizontal',\n",
        "    readout=True,\n",
        "    readout_format='d',\n",
        "    style=style\n",
        ")\n",
        "#Display option: impact level\n",
        "show_impact = widgets.IntSlider(\n",
        "    value=10,\n",
        "    min=10,\n",
        "    max=100,\n",
        "    step=1,\n",
        "    description='Impact index from:',\n",
        "    disabled=False,\n",
        "    continuous_update=True,\n",
        "    orientation='horizontal',\n",
        "    readout=True,\n",
        "    readout_format='d',\n",
        "    style=style\n",
        ")\n",
        "#Employment checkbox\n",
        "chk_employment = widgets.Checkbox(\n",
        "    value=True,\n",
        "    description='Employment',\n",
        "    disabled=False,\n",
        "    indent=False,\n",
        "    continuous_updates=True\n",
        ")\n",
        "#Residential Dwellings checkbox\n",
        "chk_resident = widgets.Checkbox(\n",
        "    value=True,\n",
        "    description='Residential Dwellings',\n",
        "    disabled=False,\n",
        "    indent=False,\n",
        "    continuous_update=True\n",
        ")\n"
      ],
      "execution_count": 130,
      "outputs": []
    },
    {
      "cell_type": "code",
      "metadata": {
        "colab": {
          "base_uri": "https://localhost:8080/",
          "height": 1000,
          "referenced_widgets": [
            "69ebc270354c42b283c4dce08767dd67",
            "5a609cbd5be047249da08502da72834d",
            "ebc814727e944e9cbc4bd05a3a09a851",
            "ed098d43b6e44c52a18001eeb643de0a",
            "7127804557ea4b2a97d0e11532b8ebaf",
            "9bf6d7739caa4665973a65aa9888437c",
            "ed5757d6dde341cb85be69fbe66d692c",
            "55865aabc17f4688a879eb804fba7a6f",
            "c4318d57a3c54403b316f09102087d4b",
            "c5859a43d0264326a1a069c3caba62cc",
            "6a78cb8333284b759bc946930dfee7d4",
            "9fe51fffb7ce4a46b8a0c48bd2b837db",
            "5ba6a46cf7a448c59b78267f43aaa662",
            "375e5d358b26407bbc82cea5d3142565",
            "9b1184d3dc634d2386a98c861f4f0ef4",
            "86ad2b4069864b1c877aa2f4dde61b37",
            "31f5a0e2c0ae434388f88de9b2ec8aa4",
            "e7b1d6e26b224f00802615f5067bf879",
            "3d21fbc6fe5146d2a93cdc69c3683004"
          ]
        },
        "id": "omj0ACtQcOp1",
        "outputId": "3a43ae99-0e3d-493a-9902-df6666fb251f"
      },
      "source": [
        "#Define function to execute when using interactive tools\n",
        "def f(Year_to_include,Employment,Residential_dwellings, Impact_level):\n",
        "  #Must import libraries and datasets for a self-contain function\n",
        "  import pandas as pd\n",
        "  import warnings\n",
        "  warnings.filterwarnings(\"ignore\") #remove dataframe warning\n",
        "  data = pd.read_csv('https://github.com/Tithra/SIT782/blob/main/merged_data.csv?raw=true') #the dataset that contains all the THREE features (employment, resident & parking)\n",
        "  data.set_index(['Census year','Block ID'],inplace=True) #Turn the data to pandas series\n",
        "\n",
        "  print('='*23)\n",
        "  print('|DATA ANALYSIS RESULTS|')\n",
        "  print('='*23)\n",
        "  print('(NOTE: The city blocks without parking information available are ignored by our analyzing model.\\n\\n')\n",
        "  if (not(Employment)) & (not(Residential_dwellings)):\n",
        "    Employment = True  #Prevent both data features are unticked ==> Error\n",
        "  #Get the filtered data for analysis\n",
        "  X, Y = Get_data(data,Year_to_include,Employment,Residential_dwellings)\n",
        "  #Build regression model\n",
        "  lm = lm_model(X,Y)\n",
        "  #Get the predicted results\n",
        "  predict_results = Get_predict_result(data,lm, Employment, Residential_dwellings)\n",
        "  #Plot the barchart of the predicted results\n",
        "  bar_plot(predict_results, Impact_level)\n",
        "  #Show table of the impacted blocks in detail table\n",
        "  print('\\n\\n The table below shows the impacted blocks (limited parking) by the order of the impact index.\\n')\n",
        "  display(predict_results[predict_results['Impact_index']>=Impact_level].sort_values('Impact_index',ascending = False))\n",
        "\n",
        "interact_manual.opts['manual_name'] = 'Start Analyzing'\n",
        "interact_manual(f,Year_to_include=years, Employment=chk_employment, Residential_dwellings = chk_resident, Impact_level = show_impact);"
      ],
      "execution_count": 149,
      "outputs": [
        {
          "output_type": "display_data",
          "data": {
            "application/vnd.jupyter.widget-view+json": {
              "model_id": "69ebc270354c42b283c4dce08767dd67",
              "version_minor": 0,
              "version_major": 2
            },
            "text/plain": [
              "interactive(children=(IntRangeSlider(value=(2002, 2020), description='Years to include:', max=2020, min=2002, …"
            ]
          },
          "metadata": {}
        }
      ]
    }
  ]
}