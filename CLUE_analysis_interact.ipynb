{
  "nbformat": 4,
  "nbformat_minor": 0,
  "metadata": {
    "colab": {
      "name": "CLUE_analysis.ipynb",
      "provenance": [],
      "mount_file_id": "https://github.com/Tithra/SIT782/blob/main/CLUE_analysis_interact.ipynb",
      "authorship_tag": "ABX9TyMUdzNO6890ThGIgVqpRXKL"
    },
    "kernelspec": {
      "name": "python3",
      "display_name": "Python 3"
    },
    "language_info": {
      "name": "python"
    },
    "widgets": {
      "application/vnd.jupyter.widget-state+json": {
        "387209dac785494f947827faccbed0b4": {
          "model_module": "@jupyter-widgets/controls",
          "model_name": "VBoxModel",
          "model_module_version": "1.5.0",
          "state": {
            "_view_name": "VBoxView",
            "_dom_classes": [
              "widget-interact"
            ],
            "_model_name": "VBoxModel",
            "_view_module": "@jupyter-widgets/controls",
            "_model_module_version": "1.5.0",
            "_view_count": null,
            "_view_module_version": "1.5.0",
            "box_style": "",
            "layout": "IPY_MODEL_c000d18edd4745fbaa5f729aacda7246",
            "_model_module": "@jupyter-widgets/controls",
            "children": [
              "IPY_MODEL_ee27ba910478489fa80be017b5fd9fa5",
              "IPY_MODEL_b2a3f9cb302345a8be05ab68b7b7bdf0",
              "IPY_MODEL_e4255d1acf4a40ed8ccc52144581136a",
              "IPY_MODEL_6d01d1584279441894d66477b6aab7dc",
              "IPY_MODEL_cd5e034d8c424ea083ff1cdc55ddce2c",
              "IPY_MODEL_f4cecda38f70498cb8ab08f4c8fa896d"
            ]
          }
        },
        "c000d18edd4745fbaa5f729aacda7246": {
          "model_module": "@jupyter-widgets/base",
          "model_name": "LayoutModel",
          "model_module_version": "1.2.0",
          "state": {
            "_view_name": "LayoutView",
            "grid_template_rows": null,
            "right": null,
            "justify_content": null,
            "_view_module": "@jupyter-widgets/base",
            "overflow": null,
            "_model_module_version": "1.2.0",
            "_view_count": null,
            "flex_flow": null,
            "width": null,
            "min_width": null,
            "border": null,
            "align_items": null,
            "bottom": null,
            "_model_module": "@jupyter-widgets/base",
            "top": null,
            "grid_column": null,
            "overflow_y": null,
            "overflow_x": null,
            "grid_auto_flow": null,
            "grid_area": null,
            "grid_template_columns": null,
            "flex": null,
            "_model_name": "LayoutModel",
            "justify_items": null,
            "grid_row": null,
            "max_height": null,
            "align_content": null,
            "visibility": null,
            "align_self": null,
            "height": null,
            "min_height": null,
            "padding": null,
            "grid_auto_rows": null,
            "grid_gap": null,
            "max_width": null,
            "order": null,
            "_view_module_version": "1.2.0",
            "grid_template_areas": null,
            "object_position": null,
            "object_fit": null,
            "grid_auto_columns": null,
            "margin": null,
            "display": null,
            "left": null
          }
        },
        "ee27ba910478489fa80be017b5fd9fa5": {
          "model_module": "@jupyter-widgets/controls",
          "model_name": "IntRangeSliderModel",
          "model_module_version": "1.5.0",
          "state": {
            "_view_name": "IntRangeSliderView",
            "style": "IPY_MODEL_e04a9e1eabd94152a66cec6ed7f39abe",
            "_dom_classes": [],
            "description": "Years to include:",
            "step": 1,
            "_model_name": "IntRangeSliderModel",
            "orientation": "horizontal",
            "max": 2020,
            "_view_module": "@jupyter-widgets/controls",
            "_model_module_version": "1.5.0",
            "value": [
              2002,
              2020
            ],
            "_view_count": null,
            "disabled": false,
            "_view_module_version": "1.5.0",
            "min": 2002,
            "continuous_update": true,
            "readout_format": "d",
            "description_tooltip": null,
            "readout": true,
            "_model_module": "@jupyter-widgets/controls",
            "layout": "IPY_MODEL_0770ff7ff0bf45cebac502b8ed5b0d7e"
          }
        },
        "b2a3f9cb302345a8be05ab68b7b7bdf0": {
          "model_module": "@jupyter-widgets/controls",
          "model_name": "CheckboxModel",
          "model_module_version": "1.5.0",
          "state": {
            "_view_name": "CheckboxView",
            "style": "IPY_MODEL_49ed2314b4b141cca7504cebe76d4bb2",
            "_dom_classes": [],
            "description": "Employment",
            "_model_name": "CheckboxModel",
            "_view_module": "@jupyter-widgets/controls",
            "_model_module_version": "1.5.0",
            "value": true,
            "_view_count": null,
            "disabled": false,
            "_view_module_version": "1.5.0",
            "indent": false,
            "description_tooltip": null,
            "_model_module": "@jupyter-widgets/controls",
            "layout": "IPY_MODEL_0a8413befe734b60a426ee5fec081254"
          }
        },
        "e4255d1acf4a40ed8ccc52144581136a": {
          "model_module": "@jupyter-widgets/controls",
          "model_name": "CheckboxModel",
          "model_module_version": "1.5.0",
          "state": {
            "_view_name": "CheckboxView",
            "style": "IPY_MODEL_3726f5b09c994c47b238edbdc7fcdf42",
            "_dom_classes": [],
            "description": "Residential Dwellings",
            "_model_name": "CheckboxModel",
            "_view_module": "@jupyter-widgets/controls",
            "_model_module_version": "1.5.0",
            "value": true,
            "_view_count": null,
            "disabled": false,
            "_view_module_version": "1.5.0",
            "indent": false,
            "description_tooltip": null,
            "_model_module": "@jupyter-widgets/controls",
            "layout": "IPY_MODEL_d3597fd8d9c64cf48ec275e0f1334551"
          }
        },
        "6d01d1584279441894d66477b6aab7dc": {
          "model_module": "@jupyter-widgets/controls",
          "model_name": "IntSliderModel",
          "model_module_version": "1.5.0",
          "state": {
            "_view_name": "IntSliderView",
            "style": "IPY_MODEL_9451610f9fa64ad4b07c44f8c2a08406",
            "_dom_classes": [],
            "description": "Impact index from:",
            "step": 1,
            "_model_name": "IntSliderModel",
            "orientation": "horizontal",
            "max": 100,
            "_view_module": "@jupyter-widgets/controls",
            "_model_module_version": "1.5.0",
            "value": 10,
            "_view_count": null,
            "disabled": false,
            "_view_module_version": "1.5.0",
            "min": 10,
            "continuous_update": true,
            "readout_format": "d",
            "description_tooltip": null,
            "readout": true,
            "_model_module": "@jupyter-widgets/controls",
            "layout": "IPY_MODEL_870bb86aa7f94b7fb02984fbd8f7b790"
          }
        },
        "cd5e034d8c424ea083ff1cdc55ddce2c": {
          "model_module": "@jupyter-widgets/controls",
          "model_name": "ButtonModel",
          "model_module_version": "1.5.0",
          "state": {
            "_view_name": "ButtonView",
            "style": "IPY_MODEL_ce75a6bddcd3464cb048aa20de2001ce",
            "_dom_classes": [],
            "description": "Start Analyzing",
            "_model_name": "ButtonModel",
            "button_style": "",
            "_view_module": "@jupyter-widgets/controls",
            "_model_module_version": "1.5.0",
            "tooltip": "",
            "_view_count": null,
            "disabled": false,
            "_view_module_version": "1.5.0",
            "layout": "IPY_MODEL_67ac844a14e4453b94c748a21390a98d",
            "_model_module": "@jupyter-widgets/controls",
            "icon": ""
          }
        },
        "f4cecda38f70498cb8ab08f4c8fa896d": {
          "model_module": "@jupyter-widgets/output",
          "model_name": "OutputModel",
          "model_module_version": "1.0.0",
          "state": {
            "_view_name": "OutputView",
            "msg_id": "",
            "_dom_classes": [],
            "_model_name": "OutputModel",
            "outputs": [
              {
                "output_type": "stream",
                "name": "stdout",
                "text": [
                  "=======================\n",
                  "|DATA ANALYSIS RESULTS|\n",
                  "=======================\n",
                  "(NOTE: The city blocks without parking information available are ignored by our analyzing model.\n",
                  "\n",
                  "\n"
                ]
              },
              {
                "output_type": "display_data",
                "data": {
                  "image/png": "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\n",
                  "text/plain": "<Figure size 1224x360 with 1 Axes>"
                },
                "metadata": {}
              },
              {
                "output_type": "stream",
                "name": "stdout",
                "text": [
                  "\n",
                  "\n",
                  " The table below shows the impacted blocks (limited parking) by the order of the impact index.\n",
                  "\n"
                ]
              },
              {
                "output_type": "display_data",
                "data": {
                  "text/html": "<div>\n<style scoped>\n    .dataframe tbody tr th:only-of-type {\n        vertical-align: middle;\n    }\n\n    .dataframe tbody tr th {\n        vertical-align: top;\n    }\n\n    .dataframe thead th {\n        text-align: right;\n    }\n</style>\n<table border=\"1\" class=\"dataframe\">\n  <thead>\n    <tr style=\"text-align: right;\">\n      <th></th>\n      <th>CLUE small area</th>\n      <th>Dwelling number</th>\n      <th>Total employment in block</th>\n      <th>Parking spaces</th>\n      <th>Predict_parking</th>\n      <th>Impact_index</th>\n    </tr>\n    <tr>\n      <th>Block ID</th>\n      <th></th>\n      <th></th>\n      <th></th>\n      <th></th>\n      <th></th>\n      <th></th>\n    </tr>\n  </thead>\n  <tbody>\n    <tr>\n      <th>1105</th>\n      <td>Docklands</td>\n      <td>189</td>\n      <td>22612.0</td>\n      <td>2507</td>\n      <td>7959.0</td>\n      <td>100.000000</td>\n    </tr>\n    <tr>\n      <th>1108</th>\n      <td>Docklands</td>\n      <td>3118</td>\n      <td>16425.0</td>\n      <td>4800</td>\n      <td>7871.0</td>\n      <td>56.327953</td>\n    </tr>\n    <tr>\n      <th>34</th>\n      <td>Melbourne (CBD)</td>\n      <td>32</td>\n      <td>7390.0</td>\n      <td>328</td>\n      <td>2606.0</td>\n      <td>41.782832</td>\n    </tr>\n    <tr>\n      <th>47</th>\n      <td>Melbourne (CBD)</td>\n      <td>323</td>\n      <td>7837.0</td>\n      <td>1059</td>\n      <td>2963.0</td>\n      <td>34.922964</td>\n    </tr>\n    <tr>\n      <th>24</th>\n      <td>Melbourne (CBD)</td>\n      <td>175</td>\n      <td>7580.0</td>\n      <td>887</td>\n      <td>2771.0</td>\n      <td>34.556126</td>\n    </tr>\n    <tr>\n      <th>1101</th>\n      <td>Docklands</td>\n      <td>120</td>\n      <td>8949.0</td>\n      <td>1378</td>\n      <td>3204.0</td>\n      <td>33.492296</td>\n    </tr>\n    <tr>\n      <th>87</th>\n      <td>Melbourne (CBD)</td>\n      <td>915</td>\n      <td>4366.0</td>\n      <td>387</td>\n      <td>2180.0</td>\n      <td>32.887014</td>\n    </tr>\n    <tr>\n      <th>32</th>\n      <td>Melbourne (CBD)</td>\n      <td>104</td>\n      <td>6966.0</td>\n      <td>719</td>\n      <td>2510.0</td>\n      <td>32.850330</td>\n    </tr>\n    <tr>\n      <th>53</th>\n      <td>Melbourne (CBD)</td>\n      <td>192</td>\n      <td>6026.0</td>\n      <td>553</td>\n      <td>2248.0</td>\n      <td>31.089508</td>\n    </tr>\n    <tr>\n      <th>85</th>\n      <td>Melbourne (CBD)</td>\n      <td>321</td>\n      <td>7477.0</td>\n      <td>1273</td>\n      <td>2838.0</td>\n      <td>28.705062</td>\n    </tr>\n    <tr>\n      <th>18</th>\n      <td>Melbourne (CBD)</td>\n      <td>217</td>\n      <td>6459.0</td>\n      <td>1130</td>\n      <td>2414.0</td>\n      <td>23.550990</td>\n    </tr>\n    <tr>\n      <th>33</th>\n      <td>Melbourne (CBD)</td>\n      <td>268</td>\n      <td>3556.0</td>\n      <td>172</td>\n      <td>1450.0</td>\n      <td>23.440939</td>\n    </tr>\n    <tr>\n      <th>25</th>\n      <td>Melbourne (CBD)</td>\n      <td>254</td>\n      <td>3457.0</td>\n      <td>172</td>\n      <td>1406.0</td>\n      <td>22.633896</td>\n    </tr>\n    <tr>\n      <th>44</th>\n      <td>Melbourne (CBD)</td>\n      <td>98</td>\n      <td>3794.0</td>\n      <td>246</td>\n      <td>1413.0</td>\n      <td>21.404989</td>\n    </tr>\n    <tr>\n      <th>15</th>\n      <td>Melbourne (CBD)</td>\n      <td>659</td>\n      <td>2139.0</td>\n      <td>93</td>\n      <td>1234.0</td>\n      <td>20.928100</td>\n    </tr>\n    <tr>\n      <th>27</th>\n      <td>Melbourne (CBD)</td>\n      <td>2</td>\n      <td>5903.0</td>\n      <td>1050</td>\n      <td>2073.0</td>\n      <td>18.763756</td>\n    </tr>\n    <tr>\n      <th>84</th>\n      <td>Melbourne (CBD)</td>\n      <td>1493</td>\n      <td>759.0</td>\n      <td>344</td>\n      <td>1341.0</td>\n      <td>18.286867</td>\n    </tr>\n    <tr>\n      <th>105</th>\n      <td>Melbourne (CBD)</td>\n      <td>1729</td>\n      <td>1067.0</td>\n      <td>639</td>\n      <td>1611.0</td>\n      <td>17.828320</td>\n    </tr>\n    <tr>\n      <th>95</th>\n      <td>Melbourne (CBD)</td>\n      <td>1745</td>\n      <td>606.0</td>\n      <td>548</td>\n      <td>1464.0</td>\n      <td>16.801174</td>\n    </tr>\n    <tr>\n      <th>264</th>\n      <td>Carlton</td>\n      <td>1806</td>\n      <td>175.0</td>\n      <td>450</td>\n      <td>1358.0</td>\n      <td>16.654439</td>\n    </tr>\n    <tr>\n      <th>38</th>\n      <td>Melbourne (CBD)</td>\n      <td>218</td>\n      <td>2544.0</td>\n      <td>208</td>\n      <td>1066.0</td>\n      <td>15.737344</td>\n    </tr>\n    <tr>\n      <th>26</th>\n      <td>Melbourne (CBD)</td>\n      <td>72</td>\n      <td>4000.0</td>\n      <td>611</td>\n      <td>1466.0</td>\n      <td>15.682318</td>\n    </tr>\n    <tr>\n      <th>753</th>\n      <td>Southbank</td>\n      <td>174</td>\n      <td>6315.0</td>\n      <td>1491</td>\n      <td>2335.0</td>\n      <td>15.480558</td>\n    </tr>\n    <tr>\n      <th>82</th>\n      <td>Melbourne (CBD)</td>\n      <td>34</td>\n      <td>3515.0</td>\n      <td>438</td>\n      <td>1273.0</td>\n      <td>15.315481</td>\n    </tr>\n    <tr>\n      <th>1103</th>\n      <td>Docklands</td>\n      <td>860</td>\n      <td>11148.0</td>\n      <td>3688</td>\n      <td>4478.0</td>\n      <td>14.490095</td>\n    </tr>\n    <tr>\n      <th>23</th>\n      <td>Melbourne (CBD)</td>\n      <td>90</td>\n      <td>2211.0</td>\n      <td>129</td>\n      <td>862.0</td>\n      <td>13.444607</td>\n    </tr>\n    <tr>\n      <th>28</th>\n      <td>Melbourne (CBD)</td>\n      <td>279</td>\n      <td>4538.0</td>\n      <td>1079</td>\n      <td>1796.0</td>\n      <td>13.151137</td>\n    </tr>\n    <tr>\n      <th>93</th>\n      <td>Melbourne (CBD)</td>\n      <td>817</td>\n      <td>2343.0</td>\n      <td>733</td>\n      <td>1415.0</td>\n      <td>12.509171</td>\n    </tr>\n    <tr>\n      <th>61</th>\n      <td>Melbourne (CBD)</td>\n      <td>2609</td>\n      <td>511.0</td>\n      <td>1356</td>\n      <td>2033.0</td>\n      <td>12.417461</td>\n    </tr>\n    <tr>\n      <th>46</th>\n      <td>Melbourne (CBD)</td>\n      <td>143</td>\n      <td>2441.0</td>\n      <td>337</td>\n      <td>979.0</td>\n      <td>11.775495</td>\n    </tr>\n    <tr>\n      <th>94</th>\n      <td>Melbourne (CBD)</td>\n      <td>878</td>\n      <td>3330.0</td>\n      <td>1160</td>\n      <td>1797.0</td>\n      <td>11.683786</td>\n    </tr>\n    <tr>\n      <th>65</th>\n      <td>Melbourne (CBD)</td>\n      <td>225</td>\n      <td>2040.0</td>\n      <td>277</td>\n      <td>898.0</td>\n      <td>11.390315</td>\n    </tr>\n    <tr>\n      <th>257</th>\n      <td>Carlton</td>\n      <td>669</td>\n      <td>674.0</td>\n      <td>142</td>\n      <td>737.0</td>\n      <td>10.913426</td>\n    </tr>\n    <tr>\n      <th>41</th>\n      <td>Melbourne (CBD)</td>\n      <td>44</td>\n      <td>2007.0</td>\n      <td>192</td>\n      <td>760.0</td>\n      <td>10.418195</td>\n    </tr>\n  </tbody>\n</table>\n</div>",
                  "text/plain": "          CLUE small area  Dwelling number  ...  Predict_parking  Impact_index\nBlock ID                                    ...                               \n1105            Docklands              189  ...           7959.0    100.000000\n1108            Docklands             3118  ...           7871.0     56.327953\n34        Melbourne (CBD)               32  ...           2606.0     41.782832\n47        Melbourne (CBD)              323  ...           2963.0     34.922964\n24        Melbourne (CBD)              175  ...           2771.0     34.556126\n1101            Docklands              120  ...           3204.0     33.492296\n87        Melbourne (CBD)              915  ...           2180.0     32.887014\n32        Melbourne (CBD)              104  ...           2510.0     32.850330\n53        Melbourne (CBD)              192  ...           2248.0     31.089508\n85        Melbourne (CBD)              321  ...           2838.0     28.705062\n18        Melbourne (CBD)              217  ...           2414.0     23.550990\n33        Melbourne (CBD)              268  ...           1450.0     23.440939\n25        Melbourne (CBD)              254  ...           1406.0     22.633896\n44        Melbourne (CBD)               98  ...           1413.0     21.404989\n15        Melbourne (CBD)              659  ...           1234.0     20.928100\n27        Melbourne (CBD)                2  ...           2073.0     18.763756\n84        Melbourne (CBD)             1493  ...           1341.0     18.286867\n105       Melbourne (CBD)             1729  ...           1611.0     17.828320\n95        Melbourne (CBD)             1745  ...           1464.0     16.801174\n264               Carlton             1806  ...           1358.0     16.654439\n38        Melbourne (CBD)              218  ...           1066.0     15.737344\n26        Melbourne (CBD)               72  ...           1466.0     15.682318\n753             Southbank              174  ...           2335.0     15.480558\n82        Melbourne (CBD)               34  ...           1273.0     15.315481\n1103            Docklands              860  ...           4478.0     14.490095\n23        Melbourne (CBD)               90  ...            862.0     13.444607\n28        Melbourne (CBD)              279  ...           1796.0     13.151137\n93        Melbourne (CBD)              817  ...           1415.0     12.509171\n61        Melbourne (CBD)             2609  ...           2033.0     12.417461\n46        Melbourne (CBD)              143  ...            979.0     11.775495\n94        Melbourne (CBD)              878  ...           1797.0     11.683786\n65        Melbourne (CBD)              225  ...            898.0     11.390315\n257               Carlton              669  ...            737.0     10.913426\n41        Melbourne (CBD)               44  ...            760.0     10.418195\n\n[34 rows x 6 columns]"
                },
                "metadata": {}
              }
            ],
            "_view_module": "@jupyter-widgets/output",
            "_model_module_version": "1.0.0",
            "_view_count": null,
            "_view_module_version": "1.0.0",
            "layout": "IPY_MODEL_c0253db5431b4f349ef762efeb575a79",
            "_model_module": "@jupyter-widgets/output"
          }
        },
        "e04a9e1eabd94152a66cec6ed7f39abe": {
          "model_module": "@jupyter-widgets/controls",
          "model_name": "SliderStyleModel",
          "model_module_version": "1.5.0",
          "state": {
            "_view_name": "StyleView",
            "handle_color": null,
            "_model_name": "SliderStyleModel",
            "description_width": "initial",
            "_view_module": "@jupyter-widgets/base",
            "_model_module_version": "1.5.0",
            "_view_count": null,
            "_view_module_version": "1.2.0",
            "_model_module": "@jupyter-widgets/controls"
          }
        },
        "0770ff7ff0bf45cebac502b8ed5b0d7e": {
          "model_module": "@jupyter-widgets/base",
          "model_name": "LayoutModel",
          "model_module_version": "1.2.0",
          "state": {
            "_view_name": "LayoutView",
            "grid_template_rows": null,
            "right": null,
            "justify_content": null,
            "_view_module": "@jupyter-widgets/base",
            "overflow": null,
            "_model_module_version": "1.2.0",
            "_view_count": null,
            "flex_flow": null,
            "width": null,
            "min_width": null,
            "border": null,
            "align_items": null,
            "bottom": null,
            "_model_module": "@jupyter-widgets/base",
            "top": null,
            "grid_column": null,
            "overflow_y": null,
            "overflow_x": null,
            "grid_auto_flow": null,
            "grid_area": null,
            "grid_template_columns": null,
            "flex": null,
            "_model_name": "LayoutModel",
            "justify_items": null,
            "grid_row": null,
            "max_height": null,
            "align_content": null,
            "visibility": null,
            "align_self": null,
            "height": null,
            "min_height": null,
            "padding": null,
            "grid_auto_rows": null,
            "grid_gap": null,
            "max_width": null,
            "order": null,
            "_view_module_version": "1.2.0",
            "grid_template_areas": null,
            "object_position": null,
            "object_fit": null,
            "grid_auto_columns": null,
            "margin": null,
            "display": null,
            "left": null
          }
        },
        "49ed2314b4b141cca7504cebe76d4bb2": {
          "model_module": "@jupyter-widgets/controls",
          "model_name": "DescriptionStyleModel",
          "model_module_version": "1.5.0",
          "state": {
            "_view_name": "StyleView",
            "_model_name": "DescriptionStyleModel",
            "description_width": "",
            "_view_module": "@jupyter-widgets/base",
            "_model_module_version": "1.5.0",
            "_view_count": null,
            "_view_module_version": "1.2.0",
            "_model_module": "@jupyter-widgets/controls"
          }
        },
        "0a8413befe734b60a426ee5fec081254": {
          "model_module": "@jupyter-widgets/base",
          "model_name": "LayoutModel",
          "model_module_version": "1.2.0",
          "state": {
            "_view_name": "LayoutView",
            "grid_template_rows": null,
            "right": null,
            "justify_content": null,
            "_view_module": "@jupyter-widgets/base",
            "overflow": null,
            "_model_module_version": "1.2.0",
            "_view_count": null,
            "flex_flow": null,
            "width": null,
            "min_width": null,
            "border": null,
            "align_items": null,
            "bottom": null,
            "_model_module": "@jupyter-widgets/base",
            "top": null,
            "grid_column": null,
            "overflow_y": null,
            "overflow_x": null,
            "grid_auto_flow": null,
            "grid_area": null,
            "grid_template_columns": null,
            "flex": null,
            "_model_name": "LayoutModel",
            "justify_items": null,
            "grid_row": null,
            "max_height": null,
            "align_content": null,
            "visibility": null,
            "align_self": null,
            "height": null,
            "min_height": null,
            "padding": null,
            "grid_auto_rows": null,
            "grid_gap": null,
            "max_width": null,
            "order": null,
            "_view_module_version": "1.2.0",
            "grid_template_areas": null,
            "object_position": null,
            "object_fit": null,
            "grid_auto_columns": null,
            "margin": null,
            "display": null,
            "left": null
          }
        },
        "3726f5b09c994c47b238edbdc7fcdf42": {
          "model_module": "@jupyter-widgets/controls",
          "model_name": "DescriptionStyleModel",
          "model_module_version": "1.5.0",
          "state": {
            "_view_name": "StyleView",
            "_model_name": "DescriptionStyleModel",
            "description_width": "",
            "_view_module": "@jupyter-widgets/base",
            "_model_module_version": "1.5.0",
            "_view_count": null,
            "_view_module_version": "1.2.0",
            "_model_module": "@jupyter-widgets/controls"
          }
        },
        "d3597fd8d9c64cf48ec275e0f1334551": {
          "model_module": "@jupyter-widgets/base",
          "model_name": "LayoutModel",
          "model_module_version": "1.2.0",
          "state": {
            "_view_name": "LayoutView",
            "grid_template_rows": null,
            "right": null,
            "justify_content": null,
            "_view_module": "@jupyter-widgets/base",
            "overflow": null,
            "_model_module_version": "1.2.0",
            "_view_count": null,
            "flex_flow": null,
            "width": null,
            "min_width": null,
            "border": null,
            "align_items": null,
            "bottom": null,
            "_model_module": "@jupyter-widgets/base",
            "top": null,
            "grid_column": null,
            "overflow_y": null,
            "overflow_x": null,
            "grid_auto_flow": null,
            "grid_area": null,
            "grid_template_columns": null,
            "flex": null,
            "_model_name": "LayoutModel",
            "justify_items": null,
            "grid_row": null,
            "max_height": null,
            "align_content": null,
            "visibility": null,
            "align_self": null,
            "height": null,
            "min_height": null,
            "padding": null,
            "grid_auto_rows": null,
            "grid_gap": null,
            "max_width": null,
            "order": null,
            "_view_module_version": "1.2.0",
            "grid_template_areas": null,
            "object_position": null,
            "object_fit": null,
            "grid_auto_columns": null,
            "margin": null,
            "display": null,
            "left": null
          }
        },
        "9451610f9fa64ad4b07c44f8c2a08406": {
          "model_module": "@jupyter-widgets/controls",
          "model_name": "SliderStyleModel",
          "model_module_version": "1.5.0",
          "state": {
            "_view_name": "StyleView",
            "handle_color": null,
            "_model_name": "SliderStyleModel",
            "description_width": "initial",
            "_view_module": "@jupyter-widgets/base",
            "_model_module_version": "1.5.0",
            "_view_count": null,
            "_view_module_version": "1.2.0",
            "_model_module": "@jupyter-widgets/controls"
          }
        },
        "870bb86aa7f94b7fb02984fbd8f7b790": {
          "model_module": "@jupyter-widgets/base",
          "model_name": "LayoutModel",
          "model_module_version": "1.2.0",
          "state": {
            "_view_name": "LayoutView",
            "grid_template_rows": null,
            "right": null,
            "justify_content": null,
            "_view_module": "@jupyter-widgets/base",
            "overflow": null,
            "_model_module_version": "1.2.0",
            "_view_count": null,
            "flex_flow": null,
            "width": null,
            "min_width": null,
            "border": null,
            "align_items": null,
            "bottom": null,
            "_model_module": "@jupyter-widgets/base",
            "top": null,
            "grid_column": null,
            "overflow_y": null,
            "overflow_x": null,
            "grid_auto_flow": null,
            "grid_area": null,
            "grid_template_columns": null,
            "flex": null,
            "_model_name": "LayoutModel",
            "justify_items": null,
            "grid_row": null,
            "max_height": null,
            "align_content": null,
            "visibility": null,
            "align_self": null,
            "height": null,
            "min_height": null,
            "padding": null,
            "grid_auto_rows": null,
            "grid_gap": null,
            "max_width": null,
            "order": null,
            "_view_module_version": "1.2.0",
            "grid_template_areas": null,
            "object_position": null,
            "object_fit": null,
            "grid_auto_columns": null,
            "margin": null,
            "display": null,
            "left": null
          }
        },
        "ce75a6bddcd3464cb048aa20de2001ce": {
          "model_module": "@jupyter-widgets/controls",
          "model_name": "ButtonStyleModel",
          "model_module_version": "1.5.0",
          "state": {
            "_view_name": "StyleView",
            "_model_name": "ButtonStyleModel",
            "_view_module": "@jupyter-widgets/base",
            "_model_module_version": "1.5.0",
            "_view_count": null,
            "button_color": null,
            "font_weight": "",
            "_view_module_version": "1.2.0",
            "_model_module": "@jupyter-widgets/controls"
          }
        },
        "67ac844a14e4453b94c748a21390a98d": {
          "model_module": "@jupyter-widgets/base",
          "model_name": "LayoutModel",
          "model_module_version": "1.2.0",
          "state": {
            "_view_name": "LayoutView",
            "grid_template_rows": null,
            "right": null,
            "justify_content": null,
            "_view_module": "@jupyter-widgets/base",
            "overflow": null,
            "_model_module_version": "1.2.0",
            "_view_count": null,
            "flex_flow": null,
            "width": null,
            "min_width": null,
            "border": null,
            "align_items": null,
            "bottom": null,
            "_model_module": "@jupyter-widgets/base",
            "top": null,
            "grid_column": null,
            "overflow_y": null,
            "overflow_x": null,
            "grid_auto_flow": null,
            "grid_area": null,
            "grid_template_columns": null,
            "flex": null,
            "_model_name": "LayoutModel",
            "justify_items": null,
            "grid_row": null,
            "max_height": null,
            "align_content": null,
            "visibility": null,
            "align_self": null,
            "height": null,
            "min_height": null,
            "padding": null,
            "grid_auto_rows": null,
            "grid_gap": null,
            "max_width": null,
            "order": null,
            "_view_module_version": "1.2.0",
            "grid_template_areas": null,
            "object_position": null,
            "object_fit": null,
            "grid_auto_columns": null,
            "margin": null,
            "display": null,
            "left": null
          }
        },
        "c0253db5431b4f349ef762efeb575a79": {
          "model_module": "@jupyter-widgets/base",
          "model_name": "LayoutModel",
          "model_module_version": "1.2.0",
          "state": {
            "_view_name": "LayoutView",
            "grid_template_rows": null,
            "right": null,
            "justify_content": null,
            "_view_module": "@jupyter-widgets/base",
            "overflow": null,
            "_model_module_version": "1.2.0",
            "_view_count": null,
            "flex_flow": null,
            "width": null,
            "min_width": null,
            "border": null,
            "align_items": null,
            "bottom": null,
            "_model_module": "@jupyter-widgets/base",
            "top": null,
            "grid_column": null,
            "overflow_y": null,
            "overflow_x": null,
            "grid_auto_flow": null,
            "grid_area": null,
            "grid_template_columns": null,
            "flex": null,
            "_model_name": "LayoutModel",
            "justify_items": null,
            "grid_row": null,
            "max_height": null,
            "align_content": null,
            "visibility": null,
            "align_self": null,
            "height": null,
            "min_height": null,
            "padding": null,
            "grid_auto_rows": null,
            "grid_gap": null,
            "max_width": null,
            "order": null,
            "_view_module_version": "1.2.0",
            "grid_template_areas": null,
            "object_position": null,
            "object_fit": null,
            "grid_auto_columns": null,
            "margin": null,
            "display": null,
            "left": null
          }
        }
      }
    }
  },
  "cells": [
    {
      "cell_type": "code",
      "metadata": {
        "id": "wPNGAqnKDZX7",
        "colab": {
          "base_uri": "https://localhost:8080/"
        },
        "outputId": "bc5d025d-8512-4a84-ff45-b40138988714"
      },
      "source": [
        "pip install nbinteract"
      ],
      "execution_count": 107,
      "outputs": [
        {
          "output_type": "stream",
          "name": "stdout",
          "text": [
            "Requirement already satisfied: nbinteract in /usr/local/lib/python3.7/dist-packages (0.2.6)\n",
            "Requirement already satisfied: IPython<8,>=6 in /usr/local/lib/python3.7/dist-packages (from nbinteract) (7.30.0)\n",
            "Requirement already satisfied: numpy<2,>=1 in /usr/local/lib/python3.7/dist-packages (from nbinteract) (1.19.5)\n",
            "Requirement already satisfied: bqplot==0.11.0 in /usr/local/lib/python3.7/dist-packages (from nbinteract) (0.11.0)\n",
            "Requirement already satisfied: traitlets<5,>=4.3 in /usr/local/lib/python3.7/dist-packages (from nbinteract) (4.3.3)\n",
            "Requirement already satisfied: docopt<1,>=0.6.2 in /usr/local/lib/python3.7/dist-packages (from nbinteract) (0.6.2)\n",
            "Requirement already satisfied: nbconvert>=5.3 in /usr/local/lib/python3.7/dist-packages (from nbinteract) (5.6.1)\n",
            "Requirement already satisfied: Jinja2<3,>=2.10 in /usr/local/lib/python3.7/dist-packages (from nbinteract) (2.11.3)\n",
            "Requirement already satisfied: ipywidgets<8,>=7.5.0 in /usr/local/lib/python3.7/dist-packages (from nbinteract) (7.6.5)\n",
            "Requirement already satisfied: toolz<1,>=0.8 in /usr/local/lib/python3.7/dist-packages (from nbinteract) (0.11.2)\n",
            "Requirement already satisfied: nbformat<5,>=4.4.0 in /usr/local/lib/python3.7/dist-packages (from nbinteract) (4.4.0)\n",
            "Requirement already satisfied: traittypes>=0.0.6 in /usr/local/lib/python3.7/dist-packages (from bqplot==0.11.0->nbinteract) (0.2.1)\n",
            "Requirement already satisfied: pandas in /usr/local/lib/python3.7/dist-packages (from bqplot==0.11.0->nbinteract) (1.1.5)\n",
            "Requirement already satisfied: jedi>=0.16 in /usr/local/lib/python3.7/dist-packages (from IPython<8,>=6->nbinteract) (0.18.1)\n",
            "Requirement already satisfied: backcall in /usr/local/lib/python3.7/dist-packages (from IPython<8,>=6->nbinteract) (0.2.0)\n",
            "Requirement already satisfied: setuptools>=18.5 in /usr/local/lib/python3.7/dist-packages (from IPython<8,>=6->nbinteract) (57.4.0)\n",
            "Requirement already satisfied: matplotlib-inline in /usr/local/lib/python3.7/dist-packages (from IPython<8,>=6->nbinteract) (0.1.3)\n",
            "Requirement already satisfied: pexpect>4.3 in /usr/local/lib/python3.7/dist-packages (from IPython<8,>=6->nbinteract) (4.8.0)\n",
            "Requirement already satisfied: pygments in /usr/local/lib/python3.7/dist-packages (from IPython<8,>=6->nbinteract) (2.6.1)\n",
            "Requirement already satisfied: prompt-toolkit!=3.0.0,!=3.0.1,<3.1.0,>=2.0.0 in /usr/local/lib/python3.7/dist-packages (from IPython<8,>=6->nbinteract) (3.0.23)\n",
            "Requirement already satisfied: pickleshare in /usr/local/lib/python3.7/dist-packages (from IPython<8,>=6->nbinteract) (0.7.5)\n",
            "Requirement already satisfied: decorator in /usr/local/lib/python3.7/dist-packages (from IPython<8,>=6->nbinteract) (4.4.2)\n",
            "Requirement already satisfied: jupyterlab-widgets>=1.0.0 in /usr/local/lib/python3.7/dist-packages (from ipywidgets<8,>=7.5.0->nbinteract) (1.0.2)\n",
            "Requirement already satisfied: ipykernel>=4.5.1 in /usr/local/lib/python3.7/dist-packages (from ipywidgets<8,>=7.5.0->nbinteract) (4.10.1)\n",
            "Requirement already satisfied: ipython-genutils~=0.2.0 in /usr/local/lib/python3.7/dist-packages (from ipywidgets<8,>=7.5.0->nbinteract) (0.2.0)\n",
            "Requirement already satisfied: widgetsnbextension~=3.5.0 in /usr/local/lib/python3.7/dist-packages (from ipywidgets<8,>=7.5.0->nbinteract) (3.5.2)\n",
            "Requirement already satisfied: tornado>=4.0 in /usr/local/lib/python3.7/dist-packages (from ipykernel>=4.5.1->ipywidgets<8,>=7.5.0->nbinteract) (5.1.1)\n",
            "Requirement already satisfied: jupyter-client in /usr/local/lib/python3.7/dist-packages (from ipykernel>=4.5.1->ipywidgets<8,>=7.5.0->nbinteract) (5.3.5)\n",
            "Requirement already satisfied: parso<0.9.0,>=0.8.0 in /usr/local/lib/python3.7/dist-packages (from jedi>=0.16->IPython<8,>=6->nbinteract) (0.8.2)\n",
            "Requirement already satisfied: MarkupSafe>=0.23 in /usr/local/lib/python3.7/dist-packages (from Jinja2<3,>=2.10->nbinteract) (2.0.1)\n",
            "Requirement already satisfied: jupyter-core in /usr/local/lib/python3.7/dist-packages (from nbconvert>=5.3->nbinteract) (4.9.1)\n",
            "Requirement already satisfied: bleach in /usr/local/lib/python3.7/dist-packages (from nbconvert>=5.3->nbinteract) (4.1.0)\n",
            "Requirement already satisfied: pandocfilters>=1.4.1 in /usr/local/lib/python3.7/dist-packages (from nbconvert>=5.3->nbinteract) (1.5.0)\n",
            "Requirement already satisfied: testpath in /usr/local/lib/python3.7/dist-packages (from nbconvert>=5.3->nbinteract) (0.5.0)\n",
            "Requirement already satisfied: defusedxml in /usr/local/lib/python3.7/dist-packages (from nbconvert>=5.3->nbinteract) (0.7.1)\n",
            "Requirement already satisfied: mistune<2,>=0.8.1 in /usr/local/lib/python3.7/dist-packages (from nbconvert>=5.3->nbinteract) (0.8.4)\n",
            "Requirement already satisfied: entrypoints>=0.2.2 in /usr/local/lib/python3.7/dist-packages (from nbconvert>=5.3->nbinteract) (0.3)\n",
            "Requirement already satisfied: jsonschema!=2.5.0,>=2.4 in /usr/local/lib/python3.7/dist-packages (from nbformat<5,>=4.4.0->nbinteract) (2.6.0)\n",
            "Requirement already satisfied: ptyprocess>=0.5 in /usr/local/lib/python3.7/dist-packages (from pexpect>4.3->IPython<8,>=6->nbinteract) (0.7.0)\n",
            "Requirement already satisfied: wcwidth in /usr/local/lib/python3.7/dist-packages (from prompt-toolkit!=3.0.0,!=3.0.1,<3.1.0,>=2.0.0->IPython<8,>=6->nbinteract) (0.2.5)\n",
            "Requirement already satisfied: six in /usr/local/lib/python3.7/dist-packages (from traitlets<5,>=4.3->nbinteract) (1.15.0)\n",
            "Requirement already satisfied: notebook>=4.4.1 in /usr/local/lib/python3.7/dist-packages (from widgetsnbextension~=3.5.0->ipywidgets<8,>=7.5.0->nbinteract) (5.3.1)\n",
            "Requirement already satisfied: Send2Trash in /usr/local/lib/python3.7/dist-packages (from notebook>=4.4.1->widgetsnbextension~=3.5.0->ipywidgets<8,>=7.5.0->nbinteract) (1.8.0)\n",
            "Requirement already satisfied: terminado>=0.8.1 in /usr/local/lib/python3.7/dist-packages (from notebook>=4.4.1->widgetsnbextension~=3.5.0->ipywidgets<8,>=7.5.0->nbinteract) (0.12.1)\n",
            "Requirement already satisfied: pyzmq>=13 in /usr/local/lib/python3.7/dist-packages (from jupyter-client->ipykernel>=4.5.1->ipywidgets<8,>=7.5.0->nbinteract) (22.3.0)\n",
            "Requirement already satisfied: python-dateutil>=2.1 in /usr/local/lib/python3.7/dist-packages (from jupyter-client->ipykernel>=4.5.1->ipywidgets<8,>=7.5.0->nbinteract) (2.8.2)\n",
            "Requirement already satisfied: webencodings in /usr/local/lib/python3.7/dist-packages (from bleach->nbconvert>=5.3->nbinteract) (0.5.1)\n",
            "Requirement already satisfied: packaging in /usr/local/lib/python3.7/dist-packages (from bleach->nbconvert>=5.3->nbinteract) (21.3)\n",
            "Requirement already satisfied: pyparsing!=3.0.5,>=2.0.2 in /usr/local/lib/python3.7/dist-packages (from packaging->bleach->nbconvert>=5.3->nbinteract) (3.0.6)\n",
            "Requirement already satisfied: pytz>=2017.2 in /usr/local/lib/python3.7/dist-packages (from pandas->bqplot==0.11.0->nbinteract) (2018.9)\n"
          ]
        }
      ]
    },
    {
      "cell_type": "markdown",
      "metadata": {
        "id": "uZhOb2ODsEBk"
      },
      "source": [
        "### A case study: using CLUE datasets of Melbourne Open Data\n",
        "\n",
        "# **Where should public transportation be enhanced in the city of Melbourne?**\n",
        "\n",
        "The City of Melbourne has always evolved, and so have the numbers of its residential dwellings and employment population (based on data available on Melbourne Open Data). Without a consistent or parallel increase of off-street parking, the city will face the difficulty in providing enough spaces for parking of private transportation. To resolve this problem, the city planner needs to locate the potential areas where extension of public transportation should be implemented to replace the need for off-street parking.\n",
        "\n",
        "\n",
        "## Purpose: \n",
        "This case study is intended to provide educational instructions of how CLUE datasets can be used for city planners or individuals whose have some knowledge in data analysis.\n",
        "\n",
        "## Pre-requisite skills:\n",
        "- Python scripting (Basic)\n",
        "- Data analysis (Basic EDA and visualizations)\n",
        "\n",
        "## Solution:\n",
        "By looking at the population trend of residential dwellings and employments at different Melbourne city blocks, the city planner can project amount of public transportation services necessary to sufficiently accommodate potential travellers to or/and from those city blocks.\n",
        "\n"
      ]
    },
    {
      "cell_type": "markdown",
      "metadata": {
        "id": "biCQO7dcoyUL"
      },
      "source": [
        "# **Working with Residential dwelling datasets**"
      ]
    },
    {
      "cell_type": "code",
      "metadata": {
        "id": "stROK9yMyX34",
        "colab": {
          "base_uri": "https://localhost:8080/",
          "height": 293
        },
        "outputId": "ea47d4e6-e416-4af6-c389-4fe716058d1f"
      },
      "source": [
        "#CLUE datasets\n",
        "#======================================================\n",
        "import pandas as pd\n",
        "#Residential dwellings data\n",
        "resident = pd.read_csv('/content/drive/MyDrive/Notebooks/SIT782/CLUE/Residential_dwellings.csv')\n",
        "#Total records before cleaning\n",
        "print('Total records before cleaning is',len(resident))\n",
        "#Data cleaning (remove duplicated values)\n",
        "resident.drop_duplicates(inplace = True)\n",
        "#Total records after cleaning\n",
        "print('Total records after cleaning is',len(resident))\n",
        "#Select only necessary columns\n",
        "selected_columns =['Census year','Block ID','CLUE small area','Dwelling number']\n",
        "resident = resident[selected_columns]\n",
        "#Sum the Dwelling number based on Block ID and Year\n",
        "resident_by_block = resident.groupby(['Census year','Block ID']).agg({'CLUE small area':'max','Dwelling number':'sum'})\n",
        "print('Total records after grouping (by Block ID) is',len(resident_by_block))\n",
        "#Detail of the residential dwellings by block\n",
        "resident_by_block.head()\n"
      ],
      "execution_count": 108,
      "outputs": [
        {
          "output_type": "stream",
          "name": "stdout",
          "text": [
            "Total records before cleaning is 177733\n",
            "Total records after cleaning is 177729\n",
            "Total records after grouping (by Block ID) is 8036\n"
          ]
        },
        {
          "output_type": "execute_result",
          "data": {
            "text/html": [
              "<div>\n",
              "<style scoped>\n",
              "    .dataframe tbody tr th:only-of-type {\n",
              "        vertical-align: middle;\n",
              "    }\n",
              "\n",
              "    .dataframe tbody tr th {\n",
              "        vertical-align: top;\n",
              "    }\n",
              "\n",
              "    .dataframe thead th {\n",
              "        text-align: right;\n",
              "    }\n",
              "</style>\n",
              "<table border=\"1\" class=\"dataframe\">\n",
              "  <thead>\n",
              "    <tr style=\"text-align: right;\">\n",
              "      <th></th>\n",
              "      <th></th>\n",
              "      <th>CLUE small area</th>\n",
              "      <th>Dwelling number</th>\n",
              "    </tr>\n",
              "    <tr>\n",
              "      <th>Census year</th>\n",
              "      <th>Block ID</th>\n",
              "      <th></th>\n",
              "      <th></th>\n",
              "    </tr>\n",
              "  </thead>\n",
              "  <tbody>\n",
              "    <tr>\n",
              "      <th rowspan=\"5\" valign=\"top\">2002</th>\n",
              "      <th>11</th>\n",
              "      <td>Melbourne (CBD)</td>\n",
              "      <td>97</td>\n",
              "    </tr>\n",
              "    <tr>\n",
              "      <th>12</th>\n",
              "      <td>Melbourne (CBD)</td>\n",
              "      <td>189</td>\n",
              "    </tr>\n",
              "    <tr>\n",
              "      <th>13</th>\n",
              "      <td>Melbourne (CBD)</td>\n",
              "      <td>113</td>\n",
              "    </tr>\n",
              "    <tr>\n",
              "      <th>14</th>\n",
              "      <td>Melbourne (CBD)</td>\n",
              "      <td>87</td>\n",
              "    </tr>\n",
              "    <tr>\n",
              "      <th>15</th>\n",
              "      <td>Melbourne (CBD)</td>\n",
              "      <td>282</td>\n",
              "    </tr>\n",
              "  </tbody>\n",
              "</table>\n",
              "</div>"
            ],
            "text/plain": [
              "                      CLUE small area  Dwelling number\n",
              "Census year Block ID                                  \n",
              "2002        11        Melbourne (CBD)               97\n",
              "            12        Melbourne (CBD)              189\n",
              "            13        Melbourne (CBD)              113\n",
              "            14        Melbourne (CBD)               87\n",
              "            15        Melbourne (CBD)              282"
            ]
          },
          "metadata": {},
          "execution_count": 108
        }
      ]
    },
    {
      "cell_type": "markdown",
      "metadata": {
        "id": "G2ZGGFzqoqrA"
      },
      "source": [
        "# **Working with Emploment datasets**"
      ]
    },
    {
      "cell_type": "code",
      "metadata": {
        "id": "aT1K2LltF-A-",
        "colab": {
          "base_uri": "https://localhost:8080/",
          "height": 293
        },
        "outputId": "bf15d4df-979a-42ad-9307-707045e9a2a8"
      },
      "source": [
        "#Employment data\n",
        "employment = pd.read_csv('/content/drive/MyDrive/Notebooks/SIT782/CLUE/Employment_by_block_by_CLUE_industry.csv')\n",
        "#Total records before cleaning\n",
        "print('Total records before cleaning is',len(employment))\n",
        "#Cleaning the data (remove missing values at [Total employment in block])\n",
        "employment.dropna(subset=['Total employment in block'],inplace=True)\n",
        "#Total records after cleaning\n",
        "print('Total records afer cleaning is',len(employment))\n",
        "#Select only necessary columns\n",
        "selected_columns =['Census year','Block ID','Total employment in block']\n",
        "employment = employment[selected_columns]\n",
        "#Sum the employment based on Block ID and Year\n",
        "employment_by_block = employment.groupby(['Census year','Block ID']).sum()\n",
        "print('Total records after grouping (by Block ID) is',len(employment_by_block))\n",
        "#Detail of the employment_by_block\n",
        "employment_by_block.head()"
      ],
      "execution_count": 109,
      "outputs": [
        {
          "output_type": "stream",
          "name": "stdout",
          "text": [
            "Total records before cleaning is 11182\n",
            "Total records afer cleaning is 8759\n",
            "Total records after grouping (by Block ID) is 8759\n"
          ]
        },
        {
          "output_type": "execute_result",
          "data": {
            "text/html": [
              "<div>\n",
              "<style scoped>\n",
              "    .dataframe tbody tr th:only-of-type {\n",
              "        vertical-align: middle;\n",
              "    }\n",
              "\n",
              "    .dataframe tbody tr th {\n",
              "        vertical-align: top;\n",
              "    }\n",
              "\n",
              "    .dataframe thead th {\n",
              "        text-align: right;\n",
              "    }\n",
              "</style>\n",
              "<table border=\"1\" class=\"dataframe\">\n",
              "  <thead>\n",
              "    <tr style=\"text-align: right;\">\n",
              "      <th></th>\n",
              "      <th></th>\n",
              "      <th>Total employment in block</th>\n",
              "    </tr>\n",
              "    <tr>\n",
              "      <th>Census year</th>\n",
              "      <th>Block ID</th>\n",
              "      <th></th>\n",
              "    </tr>\n",
              "  </thead>\n",
              "  <tbody>\n",
              "    <tr>\n",
              "      <th rowspan=\"5\" valign=\"top\">2002</th>\n",
              "      <th>0</th>\n",
              "      <td>319729.0</td>\n",
              "    </tr>\n",
              "    <tr>\n",
              "      <th>1</th>\n",
              "      <td>6.0</td>\n",
              "    </tr>\n",
              "    <tr>\n",
              "      <th>2</th>\n",
              "      <td>169.0</td>\n",
              "    </tr>\n",
              "    <tr>\n",
              "      <th>4</th>\n",
              "      <td>1174.0</td>\n",
              "    </tr>\n",
              "    <tr>\n",
              "      <th>5</th>\n",
              "      <td>12.0</td>\n",
              "    </tr>\n",
              "  </tbody>\n",
              "</table>\n",
              "</div>"
            ],
            "text/plain": [
              "                      Total employment in block\n",
              "Census year Block ID                           \n",
              "2002        0                          319729.0\n",
              "            1                               6.0\n",
              "            2                             169.0\n",
              "            4                            1174.0\n",
              "            5                              12.0"
            ]
          },
          "metadata": {},
          "execution_count": 109
        }
      ]
    },
    {
      "cell_type": "markdown",
      "metadata": {
        "id": "qop-Dmtrn7Bf"
      },
      "source": [
        "# **Working with Off-street Parking datasets**"
      ]
    },
    {
      "cell_type": "code",
      "metadata": {
        "id": "YUX3USheHzpg",
        "colab": {
          "base_uri": "https://localhost:8080/",
          "height": 293
        },
        "outputId": "3f7a1186-de73-4df4-dcca-7a151c6dca5b"
      },
      "source": [
        "#Off-street parking data\n",
        "parking = pd.read_csv('/content/drive/MyDrive/Notebooks/SIT782/CLUE/Off-street_car_parks_with_capacity_and_type.csv')\n",
        "#Total records before cleaning\n",
        "print('Total records before cleaning is',len(parking))\n",
        "#Data cleaning (remove duplicate values)\n",
        "parking.drop_duplicates(inplace=True)\n",
        "#Total records after cleaning\n",
        "print('Total records after cleaning is',len(parking))\n",
        "#Select only necessary columns\n",
        "selected_columns =['Census year','Block ID','Parking spaces']\n",
        "parking = parking[selected_columns]\n",
        "#Sum the parking based on Block ID and Year\n",
        "parking_by_block = parking.groupby(['Census year','Block ID']).sum()\n",
        "print('Total records after grouping (by Block ID) is',len(parking_by_block))\n",
        "#Detail of the employment_by_block\n",
        "parking_by_block.head()\n"
      ],
      "execution_count": 110,
      "outputs": [
        {
          "output_type": "stream",
          "name": "stdout",
          "text": [
            "Total records before cleaning is 124114\n",
            "Total records after cleaning is 122461\n",
            "Total records after grouping (by Block ID) is 9939\n"
          ]
        },
        {
          "output_type": "execute_result",
          "data": {
            "text/html": [
              "<div>\n",
              "<style scoped>\n",
              "    .dataframe tbody tr th:only-of-type {\n",
              "        vertical-align: middle;\n",
              "    }\n",
              "\n",
              "    .dataframe tbody tr th {\n",
              "        vertical-align: top;\n",
              "    }\n",
              "\n",
              "    .dataframe thead th {\n",
              "        text-align: right;\n",
              "    }\n",
              "</style>\n",
              "<table border=\"1\" class=\"dataframe\">\n",
              "  <thead>\n",
              "    <tr style=\"text-align: right;\">\n",
              "      <th></th>\n",
              "      <th></th>\n",
              "      <th>Parking spaces</th>\n",
              "    </tr>\n",
              "    <tr>\n",
              "      <th>Census year</th>\n",
              "      <th>Block ID</th>\n",
              "      <th></th>\n",
              "    </tr>\n",
              "  </thead>\n",
              "  <tbody>\n",
              "    <tr>\n",
              "      <th rowspan=\"5\" valign=\"top\">2002</th>\n",
              "      <th>1</th>\n",
              "      <td>270</td>\n",
              "    </tr>\n",
              "    <tr>\n",
              "      <th>6</th>\n",
              "      <td>500</td>\n",
              "    </tr>\n",
              "    <tr>\n",
              "      <th>11</th>\n",
              "      <td>303</td>\n",
              "    </tr>\n",
              "    <tr>\n",
              "      <th>12</th>\n",
              "      <td>749</td>\n",
              "    </tr>\n",
              "    <tr>\n",
              "      <th>13</th>\n",
              "      <td>622</td>\n",
              "    </tr>\n",
              "  </tbody>\n",
              "</table>\n",
              "</div>"
            ],
            "text/plain": [
              "                      Parking spaces\n",
              "Census year Block ID                \n",
              "2002        1                    270\n",
              "            6                    500\n",
              "            11                   303\n",
              "            12                   749\n",
              "            13                   622"
            ]
          },
          "metadata": {},
          "execution_count": 110
        }
      ]
    },
    {
      "cell_type": "markdown",
      "metadata": {
        "id": "_Xfatyh439UD"
      },
      "source": [
        "# **Merge and explore the 3 datasets (Resident, Employment, & Parking)**"
      ]
    },
    {
      "cell_type": "markdown",
      "metadata": {
        "id": "UMFEWTdiX6UD"
      },
      "source": [
        "Formulate the model to identify a suitable number of parking slots based on residential dwelling or employment."
      ]
    },
    {
      "cell_type": "code",
      "metadata": {
        "colab": {
          "base_uri": "https://localhost:8080/",
          "height": 750
        },
        "id": "-6X0xImgqERh",
        "outputId": "48f7bae4-ab99-4c76-f638-e74749697e22"
      },
      "source": [
        "import matplotlib.pyplot as plt\n",
        "import numpy as np\n",
        "import seaborn as sns\n",
        "sns.set_theme(color_codes=True)\n",
        "\n",
        "#Combine the datasets (only take the blocks that match between three datasets)\n",
        "data = resident_by_block.merge(employment_by_block, left_index= True, right_index=True)\n",
        "data = data.merge(parking_by_block,left_index=True,right_index=True)\n",
        "print(data.head())\n",
        "#Prepare data for scatter plots\n",
        "x1 = data['Total employment in block']\n",
        "x2 = data['Dwelling number']\n",
        "y = data['Parking spaces']\n",
        "#Plot the data points (Parking Spaces vs. Total Employment) and regression line\n",
        "plt.plot(x1,y,'x')\n",
        "a, b = np.polyfit(x1,y,1)\n",
        "plt.plot(x1, a*x1 + b)\n",
        "plt.title('Parking Spaces vs. Total Employment')\n",
        "plt.ylabel('Parking Spaces')\n",
        "plt.xlabel('Total Employment')\n",
        "plt.show()\n",
        "#Plot the data points (Parking Spaces vs. Dwelling Number) and regression line\n",
        "plt.plot(x2,y,'+')\n",
        "a, b = np.polyfit(x2,y,1)\n",
        "plt.plot(x2, a*x2 + b)\n",
        "plt.title('Parking Spaces vs. Dwelling Number')\n",
        "plt.ylabel('Parking Spaces')\n",
        "plt.xlabel('Dwelling Number')\n",
        "plt.show()\n"
      ],
      "execution_count": 111,
      "outputs": [
        {
          "output_type": "stream",
          "name": "stdout",
          "text": [
            "                      CLUE small area  ...  Parking spaces\n",
            "Census year Block ID                   ...                \n",
            "2002        11        Melbourne (CBD)  ...             303\n",
            "            12        Melbourne (CBD)  ...             749\n",
            "            13        Melbourne (CBD)  ...             622\n",
            "            14        Melbourne (CBD)  ...            1229\n",
            "            15        Melbourne (CBD)  ...              88\n",
            "\n",
            "[5 rows x 4 columns]\n"
          ]
        },
        {
          "output_type": "display_data",
          "data": {
            "image/png": "[encoded data removed]",
            "text/plain": [
              "<Figure size 432x288 with 1 Axes>"
            ]
          },
          "metadata": {}
        },
        {
          "output_type": "display_data",
          "data": {
            "image/png": "[encoded data removed]",
            "text/plain": [
              "<Figure size 432x288 with 1 Axes>"
            ]
          },
          "metadata": {}
        }
      ]
    },
    {
      "cell_type": "markdown",
      "metadata": {
        "id": "0I4h1N4zooQO"
      },
      "source": [
        "# **Modeling and Analyzing**"
      ]
    },
    {
      "cell_type": "markdown",
      "metadata": {
        "id": "VXTzXE8bsFFW"
      },
      "source": [
        "## Prepare the filtered data records"
      ]
    },
    {
      "cell_type": "code",
      "metadata": {
        "id": "NNnbFdxXrquN"
      },
      "source": [
        "#Prepare X and Y data for model training\n",
        "def Get_data(Data, Year_to_include,Employment,Resident_dwellings):\n",
        "  import numpy as np\n",
        "  features = np.array(['Total employment in block', 'Dwelling number'])\n",
        "  features_to_include = features[[Employment,Resident_dwellings]] #Define the data features for the study\n",
        "  data_to_include = Data.loc[min(Year_to_include):max(Year_to_include)] #Get the wanted rows\n",
        "  X = np.array(data_to_include[features_to_include]) #Get the independent variable(s) based on the selected features\n",
        "  Y = np.array(data_to_include['Parking spaces']) #Get the dependent variable\n",
        "  return X, Y\n",
        "#print('The study period is between: %d and %d'%(min(years_to_include),max(years_to_include)))\n"
      ],
      "execution_count": 112,
      "outputs": []
    },
    {
      "cell_type": "markdown",
      "metadata": {
        "id": "OOHNOm_NvlIU"
      },
      "source": [
        "## Build linear regression model"
      ]
    },
    {
      "cell_type": "code",
      "metadata": {
        "id": "7PRejFEtvkHq"
      },
      "source": [
        "def lm_model(X, Y):\n",
        "  import sklearn\n",
        "  from sklearn import linear_model\n",
        "  from sklearn.ensemble import IsolationForest\n",
        "  iso = IsolationForest(contamination=0.1)#use outliers detector\n",
        "  yhat = iso.fit_predict(X) #Search for outliers\n",
        "  lm = linear_model.LinearRegression() #linear regression model\n",
        "  lm.fit(X[yhat!=-1],Y[yhat!=-1]) # Train the model excluding outliers\n",
        "  return lm"
      ],
      "execution_count": 120,
      "outputs": []
    },
    {
      "cell_type": "markdown",
      "metadata": {
        "id": "rc7kJD-p4ZIt"
      },
      "source": [
        "## Predict the parking problem based on the latest year (2020)"
      ]
    },
    {
      "cell_type": "code",
      "metadata": {
        "id": "RZkmpC_U4YUv"
      },
      "source": [
        "#Predict parking issue in 2020\n",
        "def Get_predict_result(Data, Model, Employment, Residential_dwellings):\n",
        "  import numpy as np\n",
        "  data_latest = Data.loc[years.max] # Get data of 2020\n",
        "  features = np.array(['Total employment in block', 'Dwelling number'])\n",
        "  features_to_include = features[[Employment,Residential_dwellings]] #Define the data features for the study\n",
        "  result = np.round(Model.predict(np.array(data_latest[features_to_include]))) #Predict based on the selected features\n",
        "  data_latest['Predict_parking'] = result #Add result to the data\n",
        "  impact = result - data_latest['Parking spaces']\n",
        "  impact[impact>=0] = 100*(impact[impact>=0]/(max(impact[impact>=0]))) # Normalize the impact index (0-100)\n",
        "  data_latest['Impact_index'] = impact #Add impact index to the data\n",
        "  return data_latest"
      ],
      "execution_count": 114,
      "outputs": []
    },
    {
      "cell_type": "markdown",
      "metadata": {
        "id": "mlLslmEOGitd"
      },
      "source": [
        "## Plot barchart of the predict results"
      ]
    },
    {
      "cell_type": "code",
      "metadata": {
        "id": "5l4X3zdoGhbq"
      },
      "source": [
        "#visualize the impacted city blocks\n",
        "def bar_plot(Data, Impact_level):\n",
        "  #Only visualize the blocks greater than the impact level\n",
        "  plot_data = Data[Data['Impact_index']>=Impact_level]['Impact_index']#Get only the data records with higher impact level\n",
        "  plot_data.plot(kind='bar',figsize=(len(plot_data)/2,5),\n",
        "                title='Impacted Blocks(limited parking spaces)\\n Shows impact index from '+str(Impact_level)+' to 100',\n",
        "                ylabel='Impact Index (0-100)')\n",
        "  plt.show()"
      ],
      "execution_count": 115,
      "outputs": []
    },
    {
      "cell_type": "markdown",
      "metadata": {
        "id": "q2sCp9c0Np_Y"
      },
      "source": [
        "# Prepare datasets for map plotting"
      ]
    },
    {
      "cell_type": "code",
      "metadata": {
        "id": "upAFbbAA7gaR",
        "colab": {
          "base_uri": "https://localhost:8080/",
          "height": 91
        },
        "outputId": "f036ad2c-01c8-4367-afd4-914a90d0dd8e"
      },
      "source": [
        "'''\n",
        "#CLUE block map\n",
        "import json\n",
        "json_file = open('/content/drive/MyDrive/Notebooks/SIT782/CLUE/clue_blocks.geojson') \n",
        "clue_geo = json.load(json_file)\n",
        "\n",
        "#Only take the impacted blocks\n",
        "clue_data = data_latest[data_latest['Impact_index']>=min_impact_level].sort_values('Impact_index',ascending = False)\n",
        "clue_data.reset_index(inplace=True) #turn the index (Block_ID) into a column in the dataframe (clue_data)\n",
        "clue_data['Block ID'] = clue_data['Block ID'].astype('str') # conver [Block ID] to str, so that it is compatible with json content\n",
        "'''"
      ],
      "execution_count": 116,
      "outputs": [
        {
          "output_type": "execute_result",
          "data": {
            "application/vnd.google.colaboratory.intrinsic+json": {
              "type": "string"
            },
            "text/plain": [
              "\"\\n#CLUE block map\\nimport json\\njson_file = open('/content/drive/MyDrive/Notebooks/SIT782/CLUE/clue_blocks.geojson') \\nclue_geo = json.load(json_file)\\n\\n#Only take the impacted blocks\\nclue_data = data_latest[data_latest['Impact_index']>=min_impact_level].sort_values('Impact_index',ascending = False)\\nclue_data.reset_index(inplace=True) #turn the index (Block_ID) into a column in the dataframe (clue_data)\\nclue_data['Block ID'] = clue_data['Block ID'].astype('str') # conver [Block ID] to str, so that it is compatible with json content\\n\""
            ]
          },
          "metadata": {},
          "execution_count": 116
        }
      ]
    },
    {
      "cell_type": "markdown",
      "metadata": {
        "id": "wu-cEzszOeYK"
      },
      "source": [
        "# Plot the map using Folium Choropleth"
      ]
    },
    {
      "cell_type": "code",
      "metadata": {
        "colab": {
          "base_uri": "https://localhost:8080/",
          "height": 128
        },
        "id": "bJofRzQc_Kxu",
        "outputId": "967bb7da-481b-4de4-c46b-b445ea6ef7c6"
      },
      "source": [
        "'''\n",
        "import folium\n",
        "#Create the initial map\n",
        "fmap = folium.Map(location=[-37.811600, 144.964610],\n",
        "           tiles='Stamen Toner',\n",
        "           width = '80%',\n",
        "           height = '60%',\n",
        "           zoom_start=13)\n",
        "\n",
        "#create the choropleth layer and add to the map above\n",
        "choropleth = folium.Choropleth(\n",
        "    geo_data=clue_geo,\n",
        "    name='choropleth',\n",
        "    data=clue_data,\n",
        "    columns=['Block ID','Impact_index'],\n",
        "    key_on='feature.properties.block_id',\n",
        "    fill_color='YlOrRd',\n",
        "    fill_opacity=1,\n",
        "    line_opacity=0.5,\n",
        "    nan_fill_color='cloud',\n",
        "    nan_fill_opacity = 0.2,\n",
        "    highlight=True,\n",
        "    legend_name='Impact index'\n",
        ").add_to(fmap)\n",
        "\n",
        "#Add more layers and tooltips\n",
        "fmap.add_tile_layer()\n",
        "fmap.add_tile_layer('Stamen Terrain')\n",
        "choropleth.geojson.add_child(folium.features.GeoJsonTooltip(['block_id','clue_area'],labels=True))\n",
        "folium.LayerControl().add_to(fmap)\n",
        "fmap\n",
        "\n",
        "'''"
      ],
      "execution_count": 117,
      "outputs": [
        {
          "output_type": "execute_result",
          "data": {
            "application/vnd.google.colaboratory.intrinsic+json": {
              "type": "string"
            },
            "text/plain": [
              "\"\\nimport folium\\n#Create the initial map\\nfmap = folium.Map(location=[-37.811600, 144.964610],\\n           tiles='Stamen Toner',\\n           width = '80%',\\n           height = '60%',\\n           zoom_start=13)\\n\\n#create the choropleth layer and add to the map above\\nchoropleth = folium.Choropleth(\\n    geo_data=clue_geo,\\n    name='choropleth',\\n    data=clue_data,\\n    columns=['Block ID','Impact_index'],\\n    key_on='feature.properties.block_id',\\n    fill_color='YlOrRd',\\n    fill_opacity=1,\\n    line_opacity=0.5,\\n    nan_fill_color='cloud',\\n    nan_fill_opacity = 0.2,\\n    highlight=True,\\n    legend_name='Impact index'\\n).add_to(fmap)\\n\\n#Add more layers and tooltips\\nfmap.add_tile_layer()\\nfmap.add_tile_layer('Stamen Terrain')\\nchoropleth.geojson.add_child(folium.features.GeoJsonTooltip(['block_id','clue_area'],labels=True))\\nfolium.LayerControl().add_to(fmap)\\nfmap\\n\\n\""
            ]
          },
          "metadata": {},
          "execution_count": 117
        }
      ]
    },
    {
      "cell_type": "markdown",
      "metadata": {
        "id": "ul0SWwlX-ivA"
      },
      "source": [
        "## Interactive Tools and Visualizations"
      ]
    },
    {
      "cell_type": "code",
      "metadata": {
        "id": "4_-EHzxUokbX"
      },
      "source": [
        "#Year to include in the study (from 2002 to 2020 or between that)\n",
        "#Create a widget to select the range of study years\n",
        "from ipywidgets import interact_manual\n",
        "import ipywidgets as widgets\n",
        "from IPython.display import display\n",
        "style = {'description_width': 'initial'} #for long label of the widgets\n",
        "#Year-to-include slider\n",
        "years = widgets.IntRangeSlider(\n",
        "    value=[2002, 2020],\n",
        "    min=2002,\n",
        "    max=2020,\n",
        "    step=1,\n",
        "    description='Years to include:',\n",
        "    disabled=False,\n",
        "    continuous_update=True,\n",
        "    orientation='horizontal',\n",
        "    readout=True,\n",
        "    readout_format='d',\n",
        "    style=style\n",
        ")\n",
        "#Display option: impact level\n",
        "show_impact = widgets.IntSlider(\n",
        "    value=10,\n",
        "    min=10,\n",
        "    max=100,\n",
        "    step=1,\n",
        "    description='Impact index from:',\n",
        "    disabled=False,\n",
        "    continuous_update=True,\n",
        "    orientation='horizontal',\n",
        "    readout=True,\n",
        "    readout_format='d',\n",
        "    style=style\n",
        ")\n",
        "#Employment checkbox\n",
        "chk_employment = widgets.Checkbox(\n",
        "    value=True,\n",
        "    description='Employment',\n",
        "    disabled=False,\n",
        "    indent=False,\n",
        "    continuous_updates=True\n",
        ")\n",
        "#Residential Dwellings checkbox\n",
        "chk_resident = widgets.Checkbox(\n",
        "    value=True,\n",
        "    description='Residential Dwellings',\n",
        "    disabled=False,\n",
        "    indent=False,\n",
        "    continuous_update=True\n",
        ")\n"
      ],
      "execution_count": 118,
      "outputs": []
    },
    {
      "cell_type": "code",
      "metadata": {
        "colab": {
          "base_uri": "https://localhost:8080/",
          "height": 1000,
          "referenced_widgets": [
            "387209dac785494f947827faccbed0b4",
            "c000d18edd4745fbaa5f729aacda7246",
            "ee27ba910478489fa80be017b5fd9fa5",
            "b2a3f9cb302345a8be05ab68b7b7bdf0",
            "e4255d1acf4a40ed8ccc52144581136a",
            "6d01d1584279441894d66477b6aab7dc",
            "cd5e034d8c424ea083ff1cdc55ddce2c",
            "f4cecda38f70498cb8ab08f4c8fa896d",
            "e04a9e1eabd94152a66cec6ed7f39abe",
            "0770ff7ff0bf45cebac502b8ed5b0d7e",
            "49ed2314b4b141cca7504cebe76d4bb2",
            "0a8413befe734b60a426ee5fec081254",
            "3726f5b09c994c47b238edbdc7fcdf42",
            "d3597fd8d9c64cf48ec275e0f1334551",
            "9451610f9fa64ad4b07c44f8c2a08406",
            "870bb86aa7f94b7fb02984fbd8f7b790",
            "ce75a6bddcd3464cb048aa20de2001ce",
            "67ac844a14e4453b94c748a21390a98d",
            "c0253db5431b4f349ef762efeb575a79"
          ]
        },
        "id": "omj0ACtQcOp1",
        "outputId": "29689b05-7b03-4278-8227-f4c06900baa2"
      },
      "source": [
        "#Define function to execute when using interactive tools\n",
        "def f(Year_to_include,Employment,Residential_dwellings, Impact_level):\n",
        "  #Must import libraries and datasets for a self-contain function\n",
        "  import pandas as pd\n",
        "  import warnings\n",
        "  warnings.filterwarnings(\"ignore\") #remove dataframe warning\n",
        "  data = pd.read_csv('https://github.com/Tithra/SIT782/blob/main/merged_data.csv?raw=true') #the dataset that contains all the THREE features (employment, resident & parking)\n",
        "  data.set_index(['Census year','Block ID'],inplace=True) #Turn the data to pandas series\n",
        "\n",
        "  print('='*23)\n",
        "  print('|DATA ANALYSIS RESULTS|')\n",
        "  print('='*23)\n",
        "  print('(NOTE: The city blocks without parking information available are ignored by our analyzing model.\\n\\n')\n",
        "  if (not(Employment)) & (not(Residential_dwellings)):\n",
        "    Employment = True  #Prevent both data features are unticked ==> Error\n",
        "  #Get the filtered data for analysis\n",
        "  X, Y = Get_data(data,Year_to_include,Employment,Residential_dwellings)\n",
        "  #Build regression model\n",
        "  lm = lm_model(X,Y)\n",
        "  #Get the predicted results\n",
        "  predict_results = Get_predict_result(data,lm, Employment, Residential_dwellings)\n",
        "  #Plot the barchart of the predicted results\n",
        "  bar_plot(predict_results, Impact_level)\n",
        "  #Show table of the impacted blocks in detail table\n",
        "  print('\\n\\n The table below shows the impacted blocks (limited parking) by the order of the impact index.\\n')\n",
        "  display(predict_results[predict_results['Impact_index']>=Impact_level].sort_values('Impact_index',ascending = False))\n",
        "\n",
        "interact_manual.opts['manual_name'] = 'Start Analyzing'\n",
        "interact_manual(f,Year_to_include=years, Employment=chk_employment, Residential_dwellings = chk_resident, Impact_level = show_impact);"
      ],
      "execution_count": 119,
      "outputs": [
        {
          "output_type": "display_data",
          "data": {
            "application/vnd.jupyter.widget-view+json": {
              "model_id": "387209dac785494f947827faccbed0b4",
              "version_minor": 0,
              "version_major": 2
            },
            "text/plain": [
              "interactive(children=(IntRangeSlider(value=(2002, 2020), description='Years to include:', max=2020, min=2002, …"
            ]
          },
          "metadata": {}
        }
      ]
    }
  ]
}