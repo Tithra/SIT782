{
  "nbformat": 4,
  "nbformat_minor": 0,
  "metadata": {
    "colab": {
      "name": "CLUE_analysis.ipynb",
      "provenance": [],
      "mount_file_id": "https://github.com/Tithra/SIT782/blob/main/CLUE_analysis_interact.ipynb",
      "authorship_tag": "ABX9TyMnUm4xNcNoi6HyaTS9Or52"
    },
    "kernelspec": {
      "name": "python3",
      "display_name": "Python 3"
    },
    "language_info": {
      "name": "python"
    },
    "widgets": {
      "application/vnd.jupyter.widget-state+json": {
        "2e54b9377ea34b96af62c76d753d7da7": {
          "model_module": "@jupyter-widgets/controls",
          "model_name": "VBoxModel",
          "model_module_version": "1.5.0",
          "state": {
            "_view_name": "VBoxView",
            "_dom_classes": [
              "widget-interact"
            ],
            "_model_name": "VBoxModel",
            "_view_module": "@jupyter-widgets/controls",
            "_model_module_version": "1.5.0",
            "_view_count": null,
            "_view_module_version": "1.5.0",
            "box_style": "",
            "layout": "IPY_MODEL_a3c9b58e443a4d03b5f782a028691d45",
            "_model_module": "@jupyter-widgets/controls",
            "children": [
              "IPY_MODEL_a262ff1ae9dd4a5bbf7b71d6f234632a",
              "IPY_MODEL_d92a1368857e49b6b24f7ab2e23bf25d",
              "IPY_MODEL_4be1c74348e54c99bf17ff37d1595c04",
              "IPY_MODEL_655e23fd29da49c782e6e70a0fd2c6f6",
              "IPY_MODEL_f60cba2eaf764bcba3a10e702d2441f7",
              "IPY_MODEL_36033ff5dcba41e2b153da47b45dd426"
            ]
          }
        },
        "a3c9b58e443a4d03b5f782a028691d45": {
          "model_module": "@jupyter-widgets/base",
          "model_name": "LayoutModel",
          "model_module_version": "1.2.0",
          "state": {
            "_view_name": "LayoutView",
            "grid_template_rows": null,
            "right": null,
            "justify_content": null,
            "_view_module": "@jupyter-widgets/base",
            "overflow": null,
            "_model_module_version": "1.2.0",
            "_view_count": null,
            "flex_flow": null,
            "width": null,
            "min_width": null,
            "border": null,
            "align_items": null,
            "bottom": null,
            "_model_module": "@jupyter-widgets/base",
            "top": null,
            "grid_column": null,
            "overflow_y": null,
            "overflow_x": null,
            "grid_auto_flow": null,
            "grid_area": null,
            "grid_template_columns": null,
            "flex": null,
            "_model_name": "LayoutModel",
            "justify_items": null,
            "grid_row": null,
            "max_height": null,
            "align_content": null,
            "visibility": null,
            "align_self": null,
            "height": null,
            "min_height": null,
            "padding": null,
            "grid_auto_rows": null,
            "grid_gap": null,
            "max_width": null,
            "order": null,
            "_view_module_version": "1.2.0",
            "grid_template_areas": null,
            "object_position": null,
            "object_fit": null,
            "grid_auto_columns": null,
            "margin": null,
            "display": null,
            "left": null
          }
        },
        "a262ff1ae9dd4a5bbf7b71d6f234632a": {
          "model_module": "@jupyter-widgets/controls",
          "model_name": "IntRangeSliderModel",
          "model_module_version": "1.5.0",
          "state": {
            "_view_name": "IntRangeSliderView",
            "style": "IPY_MODEL_bba6947323844754a2f34b3c95a2fd65",
            "_dom_classes": [],
            "description": "Years to include:",
            "step": 1,
            "_model_name": "IntRangeSliderModel",
            "orientation": "horizontal",
            "max": 2020,
            "_view_module": "@jupyter-widgets/controls",
            "_model_module_version": "1.5.0",
            "value": [
              2002,
              2020
            ],
            "_view_count": null,
            "disabled": false,
            "_view_module_version": "1.5.0",
            "min": 2002,
            "continuous_update": true,
            "readout_format": "d",
            "description_tooltip": null,
            "readout": true,
            "_model_module": "@jupyter-widgets/controls",
            "layout": "IPY_MODEL_7e8139258b194491a2dbd95c888c591d"
          }
        },
        "d92a1368857e49b6b24f7ab2e23bf25d": {
          "model_module": "@jupyter-widgets/controls",
          "model_name": "CheckboxModel",
          "model_module_version": "1.5.0",
          "state": {
            "_view_name": "CheckboxView",
            "style": "IPY_MODEL_6ddf2e624e6a4084bba2ed3c89d35212",
            "_dom_classes": [],
            "description": "Employment",
            "_model_name": "CheckboxModel",
            "_view_module": "@jupyter-widgets/controls",
            "_model_module_version": "1.5.0",
            "value": true,
            "_view_count": null,
            "disabled": false,
            "_view_module_version": "1.5.0",
            "indent": false,
            "description_tooltip": null,
            "_model_module": "@jupyter-widgets/controls",
            "layout": "IPY_MODEL_7ae1e18a23a743de83b9aa9c455579f8"
          }
        },
        "4be1c74348e54c99bf17ff37d1595c04": {
          "model_module": "@jupyter-widgets/controls",
          "model_name": "CheckboxModel",
          "model_module_version": "1.5.0",
          "state": {
            "_view_name": "CheckboxView",
            "style": "IPY_MODEL_4bfe3efc0e8b4cb981d10755efb394af",
            "_dom_classes": [],
            "description": "Residential Dwellings",
            "_model_name": "CheckboxModel",
            "_view_module": "@jupyter-widgets/controls",
            "_model_module_version": "1.5.0",
            "value": true,
            "_view_count": null,
            "disabled": false,
            "_view_module_version": "1.5.0",
            "indent": false,
            "description_tooltip": null,
            "_model_module": "@jupyter-widgets/controls",
            "layout": "IPY_MODEL_e4df495090144844b56522de3ea26cfd"
          }
        },
        "655e23fd29da49c782e6e70a0fd2c6f6": {
          "model_module": "@jupyter-widgets/controls",
          "model_name": "IntSliderModel",
          "model_module_version": "1.5.0",
          "state": {
            "_view_name": "IntSliderView",
            "style": "IPY_MODEL_cbb7ffb42df049fd8e3a135d61e297c5",
            "_dom_classes": [],
            "description": "Impact index from:",
            "step": 1,
            "_model_name": "IntSliderModel",
            "orientation": "horizontal",
            "max": 100,
            "_view_module": "@jupyter-widgets/controls",
            "_model_module_version": "1.5.0",
            "value": 10,
            "_view_count": null,
            "disabled": false,
            "_view_module_version": "1.5.0",
            "min": 10,
            "continuous_update": true,
            "readout_format": "d",
            "description_tooltip": null,
            "readout": true,
            "_model_module": "@jupyter-widgets/controls",
            "layout": "IPY_MODEL_7fe73fef49b049bf80e0295d9fe91158"
          }
        },
        "f60cba2eaf764bcba3a10e702d2441f7": {
          "model_module": "@jupyter-widgets/controls",
          "model_name": "ButtonModel",
          "model_module_version": "1.5.0",
          "state": {
            "_view_name": "ButtonView",
            "style": "IPY_MODEL_a7a4d60e5108456996a2d425cc67b512",
            "_dom_classes": [],
            "description": "Start Analyzing",
            "_model_name": "ButtonModel",
            "button_style": "",
            "_view_module": "@jupyter-widgets/controls",
            "_model_module_version": "1.5.0",
            "tooltip": "",
            "_view_count": null,
            "disabled": false,
            "_view_module_version": "1.5.0",
            "layout": "IPY_MODEL_cfa1b154a588401295e9cab1b09610de",
            "_model_module": "@jupyter-widgets/controls",
            "icon": ""
          }
        },
        "36033ff5dcba41e2b153da47b45dd426": {
          "model_module": "@jupyter-widgets/output",
          "model_name": "OutputModel",
          "model_module_version": "1.0.0",
          "state": {
            "_view_name": "OutputView",
            "msg_id": "",
            "_dom_classes": [],
            "_model_name": "OutputModel",
            "outputs": [
              {
                "output_type": "stream",
                "name": "stdout",
                "text": [
                  "=======================\n",
                  "|DATA ANALYSIS RESULTS|\n",
                  "=======================\n",
                  "(NOTE: The city blocks without parking information available are ignored by our analyzing model.\n",
                  "\n",
                  "\n"
                ]
              },
              {
                "output_type": "display_data",
                "data": {
                  "image/png": "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\n",
                  "text/plain": "<Figure size 1224x360 with 1 Axes>"
                },
                "metadata": {}
              },
              {
                "output_type": "stream",
                "name": "stdout",
                "text": [
                  "\n",
                  "\n",
                  " The table below shows the impacted blocks (limited parking) by the order of the impact index.\n",
                  "\n"
                ]
              },
              {
                "output_type": "display_data",
                "data": {
                  "text/html": "<div>\n<style scoped>\n    .dataframe tbody tr th:only-of-type {\n        vertical-align: middle;\n    }\n\n    .dataframe tbody tr th {\n        vertical-align: top;\n    }\n\n    .dataframe thead th {\n        text-align: right;\n    }\n</style>\n<table border=\"1\" class=\"dataframe\">\n  <thead>\n    <tr style=\"text-align: right;\">\n      <th></th>\n      <th>CLUE small area</th>\n      <th>Dwelling number</th>\n      <th>Total employment in block</th>\n      <th>Parking spaces</th>\n      <th>Predict_parking</th>\n      <th>Impact_index</th>\n    </tr>\n    <tr>\n      <th>Block ID</th>\n      <th></th>\n      <th></th>\n      <th></th>\n      <th></th>\n      <th></th>\n      <th></th>\n    </tr>\n  </thead>\n  <tbody>\n    <tr>\n      <th>1105</th>\n      <td>Docklands</td>\n      <td>189</td>\n      <td>22612.0</td>\n      <td>2507</td>\n      <td>7979.0</td>\n      <td>100.000000</td>\n    </tr>\n    <tr>\n      <th>1108</th>\n      <td>Docklands</td>\n      <td>3118</td>\n      <td>16425.0</td>\n      <td>4800</td>\n      <td>7837.0</td>\n      <td>55.500731</td>\n    </tr>\n    <tr>\n      <th>34</th>\n      <td>Melbourne (CBD)</td>\n      <td>32</td>\n      <td>7390.0</td>\n      <td>328</td>\n      <td>2614.0</td>\n      <td>41.776316</td>\n    </tr>\n    <tr>\n      <th>47</th>\n      <td>Melbourne (CBD)</td>\n      <td>323</td>\n      <td>7837.0</td>\n      <td>1059</td>\n      <td>2966.0</td>\n      <td>34.850146</td>\n    </tr>\n    <tr>\n      <th>24</th>\n      <td>Melbourne (CBD)</td>\n      <td>175</td>\n      <td>7580.0</td>\n      <td>887</td>\n      <td>2777.0</td>\n      <td>34.539474</td>\n    </tr>\n    <tr>\n      <th>1101</th>\n      <td>Docklands</td>\n      <td>120</td>\n      <td>8949.0</td>\n      <td>1378</td>\n      <td>3212.0</td>\n      <td>33.516082</td>\n    </tr>\n    <tr>\n      <th>32</th>\n      <td>Melbourne (CBD)</td>\n      <td>104</td>\n      <td>6966.0</td>\n      <td>719</td>\n      <td>2516.0</td>\n      <td>32.839912</td>\n    </tr>\n    <tr>\n      <th>87</th>\n      <td>Melbourne (CBD)</td>\n      <td>915</td>\n      <td>4366.0</td>\n      <td>387</td>\n      <td>2171.0</td>\n      <td>32.602339</td>\n    </tr>\n    <tr>\n      <th>53</th>\n      <td>Melbourne (CBD)</td>\n      <td>192</td>\n      <td>6026.0</td>\n      <td>553</td>\n      <td>2252.0</td>\n      <td>31.048977</td>\n    </tr>\n    <tr>\n      <th>85</th>\n      <td>Melbourne (CBD)</td>\n      <td>321</td>\n      <td>7477.0</td>\n      <td>1273</td>\n      <td>2841.0</td>\n      <td>28.654971</td>\n    </tr>\n    <tr>\n      <th>18</th>\n      <td>Melbourne (CBD)</td>\n      <td>217</td>\n      <td>6459.0</td>\n      <td>1130</td>\n      <td>2418.0</td>\n      <td>23.538012</td>\n    </tr>\n    <tr>\n      <th>33</th>\n      <td>Melbourne (CBD)</td>\n      <td>268</td>\n      <td>3556.0</td>\n      <td>172</td>\n      <td>1450.0</td>\n      <td>23.355263</td>\n    </tr>\n    <tr>\n      <th>25</th>\n      <td>Melbourne (CBD)</td>\n      <td>254</td>\n      <td>3457.0</td>\n      <td>172</td>\n      <td>1406.0</td>\n      <td>22.551170</td>\n    </tr>\n    <tr>\n      <th>44</th>\n      <td>Melbourne (CBD)</td>\n      <td>98</td>\n      <td>3794.0</td>\n      <td>246</td>\n      <td>1416.0</td>\n      <td>21.381579</td>\n    </tr>\n    <tr>\n      <th>15</th>\n      <td>Melbourne (CBD)</td>\n      <td>659</td>\n      <td>2139.0</td>\n      <td>93</td>\n      <td>1227.0</td>\n      <td>20.723684</td>\n    </tr>\n    <tr>\n      <th>27</th>\n      <td>Melbourne (CBD)</td>\n      <td>2</td>\n      <td>5903.0</td>\n      <td>1050</td>\n      <td>2080.0</td>\n      <td>18.823099</td>\n    </tr>\n    <tr>\n      <th>84</th>\n      <td>Melbourne (CBD)</td>\n      <td>1493</td>\n      <td>759.0</td>\n      <td>344</td>\n      <td>1318.0</td>\n      <td>17.799708</td>\n    </tr>\n    <tr>\n      <th>105</th>\n      <td>Melbourne (CBD)</td>\n      <td>1729</td>\n      <td>1067.0</td>\n      <td>639</td>\n      <td>1586.0</td>\n      <td>17.306287</td>\n    </tr>\n    <tr>\n      <th>95</th>\n      <td>Melbourne (CBD)</td>\n      <td>1745</td>\n      <td>606.0</td>\n      <td>548</td>\n      <td>1437.0</td>\n      <td>16.246345</td>\n    </tr>\n    <tr>\n      <th>264</th>\n      <td>Carlton</td>\n      <td>1806</td>\n      <td>175.0</td>\n      <td>450</td>\n      <td>1330.0</td>\n      <td>16.081871</td>\n    </tr>\n    <tr>\n      <th>26</th>\n      <td>Melbourne (CBD)</td>\n      <td>72</td>\n      <td>4000.0</td>\n      <td>611</td>\n      <td>1470.0</td>\n      <td>15.698099</td>\n    </tr>\n    <tr>\n      <th>38</th>\n      <td>Melbourne (CBD)</td>\n      <td>218</td>\n      <td>2544.0</td>\n      <td>208</td>\n      <td>1066.0</td>\n      <td>15.679825</td>\n    </tr>\n    <tr>\n      <th>753</th>\n      <td>Southbank</td>\n      <td>174</td>\n      <td>6315.0</td>\n      <td>1491</td>\n      <td>2339.0</td>\n      <td>15.497076</td>\n    </tr>\n    <tr>\n      <th>82</th>\n      <td>Melbourne (CBD)</td>\n      <td>34</td>\n      <td>3515.0</td>\n      <td>438</td>\n      <td>1276.0</td>\n      <td>15.314327</td>\n    </tr>\n    <tr>\n      <th>1103</th>\n      <td>Docklands</td>\n      <td>860</td>\n      <td>11148.0</td>\n      <td>3688</td>\n      <td>4476.0</td>\n      <td>14.400585</td>\n    </tr>\n    <tr>\n      <th>23</th>\n      <td>Melbourne (CBD)</td>\n      <td>90</td>\n      <td>2211.0</td>\n      <td>129</td>\n      <td>864.0</td>\n      <td>13.432018</td>\n    </tr>\n    <tr>\n      <th>28</th>\n      <td>Melbourne (CBD)</td>\n      <td>279</td>\n      <td>4538.0</td>\n      <td>1079</td>\n      <td>1797.0</td>\n      <td>13.121345</td>\n    </tr>\n    <tr>\n      <th>93</th>\n      <td>Melbourne (CBD)</td>\n      <td>817</td>\n      <td>2343.0</td>\n      <td>733</td>\n      <td>1405.0</td>\n      <td>12.280702</td>\n    </tr>\n    <tr>\n      <th>46</th>\n      <td>Melbourne (CBD)</td>\n      <td>143</td>\n      <td>2441.0</td>\n      <td>337</td>\n      <td>980.0</td>\n      <td>11.750731</td>\n    </tr>\n    <tr>\n      <th>61</th>\n      <td>Melbourne (CBD)</td>\n      <td>2609</td>\n      <td>511.0</td>\n      <td>1356</td>\n      <td>1993.0</td>\n      <td>11.641082</td>\n    </tr>\n    <tr>\n      <th>94</th>\n      <td>Melbourne (CBD)</td>\n      <td>878</td>\n      <td>3330.0</td>\n      <td>1160</td>\n      <td>1788.0</td>\n      <td>11.476608</td>\n    </tr>\n    <tr>\n      <th>65</th>\n      <td>Melbourne (CBD)</td>\n      <td>225</td>\n      <td>2040.0</td>\n      <td>277</td>\n      <td>897.0</td>\n      <td>11.330409</td>\n    </tr>\n    <tr>\n      <th>257</th>\n      <td>Carlton</td>\n      <td>669</td>\n      <td>674.0</td>\n      <td>142</td>\n      <td>728.0</td>\n      <td>10.709064</td>\n    </tr>\n    <tr>\n      <th>41</th>\n      <td>Melbourne (CBD)</td>\n      <td>44</td>\n      <td>2007.0</td>\n      <td>192</td>\n      <td>762.0</td>\n      <td>10.416667</td>\n    </tr>\n  </tbody>\n</table>\n</div>",
                  "text/plain": "          CLUE small area  Dwelling number  ...  Predict_parking  Impact_index\nBlock ID                                    ...                               \n1105            Docklands              189  ...           7979.0    100.000000\n1108            Docklands             3118  ...           7837.0     55.500731\n34        Melbourne (CBD)               32  ...           2614.0     41.776316\n47        Melbourne (CBD)              323  ...           2966.0     34.850146\n24        Melbourne (CBD)              175  ...           2777.0     34.539474\n1101            Docklands              120  ...           3212.0     33.516082\n32        Melbourne (CBD)              104  ...           2516.0     32.839912\n87        Melbourne (CBD)              915  ...           2171.0     32.602339\n53        Melbourne (CBD)              192  ...           2252.0     31.048977\n85        Melbourne (CBD)              321  ...           2841.0     28.654971\n18        Melbourne (CBD)              217  ...           2418.0     23.538012\n33        Melbourne (CBD)              268  ...           1450.0     23.355263\n25        Melbourne (CBD)              254  ...           1406.0     22.551170\n44        Melbourne (CBD)               98  ...           1416.0     21.381579\n15        Melbourne (CBD)              659  ...           1227.0     20.723684\n27        Melbourne (CBD)                2  ...           2080.0     18.823099\n84        Melbourne (CBD)             1493  ...           1318.0     17.799708\n105       Melbourne (CBD)             1729  ...           1586.0     17.306287\n95        Melbourne (CBD)             1745  ...           1437.0     16.246345\n264               Carlton             1806  ...           1330.0     16.081871\n26        Melbourne (CBD)               72  ...           1470.0     15.698099\n38        Melbourne (CBD)              218  ...           1066.0     15.679825\n753             Southbank              174  ...           2339.0     15.497076\n82        Melbourne (CBD)               34  ...           1276.0     15.314327\n1103            Docklands              860  ...           4476.0     14.400585\n23        Melbourne (CBD)               90  ...            864.0     13.432018\n28        Melbourne (CBD)              279  ...           1797.0     13.121345\n93        Melbourne (CBD)              817  ...           1405.0     12.280702\n46        Melbourne (CBD)              143  ...            980.0     11.750731\n61        Melbourne (CBD)             2609  ...           1993.0     11.641082\n94        Melbourne (CBD)              878  ...           1788.0     11.476608\n65        Melbourne (CBD)              225  ...            897.0     11.330409\n257               Carlton              669  ...            728.0     10.709064\n41        Melbourne (CBD)               44  ...            762.0     10.416667\n\n[34 rows x 6 columns]"
                },
                "metadata": {}
              }
            ],
            "_view_module": "@jupyter-widgets/output",
            "_model_module_version": "1.0.0",
            "_view_count": null,
            "_view_module_version": "1.0.0",
            "layout": "IPY_MODEL_acc46ee8621c498ab861dae80c204f2b",
            "_model_module": "@jupyter-widgets/output"
          }
        },
        "bba6947323844754a2f34b3c95a2fd65": {
          "model_module": "@jupyter-widgets/controls",
          "model_name": "SliderStyleModel",
          "model_module_version": "1.5.0",
          "state": {
            "_view_name": "StyleView",
            "handle_color": null,
            "_model_name": "SliderStyleModel",
            "description_width": "initial",
            "_view_module": "@jupyter-widgets/base",
            "_model_module_version": "1.5.0",
            "_view_count": null,
            "_view_module_version": "1.2.0",
            "_model_module": "@jupyter-widgets/controls"
          }
        },
        "7e8139258b194491a2dbd95c888c591d": {
          "model_module": "@jupyter-widgets/base",
          "model_name": "LayoutModel",
          "model_module_version": "1.2.0",
          "state": {
            "_view_name": "LayoutView",
            "grid_template_rows": null,
            "right": null,
            "justify_content": null,
            "_view_module": "@jupyter-widgets/base",
            "overflow": null,
            "_model_module_version": "1.2.0",
            "_view_count": null,
            "flex_flow": null,
            "width": null,
            "min_width": null,
            "border": null,
            "align_items": null,
            "bottom": null,
            "_model_module": "@jupyter-widgets/base",
            "top": null,
            "grid_column": null,
            "overflow_y": null,
            "overflow_x": null,
            "grid_auto_flow": null,
            "grid_area": null,
            "grid_template_columns": null,
            "flex": null,
            "_model_name": "LayoutModel",
            "justify_items": null,
            "grid_row": null,
            "max_height": null,
            "align_content": null,
            "visibility": null,
            "align_self": null,
            "height": null,
            "min_height": null,
            "padding": null,
            "grid_auto_rows": null,
            "grid_gap": null,
            "max_width": null,
            "order": null,
            "_view_module_version": "1.2.0",
            "grid_template_areas": null,
            "object_position": null,
            "object_fit": null,
            "grid_auto_columns": null,
            "margin": null,
            "display": null,
            "left": null
          }
        },
        "6ddf2e624e6a4084bba2ed3c89d35212": {
          "model_module": "@jupyter-widgets/controls",
          "model_name": "DescriptionStyleModel",
          "model_module_version": "1.5.0",
          "state": {
            "_view_name": "StyleView",
            "_model_name": "DescriptionStyleModel",
            "description_width": "",
            "_view_module": "@jupyter-widgets/base",
            "_model_module_version": "1.5.0",
            "_view_count": null,
            "_view_module_version": "1.2.0",
            "_model_module": "@jupyter-widgets/controls"
          }
        },
        "7ae1e18a23a743de83b9aa9c455579f8": {
          "model_module": "@jupyter-widgets/base",
          "model_name": "LayoutModel",
          "model_module_version": "1.2.0",
          "state": {
            "_view_name": "LayoutView",
            "grid_template_rows": null,
            "right": null,
            "justify_content": null,
            "_view_module": "@jupyter-widgets/base",
            "overflow": null,
            "_model_module_version": "1.2.0",
            "_view_count": null,
            "flex_flow": null,
            "width": null,
            "min_width": null,
            "border": null,
            "align_items": null,
            "bottom": null,
            "_model_module": "@jupyter-widgets/base",
            "top": null,
            "grid_column": null,
            "overflow_y": null,
            "overflow_x": null,
            "grid_auto_flow": null,
            "grid_area": null,
            "grid_template_columns": null,
            "flex": null,
            "_model_name": "LayoutModel",
            "justify_items": null,
            "grid_row": null,
            "max_height": null,
            "align_content": null,
            "visibility": null,
            "align_self": null,
            "height": null,
            "min_height": null,
            "padding": null,
            "grid_auto_rows": null,
            "grid_gap": null,
            "max_width": null,
            "order": null,
            "_view_module_version": "1.2.0",
            "grid_template_areas": null,
            "object_position": null,
            "object_fit": null,
            "grid_auto_columns": null,
            "margin": null,
            "display": null,
            "left": null
          }
        },
        "4bfe3efc0e8b4cb981d10755efb394af": {
          "model_module": "@jupyter-widgets/controls",
          "model_name": "DescriptionStyleModel",
          "model_module_version": "1.5.0",
          "state": {
            "_view_name": "StyleView",
            "_model_name": "DescriptionStyleModel",
            "description_width": "",
            "_view_module": "@jupyter-widgets/base",
            "_model_module_version": "1.5.0",
            "_view_count": null,
            "_view_module_version": "1.2.0",
            "_model_module": "@jupyter-widgets/controls"
          }
        },
        "e4df495090144844b56522de3ea26cfd": {
          "model_module": "@jupyter-widgets/base",
          "model_name": "LayoutModel",
          "model_module_version": "1.2.0",
          "state": {
            "_view_name": "LayoutView",
            "grid_template_rows": null,
            "right": null,
            "justify_content": null,
            "_view_module": "@jupyter-widgets/base",
            "overflow": null,
            "_model_module_version": "1.2.0",
            "_view_count": null,
            "flex_flow": null,
            "width": null,
            "min_width": null,
            "border": null,
            "align_items": null,
            "bottom": null,
            "_model_module": "@jupyter-widgets/base",
            "top": null,
            "grid_column": null,
            "overflow_y": null,
            "overflow_x": null,
            "grid_auto_flow": null,
            "grid_area": null,
            "grid_template_columns": null,
            "flex": null,
            "_model_name": "LayoutModel",
            "justify_items": null,
            "grid_row": null,
            "max_height": null,
            "align_content": null,
            "visibility": null,
            "align_self": null,
            "height": null,
            "min_height": null,
            "padding": null,
            "grid_auto_rows": null,
            "grid_gap": null,
            "max_width": null,
            "order": null,
            "_view_module_version": "1.2.0",
            "grid_template_areas": null,
            "object_position": null,
            "object_fit": null,
            "grid_auto_columns": null,
            "margin": null,
            "display": null,
            "left": null
          }
        },
        "cbb7ffb42df049fd8e3a135d61e297c5": {
          "model_module": "@jupyter-widgets/controls",
          "model_name": "SliderStyleModel",
          "model_module_version": "1.5.0",
          "state": {
            "_view_name": "StyleView",
            "handle_color": null,
            "_model_name": "SliderStyleModel",
            "description_width": "initial",
            "_view_module": "@jupyter-widgets/base",
            "_model_module_version": "1.5.0",
            "_view_count": null,
            "_view_module_version": "1.2.0",
            "_model_module": "@jupyter-widgets/controls"
          }
        },
        "7fe73fef49b049bf80e0295d9fe91158": {
          "model_module": "@jupyter-widgets/base",
          "model_name": "LayoutModel",
          "model_module_version": "1.2.0",
          "state": {
            "_view_name": "LayoutView",
            "grid_template_rows": null,
            "right": null,
            "justify_content": null,
            "_view_module": "@jupyter-widgets/base",
            "overflow": null,
            "_model_module_version": "1.2.0",
            "_view_count": null,
            "flex_flow": null,
            "width": null,
            "min_width": null,
            "border": null,
            "align_items": null,
            "bottom": null,
            "_model_module": "@jupyter-widgets/base",
            "top": null,
            "grid_column": null,
            "overflow_y": null,
            "overflow_x": null,
            "grid_auto_flow": null,
            "grid_area": null,
            "grid_template_columns": null,
            "flex": null,
            "_model_name": "LayoutModel",
            "justify_items": null,
            "grid_row": null,
            "max_height": null,
            "align_content": null,
            "visibility": null,
            "align_self": null,
            "height": null,
            "min_height": null,
            "padding": null,
            "grid_auto_rows": null,
            "grid_gap": null,
            "max_width": null,
            "order": null,
            "_view_module_version": "1.2.0",
            "grid_template_areas": null,
            "object_position": null,
            "object_fit": null,
            "grid_auto_columns": null,
            "margin": null,
            "display": null,
            "left": null
          }
        },
        "a7a4d60e5108456996a2d425cc67b512": {
          "model_module": "@jupyter-widgets/controls",
          "model_name": "ButtonStyleModel",
          "model_module_version": "1.5.0",
          "state": {
            "_view_name": "StyleView",
            "_model_name": "ButtonStyleModel",
            "_view_module": "@jupyter-widgets/base",
            "_model_module_version": "1.5.0",
            "_view_count": null,
            "button_color": null,
            "font_weight": "",
            "_view_module_version": "1.2.0",
            "_model_module": "@jupyter-widgets/controls"
          }
        },
        "cfa1b154a588401295e9cab1b09610de": {
          "model_module": "@jupyter-widgets/base",
          "model_name": "LayoutModel",
          "model_module_version": "1.2.0",
          "state": {
            "_view_name": "LayoutView",
            "grid_template_rows": null,
            "right": null,
            "justify_content": null,
            "_view_module": "@jupyter-widgets/base",
            "overflow": null,
            "_model_module_version": "1.2.0",
            "_view_count": null,
            "flex_flow": null,
            "width": null,
            "min_width": null,
            "border": null,
            "align_items": null,
            "bottom": null,
            "_model_module": "@jupyter-widgets/base",
            "top": null,
            "grid_column": null,
            "overflow_y": null,
            "overflow_x": null,
            "grid_auto_flow": null,
            "grid_area": null,
            "grid_template_columns": null,
            "flex": null,
            "_model_name": "LayoutModel",
            "justify_items": null,
            "grid_row": null,
            "max_height": null,
            "align_content": null,
            "visibility": null,
            "align_self": null,
            "height": null,
            "min_height": null,
            "padding": null,
            "grid_auto_rows": null,
            "grid_gap": null,
            "max_width": null,
            "order": null,
            "_view_module_version": "1.2.0",
            "grid_template_areas": null,
            "object_position": null,
            "object_fit": null,
            "grid_auto_columns": null,
            "margin": null,
            "display": null,
            "left": null
          }
        },
        "acc46ee8621c498ab861dae80c204f2b": {
          "model_module": "@jupyter-widgets/base",
          "model_name": "LayoutModel",
          "model_module_version": "1.2.0",
          "state": {
            "_view_name": "LayoutView",
            "grid_template_rows": null,
            "right": null,
            "justify_content": null,
            "_view_module": "@jupyter-widgets/base",
            "overflow": null,
            "_model_module_version": "1.2.0",
            "_view_count": null,
            "flex_flow": null,
            "width": null,
            "min_width": null,
            "border": null,
            "align_items": null,
            "bottom": null,
            "_model_module": "@jupyter-widgets/base",
            "top": null,
            "grid_column": null,
            "overflow_y": null,
            "overflow_x": null,
            "grid_auto_flow": null,
            "grid_area": null,
            "grid_template_columns": null,
            "flex": null,
            "_model_name": "LayoutModel",
            "justify_items": null,
            "grid_row": null,
            "max_height": null,
            "align_content": null,
            "visibility": null,
            "align_self": null,
            "height": null,
            "min_height": null,
            "padding": null,
            "grid_auto_rows": null,
            "grid_gap": null,
            "max_width": null,
            "order": null,
            "_view_module_version": "1.2.0",
            "grid_template_areas": null,
            "object_position": null,
            "object_fit": null,
            "grid_auto_columns": null,
            "margin": null,
            "display": null,
            "left": null
          }
        }
      }
    }
  },
  "cells": [
    {
      "cell_type": "code",
      "metadata": {
        "id": "wPNGAqnKDZX7",
        "colab": {
          "base_uri": "https://localhost:8080/"
        },
        "outputId": "db5756d6-c8d4-4c6e-abf8-a4f6d30c3f80"
      },
      "source": [
        "pip install nbinteract"
      ],
      "execution_count": 79,
      "outputs": [
        {
          "output_type": "stream",
          "name": "stdout",
          "text": [
            "Requirement already satisfied: nbinteract in /usr/local/lib/python3.7/dist-packages (0.2.6)\n",
            "Requirement already satisfied: bqplot==0.11.0 in /usr/local/lib/python3.7/dist-packages (from nbinteract) (0.11.0)\n",
            "Requirement already satisfied: traitlets<5,>=4.3 in /usr/local/lib/python3.7/dist-packages (from nbinteract) (4.3.3)\n",
            "Requirement already satisfied: toolz<1,>=0.8 in /usr/local/lib/python3.7/dist-packages (from nbinteract) (0.11.2)\n",
            "Requirement already satisfied: nbconvert>=5.3 in /usr/local/lib/python3.7/dist-packages (from nbinteract) (5.6.1)\n",
            "Requirement already satisfied: numpy<2,>=1 in /usr/local/lib/python3.7/dist-packages (from nbinteract) (1.19.5)\n",
            "Requirement already satisfied: docopt<1,>=0.6.2 in /usr/local/lib/python3.7/dist-packages (from nbinteract) (0.6.2)\n",
            "Requirement already satisfied: nbformat<5,>=4.4.0 in /usr/local/lib/python3.7/dist-packages (from nbinteract) (4.4.0)\n",
            "Requirement already satisfied: Jinja2<3,>=2.10 in /usr/local/lib/python3.7/dist-packages (from nbinteract) (2.11.3)\n",
            "Requirement already satisfied: IPython<8,>=6 in /usr/local/lib/python3.7/dist-packages (from nbinteract) (7.30.0)\n",
            "Requirement already satisfied: ipywidgets<8,>=7.5.0 in /usr/local/lib/python3.7/dist-packages (from nbinteract) (7.6.5)\n",
            "Requirement already satisfied: pandas in /usr/local/lib/python3.7/dist-packages (from bqplot==0.11.0->nbinteract) (1.1.5)\n",
            "Requirement already satisfied: traittypes>=0.0.6 in /usr/local/lib/python3.7/dist-packages (from bqplot==0.11.0->nbinteract) (0.2.1)\n",
            "Requirement already satisfied: matplotlib-inline in /usr/local/lib/python3.7/dist-packages (from IPython<8,>=6->nbinteract) (0.1.3)\n",
            "Requirement already satisfied: decorator in /usr/local/lib/python3.7/dist-packages (from IPython<8,>=6->nbinteract) (4.4.2)\n",
            "Requirement already satisfied: pickleshare in /usr/local/lib/python3.7/dist-packages (from IPython<8,>=6->nbinteract) (0.7.5)\n",
            "Requirement already satisfied: backcall in /usr/local/lib/python3.7/dist-packages (from IPython<8,>=6->nbinteract) (0.2.0)\n",
            "Requirement already satisfied: pygments in /usr/local/lib/python3.7/dist-packages (from IPython<8,>=6->nbinteract) (2.6.1)\n",
            "Requirement already satisfied: prompt-toolkit!=3.0.0,!=3.0.1,<3.1.0,>=2.0.0 in /usr/local/lib/python3.7/dist-packages (from IPython<8,>=6->nbinteract) (3.0.23)\n",
            "Requirement already satisfied: pexpect>4.3 in /usr/local/lib/python3.7/dist-packages (from IPython<8,>=6->nbinteract) (4.8.0)\n",
            "Requirement already satisfied: setuptools>=18.5 in /usr/local/lib/python3.7/dist-packages (from IPython<8,>=6->nbinteract) (57.4.0)\n",
            "Requirement already satisfied: jedi>=0.16 in /usr/local/lib/python3.7/dist-packages (from IPython<8,>=6->nbinteract) (0.18.1)\n",
            "Requirement already satisfied: ipython-genutils~=0.2.0 in /usr/local/lib/python3.7/dist-packages (from ipywidgets<8,>=7.5.0->nbinteract) (0.2.0)\n",
            "Requirement already satisfied: jupyterlab-widgets>=1.0.0 in /usr/local/lib/python3.7/dist-packages (from ipywidgets<8,>=7.5.0->nbinteract) (1.0.2)\n",
            "Requirement already satisfied: ipykernel>=4.5.1 in /usr/local/lib/python3.7/dist-packages (from ipywidgets<8,>=7.5.0->nbinteract) (4.10.1)\n",
            "Requirement already satisfied: widgetsnbextension~=3.5.0 in /usr/local/lib/python3.7/dist-packages (from ipywidgets<8,>=7.5.0->nbinteract) (3.5.2)\n",
            "Requirement already satisfied: tornado>=4.0 in /usr/local/lib/python3.7/dist-packages (from ipykernel>=4.5.1->ipywidgets<8,>=7.5.0->nbinteract) (5.1.1)\n",
            "Requirement already satisfied: jupyter-client in /usr/local/lib/python3.7/dist-packages (from ipykernel>=4.5.1->ipywidgets<8,>=7.5.0->nbinteract) (5.3.5)\n",
            "Requirement already satisfied: parso<0.9.0,>=0.8.0 in /usr/local/lib/python3.7/dist-packages (from jedi>=0.16->IPython<8,>=6->nbinteract) (0.8.2)\n",
            "Requirement already satisfied: MarkupSafe>=0.23 in /usr/local/lib/python3.7/dist-packages (from Jinja2<3,>=2.10->nbinteract) (2.0.1)\n",
            "Requirement already satisfied: pandocfilters>=1.4.1 in /usr/local/lib/python3.7/dist-packages (from nbconvert>=5.3->nbinteract) (1.5.0)\n",
            "Requirement already satisfied: testpath in /usr/local/lib/python3.7/dist-packages (from nbconvert>=5.3->nbinteract) (0.5.0)\n",
            "Requirement already satisfied: entrypoints>=0.2.2 in /usr/local/lib/python3.7/dist-packages (from nbconvert>=5.3->nbinteract) (0.3)\n",
            "Requirement already satisfied: jupyter-core in /usr/local/lib/python3.7/dist-packages (from nbconvert>=5.3->nbinteract) (4.9.1)\n",
            "Requirement already satisfied: mistune<2,>=0.8.1 in /usr/local/lib/python3.7/dist-packages (from nbconvert>=5.3->nbinteract) (0.8.4)\n",
            "Requirement already satisfied: bleach in /usr/local/lib/python3.7/dist-packages (from nbconvert>=5.3->nbinteract) (4.1.0)\n",
            "Requirement already satisfied: defusedxml in /usr/local/lib/python3.7/dist-packages (from nbconvert>=5.3->nbinteract) (0.7.1)\n",
            "Requirement already satisfied: jsonschema!=2.5.0,>=2.4 in /usr/local/lib/python3.7/dist-packages (from nbformat<5,>=4.4.0->nbinteract) (2.6.0)\n",
            "Requirement already satisfied: ptyprocess>=0.5 in /usr/local/lib/python3.7/dist-packages (from pexpect>4.3->IPython<8,>=6->nbinteract) (0.7.0)\n",
            "Requirement already satisfied: wcwidth in /usr/local/lib/python3.7/dist-packages (from prompt-toolkit!=3.0.0,!=3.0.1,<3.1.0,>=2.0.0->IPython<8,>=6->nbinteract) (0.2.5)\n",
            "Requirement already satisfied: six in /usr/local/lib/python3.7/dist-packages (from traitlets<5,>=4.3->nbinteract) (1.15.0)\n",
            "Requirement already satisfied: notebook>=4.4.1 in /usr/local/lib/python3.7/dist-packages (from widgetsnbextension~=3.5.0->ipywidgets<8,>=7.5.0->nbinteract) (5.3.1)\n",
            "Requirement already satisfied: Send2Trash in /usr/local/lib/python3.7/dist-packages (from notebook>=4.4.1->widgetsnbextension~=3.5.0->ipywidgets<8,>=7.5.0->nbinteract) (1.8.0)\n",
            "Requirement already satisfied: terminado>=0.8.1 in /usr/local/lib/python3.7/dist-packages (from notebook>=4.4.1->widgetsnbextension~=3.5.0->ipywidgets<8,>=7.5.0->nbinteract) (0.12.1)\n",
            "Requirement already satisfied: pyzmq>=13 in /usr/local/lib/python3.7/dist-packages (from jupyter-client->ipykernel>=4.5.1->ipywidgets<8,>=7.5.0->nbinteract) (22.3.0)\n",
            "Requirement already satisfied: python-dateutil>=2.1 in /usr/local/lib/python3.7/dist-packages (from jupyter-client->ipykernel>=4.5.1->ipywidgets<8,>=7.5.0->nbinteract) (2.8.2)\n",
            "Requirement already satisfied: packaging in /usr/local/lib/python3.7/dist-packages (from bleach->nbconvert>=5.3->nbinteract) (21.3)\n",
            "Requirement already satisfied: webencodings in /usr/local/lib/python3.7/dist-packages (from bleach->nbconvert>=5.3->nbinteract) (0.5.1)\n",
            "Requirement already satisfied: pyparsing!=3.0.5,>=2.0.2 in /usr/local/lib/python3.7/dist-packages (from packaging->bleach->nbconvert>=5.3->nbinteract) (3.0.6)\n",
            "Requirement already satisfied: pytz>=2017.2 in /usr/local/lib/python3.7/dist-packages (from pandas->bqplot==0.11.0->nbinteract) (2018.9)\n"
          ]
        }
      ]
    },
    {
      "cell_type": "markdown",
      "metadata": {
        "id": "uZhOb2ODsEBk"
      },
      "source": [
        "### A case study: using CLUE datasets of Melbourne Open Data\n",
        "\n",
        "# **Where should public transportation be enhanced in the city of Melbourne?**\n",
        "\n",
        "The City of Melbourne has always evolved, and so have the numbers of its residential dwellings and employment population (based on data available on Melbourne Open Data). Without a consistent or parallel increase of off-street parking, the city will face the difficulty in providing enough spaces for parking of private transportation. To resolve this problem, the city planner needs to locate the potential areas where extension of public transportation should be implemented to replace the need for off-street parking.\n",
        "\n",
        "\n",
        "## Purpose: \n",
        "This case study is intended to provide educational instructions of how CLUE datasets can be used for city planners or individuals whose have some knowledge in data analysis.\n",
        "\n",
        "## Pre-requisite skills:\n",
        "- Python scripting (Basic)\n",
        "- Data analysis (Basic EDA and visualizations)\n",
        "\n",
        "## Solution:\n",
        "By looking at the population trend of residential dwellings and employments at different Melbourne city blocks, the city planner can project amount of public transportation services necessary to sufficiently accommodate potential travellers to or/and from those city blocks.\n",
        "\n"
      ]
    },
    {
      "cell_type": "markdown",
      "metadata": {
        "id": "biCQO7dcoyUL"
      },
      "source": [
        "# **Working with Residential dwelling datasets**"
      ]
    },
    {
      "cell_type": "code",
      "metadata": {
        "id": "stROK9yMyX34",
        "colab": {
          "base_uri": "https://localhost:8080/",
          "height": 293
        },
        "outputId": "adb7cc36-4056-4fce-96d4-d7b854a36b27"
      },
      "source": [
        "#CLUE datasets\n",
        "#======================================================\n",
        "import pandas as pd\n",
        "#Residential dwellings data\n",
        "resident = pd.read_csv('/content/drive/MyDrive/Notebooks/SIT782/CLUE/Residential_dwellings.csv')\n",
        "#Total records before cleaning\n",
        "print('Total records before cleaning is',len(resident))\n",
        "#Data cleaning (remove duplicated values)\n",
        "resident.drop_duplicates(inplace = True)\n",
        "#Total records after cleaning\n",
        "print('Total records after cleaning is',len(resident))\n",
        "#Select only necessary columns\n",
        "selected_columns =['Census year','Block ID','CLUE small area','Dwelling number']\n",
        "resident = resident[selected_columns]\n",
        "#Sum the Dwelling number based on Block ID and Year\n",
        "resident_by_block = resident.groupby(['Census year','Block ID']).agg({'CLUE small area':'max','Dwelling number':'sum'})\n",
        "print('Total records after grouping (by Block ID) is',len(resident_by_block))\n",
        "#Detail of the residential dwellings by block\n",
        "resident_by_block.head()\n"
      ],
      "execution_count": 80,
      "outputs": [
        {
          "output_type": "stream",
          "name": "stdout",
          "text": [
            "Total records before cleaning is 177733\n",
            "Total records after cleaning is 177729\n",
            "Total records after grouping (by Block ID) is 8036\n"
          ]
        },
        {
          "output_type": "execute_result",
          "data": {
            "text/html": [
              "<div>\n",
              "<style scoped>\n",
              "    .dataframe tbody tr th:only-of-type {\n",
              "        vertical-align: middle;\n",
              "    }\n",
              "\n",
              "    .dataframe tbody tr th {\n",
              "        vertical-align: top;\n",
              "    }\n",
              "\n",
              "    .dataframe thead th {\n",
              "        text-align: right;\n",
              "    }\n",
              "</style>\n",
              "<table border=\"1\" class=\"dataframe\">\n",
              "  <thead>\n",
              "    <tr style=\"text-align: right;\">\n",
              "      <th></th>\n",
              "      <th></th>\n",
              "      <th>CLUE small area</th>\n",
              "      <th>Dwelling number</th>\n",
              "    </tr>\n",
              "    <tr>\n",
              "      <th>Census year</th>\n",
              "      <th>Block ID</th>\n",
              "      <th></th>\n",
              "      <th></th>\n",
              "    </tr>\n",
              "  </thead>\n",
              "  <tbody>\n",
              "    <tr>\n",
              "      <th rowspan=\"5\" valign=\"top\">2002</th>\n",
              "      <th>11</th>\n",
              "      <td>Melbourne (CBD)</td>\n",
              "      <td>97</td>\n",
              "    </tr>\n",
              "    <tr>\n",
              "      <th>12</th>\n",
              "      <td>Melbourne (CBD)</td>\n",
              "      <td>189</td>\n",
              "    </tr>\n",
              "    <tr>\n",
              "      <th>13</th>\n",
              "      <td>Melbourne (CBD)</td>\n",
              "      <td>113</td>\n",
              "    </tr>\n",
              "    <tr>\n",
              "      <th>14</th>\n",
              "      <td>Melbourne (CBD)</td>\n",
              "      <td>87</td>\n",
              "    </tr>\n",
              "    <tr>\n",
              "      <th>15</th>\n",
              "      <td>Melbourne (CBD)</td>\n",
              "      <td>282</td>\n",
              "    </tr>\n",
              "  </tbody>\n",
              "</table>\n",
              "</div>"
            ],
            "text/plain": [
              "                      CLUE small area  Dwelling number\n",
              "Census year Block ID                                  \n",
              "2002        11        Melbourne (CBD)               97\n",
              "            12        Melbourne (CBD)              189\n",
              "            13        Melbourne (CBD)              113\n",
              "            14        Melbourne (CBD)               87\n",
              "            15        Melbourne (CBD)              282"
            ]
          },
          "metadata": {},
          "execution_count": 80
        }
      ]
    },
    {
      "cell_type": "markdown",
      "metadata": {
        "id": "G2ZGGFzqoqrA"
      },
      "source": [
        "# **Working with Emploment datasets**"
      ]
    },
    {
      "cell_type": "code",
      "metadata": {
        "id": "aT1K2LltF-A-",
        "colab": {
          "base_uri": "https://localhost:8080/",
          "height": 293
        },
        "outputId": "53922406-4709-4e0e-a48f-c104c978d1ff"
      },
      "source": [
        "#Employment data\n",
        "employment = pd.read_csv('/content/drive/MyDrive/Notebooks/SIT782/CLUE/Employment_by_block_by_CLUE_industry.csv')\n",
        "#Total records before cleaning\n",
        "print('Total records before cleaning is',len(employment))\n",
        "#Cleaning the data (remove missing values at [Total employment in block])\n",
        "employment.dropna(subset=['Total employment in block'],inplace=True)\n",
        "#Total records after cleaning\n",
        "print('Total records afer cleaning is',len(employment))\n",
        "#Select only necessary columns\n",
        "selected_columns =['Census year','Block ID','Total employment in block']\n",
        "employment = employment[selected_columns]\n",
        "#Sum the employment based on Block ID and Year\n",
        "employment_by_block = employment.groupby(['Census year','Block ID']).sum()\n",
        "print('Total records after grouping (by Block ID) is',len(employment_by_block))\n",
        "#Detail of the employment_by_block\n",
        "employment_by_block.head()"
      ],
      "execution_count": 81,
      "outputs": [
        {
          "output_type": "stream",
          "name": "stdout",
          "text": [
            "Total records before cleaning is 11182\n",
            "Total records afer cleaning is 8759\n",
            "Total records after grouping (by Block ID) is 8759\n"
          ]
        },
        {
          "output_type": "execute_result",
          "data": {
            "text/html": [
              "<div>\n",
              "<style scoped>\n",
              "    .dataframe tbody tr th:only-of-type {\n",
              "        vertical-align: middle;\n",
              "    }\n",
              "\n",
              "    .dataframe tbody tr th {\n",
              "        vertical-align: top;\n",
              "    }\n",
              "\n",
              "    .dataframe thead th {\n",
              "        text-align: right;\n",
              "    }\n",
              "</style>\n",
              "<table border=\"1\" class=\"dataframe\">\n",
              "  <thead>\n",
              "    <tr style=\"text-align: right;\">\n",
              "      <th></th>\n",
              "      <th></th>\n",
              "      <th>Total employment in block</th>\n",
              "    </tr>\n",
              "    <tr>\n",
              "      <th>Census year</th>\n",
              "      <th>Block ID</th>\n",
              "      <th></th>\n",
              "    </tr>\n",
              "  </thead>\n",
              "  <tbody>\n",
              "    <tr>\n",
              "      <th rowspan=\"5\" valign=\"top\">2002</th>\n",
              "      <th>0</th>\n",
              "      <td>319729.0</td>\n",
              "    </tr>\n",
              "    <tr>\n",
              "      <th>1</th>\n",
              "      <td>6.0</td>\n",
              "    </tr>\n",
              "    <tr>\n",
              "      <th>2</th>\n",
              "      <td>169.0</td>\n",
              "    </tr>\n",
              "    <tr>\n",
              "      <th>4</th>\n",
              "      <td>1174.0</td>\n",
              "    </tr>\n",
              "    <tr>\n",
              "      <th>5</th>\n",
              "      <td>12.0</td>\n",
              "    </tr>\n",
              "  </tbody>\n",
              "</table>\n",
              "</div>"
            ],
            "text/plain": [
              "                      Total employment in block\n",
              "Census year Block ID                           \n",
              "2002        0                          319729.0\n",
              "            1                               6.0\n",
              "            2                             169.0\n",
              "            4                            1174.0\n",
              "            5                              12.0"
            ]
          },
          "metadata": {},
          "execution_count": 81
        }
      ]
    },
    {
      "cell_type": "markdown",
      "metadata": {
        "id": "qop-Dmtrn7Bf"
      },
      "source": [
        "# **Working with Off-street Parking datasets**"
      ]
    },
    {
      "cell_type": "code",
      "metadata": {
        "id": "YUX3USheHzpg",
        "colab": {
          "base_uri": "https://localhost:8080/",
          "height": 293
        },
        "outputId": "ee927950-aa72-4119-e2f3-0feda65815cf"
      },
      "source": [
        "#Off-street parking data\n",
        "parking = pd.read_csv('/content/drive/MyDrive/Notebooks/SIT782/CLUE/Off-street_car_parks_with_capacity_and_type.csv')\n",
        "#Total records before cleaning\n",
        "print('Total records before cleaning is',len(parking))\n",
        "#Data cleaning (remove duplicate values)\n",
        "parking.drop_duplicates(inplace=True)\n",
        "#Total records after cleaning\n",
        "print('Total records after cleaning is',len(parking))\n",
        "#Select only necessary columns\n",
        "selected_columns =['Census year','Block ID','Parking spaces']\n",
        "parking = parking[selected_columns]\n",
        "#Sum the parking based on Block ID and Year\n",
        "parking_by_block = parking.groupby(['Census year','Block ID']).sum()\n",
        "print('Total records after grouping (by Block ID) is',len(parking_by_block))\n",
        "#Detail of the employment_by_block\n",
        "parking_by_block.head()\n"
      ],
      "execution_count": 82,
      "outputs": [
        {
          "output_type": "stream",
          "name": "stdout",
          "text": [
            "Total records before cleaning is 124114\n",
            "Total records after cleaning is 122461\n",
            "Total records after grouping (by Block ID) is 9939\n"
          ]
        },
        {
          "output_type": "execute_result",
          "data": {
            "text/html": [
              "<div>\n",
              "<style scoped>\n",
              "    .dataframe tbody tr th:only-of-type {\n",
              "        vertical-align: middle;\n",
              "    }\n",
              "\n",
              "    .dataframe tbody tr th {\n",
              "        vertical-align: top;\n",
              "    }\n",
              "\n",
              "    .dataframe thead th {\n",
              "        text-align: right;\n",
              "    }\n",
              "</style>\n",
              "<table border=\"1\" class=\"dataframe\">\n",
              "  <thead>\n",
              "    <tr style=\"text-align: right;\">\n",
              "      <th></th>\n",
              "      <th></th>\n",
              "      <th>Parking spaces</th>\n",
              "    </tr>\n",
              "    <tr>\n",
              "      <th>Census year</th>\n",
              "      <th>Block ID</th>\n",
              "      <th></th>\n",
              "    </tr>\n",
              "  </thead>\n",
              "  <tbody>\n",
              "    <tr>\n",
              "      <th rowspan=\"5\" valign=\"top\">2002</th>\n",
              "      <th>1</th>\n",
              "      <td>270</td>\n",
              "    </tr>\n",
              "    <tr>\n",
              "      <th>6</th>\n",
              "      <td>500</td>\n",
              "    </tr>\n",
              "    <tr>\n",
              "      <th>11</th>\n",
              "      <td>303</td>\n",
              "    </tr>\n",
              "    <tr>\n",
              "      <th>12</th>\n",
              "      <td>749</td>\n",
              "    </tr>\n",
              "    <tr>\n",
              "      <th>13</th>\n",
              "      <td>622</td>\n",
              "    </tr>\n",
              "  </tbody>\n",
              "</table>\n",
              "</div>"
            ],
            "text/plain": [
              "                      Parking spaces\n",
              "Census year Block ID                \n",
              "2002        1                    270\n",
              "            6                    500\n",
              "            11                   303\n",
              "            12                   749\n",
              "            13                   622"
            ]
          },
          "metadata": {},
          "execution_count": 82
        }
      ]
    },
    {
      "cell_type": "markdown",
      "metadata": {
        "id": "_Xfatyh439UD"
      },
      "source": [
        "# **Merge and explore the 3 datasets (Resident, Employment, & Parking)**"
      ]
    },
    {
      "cell_type": "markdown",
      "metadata": {
        "id": "UMFEWTdiX6UD"
      },
      "source": [
        "Formulate the model to identify a suitable number of parking slots based on residential dwelling or employment."
      ]
    },
    {
      "cell_type": "code",
      "metadata": {
        "colab": {
          "base_uri": "https://localhost:8080/",
          "height": 750
        },
        "id": "-6X0xImgqERh",
        "outputId": "3e4ecc83-f07d-4c68-a587-0100c3b31e39"
      },
      "source": [
        "import matplotlib.pyplot as plt\n",
        "import numpy as np\n",
        "import seaborn as sns\n",
        "sns.set_theme(color_codes=True)\n",
        "\n",
        "#Combine the datasets (only take the blocks that match between three datasets)\n",
        "data = resident_by_block.merge(employment_by_block, left_index= True, right_index=True)\n",
        "data = data.merge(parking_by_block,left_index=True,right_index=True)\n",
        "print(data.head())\n",
        "#Prepare data for scatter plots\n",
        "x1 = data['Total employment in block']\n",
        "x2 = data['Dwelling number']\n",
        "y = data['Parking spaces']\n",
        "#Plot the data points (Parking Spaces vs. Total Employment) and regression line\n",
        "plt.plot(x1,y,'x')\n",
        "a, b = np.polyfit(x1,y,1)\n",
        "plt.plot(x1, a*x1 + b)\n",
        "plt.title('Parking Spaces vs. Total Employment')\n",
        "plt.ylabel('Parking Spaces')\n",
        "plt.xlabel('Total Employment')\n",
        "plt.show()\n",
        "#Plot the data points (Parking Spaces vs. Dwelling Number) and regression line\n",
        "plt.plot(x2,y,'+')\n",
        "a, b = np.polyfit(x2,y,1)\n",
        "plt.plot(x2, a*x2 + b)\n",
        "plt.title('Parking Spaces vs. Dwelling Number')\n",
        "plt.ylabel('Parking Spaces')\n",
        "plt.xlabel('Dwelling Number')\n",
        "plt.show()\n"
      ],
      "execution_count": 83,
      "outputs": [
        {
          "output_type": "stream",
          "name": "stdout",
          "text": [
            "                      CLUE small area  ...  Parking spaces\n",
            "Census year Block ID                   ...                \n",
            "2002        11        Melbourne (CBD)  ...             303\n",
            "            12        Melbourne (CBD)  ...             749\n",
            "            13        Melbourne (CBD)  ...             622\n",
            "            14        Melbourne (CBD)  ...            1229\n",
            "            15        Melbourne (CBD)  ...              88\n",
            "\n",
            "[5 rows x 4 columns]\n"
          ]
        },
        {
          "output_type": "display_data",
          "data": {
            "image/png": "[encoded data removed]",
            "text/plain": [
              "<Figure size 432x288 with 1 Axes>"
            ]
          },
          "metadata": {}
        },
        {
          "output_type": "display_data",
          "data": {
            "image/png": "[encoded data removed]",
            "text/plain": [
              "<Figure size 432x288 with 1 Axes>"
            ]
          },
          "metadata": {}
        }
      ]
    },
    {
      "cell_type": "markdown",
      "metadata": {
        "id": "0I4h1N4zooQO"
      },
      "source": [
        "# **Modeling and Analyzing**"
      ]
    },
    {
      "cell_type": "markdown",
      "metadata": {
        "id": "VXTzXE8bsFFW"
      },
      "source": [
        "## Prepare the filtered data records"
      ]
    },
    {
      "cell_type": "code",
      "metadata": {
        "id": "NNnbFdxXrquN"
      },
      "source": [
        "#Prepare X and Y data for model training\n",
        "def Get_data(Data, Year_to_include,Employment,Resident_dwellings):\n",
        "  features = np.array(['Total employment in block', 'Dwelling number'])\n",
        "  features_to_include = features[[Employment,Resident_dwellings]] #Define the data features for the study\n",
        "  data_to_include = Data.loc[min(Year_to_include):max(Year_to_include)] #Get the wanted rows\n",
        "  X = np.array(data_to_include[features_to_include]) #Get the independent variable(s) based on the selected features\n",
        "  Y = np.array(data_to_include['Parking spaces']) #Get the dependent variable\n",
        "  return X, Y\n",
        "#print('The study period is between: %d and %d'%(min(years_to_include),max(years_to_include)))\n"
      ],
      "execution_count": 84,
      "outputs": []
    },
    {
      "cell_type": "markdown",
      "metadata": {
        "id": "OOHNOm_NvlIU"
      },
      "source": [
        "## Build linear regression model"
      ]
    },
    {
      "cell_type": "code",
      "metadata": {
        "id": "7PRejFEtvkHq"
      },
      "source": [
        "def lm_model(X, Y):\n",
        "  from sklearn import linear_model\n",
        "  from sklearn.ensemble import IsolationForest\n",
        "  iso = IsolationForest(contamination=0.1)#use outliers detector\n",
        "  yhat = iso.fit_predict(X) #Search for outliers\n",
        "  lm = linear_model.LinearRegression() #linear regression model\n",
        "  lm.fit(X[yhat!=-1],Y[yhat!=-1]) # Train the model excluding outliers\n",
        "  return lm"
      ],
      "execution_count": 85,
      "outputs": []
    },
    {
      "cell_type": "markdown",
      "metadata": {
        "id": "rc7kJD-p4ZIt"
      },
      "source": [
        "## Predict the parking problem based on the latest year (2020)"
      ]
    },
    {
      "cell_type": "code",
      "metadata": {
        "id": "RZkmpC_U4YUv"
      },
      "source": [
        "#Predict parking issue in 2020\n",
        "def Get_predict_result(Data, Model, Employment, Residential_dwellings):\n",
        "  data_latest = Data.loc[years.max] # Get data of 2020\n",
        "  features = np.array(['Total employment in block', 'Dwelling number'])\n",
        "  features_to_include = features[[Employment,Residential_dwellings]] #Define the data features for the study\n",
        "  result = np.round(Model.predict(np.array(data_latest[features_to_include]))) #Predict based on the selected features\n",
        "  data_latest['Predict_parking'] = result #Add result to the data\n",
        "  impact = result - data_latest['Parking spaces']\n",
        "  impact[impact>=0] = 100*(impact[impact>=0]/(max(impact[impact>=0]))) # Normalize the impact index (0-100)\n",
        "  data_latest['Impact_index'] = impact #Add impact index to the data\n",
        "  return data_latest"
      ],
      "execution_count": 86,
      "outputs": []
    },
    {
      "cell_type": "markdown",
      "metadata": {
        "id": "mlLslmEOGitd"
      },
      "source": [
        "## Plot barchart of the predict results"
      ]
    },
    {
      "cell_type": "code",
      "metadata": {
        "id": "5l4X3zdoGhbq"
      },
      "source": [
        "#visualize the impacted city blocks\n",
        "def bar_plot(Data, Impact_level):\n",
        "  #Only visualize the blocks greater than the impact level\n",
        "  plot_data = Data[Data['Impact_index']>=Impact_level]['Impact_index']#Get only the data records with higher impact level\n",
        "  plot_data.plot(kind='bar',figsize=(len(plot_data)/2,5),\n",
        "                title='Impacted Blocks(limited parking spaces)\\n Shows impact index from '+str(Impact_level)+' to 100',\n",
        "                ylabel='Impact Index (0-100)')\n",
        "  plt.show()"
      ],
      "execution_count": 87,
      "outputs": []
    },
    {
      "cell_type": "markdown",
      "metadata": {
        "id": "q2sCp9c0Np_Y"
      },
      "source": [
        "# Prepare datasets for map plotting"
      ]
    },
    {
      "cell_type": "code",
      "metadata": {
        "id": "upAFbbAA7gaR",
        "colab": {
          "base_uri": "https://localhost:8080/",
          "height": 91
        },
        "outputId": "42250cdf-7114-4137-9ef9-70edfec9728a"
      },
      "source": [
        "'''\n",
        "#CLUE block map\n",
        "import json\n",
        "json_file = open('/content/drive/MyDrive/Notebooks/SIT782/CLUE/clue_blocks.geojson') \n",
        "clue_geo = json.load(json_file)\n",
        "\n",
        "#Only take the impacted blocks\n",
        "clue_data = data_latest[data_latest['Impact_index']>=min_impact_level].sort_values('Impact_index',ascending = False)\n",
        "clue_data.reset_index(inplace=True) #turn the index (Block_ID) into a column in the dataframe (clue_data)\n",
        "clue_data['Block ID'] = clue_data['Block ID'].astype('str') # conver [Block ID] to str, so that it is compatible with json content\n",
        "'''"
      ],
      "execution_count": 88,
      "outputs": [
        {
          "output_type": "execute_result",
          "data": {
            "application/vnd.google.colaboratory.intrinsic+json": {
              "type": "string"
            },
            "text/plain": [
              "\"\\n#CLUE block map\\nimport json\\njson_file = open('/content/drive/MyDrive/Notebooks/SIT782/CLUE/clue_blocks.geojson') \\nclue_geo = json.load(json_file)\\n\\n#Only take the impacted blocks\\nclue_data = data_latest[data_latest['Impact_index']>=min_impact_level].sort_values('Impact_index',ascending = False)\\nclue_data.reset_index(inplace=True) #turn the index (Block_ID) into a column in the dataframe (clue_data)\\nclue_data['Block ID'] = clue_data['Block ID'].astype('str') # conver [Block ID] to str, so that it is compatible with json content\\n\""
            ]
          },
          "metadata": {},
          "execution_count": 88
        }
      ]
    },
    {
      "cell_type": "markdown",
      "metadata": {
        "id": "wu-cEzszOeYK"
      },
      "source": [
        "# Plot the map using Folium Choropleth"
      ]
    },
    {
      "cell_type": "code",
      "metadata": {
        "colab": {
          "base_uri": "https://localhost:8080/",
          "height": 128
        },
        "id": "bJofRzQc_Kxu",
        "outputId": "7938df3b-ecf0-4495-c28b-29eb2b1a2b9d"
      },
      "source": [
        "'''\n",
        "import folium\n",
        "#Create the initial map\n",
        "fmap = folium.Map(location=[-37.811600, 144.964610],\n",
        "           tiles='Stamen Toner',\n",
        "           width = '80%',\n",
        "           height = '60%',\n",
        "           zoom_start=13)\n",
        "\n",
        "#create the choropleth layer and add to the map above\n",
        "choropleth = folium.Choropleth(\n",
        "    geo_data=clue_geo,\n",
        "    name='choropleth',\n",
        "    data=clue_data,\n",
        "    columns=['Block ID','Impact_index'],\n",
        "    key_on='feature.properties.block_id',\n",
        "    fill_color='YlOrRd',\n",
        "    fill_opacity=1,\n",
        "    line_opacity=0.5,\n",
        "    nan_fill_color='cloud',\n",
        "    nan_fill_opacity = 0.2,\n",
        "    highlight=True,\n",
        "    legend_name='Impact index'\n",
        ").add_to(fmap)\n",
        "\n",
        "#Add more layers and tooltips\n",
        "fmap.add_tile_layer()\n",
        "fmap.add_tile_layer('Stamen Terrain')\n",
        "choropleth.geojson.add_child(folium.features.GeoJsonTooltip(['block_id','clue_area'],labels=True))\n",
        "folium.LayerControl().add_to(fmap)\n",
        "fmap\n",
        "\n",
        "'''"
      ],
      "execution_count": 89,
      "outputs": [
        {
          "output_type": "execute_result",
          "data": {
            "application/vnd.google.colaboratory.intrinsic+json": {
              "type": "string"
            },
            "text/plain": [
              "\"\\nimport folium\\n#Create the initial map\\nfmap = folium.Map(location=[-37.811600, 144.964610],\\n           tiles='Stamen Toner',\\n           width = '80%',\\n           height = '60%',\\n           zoom_start=13)\\n\\n#create the choropleth layer and add to the map above\\nchoropleth = folium.Choropleth(\\n    geo_data=clue_geo,\\n    name='choropleth',\\n    data=clue_data,\\n    columns=['Block ID','Impact_index'],\\n    key_on='feature.properties.block_id',\\n    fill_color='YlOrRd',\\n    fill_opacity=1,\\n    line_opacity=0.5,\\n    nan_fill_color='cloud',\\n    nan_fill_opacity = 0.2,\\n    highlight=True,\\n    legend_name='Impact index'\\n).add_to(fmap)\\n\\n#Add more layers and tooltips\\nfmap.add_tile_layer()\\nfmap.add_tile_layer('Stamen Terrain')\\nchoropleth.geojson.add_child(folium.features.GeoJsonTooltip(['block_id','clue_area'],labels=True))\\nfolium.LayerControl().add_to(fmap)\\nfmap\\n\\n\""
            ]
          },
          "metadata": {},
          "execution_count": 89
        }
      ]
    },
    {
      "cell_type": "markdown",
      "metadata": {
        "id": "ul0SWwlX-ivA"
      },
      "source": [
        "## Interactive Tools and Visualizations"
      ]
    },
    {
      "cell_type": "code",
      "metadata": {
        "id": "4_-EHzxUokbX"
      },
      "source": [
        "#Year to include in the study (from 2002 to 2020 or between that)\n",
        "#Create a widget to select the range of study years\n",
        "from ipywidgets import interact_manual\n",
        "import ipywidgets as widgets\n",
        "from IPython.display import display\n",
        "style = {'description_width': 'initial'} #for long label of the widgets\n",
        "#Year-to-include slider\n",
        "years = widgets.IntRangeSlider(\n",
        "    value=[2002, 2020],\n",
        "    min=2002,\n",
        "    max=2020,\n",
        "    step=1,\n",
        "    description='Years to include:',\n",
        "    disabled=False,\n",
        "    continuous_update=True,\n",
        "    orientation='horizontal',\n",
        "    readout=True,\n",
        "    readout_format='d',\n",
        "    style=style\n",
        ")\n",
        "#Display option: impact level\n",
        "show_impact = widgets.IntSlider(\n",
        "    value=10,\n",
        "    min=10,\n",
        "    max=100,\n",
        "    step=1,\n",
        "    description='Impact index from:',\n",
        "    disabled=False,\n",
        "    continuous_update=True,\n",
        "    orientation='horizontal',\n",
        "    readout=True,\n",
        "    readout_format='d',\n",
        "    style=style\n",
        ")\n",
        "#Employment checkbox\n",
        "chk_employment = widgets.Checkbox(\n",
        "    value=True,\n",
        "    description='Employment',\n",
        "    disabled=False,\n",
        "    indent=False,\n",
        "    continuous_updates=True\n",
        ")\n",
        "#Residential Dwellings checkbox\n",
        "chk_resident = widgets.Checkbox(\n",
        "    value=True,\n",
        "    description='Residential Dwellings',\n",
        "    disabled=False,\n",
        "    indent=False,\n",
        "    continuous_update=True\n",
        ")\n"
      ],
      "execution_count": 90,
      "outputs": []
    },
    {
      "cell_type": "code",
      "metadata": {
        "colab": {
          "base_uri": "https://localhost:8080/",
          "height": 1000,
          "referenced_widgets": [
            "2e54b9377ea34b96af62c76d753d7da7",
            "a3c9b58e443a4d03b5f782a028691d45",
            "a262ff1ae9dd4a5bbf7b71d6f234632a",
            "d92a1368857e49b6b24f7ab2e23bf25d",
            "4be1c74348e54c99bf17ff37d1595c04",
            "655e23fd29da49c782e6e70a0fd2c6f6",
            "f60cba2eaf764bcba3a10e702d2441f7",
            "36033ff5dcba41e2b153da47b45dd426",
            "bba6947323844754a2f34b3c95a2fd65",
            "7e8139258b194491a2dbd95c888c591d",
            "6ddf2e624e6a4084bba2ed3c89d35212",
            "7ae1e18a23a743de83b9aa9c455579f8",
            "4bfe3efc0e8b4cb981d10755efb394af",
            "e4df495090144844b56522de3ea26cfd",
            "cbb7ffb42df049fd8e3a135d61e297c5",
            "7fe73fef49b049bf80e0295d9fe91158",
            "a7a4d60e5108456996a2d425cc67b512",
            "cfa1b154a588401295e9cab1b09610de",
            "acc46ee8621c498ab861dae80c204f2b"
          ]
        },
        "id": "omj0ACtQcOp1",
        "outputId": "2fb5f9ca-8fcd-435e-aa5a-c10674026ed7"
      },
      "source": [
        "#Define function to execute when using interactive tools\n",
        "def f(Year_to_include,Employment,Residential_dwellings, Impact_level):\n",
        "  #Must import libraries and datasets for a self-contain function\n",
        "  import numpy as np\n",
        "  import pandas as pd\n",
        "  import warnings\n",
        "  warnings.filterwarnings(\"ignore\") #remove dataframe warning\n",
        "  data = pd.read_csv('merged_data.csv') #the dataset that contains all the THREE features (employment, resident & parking)\n",
        "  data.set_index(['Census year','Block ID'],inplace=True) #Turn the data to pandas series\n",
        "\n",
        "  print('='*23)\n",
        "  print('|DATA ANALYSIS RESULTS|')\n",
        "  print('='*23)\n",
        "  print('(NOTE: The city blocks without parking information available are ignored by our analyzing model.\\n\\n')\n",
        "  if (not(Employment)) & (not(Residential_dwellings)):\n",
        "    Employment = True  #Prevent both data features are unticked ==> Error\n",
        "  #Get the filtered data for analysis\n",
        "  X, Y = Get_data(data,Year_to_include,Employment,Residential_dwellings)\n",
        "  #Build regression model\n",
        "  lm = lm_model(X,Y)\n",
        "  #Get the predicted results\n",
        "  predict_results = Get_predict_result(data,lm, Employment, Residential_dwellings)\n",
        "  #Plot the barchart of the predicted results\n",
        "  bar_plot(predict_results, Impact_level)\n",
        "  #Show table of the impacted blocks in detail table\n",
        "  print('\\n\\n The table below shows the impacted blocks (limited parking) by the order of the impact index.\\n')\n",
        "  display(predict_results[predict_results['Impact_index']>=Impact_level].sort_values('Impact_index',ascending = False))\n",
        "\n",
        "interact_manual.opts['manual_name'] = 'Start Analyzing'\n",
        "interact_manual(f,Year_to_include=years, Employment=chk_employment, Residential_dwellings = chk_resident, Impact_level = show_impact);"
      ],
      "execution_count": 92,
      "outputs": [
        {
          "output_type": "display_data",
          "data": {
            "application/vnd.jupyter.widget-view+json": {
              "model_id": "2e54b9377ea34b96af62c76d753d7da7",
              "version_minor": 0,
              "version_major": 2
            },
            "text/plain": [
              "interactive(children=(IntRangeSlider(value=(2002, 2020), description='Years to include:', max=2020, min=2002, …"
            ]
          },
          "metadata": {}
        }
      ]
    }
  ]
}