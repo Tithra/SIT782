{
  "nbformat": 4,
  "nbformat_minor": 0,
  "metadata": {
    "colab": {
      "name": "CLUE_analysis.ipynb",
      "provenance": [],
      "mount_file_id": "https://github.com/Tithra/SIT782/blob/main/CLUE_analysis_interact.ipynb",
      "authorship_tag": "ABX9TyPKEHO4WB0GNOYGdNjhM3W3"
    },
    "kernelspec": {
      "name": "python3",
      "display_name": "Python 3"
    },
    "language_info": {
      "name": "python"
    },
    "widgets": {
      "application/vnd.jupyter.widget-state+json": {
        "b79c890a52144355a6e5982a0c210098": {
          "model_module": "@jupyter-widgets/controls",
          "model_name": "VBoxModel",
          "model_module_version": "1.5.0",
          "state": {
            "_view_name": "VBoxView",
            "_dom_classes": [
              "widget-interact"
            ],
            "_model_name": "VBoxModel",
            "_view_module": "@jupyter-widgets/controls",
            "_model_module_version": "1.5.0",
            "_view_count": null,
            "_view_module_version": "1.5.0",
            "box_style": "",
            "layout": "IPY_MODEL_94cd7f09289846f2b2c130ff37a180c7",
            "_model_module": "@jupyter-widgets/controls",
            "children": [
              "IPY_MODEL_226eb96f6b724001b7d8885ae49c72e8",
              "IPY_MODEL_2ba5821a94ed4588b0569c17c2644b9e",
              "IPY_MODEL_de233da8d3ff4e5a91a69812fe74bd85",
              "IPY_MODEL_c3a3d562b8e249fcaf99de9951450a25",
              "IPY_MODEL_f7939a584eb04ef683ef3443f1b6db9d",
              "IPY_MODEL_32a580b7839845ceb4ba6b470c84b768"
            ]
          }
        },
        "94cd7f09289846f2b2c130ff37a180c7": {
          "model_module": "@jupyter-widgets/base",
          "model_name": "LayoutModel",
          "model_module_version": "1.2.0",
          "state": {
            "_view_name": "LayoutView",
            "grid_template_rows": null,
            "right": null,
            "justify_content": null,
            "_view_module": "@jupyter-widgets/base",
            "overflow": null,
            "_model_module_version": "1.2.0",
            "_view_count": null,
            "flex_flow": null,
            "width": null,
            "min_width": null,
            "border": null,
            "align_items": null,
            "bottom": null,
            "_model_module": "@jupyter-widgets/base",
            "top": null,
            "grid_column": null,
            "overflow_y": null,
            "overflow_x": null,
            "grid_auto_flow": null,
            "grid_area": null,
            "grid_template_columns": null,
            "flex": null,
            "_model_name": "LayoutModel",
            "justify_items": null,
            "grid_row": null,
            "max_height": null,
            "align_content": null,
            "visibility": null,
            "align_self": null,
            "height": null,
            "min_height": null,
            "padding": null,
            "grid_auto_rows": null,
            "grid_gap": null,
            "max_width": null,
            "order": null,
            "_view_module_version": "1.2.0",
            "grid_template_areas": null,
            "object_position": null,
            "object_fit": null,
            "grid_auto_columns": null,
            "margin": null,
            "display": null,
            "left": null
          }
        },
        "226eb96f6b724001b7d8885ae49c72e8": {
          "model_module": "@jupyter-widgets/controls",
          "model_name": "IntRangeSliderModel",
          "model_module_version": "1.5.0",
          "state": {
            "_view_name": "IntRangeSliderView",
            "style": "IPY_MODEL_7693353f27a0449d8fe96356ab064456",
            "_dom_classes": [],
            "description": "Years to include:",
            "step": 1,
            "_model_name": "IntRangeSliderModel",
            "orientation": "horizontal",
            "max": 2020,
            "_view_module": "@jupyter-widgets/controls",
            "_model_module_version": "1.5.0",
            "value": [
              2002,
              2020
            ],
            "_view_count": null,
            "disabled": false,
            "_view_module_version": "1.5.0",
            "min": 2002,
            "continuous_update": true,
            "readout_format": "d",
            "description_tooltip": null,
            "readout": true,
            "_model_module": "@jupyter-widgets/controls",
            "layout": "IPY_MODEL_235b7b22c5be4f63839e3fe9ffac1dc2"
          }
        },
        "2ba5821a94ed4588b0569c17c2644b9e": {
          "model_module": "@jupyter-widgets/controls",
          "model_name": "CheckboxModel",
          "model_module_version": "1.5.0",
          "state": {
            "_view_name": "CheckboxView",
            "style": "IPY_MODEL_d15739b3b7a14b3ca7e380d35228285e",
            "_dom_classes": [],
            "description": "Employment",
            "_model_name": "CheckboxModel",
            "_view_module": "@jupyter-widgets/controls",
            "_model_module_version": "1.5.0",
            "value": true,
            "_view_count": null,
            "disabled": false,
            "_view_module_version": "1.5.0",
            "indent": false,
            "description_tooltip": null,
            "_model_module": "@jupyter-widgets/controls",
            "layout": "IPY_MODEL_d8dfdf26756f4e108310311afde5fbb4"
          }
        },
        "de233da8d3ff4e5a91a69812fe74bd85": {
          "model_module": "@jupyter-widgets/controls",
          "model_name": "CheckboxModel",
          "model_module_version": "1.5.0",
          "state": {
            "_view_name": "CheckboxView",
            "style": "IPY_MODEL_2b9521ff5f794eb390ef4b19996e2952",
            "_dom_classes": [],
            "description": "Residential Dwellings",
            "_model_name": "CheckboxModel",
            "_view_module": "@jupyter-widgets/controls",
            "_model_module_version": "1.5.0",
            "value": true,
            "_view_count": null,
            "disabled": false,
            "_view_module_version": "1.5.0",
            "indent": false,
            "description_tooltip": null,
            "_model_module": "@jupyter-widgets/controls",
            "layout": "IPY_MODEL_f4a147d1617a427287ed550813cd7934"
          }
        },
        "c3a3d562b8e249fcaf99de9951450a25": {
          "model_module": "@jupyter-widgets/controls",
          "model_name": "IntSliderModel",
          "model_module_version": "1.5.0",
          "state": {
            "_view_name": "IntSliderView",
            "style": "IPY_MODEL_dbd6387527d24dbc8fe3aea0422f9e3e",
            "_dom_classes": [],
            "description": "Impact index from:",
            "step": 1,
            "_model_name": "IntSliderModel",
            "orientation": "horizontal",
            "max": 100,
            "_view_module": "@jupyter-widgets/controls",
            "_model_module_version": "1.5.0",
            "value": 10,
            "_view_count": null,
            "disabled": false,
            "_view_module_version": "1.5.0",
            "min": 10,
            "continuous_update": true,
            "readout_format": "d",
            "description_tooltip": null,
            "readout": true,
            "_model_module": "@jupyter-widgets/controls",
            "layout": "IPY_MODEL_0756710fd62d46938bd98e71ae55e45f"
          }
        },
        "f7939a584eb04ef683ef3443f1b6db9d": {
          "model_module": "@jupyter-widgets/controls",
          "model_name": "ButtonModel",
          "model_module_version": "1.5.0",
          "state": {
            "_view_name": "ButtonView",
            "style": "IPY_MODEL_b11ccbf97bfb44b888527cd43ed4f078",
            "_dom_classes": [],
            "description": "Start Analyzing",
            "_model_name": "ButtonModel",
            "button_style": "",
            "_view_module": "@jupyter-widgets/controls",
            "_model_module_version": "1.5.0",
            "tooltip": "",
            "_view_count": null,
            "disabled": false,
            "_view_module_version": "1.5.0",
            "layout": "IPY_MODEL_023501b288ab4940ac1bcbbf5bab6b84",
            "_model_module": "@jupyter-widgets/controls",
            "icon": ""
          }
        },
        "32a580b7839845ceb4ba6b470c84b768": {
          "model_module": "@jupyter-widgets/output",
          "model_name": "OutputModel",
          "model_module_version": "1.0.0",
          "state": {
            "_view_name": "OutputView",
            "msg_id": "",
            "_dom_classes": [],
            "_model_name": "OutputModel",
            "outputs": [
              {
                "output_type": "stream",
                "name": "stdout",
                "text": [
                  "=======================\n",
                  "|DATA ANALYSIS RESULTS|\n",
                  "=======================\n",
                  "(NOTE: The city blocks without parking information available are ignored by our analyzing model.\n",
                  "\n",
                  "\n"
                ]
              },
              {
                "output_type": "display_data",
                "data": {
                  "image/png": "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\n",
                  "text/plain": "<Figure size 1296x864 with 1 Axes>"
                },
                "metadata": {}
              },
              {
                "output_type": "stream",
                "name": "stdout",
                "text": [
                  "\n",
                  "\n",
                  " The table below shows the impacted blocks (limited parking) by the order of the impact index.\n",
                  "\n"
                ]
              },
              {
                "output_type": "display_data",
                "data": {
                  "text/html": "<div>\n<style scoped>\n    .dataframe tbody tr th:only-of-type {\n        vertical-align: middle;\n    }\n\n    .dataframe tbody tr th {\n        vertical-align: top;\n    }\n\n    .dataframe thead th {\n        text-align: right;\n    }\n</style>\n<table border=\"1\" class=\"dataframe\">\n  <thead>\n    <tr style=\"text-align: right;\">\n      <th></th>\n      <th>CLUE small area</th>\n      <th>Dwelling number</th>\n      <th>Total employment in block</th>\n      <th>Parking spaces</th>\n      <th>Predict_parking</th>\n      <th>Impact_index</th>\n    </tr>\n    <tr>\n      <th>Block ID</th>\n      <th></th>\n      <th></th>\n      <th></th>\n      <th></th>\n      <th></th>\n      <th></th>\n    </tr>\n  </thead>\n  <tbody>\n    <tr>\n      <th>1105</th>\n      <td>Docklands</td>\n      <td>189</td>\n      <td>22612.0</td>\n      <td>2507</td>\n      <td>7480</td>\n      <td>100</td>\n    </tr>\n    <tr>\n      <th>1108</th>\n      <td>Docklands</td>\n      <td>3118</td>\n      <td>16425.0</td>\n      <td>4800</td>\n      <td>7519</td>\n      <td>54</td>\n    </tr>\n    <tr>\n      <th>34</th>\n      <td>Melbourne (CBD)</td>\n      <td>32</td>\n      <td>7390.0</td>\n      <td>328</td>\n      <td>2454</td>\n      <td>42</td>\n    </tr>\n    <tr>\n      <th>47</th>\n      <td>Melbourne (CBD)</td>\n      <td>323</td>\n      <td>7837.0</td>\n      <td>1059</td>\n      <td>2800</td>\n      <td>35</td>\n    </tr>\n    <tr>\n      <th>24</th>\n      <td>Melbourne (CBD)</td>\n      <td>175</td>\n      <td>7580.0</td>\n      <td>887</td>\n      <td>2614</td>\n      <td>34</td>\n    </tr>\n    <tr>\n      <th>87</th>\n      <td>Melbourne (CBD)</td>\n      <td>915</td>\n      <td>4366.0</td>\n      <td>387</td>\n      <td>2091</td>\n      <td>34</td>\n    </tr>\n    <tr>\n      <th>32</th>\n      <td>Melbourne (CBD)</td>\n      <td>104</td>\n      <td>6966.0</td>\n      <td>719</td>\n      <td>2367</td>\n      <td>33</td>\n    </tr>\n    <tr>\n      <th>1101</th>\n      <td>Docklands</td>\n      <td>120</td>\n      <td>8949.0</td>\n      <td>1378</td>\n      <td>3018</td>\n      <td>32</td>\n    </tr>\n    <tr>\n      <th>53</th>\n      <td>Melbourne (CBD)</td>\n      <td>192</td>\n      <td>6026.0</td>\n      <td>553</td>\n      <td>2124</td>\n      <td>31</td>\n    </tr>\n    <tr>\n      <th>85</th>\n      <td>Melbourne (CBD)</td>\n      <td>321</td>\n      <td>7477.0</td>\n      <td>1273</td>\n      <td>2683</td>\n      <td>28</td>\n    </tr>\n    <tr>\n      <th>33</th>\n      <td>Melbourne (CBD)</td>\n      <td>268</td>\n      <td>3556.0</td>\n      <td>172</td>\n      <td>1379</td>\n      <td>24</td>\n    </tr>\n    <tr>\n      <th>25</th>\n      <td>Melbourne (CBD)</td>\n      <td>254</td>\n      <td>3457.0</td>\n      <td>172</td>\n      <td>1338</td>\n      <td>23</td>\n    </tr>\n    <tr>\n      <th>18</th>\n      <td>Melbourne (CBD)</td>\n      <td>217</td>\n      <td>6459.0</td>\n      <td>1130</td>\n      <td>2281</td>\n      <td>23</td>\n    </tr>\n    <tr>\n      <th>15</th>\n      <td>Melbourne (CBD)</td>\n      <td>659</td>\n      <td>2139.0</td>\n      <td>93</td>\n      <td>1194</td>\n      <td>22</td>\n    </tr>\n    <tr>\n      <th>44</th>\n      <td>Melbourne (CBD)</td>\n      <td>98</td>\n      <td>3794.0</td>\n      <td>246</td>\n      <td>1338</td>\n      <td>21</td>\n    </tr>\n    <tr>\n      <th>84</th>\n      <td>Melbourne (CBD)</td>\n      <td>1493</td>\n      <td>759.0</td>\n      <td>344</td>\n      <td>1328</td>\n      <td>19</td>\n    </tr>\n    <tr>\n      <th>105</th>\n      <td>Melbourne (CBD)</td>\n      <td>1729</td>\n      <td>1067.0</td>\n      <td>639</td>\n      <td>1592</td>\n      <td>19</td>\n    </tr>\n    <tr>\n      <th>95</th>\n      <td>Melbourne (CBD)</td>\n      <td>1745</td>\n      <td>606.0</td>\n      <td>548</td>\n      <td>1454</td>\n      <td>18</td>\n    </tr>\n    <tr>\n      <th>264</th>\n      <td>Carlton</td>\n      <td>1806</td>\n      <td>175.0</td>\n      <td>450</td>\n      <td>1357</td>\n      <td>18</td>\n    </tr>\n    <tr>\n      <th>27</th>\n      <td>Melbourne (CBD)</td>\n      <td>2</td>\n      <td>5903.0</td>\n      <td>1050</td>\n      <td>1952</td>\n      <td>18</td>\n    </tr>\n    <tr>\n      <th>38</th>\n      <td>Melbourne (CBD)</td>\n      <td>218</td>\n      <td>2544.0</td>\n      <td>208</td>\n      <td>1018</td>\n      <td>16</td>\n    </tr>\n    <tr>\n      <th>26</th>\n      <td>Melbourne (CBD)</td>\n      <td>72</td>\n      <td>4000.0</td>\n      <td>611</td>\n      <td>1386</td>\n      <td>15</td>\n    </tr>\n    <tr>\n      <th>82</th>\n      <td>Melbourne (CBD)</td>\n      <td>34</td>\n      <td>3515.0</td>\n      <td>438</td>\n      <td>1203</td>\n      <td>15</td>\n    </tr>\n    <tr>\n      <th>753</th>\n      <td>Southbank</td>\n      <td>174</td>\n      <td>6315.0</td>\n      <td>1491</td>\n      <td>2205</td>\n      <td>14</td>\n    </tr>\n    <tr>\n      <th>23</th>\n      <td>Melbourne (CBD)</td>\n      <td>90</td>\n      <td>2211.0</td>\n      <td>129</td>\n      <td>821</td>\n      <td>13</td>\n    </tr>\n    <tr>\n      <th>61</th>\n      <td>Melbourne (CBD)</td>\n      <td>2609</td>\n      <td>511.0</td>\n      <td>1356</td>\n      <td>2024</td>\n      <td>13</td>\n    </tr>\n    <tr>\n      <th>93</th>\n      <td>Melbourne (CBD)</td>\n      <td>817</td>\n      <td>2343.0</td>\n      <td>733</td>\n      <td>1369</td>\n      <td>12</td>\n    </tr>\n    <tr>\n      <th>28</th>\n      <td>Melbourne (CBD)</td>\n      <td>279</td>\n      <td>4538.0</td>\n      <td>1079</td>\n      <td>1704</td>\n      <td>12</td>\n    </tr>\n    <tr>\n      <th>94</th>\n      <td>Melbourne (CBD)</td>\n      <td>878</td>\n      <td>3330.0</td>\n      <td>1160</td>\n      <td>1731</td>\n      <td>11</td>\n    </tr>\n    <tr>\n      <th>46</th>\n      <td>Melbourne (CBD)</td>\n      <td>143</td>\n      <td>2441.0</td>\n      <td>337</td>\n      <td>932</td>\n      <td>11</td>\n    </tr>\n    <tr>\n      <th>257</th>\n      <td>Carlton</td>\n      <td>669</td>\n      <td>674.0</td>\n      <td>142</td>\n      <td>727</td>\n      <td>11</td>\n    </tr>\n    <tr>\n      <th>65</th>\n      <td>Melbourne (CBD)</td>\n      <td>225</td>\n      <td>2040.0</td>\n      <td>277</td>\n      <td>860</td>\n      <td>11</td>\n    </tr>\n    <tr>\n      <th>1103</th>\n      <td>Docklands</td>\n      <td>860</td>\n      <td>11148.0</td>\n      <td>3688</td>\n      <td>4243</td>\n      <td>11</td>\n    </tr>\n    <tr>\n      <th>36</th>\n      <td>Melbourne (CBD)</td>\n      <td>4</td>\n      <td>2023.0</td>\n      <td>198</td>\n      <td>700</td>\n      <td>10</td>\n    </tr>\n    <tr>\n      <th>41</th>\n      <td>Melbourne (CBD)</td>\n      <td>44</td>\n      <td>2007.0</td>\n      <td>192</td>\n      <td>723</td>\n      <td>10</td>\n    </tr>\n    <tr>\n      <th>56</th>\n      <td>Melbourne (CBD)</td>\n      <td>4</td>\n      <td>1831.0</td>\n      <td>134</td>\n      <td>638</td>\n      <td>10</td>\n    </tr>\n  </tbody>\n</table>\n</div>",
                  "text/plain": "          CLUE small area  Dwelling number  ...  Predict_parking  Impact_index\nBlock ID                                    ...                               \n1105            Docklands              189  ...             7480           100\n1108            Docklands             3118  ...             7519            54\n34        Melbourne (CBD)               32  ...             2454            42\n47        Melbourne (CBD)              323  ...             2800            35\n24        Melbourne (CBD)              175  ...             2614            34\n87        Melbourne (CBD)              915  ...             2091            34\n32        Melbourne (CBD)              104  ...             2367            33\n1101            Docklands              120  ...             3018            32\n53        Melbourne (CBD)              192  ...             2124            31\n85        Melbourne (CBD)              321  ...             2683            28\n33        Melbourne (CBD)              268  ...             1379            24\n25        Melbourne (CBD)              254  ...             1338            23\n18        Melbourne (CBD)              217  ...             2281            23\n15        Melbourne (CBD)              659  ...             1194            22\n44        Melbourne (CBD)               98  ...             1338            21\n84        Melbourne (CBD)             1493  ...             1328            19\n105       Melbourne (CBD)             1729  ...             1592            19\n95        Melbourne (CBD)             1745  ...             1454            18\n264               Carlton             1806  ...             1357            18\n27        Melbourne (CBD)                2  ...             1952            18\n38        Melbourne (CBD)              218  ...             1018            16\n26        Melbourne (CBD)               72  ...             1386            15\n82        Melbourne (CBD)               34  ...             1203            15\n753             Southbank              174  ...             2205            14\n23        Melbourne (CBD)               90  ...              821            13\n61        Melbourne (CBD)             2609  ...             2024            13\n93        Melbourne (CBD)              817  ...             1369            12\n28        Melbourne (CBD)              279  ...             1704            12\n94        Melbourne (CBD)              878  ...             1731            11\n46        Melbourne (CBD)              143  ...              932            11\n257               Carlton              669  ...              727            11\n65        Melbourne (CBD)              225  ...              860            11\n1103            Docklands              860  ...             4243            11\n36        Melbourne (CBD)                4  ...              700            10\n41        Melbourne (CBD)               44  ...              723            10\n56        Melbourne (CBD)                4  ...              638            10\n\n[36 rows x 6 columns]"
                },
                "metadata": {}
              }
            ],
            "_view_module": "@jupyter-widgets/output",
            "_model_module_version": "1.0.0",
            "_view_count": null,
            "_view_module_version": "1.0.0",
            "layout": "IPY_MODEL_78dd1e9e63774d4285bcf89069339d35",
            "_model_module": "@jupyter-widgets/output"
          }
        },
        "7693353f27a0449d8fe96356ab064456": {
          "model_module": "@jupyter-widgets/controls",
          "model_name": "SliderStyleModel",
          "model_module_version": "1.5.0",
          "state": {
            "_view_name": "StyleView",
            "handle_color": null,
            "_model_name": "SliderStyleModel",
            "description_width": "initial",
            "_view_module": "@jupyter-widgets/base",
            "_model_module_version": "1.5.0",
            "_view_count": null,
            "_view_module_version": "1.2.0",
            "_model_module": "@jupyter-widgets/controls"
          }
        },
        "235b7b22c5be4f63839e3fe9ffac1dc2": {
          "model_module": "@jupyter-widgets/base",
          "model_name": "LayoutModel",
          "model_module_version": "1.2.0",
          "state": {
            "_view_name": "LayoutView",
            "grid_template_rows": null,
            "right": null,
            "justify_content": null,
            "_view_module": "@jupyter-widgets/base",
            "overflow": null,
            "_model_module_version": "1.2.0",
            "_view_count": null,
            "flex_flow": null,
            "width": null,
            "min_width": null,
            "border": null,
            "align_items": null,
            "bottom": null,
            "_model_module": "@jupyter-widgets/base",
            "top": null,
            "grid_column": null,
            "overflow_y": null,
            "overflow_x": null,
            "grid_auto_flow": null,
            "grid_area": null,
            "grid_template_columns": null,
            "flex": null,
            "_model_name": "LayoutModel",
            "justify_items": null,
            "grid_row": null,
            "max_height": null,
            "align_content": null,
            "visibility": null,
            "align_self": null,
            "height": null,
            "min_height": null,
            "padding": null,
            "grid_auto_rows": null,
            "grid_gap": null,
            "max_width": null,
            "order": null,
            "_view_module_version": "1.2.0",
            "grid_template_areas": null,
            "object_position": null,
            "object_fit": null,
            "grid_auto_columns": null,
            "margin": null,
            "display": null,
            "left": null
          }
        },
        "d15739b3b7a14b3ca7e380d35228285e": {
          "model_module": "@jupyter-widgets/controls",
          "model_name": "DescriptionStyleModel",
          "model_module_version": "1.5.0",
          "state": {
            "_view_name": "StyleView",
            "_model_name": "DescriptionStyleModel",
            "description_width": "",
            "_view_module": "@jupyter-widgets/base",
            "_model_module_version": "1.5.0",
            "_view_count": null,
            "_view_module_version": "1.2.0",
            "_model_module": "@jupyter-widgets/controls"
          }
        },
        "d8dfdf26756f4e108310311afde5fbb4": {
          "model_module": "@jupyter-widgets/base",
          "model_name": "LayoutModel",
          "model_module_version": "1.2.0",
          "state": {
            "_view_name": "LayoutView",
            "grid_template_rows": null,
            "right": null,
            "justify_content": null,
            "_view_module": "@jupyter-widgets/base",
            "overflow": null,
            "_model_module_version": "1.2.0",
            "_view_count": null,
            "flex_flow": null,
            "width": null,
            "min_width": null,
            "border": null,
            "align_items": null,
            "bottom": null,
            "_model_module": "@jupyter-widgets/base",
            "top": null,
            "grid_column": null,
            "overflow_y": null,
            "overflow_x": null,
            "grid_auto_flow": null,
            "grid_area": null,
            "grid_template_columns": null,
            "flex": null,
            "_model_name": "LayoutModel",
            "justify_items": null,
            "grid_row": null,
            "max_height": null,
            "align_content": null,
            "visibility": null,
            "align_self": null,
            "height": null,
            "min_height": null,
            "padding": null,
            "grid_auto_rows": null,
            "grid_gap": null,
            "max_width": null,
            "order": null,
            "_view_module_version": "1.2.0",
            "grid_template_areas": null,
            "object_position": null,
            "object_fit": null,
            "grid_auto_columns": null,
            "margin": null,
            "display": null,
            "left": null
          }
        },
        "2b9521ff5f794eb390ef4b19996e2952": {
          "model_module": "@jupyter-widgets/controls",
          "model_name": "DescriptionStyleModel",
          "model_module_version": "1.5.0",
          "state": {
            "_view_name": "StyleView",
            "_model_name": "DescriptionStyleModel",
            "description_width": "",
            "_view_module": "@jupyter-widgets/base",
            "_model_module_version": "1.5.0",
            "_view_count": null,
            "_view_module_version": "1.2.0",
            "_model_module": "@jupyter-widgets/controls"
          }
        },
        "f4a147d1617a427287ed550813cd7934": {
          "model_module": "@jupyter-widgets/base",
          "model_name": "LayoutModel",
          "model_module_version": "1.2.0",
          "state": {
            "_view_name": "LayoutView",
            "grid_template_rows": null,
            "right": null,
            "justify_content": null,
            "_view_module": "@jupyter-widgets/base",
            "overflow": null,
            "_model_module_version": "1.2.0",
            "_view_count": null,
            "flex_flow": null,
            "width": null,
            "min_width": null,
            "border": null,
            "align_items": null,
            "bottom": null,
            "_model_module": "@jupyter-widgets/base",
            "top": null,
            "grid_column": null,
            "overflow_y": null,
            "overflow_x": null,
            "grid_auto_flow": null,
            "grid_area": null,
            "grid_template_columns": null,
            "flex": null,
            "_model_name": "LayoutModel",
            "justify_items": null,
            "grid_row": null,
            "max_height": null,
            "align_content": null,
            "visibility": null,
            "align_self": null,
            "height": null,
            "min_height": null,
            "padding": null,
            "grid_auto_rows": null,
            "grid_gap": null,
            "max_width": null,
            "order": null,
            "_view_module_version": "1.2.0",
            "grid_template_areas": null,
            "object_position": null,
            "object_fit": null,
            "grid_auto_columns": null,
            "margin": null,
            "display": null,
            "left": null
          }
        },
        "dbd6387527d24dbc8fe3aea0422f9e3e": {
          "model_module": "@jupyter-widgets/controls",
          "model_name": "SliderStyleModel",
          "model_module_version": "1.5.0",
          "state": {
            "_view_name": "StyleView",
            "handle_color": null,
            "_model_name": "SliderStyleModel",
            "description_width": "initial",
            "_view_module": "@jupyter-widgets/base",
            "_model_module_version": "1.5.0",
            "_view_count": null,
            "_view_module_version": "1.2.0",
            "_model_module": "@jupyter-widgets/controls"
          }
        },
        "0756710fd62d46938bd98e71ae55e45f": {
          "model_module": "@jupyter-widgets/base",
          "model_name": "LayoutModel",
          "model_module_version": "1.2.0",
          "state": {
            "_view_name": "LayoutView",
            "grid_template_rows": null,
            "right": null,
            "justify_content": null,
            "_view_module": "@jupyter-widgets/base",
            "overflow": null,
            "_model_module_version": "1.2.0",
            "_view_count": null,
            "flex_flow": null,
            "width": null,
            "min_width": null,
            "border": null,
            "align_items": null,
            "bottom": null,
            "_model_module": "@jupyter-widgets/base",
            "top": null,
            "grid_column": null,
            "overflow_y": null,
            "overflow_x": null,
            "grid_auto_flow": null,
            "grid_area": null,
            "grid_template_columns": null,
            "flex": null,
            "_model_name": "LayoutModel",
            "justify_items": null,
            "grid_row": null,
            "max_height": null,
            "align_content": null,
            "visibility": null,
            "align_self": null,
            "height": null,
            "min_height": null,
            "padding": null,
            "grid_auto_rows": null,
            "grid_gap": null,
            "max_width": null,
            "order": null,
            "_view_module_version": "1.2.0",
            "grid_template_areas": null,
            "object_position": null,
            "object_fit": null,
            "grid_auto_columns": null,
            "margin": null,
            "display": null,
            "left": null
          }
        },
        "b11ccbf97bfb44b888527cd43ed4f078": {
          "model_module": "@jupyter-widgets/controls",
          "model_name": "ButtonStyleModel",
          "model_module_version": "1.5.0",
          "state": {
            "_view_name": "StyleView",
            "_model_name": "ButtonStyleModel",
            "_view_module": "@jupyter-widgets/base",
            "_model_module_version": "1.5.0",
            "_view_count": null,
            "button_color": null,
            "font_weight": "",
            "_view_module_version": "1.2.0",
            "_model_module": "@jupyter-widgets/controls"
          }
        },
        "023501b288ab4940ac1bcbbf5bab6b84": {
          "model_module": "@jupyter-widgets/base",
          "model_name": "LayoutModel",
          "model_module_version": "1.2.0",
          "state": {
            "_view_name": "LayoutView",
            "grid_template_rows": null,
            "right": null,
            "justify_content": null,
            "_view_module": "@jupyter-widgets/base",
            "overflow": null,
            "_model_module_version": "1.2.0",
            "_view_count": null,
            "flex_flow": null,
            "width": null,
            "min_width": null,
            "border": null,
            "align_items": null,
            "bottom": null,
            "_model_module": "@jupyter-widgets/base",
            "top": null,
            "grid_column": null,
            "overflow_y": null,
            "overflow_x": null,
            "grid_auto_flow": null,
            "grid_area": null,
            "grid_template_columns": null,
            "flex": null,
            "_model_name": "LayoutModel",
            "justify_items": null,
            "grid_row": null,
            "max_height": null,
            "align_content": null,
            "visibility": null,
            "align_self": null,
            "height": null,
            "min_height": null,
            "padding": null,
            "grid_auto_rows": null,
            "grid_gap": null,
            "max_width": null,
            "order": null,
            "_view_module_version": "1.2.0",
            "grid_template_areas": null,
            "object_position": null,
            "object_fit": null,
            "grid_auto_columns": null,
            "margin": null,
            "display": null,
            "left": null
          }
        },
        "78dd1e9e63774d4285bcf89069339d35": {
          "model_module": "@jupyter-widgets/base",
          "model_name": "LayoutModel",
          "model_module_version": "1.2.0",
          "state": {
            "_view_name": "LayoutView",
            "grid_template_rows": null,
            "right": null,
            "justify_content": null,
            "_view_module": "@jupyter-widgets/base",
            "overflow": null,
            "_model_module_version": "1.2.0",
            "_view_count": null,
            "flex_flow": null,
            "width": null,
            "min_width": null,
            "border": null,
            "align_items": null,
            "bottom": null,
            "_model_module": "@jupyter-widgets/base",
            "top": null,
            "grid_column": null,
            "overflow_y": null,
            "overflow_x": null,
            "grid_auto_flow": null,
            "grid_area": null,
            "grid_template_columns": null,
            "flex": null,
            "_model_name": "LayoutModel",
            "justify_items": null,
            "grid_row": null,
            "max_height": null,
            "align_content": null,
            "visibility": null,
            "align_self": null,
            "height": null,
            "min_height": null,
            "padding": null,
            "grid_auto_rows": null,
            "grid_gap": null,
            "max_width": null,
            "order": null,
            "_view_module_version": "1.2.0",
            "grid_template_areas": null,
            "object_position": null,
            "object_fit": null,
            "grid_auto_columns": null,
            "margin": null,
            "display": null,
            "left": null
          }
        }
      }
    }
  },
  "cells": [
    {
      "cell_type": "code",
      "metadata": {
        "id": "wPNGAqnKDZX7",
        "colab": {
          "base_uri": "https://localhost:8080/"
        },
        "outputId": "bc5d025d-8512-4a84-ff45-b40138988714"
      },
      "source": [
        "pip install nbinteract"
      ],
      "execution_count": 107,
      "outputs": [
        {
          "output_type": "stream",
          "name": "stdout",
          "text": [
            "Requirement already satisfied: nbinteract in /usr/local/lib/python3.7/dist-packages (0.2.6)\n",
            "Requirement already satisfied: IPython<8,>=6 in /usr/local/lib/python3.7/dist-packages (from nbinteract) (7.30.0)\n",
            "Requirement already satisfied: numpy<2,>=1 in /usr/local/lib/python3.7/dist-packages (from nbinteract) (1.19.5)\n",
            "Requirement already satisfied: bqplot==0.11.0 in /usr/local/lib/python3.7/dist-packages (from nbinteract) (0.11.0)\n",
            "Requirement already satisfied: traitlets<5,>=4.3 in /usr/local/lib/python3.7/dist-packages (from nbinteract) (4.3.3)\n",
            "Requirement already satisfied: docopt<1,>=0.6.2 in /usr/local/lib/python3.7/dist-packages (from nbinteract) (0.6.2)\n",
            "Requirement already satisfied: nbconvert>=5.3 in /usr/local/lib/python3.7/dist-packages (from nbinteract) (5.6.1)\n",
            "Requirement already satisfied: Jinja2<3,>=2.10 in /usr/local/lib/python3.7/dist-packages (from nbinteract) (2.11.3)\n",
            "Requirement already satisfied: ipywidgets<8,>=7.5.0 in /usr/local/lib/python3.7/dist-packages (from nbinteract) (7.6.5)\n",
            "Requirement already satisfied: toolz<1,>=0.8 in /usr/local/lib/python3.7/dist-packages (from nbinteract) (0.11.2)\n",
            "Requirement already satisfied: nbformat<5,>=4.4.0 in /usr/local/lib/python3.7/dist-packages (from nbinteract) (4.4.0)\n",
            "Requirement already satisfied: traittypes>=0.0.6 in /usr/local/lib/python3.7/dist-packages (from bqplot==0.11.0->nbinteract) (0.2.1)\n",
            "Requirement already satisfied: pandas in /usr/local/lib/python3.7/dist-packages (from bqplot==0.11.0->nbinteract) (1.1.5)\n",
            "Requirement already satisfied: jedi>=0.16 in /usr/local/lib/python3.7/dist-packages (from IPython<8,>=6->nbinteract) (0.18.1)\n",
            "Requirement already satisfied: backcall in /usr/local/lib/python3.7/dist-packages (from IPython<8,>=6->nbinteract) (0.2.0)\n",
            "Requirement already satisfied: setuptools>=18.5 in /usr/local/lib/python3.7/dist-packages (from IPython<8,>=6->nbinteract) (57.4.0)\n",
            "Requirement already satisfied: matplotlib-inline in /usr/local/lib/python3.7/dist-packages (from IPython<8,>=6->nbinteract) (0.1.3)\n",
            "Requirement already satisfied: pexpect>4.3 in /usr/local/lib/python3.7/dist-packages (from IPython<8,>=6->nbinteract) (4.8.0)\n",
            "Requirement already satisfied: pygments in /usr/local/lib/python3.7/dist-packages (from IPython<8,>=6->nbinteract) (2.6.1)\n",
            "Requirement already satisfied: prompt-toolkit!=3.0.0,!=3.0.1,<3.1.0,>=2.0.0 in /usr/local/lib/python3.7/dist-packages (from IPython<8,>=6->nbinteract) (3.0.23)\n",
            "Requirement already satisfied: pickleshare in /usr/local/lib/python3.7/dist-packages (from IPython<8,>=6->nbinteract) (0.7.5)\n",
            "Requirement already satisfied: decorator in /usr/local/lib/python3.7/dist-packages (from IPython<8,>=6->nbinteract) (4.4.2)\n",
            "Requirement already satisfied: jupyterlab-widgets>=1.0.0 in /usr/local/lib/python3.7/dist-packages (from ipywidgets<8,>=7.5.0->nbinteract) (1.0.2)\n",
            "Requirement already satisfied: ipykernel>=4.5.1 in /usr/local/lib/python3.7/dist-packages (from ipywidgets<8,>=7.5.0->nbinteract) (4.10.1)\n",
            "Requirement already satisfied: ipython-genutils~=0.2.0 in /usr/local/lib/python3.7/dist-packages (from ipywidgets<8,>=7.5.0->nbinteract) (0.2.0)\n",
            "Requirement already satisfied: widgetsnbextension~=3.5.0 in /usr/local/lib/python3.7/dist-packages (from ipywidgets<8,>=7.5.0->nbinteract) (3.5.2)\n",
            "Requirement already satisfied: tornado>=4.0 in /usr/local/lib/python3.7/dist-packages (from ipykernel>=4.5.1->ipywidgets<8,>=7.5.0->nbinteract) (5.1.1)\n",
            "Requirement already satisfied: jupyter-client in /usr/local/lib/python3.7/dist-packages (from ipykernel>=4.5.1->ipywidgets<8,>=7.5.0->nbinteract) (5.3.5)\n",
            "Requirement already satisfied: parso<0.9.0,>=0.8.0 in /usr/local/lib/python3.7/dist-packages (from jedi>=0.16->IPython<8,>=6->nbinteract) (0.8.2)\n",
            "Requirement already satisfied: MarkupSafe>=0.23 in /usr/local/lib/python3.7/dist-packages (from Jinja2<3,>=2.10->nbinteract) (2.0.1)\n",
            "Requirement already satisfied: jupyter-core in /usr/local/lib/python3.7/dist-packages (from nbconvert>=5.3->nbinteract) (4.9.1)\n",
            "Requirement already satisfied: bleach in /usr/local/lib/python3.7/dist-packages (from nbconvert>=5.3->nbinteract) (4.1.0)\n",
            "Requirement already satisfied: pandocfilters>=1.4.1 in /usr/local/lib/python3.7/dist-packages (from nbconvert>=5.3->nbinteract) (1.5.0)\n",
            "Requirement already satisfied: testpath in /usr/local/lib/python3.7/dist-packages (from nbconvert>=5.3->nbinteract) (0.5.0)\n",
            "Requirement already satisfied: defusedxml in /usr/local/lib/python3.7/dist-packages (from nbconvert>=5.3->nbinteract) (0.7.1)\n",
            "Requirement already satisfied: mistune<2,>=0.8.1 in /usr/local/lib/python3.7/dist-packages (from nbconvert>=5.3->nbinteract) (0.8.4)\n",
            "Requirement already satisfied: entrypoints>=0.2.2 in /usr/local/lib/python3.7/dist-packages (from nbconvert>=5.3->nbinteract) (0.3)\n",
            "Requirement already satisfied: jsonschema!=2.5.0,>=2.4 in /usr/local/lib/python3.7/dist-packages (from nbformat<5,>=4.4.0->nbinteract) (2.6.0)\n",
            "Requirement already satisfied: ptyprocess>=0.5 in /usr/local/lib/python3.7/dist-packages (from pexpect>4.3->IPython<8,>=6->nbinteract) (0.7.0)\n",
            "Requirement already satisfied: wcwidth in /usr/local/lib/python3.7/dist-packages (from prompt-toolkit!=3.0.0,!=3.0.1,<3.1.0,>=2.0.0->IPython<8,>=6->nbinteract) (0.2.5)\n",
            "Requirement already satisfied: six in /usr/local/lib/python3.7/dist-packages (from traitlets<5,>=4.3->nbinteract) (1.15.0)\n",
            "Requirement already satisfied: notebook>=4.4.1 in /usr/local/lib/python3.7/dist-packages (from widgetsnbextension~=3.5.0->ipywidgets<8,>=7.5.0->nbinteract) (5.3.1)\n",
            "Requirement already satisfied: Send2Trash in /usr/local/lib/python3.7/dist-packages (from notebook>=4.4.1->widgetsnbextension~=3.5.0->ipywidgets<8,>=7.5.0->nbinteract) (1.8.0)\n",
            "Requirement already satisfied: terminado>=0.8.1 in /usr/local/lib/python3.7/dist-packages (from notebook>=4.4.1->widgetsnbextension~=3.5.0->ipywidgets<8,>=7.5.0->nbinteract) (0.12.1)\n",
            "Requirement already satisfied: pyzmq>=13 in /usr/local/lib/python3.7/dist-packages (from jupyter-client->ipykernel>=4.5.1->ipywidgets<8,>=7.5.0->nbinteract) (22.3.0)\n",
            "Requirement already satisfied: python-dateutil>=2.1 in /usr/local/lib/python3.7/dist-packages (from jupyter-client->ipykernel>=4.5.1->ipywidgets<8,>=7.5.0->nbinteract) (2.8.2)\n",
            "Requirement already satisfied: webencodings in /usr/local/lib/python3.7/dist-packages (from bleach->nbconvert>=5.3->nbinteract) (0.5.1)\n",
            "Requirement already satisfied: packaging in /usr/local/lib/python3.7/dist-packages (from bleach->nbconvert>=5.3->nbinteract) (21.3)\n",
            "Requirement already satisfied: pyparsing!=3.0.5,>=2.0.2 in /usr/local/lib/python3.7/dist-packages (from packaging->bleach->nbconvert>=5.3->nbinteract) (3.0.6)\n",
            "Requirement already satisfied: pytz>=2017.2 in /usr/local/lib/python3.7/dist-packages (from pandas->bqplot==0.11.0->nbinteract) (2018.9)\n"
          ]
        }
      ]
    },
    {
      "cell_type": "markdown",
      "metadata": {
        "id": "uZhOb2ODsEBk"
      },
      "source": [
        "### A case study: using CLUE datasets of Melbourne Open Data\n",
        "\n",
        "# **Where should public transportation be enhanced in the city of Melbourne?**\n",
        "\n",
        "The City of Melbourne has always evolved, and so have the numbers of its residential dwellings and employment population (based on data available on Melbourne Open Data). Without a consistent or parallel increase of off-street parking, the city will face the difficulty in providing enough spaces for parking of private transportation. To resolve this problem, the city planner needs to locate the potential areas where extension of public transportation should be implemented to replace the need for off-street parking.\n",
        "\n",
        "\n",
        "## Purpose: \n",
        "This case study is intended to provide educational instructions of how CLUE datasets can be used for city planners or individuals whose have some knowledge in data analysis.\n",
        "\n",
        "## Pre-requisite skills:\n",
        "- Python scripting (Basic)\n",
        "- Data analysis (Basic EDA and visualizations)\n",
        "\n",
        "## Solution:\n",
        "By looking at the population trend of residential dwellings and employments at different Melbourne city blocks, the city planner can project amount of public transportation services necessary to sufficiently accommodate potential travellers to or/and from those city blocks.\n",
        "\n"
      ]
    },
    {
      "cell_type": "markdown",
      "metadata": {
        "id": "biCQO7dcoyUL"
      },
      "source": [
        "# **Working with Residential dwelling datasets**"
      ]
    },
    {
      "cell_type": "code",
      "metadata": {
        "id": "stROK9yMyX34",
        "colab": {
          "base_uri": "https://localhost:8080/",
          "height": 293
        },
        "outputId": "ea47d4e6-e416-4af6-c389-4fe716058d1f"
      },
      "source": [
        "#CLUE datasets\n",
        "#======================================================\n",
        "import pandas as pd\n",
        "#Residential dwellings data\n",
        "resident = pd.read_csv('/content/drive/MyDrive/Notebooks/SIT782/CLUE/Residential_dwellings.csv')\n",
        "#Total records before cleaning\n",
        "print('Total records before cleaning is',len(resident))\n",
        "#Data cleaning (remove duplicated values)\n",
        "resident.drop_duplicates(inplace = True)\n",
        "#Total records after cleaning\n",
        "print('Total records after cleaning is',len(resident))\n",
        "#Select only necessary columns\n",
        "selected_columns =['Census year','Block ID','CLUE small area','Dwelling number']\n",
        "resident = resident[selected_columns]\n",
        "#Sum the Dwelling number based on Block ID and Year\n",
        "resident_by_block = resident.groupby(['Census year','Block ID']).agg({'CLUE small area':'max','Dwelling number':'sum'})\n",
        "print('Total records after grouping (by Block ID) is',len(resident_by_block))\n",
        "#Detail of the residential dwellings by block\n",
        "resident_by_block.head()\n"
      ],
      "execution_count": 108,
      "outputs": [
        {
          "output_type": "stream",
          "name": "stdout",
          "text": [
            "Total records before cleaning is 177733\n",
            "Total records after cleaning is 177729\n",
            "Total records after grouping (by Block ID) is 8036\n"
          ]
        },
        {
          "output_type": "execute_result",
          "data": {
            "text/html": [
              "<div>\n",
              "<style scoped>\n",
              "    .dataframe tbody tr th:only-of-type {\n",
              "        vertical-align: middle;\n",
              "    }\n",
              "\n",
              "    .dataframe tbody tr th {\n",
              "        vertical-align: top;\n",
              "    }\n",
              "\n",
              "    .dataframe thead th {\n",
              "        text-align: right;\n",
              "    }\n",
              "</style>\n",
              "<table border=\"1\" class=\"dataframe\">\n",
              "  <thead>\n",
              "    <tr style=\"text-align: right;\">\n",
              "      <th></th>\n",
              "      <th></th>\n",
              "      <th>CLUE small area</th>\n",
              "      <th>Dwelling number</th>\n",
              "    </tr>\n",
              "    <tr>\n",
              "      <th>Census year</th>\n",
              "      <th>Block ID</th>\n",
              "      <th></th>\n",
              "      <th></th>\n",
              "    </tr>\n",
              "  </thead>\n",
              "  <tbody>\n",
              "    <tr>\n",
              "      <th rowspan=\"5\" valign=\"top\">2002</th>\n",
              "      <th>11</th>\n",
              "      <td>Melbourne (CBD)</td>\n",
              "      <td>97</td>\n",
              "    </tr>\n",
              "    <tr>\n",
              "      <th>12</th>\n",
              "      <td>Melbourne (CBD)</td>\n",
              "      <td>189</td>\n",
              "    </tr>\n",
              "    <tr>\n",
              "      <th>13</th>\n",
              "      <td>Melbourne (CBD)</td>\n",
              "      <td>113</td>\n",
              "    </tr>\n",
              "    <tr>\n",
              "      <th>14</th>\n",
              "      <td>Melbourne (CBD)</td>\n",
              "      <td>87</td>\n",
              "    </tr>\n",
              "    <tr>\n",
              "      <th>15</th>\n",
              "      <td>Melbourne (CBD)</td>\n",
              "      <td>282</td>\n",
              "    </tr>\n",
              "  </tbody>\n",
              "</table>\n",
              "</div>"
            ],
            "text/plain": [
              "                      CLUE small area  Dwelling number\n",
              "Census year Block ID                                  \n",
              "2002        11        Melbourne (CBD)               97\n",
              "            12        Melbourne (CBD)              189\n",
              "            13        Melbourne (CBD)              113\n",
              "            14        Melbourne (CBD)               87\n",
              "            15        Melbourne (CBD)              282"
            ]
          },
          "metadata": {},
          "execution_count": 108
        }
      ]
    },
    {
      "cell_type": "markdown",
      "metadata": {
        "id": "G2ZGGFzqoqrA"
      },
      "source": [
        "# **Working with Emploment datasets**"
      ]
    },
    {
      "cell_type": "code",
      "metadata": {
        "id": "aT1K2LltF-A-",
        "colab": {
          "base_uri": "https://localhost:8080/",
          "height": 293
        },
        "outputId": "bf15d4df-979a-42ad-9307-707045e9a2a8"
      },
      "source": [
        "#Employment data\n",
        "employment = pd.read_csv('/content/drive/MyDrive/Notebooks/SIT782/CLUE/Employment_by_block_by_CLUE_industry.csv')\n",
        "#Total records before cleaning\n",
        "print('Total records before cleaning is',len(employment))\n",
        "#Cleaning the data (remove missing values at [Total employment in block])\n",
        "employment.dropna(subset=['Total employment in block'],inplace=True)\n",
        "#Total records after cleaning\n",
        "print('Total records afer cleaning is',len(employment))\n",
        "#Select only necessary columns\n",
        "selected_columns =['Census year','Block ID','Total employment in block']\n",
        "employment = employment[selected_columns]\n",
        "#Sum the employment based on Block ID and Year\n",
        "employment_by_block = employment.groupby(['Census year','Block ID']).sum()\n",
        "print('Total records after grouping (by Block ID) is',len(employment_by_block))\n",
        "#Detail of the employment_by_block\n",
        "employment_by_block.head()"
      ],
      "execution_count": 109,
      "outputs": [
        {
          "output_type": "stream",
          "name": "stdout",
          "text": [
            "Total records before cleaning is 11182\n",
            "Total records afer cleaning is 8759\n",
            "Total records after grouping (by Block ID) is 8759\n"
          ]
        },
        {
          "output_type": "execute_result",
          "data": {
            "text/html": [
              "<div>\n",
              "<style scoped>\n",
              "    .dataframe tbody tr th:only-of-type {\n",
              "        vertical-align: middle;\n",
              "    }\n",
              "\n",
              "    .dataframe tbody tr th {\n",
              "        vertical-align: top;\n",
              "    }\n",
              "\n",
              "    .dataframe thead th {\n",
              "        text-align: right;\n",
              "    }\n",
              "</style>\n",
              "<table border=\"1\" class=\"dataframe\">\n",
              "  <thead>\n",
              "    <tr style=\"text-align: right;\">\n",
              "      <th></th>\n",
              "      <th></th>\n",
              "      <th>Total employment in block</th>\n",
              "    </tr>\n",
              "    <tr>\n",
              "      <th>Census year</th>\n",
              "      <th>Block ID</th>\n",
              "      <th></th>\n",
              "    </tr>\n",
              "  </thead>\n",
              "  <tbody>\n",
              "    <tr>\n",
              "      <th rowspan=\"5\" valign=\"top\">2002</th>\n",
              "      <th>0</th>\n",
              "      <td>319729.0</td>\n",
              "    </tr>\n",
              "    <tr>\n",
              "      <th>1</th>\n",
              "      <td>6.0</td>\n",
              "    </tr>\n",
              "    <tr>\n",
              "      <th>2</th>\n",
              "      <td>169.0</td>\n",
              "    </tr>\n",
              "    <tr>\n",
              "      <th>4</th>\n",
              "      <td>1174.0</td>\n",
              "    </tr>\n",
              "    <tr>\n",
              "      <th>5</th>\n",
              "      <td>12.0</td>\n",
              "    </tr>\n",
              "  </tbody>\n",
              "</table>\n",
              "</div>"
            ],
            "text/plain": [
              "                      Total employment in block\n",
              "Census year Block ID                           \n",
              "2002        0                          319729.0\n",
              "            1                               6.0\n",
              "            2                             169.0\n",
              "            4                            1174.0\n",
              "            5                              12.0"
            ]
          },
          "metadata": {},
          "execution_count": 109
        }
      ]
    },
    {
      "cell_type": "markdown",
      "metadata": {
        "id": "qop-Dmtrn7Bf"
      },
      "source": [
        "# **Working with Off-street Parking datasets**"
      ]
    },
    {
      "cell_type": "code",
      "metadata": {
        "id": "YUX3USheHzpg",
        "colab": {
          "base_uri": "https://localhost:8080/",
          "height": 293
        },
        "outputId": "3f7a1186-de73-4df4-dcca-7a151c6dca5b"
      },
      "source": [
        "#Off-street parking data\n",
        "parking = pd.read_csv('/content/drive/MyDrive/Notebooks/SIT782/CLUE/Off-street_car_parks_with_capacity_and_type.csv')\n",
        "#Total records before cleaning\n",
        "print('Total records before cleaning is',len(parking))\n",
        "#Data cleaning (remove duplicate values)\n",
        "parking.drop_duplicates(inplace=True)\n",
        "#Total records after cleaning\n",
        "print('Total records after cleaning is',len(parking))\n",
        "#Select only necessary columns\n",
        "selected_columns =['Census year','Block ID','Parking spaces']\n",
        "parking = parking[selected_columns]\n",
        "#Sum the parking based on Block ID and Year\n",
        "parking_by_block = parking.groupby(['Census year','Block ID']).sum()\n",
        "print('Total records after grouping (by Block ID) is',len(parking_by_block))\n",
        "#Detail of the employment_by_block\n",
        "parking_by_block.head()\n"
      ],
      "execution_count": 110,
      "outputs": [
        {
          "output_type": "stream",
          "name": "stdout",
          "text": [
            "Total records before cleaning is 124114\n",
            "Total records after cleaning is 122461\n",
            "Total records after grouping (by Block ID) is 9939\n"
          ]
        },
        {
          "output_type": "execute_result",
          "data": {
            "text/html": [
              "<div>\n",
              "<style scoped>\n",
              "    .dataframe tbody tr th:only-of-type {\n",
              "        vertical-align: middle;\n",
              "    }\n",
              "\n",
              "    .dataframe tbody tr th {\n",
              "        vertical-align: top;\n",
              "    }\n",
              "\n",
              "    .dataframe thead th {\n",
              "        text-align: right;\n",
              "    }\n",
              "</style>\n",
              "<table border=\"1\" class=\"dataframe\">\n",
              "  <thead>\n",
              "    <tr style=\"text-align: right;\">\n",
              "      <th></th>\n",
              "      <th></th>\n",
              "      <th>Parking spaces</th>\n",
              "    </tr>\n",
              "    <tr>\n",
              "      <th>Census year</th>\n",
              "      <th>Block ID</th>\n",
              "      <th></th>\n",
              "    </tr>\n",
              "  </thead>\n",
              "  <tbody>\n",
              "    <tr>\n",
              "      <th rowspan=\"5\" valign=\"top\">2002</th>\n",
              "      <th>1</th>\n",
              "      <td>270</td>\n",
              "    </tr>\n",
              "    <tr>\n",
              "      <th>6</th>\n",
              "      <td>500</td>\n",
              "    </tr>\n",
              "    <tr>\n",
              "      <th>11</th>\n",
              "      <td>303</td>\n",
              "    </tr>\n",
              "    <tr>\n",
              "      <th>12</th>\n",
              "      <td>749</td>\n",
              "    </tr>\n",
              "    <tr>\n",
              "      <th>13</th>\n",
              "      <td>622</td>\n",
              "    </tr>\n",
              "  </tbody>\n",
              "</table>\n",
              "</div>"
            ],
            "text/plain": [
              "                      Parking spaces\n",
              "Census year Block ID                \n",
              "2002        1                    270\n",
              "            6                    500\n",
              "            11                   303\n",
              "            12                   749\n",
              "            13                   622"
            ]
          },
          "metadata": {},
          "execution_count": 110
        }
      ]
    },
    {
      "cell_type": "markdown",
      "metadata": {
        "id": "_Xfatyh439UD"
      },
      "source": [
        "# **Merge and explore the 3 datasets (Resident, Employment, & Parking)**"
      ]
    },
    {
      "cell_type": "markdown",
      "metadata": {
        "id": "UMFEWTdiX6UD"
      },
      "source": [
        "Formulate the model to identify a suitable number of parking slots based on residential dwelling or employment."
      ]
    },
    {
      "cell_type": "code",
      "metadata": {
        "colab": {
          "base_uri": "https://localhost:8080/",
          "height": 750
        },
        "id": "-6X0xImgqERh",
        "outputId": "2ce828ee-cbaa-412e-faf3-2ab84cbc1414"
      },
      "source": [
        "import matplotlib.pyplot as plt\n",
        "import numpy as np\n",
        "import seaborn as sns\n",
        "sns.set_theme(color_codes=True)\n",
        "\n",
        "#Combine the datasets (only take the blocks that match between three datasets)\n",
        "data = resident_by_block.merge(employment_by_block, left_index= True, right_index=True)\n",
        "data = data.merge(parking_by_block,left_index=True,right_index=True)\n",
        "print(data.head())\n",
        "#Prepare data for scatter plots\n",
        "x1 = data['Total employment in block']\n",
        "x2 = data['Dwelling number']\n",
        "y = data['Parking spaces']\n",
        "#Plot the data points (Parking Spaces vs. Total Employment) and regression line\n",
        "plt.plot(x1,y,'x')\n",
        "a, b = np.polyfit(x1,y,1)\n",
        "plt.plot(x1, a*x1 + b)\n",
        "plt.title('Parking Spaces vs. Total Employment')\n",
        "plt.ylabel('Parking Spaces')\n",
        "plt.xlabel('Total Employment')\n",
        "plt.show()\n",
        "#Plot the data points (Parking Spaces vs. Dwelling Number) and regression line\n",
        "plt.plot(x2,y,'+')\n",
        "a, b = np.polyfit(x2,y,1)\n",
        "plt.plot(x2, a*x2 + b)\n",
        "plt.title('Parking Spaces vs. Dwelling Number')\n",
        "plt.ylabel('Parking Spaces')\n",
        "plt.xlabel('Dwelling Number')\n",
        "plt.show()\n",
        "\n",
        "#NOTE: This dataset here ('data') need to be exported to GitHub and named as \"merged_data.csv\" to allow interactive (function) to work"
      ],
      "execution_count": 177,
      "outputs": [
        {
          "output_type": "stream",
          "name": "stdout",
          "text": [
            "                      CLUE small area  ...  Parking spaces\n",
            "Census year Block ID                   ...                \n",
            "2002        11        Melbourne (CBD)  ...             303\n",
            "            12        Melbourne (CBD)  ...             749\n",
            "            13        Melbourne (CBD)  ...             622\n",
            "            14        Melbourne (CBD)  ...            1229\n",
            "            15        Melbourne (CBD)  ...              88\n",
            "\n",
            "[5 rows x 4 columns]\n"
          ]
        },
        {
          "output_type": "display_data",
          "data": {
            "image/png": "[encoded data removed]",
            "text/plain": [
              "<Figure size 432x288 with 1 Axes>"
            ]
          },
          "metadata": {}
        },
        {
          "output_type": "display_data",
          "data": {
            "image/png": "[encoded data removed]",
            "text/plain": [
              "<Figure size 432x288 with 1 Axes>"
            ]
          },
          "metadata": {}
        }
      ]
    },
    {
      "cell_type": "markdown",
      "metadata": {
        "id": "0I4h1N4zooQO"
      },
      "source": [
        "# **Modeling and Analyzing**"
      ]
    },
    {
      "cell_type": "markdown",
      "metadata": {
        "id": "VXTzXE8bsFFW"
      },
      "source": [
        "## Prepare the filtered data records"
      ]
    },
    {
      "cell_type": "code",
      "metadata": {
        "id": "NNnbFdxXrquN"
      },
      "source": [
        "#Prepare X and Y data for model training\n",
        "def Get_data(Data, Year_to_include,Employment,Resident_dwellings):\n",
        "  import numpy as np\n",
        "  features = np.array(['Total employment in block', 'Dwelling number'])\n",
        "  features_to_include = features[[Employment,Resident_dwellings]] #Define the data features for the study\n",
        "  data_to_include = Data.loc[min(Year_to_include):max(Year_to_include)] #Get the wanted rows\n",
        "  X = np.array(data_to_include[features_to_include]) #Get the independent variable(s) based on the selected features\n",
        "  Y = np.array(data_to_include['Parking spaces']) #Get the dependent variable\n",
        "  return X, Y\n",
        "#print('The study period is between: %d and %d'%(min(years_to_include),max(years_to_include)))\n"
      ],
      "execution_count": 112,
      "outputs": []
    },
    {
      "cell_type": "markdown",
      "metadata": {
        "id": "OOHNOm_NvlIU"
      },
      "source": [
        "## Build linear regression model"
      ]
    },
    {
      "cell_type": "code",
      "metadata": {
        "id": "7PRejFEtvkHq"
      },
      "source": [
        "def lm_model(X, Y):\n",
        "  import sklearn\n",
        "  from sklearn import linear_model\n",
        "  from sklearn.ensemble import IsolationForest\n",
        "  iso = IsolationForest(contamination=0.1)#use outliers detector\n",
        "  yhat = iso.fit_predict(X) #Search for outliers\n",
        "  lm = linear_model.LinearRegression() #linear regression model\n",
        "  lm.fit(X[yhat!=-1],Y[yhat!=-1]) # Train the model excluding outliers\n",
        "  return lm"
      ],
      "execution_count": 132,
      "outputs": []
    },
    {
      "cell_type": "markdown",
      "metadata": {
        "id": "rc7kJD-p4ZIt"
      },
      "source": [
        "## Predict the parking problem based on the latest year (2020)"
      ]
    },
    {
      "cell_type": "code",
      "metadata": {
        "id": "RZkmpC_U4YUv"
      },
      "source": [
        "#Predict parking issue in 2020\n",
        "def Get_predict_result(Data, Model, Employment, Residential_dwellings):\n",
        "  import numpy as np\n",
        "  data_latest = Data.loc[years.max] # Get data of 2020\n",
        "  features = np.array(['Total employment in block', 'Dwelling number'])\n",
        "  features_to_include = features[[Employment,Residential_dwellings]] #Define the data features for the study\n",
        "  result = np.round(Model.predict(np.array(data_latest[features_to_include]))) #Predict based on the selected features\n",
        "  data_latest['Predict_parking'] = result.astype(int) #Add result to the data\n",
        "  impact = result - data_latest['Parking spaces']\n",
        "  impact[impact>=0] = 100*(impact[impact>=0]/(max(impact[impact>=0]))) # Normalize the impact index (0-100)\n",
        "  data_latest['Impact_index'] = impact.astype(int) #Add impact index to the data\n",
        "  return data_latest"
      ],
      "execution_count": 176,
      "outputs": []
    },
    {
      "cell_type": "markdown",
      "metadata": {
        "id": "mlLslmEOGitd"
      },
      "source": [
        "## Plot barchart of the predict results"
      ]
    },
    {
      "cell_type": "code",
      "metadata": {
        "id": "5l4X3zdoGhbq"
      },
      "source": [
        "#visualize the impacted city blocks\n",
        "def bar_plot(Data, Impact_level):\n",
        "  import matplotlib.pyplot as plt\n",
        "  import numpy as np\n",
        "  #Only visualize the blocks greater than the impact level\n",
        "  plot_data = Data[Data['Impact_index']>=Impact_level]['Impact_index']#Get only the data records with higher impact level\n",
        "  plt.figure(figsize=(18,len(plot_data)/3))\n",
        "  plt.xlabel('Impact Index (Higher index indicates serious shortage of off-street parking)')\n",
        "  plt.ylabel('Block ID of Melbourne city')\n",
        "  plt.title('Impacted Blocks vs. Impact Index\\n Shows impact index from '+str(Impact_level)+' to 100')\n",
        "  plt.barh (plot_data.index.astype(str),plot_data.values)\n",
        "  plt.show()"
      ],
      "execution_count": 170,
      "outputs": []
    },
    {
      "cell_type": "markdown",
      "metadata": {
        "id": "q2sCp9c0Np_Y"
      },
      "source": [
        "# Prepare datasets for map plotting"
      ]
    },
    {
      "cell_type": "code",
      "metadata": {
        "id": "upAFbbAA7gaR",
        "colab": {
          "base_uri": "https://localhost:8080/",
          "height": 109
        },
        "outputId": "f036ad2c-01c8-4367-afd4-914a90d0dd8e"
      },
      "source": [
        "\n",
        "\n",
        "\n",
        "#Only take the impacted blocks\n",
        "clue_data = data_latest[data_latest['Impact_index']>=min_impact_level].sort_values('Impact_index',ascending = False)\n",
        "clue_data.reset_index(inplace=True) #turn the index (Block_ID) into a column in the dataframe (clue_data)\n",
        "clue_data['Block ID'] = clue_data['Block ID'].astype('str') # conver [Block ID] to str, so that it is compatible with json content\n"
      ],
      "execution_count": 116,
      "outputs": [
        {
          "output_type": "execute_result",
          "data": {
            "application/vnd.google.colaboratory.intrinsic+json": {
              "type": "string"
            },
            "text/plain": [
              "\"\\n#CLUE block map\\nimport json\\njson_file = open('/content/drive/MyDrive/Notebooks/SIT782/CLUE/clue_blocks.geojson') \\nclue_geo = json.load(json_file)\\n\\n#Only take the impacted blocks\\nclue_data = data_latest[data_latest['Impact_index']>=min_impact_level].sort_values('Impact_index',ascending = False)\\nclue_data.reset_index(inplace=True) #turn the index (Block_ID) into a column in the dataframe (clue_data)\\nclue_data['Block ID'] = clue_data['Block ID'].astype('str') # conver [Block ID] to str, so that it is compatible with json content\\n\""
            ]
          },
          "metadata": {},
          "execution_count": 116
        }
      ]
    },
    {
      "cell_type": "markdown",
      "metadata": {
        "id": "wu-cEzszOeYK"
      },
      "source": [
        "# Plot the map using Folium Choropleth"
      ]
    },
    {
      "cell_type": "code",
      "metadata": {
        "colab": {
          "base_uri": "https://localhost:8080/",
          "height": 146
        },
        "id": "bJofRzQc_Kxu",
        "outputId": "e0e45825-a31d-46c2-d3c3-a2dda42cdb41"
      },
      "source": [
        "\n",
        "def plot_map(Data):\n",
        "  import json\n",
        "  import folium\n",
        "  #Load the csv and json data for map plotting\n",
        "  json_file = open('https://github.com/Tithra/SIT782/blob/main/clue_blocks.geojson') \n",
        "  clue_geo = json.load(json_file)\n",
        "  return 'Done'\n",
        "\n",
        "'''\n",
        "#Create the initial map\n",
        "fmap = folium.Map(location=[-37.811600, 144.964610],\n",
        "           tiles='Stamen Toner',\n",
        "           width = '80%',\n",
        "           height = '60%',\n",
        "           zoom_start=13)\n",
        "\n",
        "#create the choropleth layer and add to the map above\n",
        "choropleth = folium.Choropleth(\n",
        "    geo_data=clue_geo,\n",
        "    name='choropleth',\n",
        "    data=clue_data,\n",
        "    columns=['Block ID','Impact_index'],\n",
        "    key_on='feature.properties.block_id',\n",
        "    fill_color='YlOrRd',\n",
        "    fill_opacity=1,\n",
        "    line_opacity=0.5,\n",
        "    nan_fill_color='cloud',\n",
        "    nan_fill_opacity = 0.2,\n",
        "    highlight=True,\n",
        "    legend_name='Impact index'\n",
        ").add_to(fmap)\n",
        "\n",
        "#Add more layers and tooltips\n",
        "fmap.add_tile_layer()\n",
        "fmap.add_tile_layer('Stamen Terrain')\n",
        "choropleth.geojson.add_child(folium.features.GeoJsonTooltip(['block_id','clue_area'],labels=True))\n",
        "folium.LayerControl().add_to(fmap)\n",
        "fmap\n",
        "'''"
      ],
      "execution_count": 183,
      "outputs": [
        {
          "output_type": "execute_result",
          "data": {
            "application/vnd.google.colaboratory.intrinsic+json": {
              "type": "string"
            },
            "text/plain": [
              "\"\\n#Create the initial map\\nfmap = folium.Map(location=[-37.811600, 144.964610],\\n           tiles='Stamen Toner',\\n           width = '80%',\\n           height = '60%',\\n           zoom_start=13)\\n\\n#create the choropleth layer and add to the map above\\nchoropleth = folium.Choropleth(\\n    geo_data=clue_geo,\\n    name='choropleth',\\n    data=clue_data,\\n    columns=['Block ID','Impact_index'],\\n    key_on='feature.properties.block_id',\\n    fill_color='YlOrRd',\\n    fill_opacity=1,\\n    line_opacity=0.5,\\n    nan_fill_color='cloud',\\n    nan_fill_opacity = 0.2,\\n    highlight=True,\\n    legend_name='Impact index'\\n).add_to(fmap)\\n\\n#Add more layers and tooltips\\nfmap.add_tile_layer()\\nfmap.add_tile_layer('Stamen Terrain')\\nchoropleth.geojson.add_child(folium.features.GeoJsonTooltip(['block_id','clue_area'],labels=True))\\nfolium.LayerControl().add_to(fmap)\\nfmap\\n\""
            ]
          },
          "metadata": {},
          "execution_count": 183
        }
      ]
    },
    {
      "cell_type": "markdown",
      "metadata": {
        "id": "ul0SWwlX-ivA"
      },
      "source": [
        "## Interactive Tools and Visualizations"
      ]
    },
    {
      "cell_type": "code",
      "metadata": {
        "id": "4_-EHzxUokbX"
      },
      "source": [
        "#Year to include in the study (from 2002 to 2020 or between that)\n",
        "#Create a widget to select the range of study years\n",
        "from ipywidgets import interact_manual\n",
        "import ipywidgets as widgets\n",
        "from IPython.display import display\n",
        "style = {'description_width': 'initial'} #for long label of the widgets\n",
        "#Year-to-include slider\n",
        "years = widgets.IntRangeSlider(\n",
        "    value=[2002, 2020],\n",
        "    min=2002,\n",
        "    max=2020,\n",
        "    step=1,\n",
        "    description='Years to include:',\n",
        "    disabled=False,\n",
        "    continuous_update=True,\n",
        "    orientation='horizontal',\n",
        "    readout=True,\n",
        "    readout_format='d',\n",
        "    style=style\n",
        ")\n",
        "#Display option: impact level\n",
        "show_impact = widgets.IntSlider(\n",
        "    value=10,\n",
        "    min=10,\n",
        "    max=100,\n",
        "    step=1,\n",
        "    description='Impact index from:',\n",
        "    disabled=False,\n",
        "    continuous_update=True,\n",
        "    orientation='horizontal',\n",
        "    readout=True,\n",
        "    readout_format='d',\n",
        "    style=style\n",
        ")\n",
        "#Employment checkbox\n",
        "chk_employment = widgets.Checkbox(\n",
        "    value=True,\n",
        "    description='Employment',\n",
        "    disabled=False,\n",
        "    indent=False,\n",
        "    continuous_updates=True\n",
        ")\n",
        "#Residential Dwellings checkbox\n",
        "chk_resident = widgets.Checkbox(\n",
        "    value=True,\n",
        "    description='Residential Dwellings',\n",
        "    disabled=False,\n",
        "    indent=False,\n",
        "    continuous_update=True\n",
        ")\n"
      ],
      "execution_count": 184,
      "outputs": []
    },
    {
      "cell_type": "code",
      "metadata": {
        "colab": {
          "base_uri": "https://localhost:8080/",
          "height": 1000,
          "referenced_widgets": [
            "b79c890a52144355a6e5982a0c210098",
            "94cd7f09289846f2b2c130ff37a180c7",
            "226eb96f6b724001b7d8885ae49c72e8",
            "2ba5821a94ed4588b0569c17c2644b9e",
            "de233da8d3ff4e5a91a69812fe74bd85",
            "c3a3d562b8e249fcaf99de9951450a25",
            "f7939a584eb04ef683ef3443f1b6db9d",
            "32a580b7839845ceb4ba6b470c84b768",
            "7693353f27a0449d8fe96356ab064456",
            "235b7b22c5be4f63839e3fe9ffac1dc2",
            "d15739b3b7a14b3ca7e380d35228285e",
            "d8dfdf26756f4e108310311afde5fbb4",
            "2b9521ff5f794eb390ef4b19996e2952",
            "f4a147d1617a427287ed550813cd7934",
            "dbd6387527d24dbc8fe3aea0422f9e3e",
            "0756710fd62d46938bd98e71ae55e45f",
            "b11ccbf97bfb44b888527cd43ed4f078",
            "023501b288ab4940ac1bcbbf5bab6b84",
            "78dd1e9e63774d4285bcf89069339d35"
          ]
        },
        "id": "omj0ACtQcOp1",
        "outputId": "83efe1cc-72c2-4ef2-8fa5-41dedd8f8fcc"
      },
      "source": [
        "#Define function to execute when using interactive tools\n",
        "def f(Year_to_include,Employment,Residential_dwellings, Impact_level):\n",
        "  #Must import libraries and datasets for a self-contain function\n",
        "  import pandas as pd\n",
        "  import warnings\n",
        "  warnings.filterwarnings(\"ignore\") #remove dataframe warning\n",
        "\n",
        "  import json\n",
        "  import folium\n",
        "  #Load the csv and json data for map plotting\n",
        "  json_file = open('clue_blocks.geojson') \n",
        "  clue_geo = json.load(json_file)\n",
        "\n",
        "  data = pd.read_csv('merged_data.csv') #the dataset that contains all the THREE features (employment, resident & parking)\n",
        "  data.set_index(['Census year','Block ID'],inplace=True) #Turn the data to pandas series\n",
        "\n",
        "  print('='*23)\n",
        "  print('|DATA ANALYSIS RESULTS|')\n",
        "  print('='*23)\n",
        "  print('(NOTE: The city blocks without parking information available are ignored by our analyzing model.\\n\\n')\n",
        "  if (not(Employment)) & (not(Residential_dwellings)):\n",
        "    Employment = True  #Prevent both data features are unticked ==> Error\n",
        "  #Get the filtered data for analysis\n",
        "  X, Y = Get_data(data,Year_to_include,Employment,Residential_dwellings)\n",
        "  #Build regression model\n",
        "  lm = lm_model(X,Y)\n",
        "  #Get the predicted results\n",
        "  predict_results = Get_predict_result(data,lm, Employment, Residential_dwellings)\n",
        "  #Plot the barchart of the predicted results\n",
        "  bar_plot(predict_results, Impact_level);\n",
        "  #Show table of the impacted blocks in detail table\n",
        "  print('\\n\\n The table below shows the impacted blocks (limited parking) by the order of the impact index.\\n')\n",
        "  display(predict_results[predict_results['Impact_index']>=Impact_level].sort_values('Impact_index',ascending = False))\n",
        "  #Plot the folium choropleth map\n",
        "  \n",
        "\n",
        "interact_manual.opts['manual_name'] = 'Start Analyzing'\n",
        "interact_manual(f,Year_to_include=years, Employment=chk_employment, Residential_dwellings = chk_resident, Impact_level = show_impact);"
      ],
      "execution_count": 195,
      "outputs": [
        {
          "output_type": "display_data",
          "data": {
            "application/vnd.jupyter.widget-view+json": {
              "model_id": "b79c890a52144355a6e5982a0c210098",
              "version_minor": 0,
              "version_major": 2
            },
            "text/plain": [
              "interactive(children=(IntRangeSlider(value=(2002, 2020), description='Years to include:', max=2020, min=2002, …"
            ]
          },
          "metadata": {}
        }
      ]
    }
  ]
}